{
  "nbformat": 4,
  "nbformat_minor": 0,
  "metadata": {
    "colab": {
      "provenance": [],
      "authorship_tag": "ABX9TyN2HKT0LQpX2ns70waKV06Y",
      "include_colab_link": true
    },
    "kernelspec": {
      "name": "python3",
      "display_name": "Python 3"
    },
    "language_info": {
      "name": "python"
    },
    "accelerator": "GPU",
    "gpuClass": "standard"
  },
  "cells": [
    {
      "cell_type": "markdown",
      "metadata": {
        "id": "view-in-github",
        "colab_type": "text"
      },
      "source": [
        "<a href=\"https://colab.research.google.com/github/SabalNiroula/Colab-files/blob/master/Tensorflow_fundamentals_Practice.ipynb\" target=\"_parent\"><img src=\"https://colab.research.google.com/assets/colab-badge.svg\" alt=\"Open In Colab\"/></a>"
      ]
    },
    {
      "cell_type": "markdown",
      "source": [
        "#This is my first google colab doc for learning **Tensorflow**\n",
        "\n",
        "\n",
        "\n"
      ],
      "metadata": {
        "id": "AcJOOWM1h14X"
      }
    },
    {
      "cell_type": "code",
      "source": [
        "# import tensorflow\n",
        "import tensorflow as tf\n",
        "import numpy as np\n",
        "print(tf.__version__)"
      ],
      "metadata": {
        "colab": {
          "base_uri": "https://localhost:8080/"
        },
        "id": "e3wUovqlhxy8",
        "outputId": "ae21fd52-b3bf-47c0-dd78-e8c67ba0af3a"
      },
      "execution_count": 1,
      "outputs": [
        {
          "output_type": "stream",
          "name": "stdout",
          "text": [
            "2.9.2\n"
          ]
        }
      ]
    },
    {
      "cell_type": "markdown",
      "source": [
        "![link text](https://camo.githubusercontent.com/c389e3b3abc7e30e0e49b22a3899b349d8332d30e4d87c533f9ef71ee15c3da3/68747470733a2f2f7261772e67697468756275736572636f6e74656e742e636f6d2f6d7264626f75726b652f74656e736f72666c6f772d646565702d6c6561726e696e672f6d61696e2f696d616765732f30302d7363616c61722d766563746f722d6d61747269782d74656e736f722e706e67)"
      ],
      "metadata": {
        "id": "LFvGUDtkCXOu"
      }
    },
    {
      "cell_type": "code",
      "source": [
        "# creating your first tensor\n",
        "scalar = tf.constant(7)\n",
        "scalar"
      ],
      "metadata": {
        "colab": {
          "base_uri": "https://localhost:8080/"
        },
        "id": "ObvYudZ7iv-b",
        "outputId": "4c6a1b2c-e8b8-4e70-edef-31aa4dd92427"
      },
      "execution_count": 2,
      "outputs": [
        {
          "output_type": "execute_result",
          "data": {
            "text/plain": [
              "<tf.Tensor: shape=(), dtype=int32, numpy=7>"
            ]
          },
          "metadata": {},
          "execution_count": 2
        }
      ]
    },
    {
      "cell_type": "code",
      "source": [
        "# checking the number of dimension of scalar\n",
        "scalar.ndim"
      ],
      "metadata": {
        "colab": {
          "base_uri": "https://localhost:8080/"
        },
        "id": "XDT_L7TYkWMf",
        "outputId": "a633f691-d407-4da6-e190-6f929906e237"
      },
      "execution_count": 3,
      "outputs": [
        {
          "output_type": "execute_result",
          "data": {
            "text/plain": [
              "0"
            ]
          },
          "metadata": {},
          "execution_count": 3
        }
      ]
    },
    {
      "cell_type": "code",
      "source": [
        "# Creating the vector\n",
        "vector = tf.constant([10, 10])\n",
        "vector "
      ],
      "metadata": {
        "colab": {
          "base_uri": "https://localhost:8080/"
        },
        "id": "BRXlgltgkiqv",
        "outputId": "bb1b901c-ec13-452f-c471-a1eef4ede6db"
      },
      "execution_count": 4,
      "outputs": [
        {
          "output_type": "execute_result",
          "data": {
            "text/plain": [
              "<tf.Tensor: shape=(2,), dtype=int32, numpy=array([10, 10], dtype=int32)>"
            ]
          },
          "metadata": {},
          "execution_count": 4
        }
      ]
    },
    {
      "cell_type": "code",
      "source": [
        "vector.ndim"
      ],
      "metadata": {
        "colab": {
          "base_uri": "https://localhost:8080/"
        },
        "id": "XMKG0kn2kyVi",
        "outputId": "19c4cd52-b369-43ce-8151-fdfd1c20d178"
      },
      "execution_count": 5,
      "outputs": [
        {
          "output_type": "execute_result",
          "data": {
            "text/plain": [
              "1"
            ]
          },
          "metadata": {},
          "execution_count": 5
        }
      ]
    },
    {
      "cell_type": "code",
      "source": [
        "# Creating matrix (Which has more than 1 dimension)\n",
        "matrix = tf.constant([[10, 20],\n",
        "                      [20, 10]])\n",
        "matrix"
      ],
      "metadata": {
        "colab": {
          "base_uri": "https://localhost:8080/"
        },
        "id": "kn82xNiHlabz",
        "outputId": "8102273a-e0c6-4081-d3d4-e591d27b0d16"
      },
      "execution_count": 6,
      "outputs": [
        {
          "output_type": "execute_result",
          "data": {
            "text/plain": [
              "<tf.Tensor: shape=(2, 2), dtype=int32, numpy=\n",
              "array([[10, 20],\n",
              "       [20, 10]], dtype=int32)>"
            ]
          },
          "metadata": {},
          "execution_count": 6
        }
      ]
    },
    {
      "cell_type": "code",
      "source": [
        "matrix.ndim"
      ],
      "metadata": {
        "colab": {
          "base_uri": "https://localhost:8080/"
        },
        "id": "Ihdry2qpl1G3",
        "outputId": "50e4d75a-5755-4481-efeb-70f702163ca4"
      },
      "execution_count": 7,
      "outputs": [
        {
          "output_type": "execute_result",
          "data": {
            "text/plain": [
              "2"
            ]
          },
          "metadata": {},
          "execution_count": 7
        }
      ]
    },
    {
      "cell_type": "code",
      "source": [
        "another_matrix = tf.constant([[10., 20.],\n",
        "                              [20., 30.],\n",
        "                              [30., 20.]], dtype=tf.float16)\n",
        "another_matrix"
      ],
      "metadata": {
        "colab": {
          "base_uri": "https://localhost:8080/"
        },
        "id": "J1RHx3p2mHBi",
        "outputId": "dcc4548b-b6b7-47c3-b3ac-88ae29b7669a"
      },
      "execution_count": 8,
      "outputs": [
        {
          "output_type": "execute_result",
          "data": {
            "text/plain": [
              "<tf.Tensor: shape=(3, 2), dtype=float16, numpy=\n",
              "array([[10., 20.],\n",
              "       [20., 30.],\n",
              "       [30., 20.]], dtype=float16)>"
            ]
          },
          "metadata": {},
          "execution_count": 8
        }
      ]
    },
    {
      "cell_type": "code",
      "source": [
        "another_matrix.ndim"
      ],
      "metadata": {
        "colab": {
          "base_uri": "https://localhost:8080/"
        },
        "id": "HDyCM6p_m16g",
        "outputId": "88a216c8-195e-4371-f6ae-5e42841357d5"
      },
      "execution_count": 9,
      "outputs": [
        {
          "output_type": "execute_result",
          "data": {
            "text/plain": [
              "2"
            ]
          },
          "metadata": {},
          "execution_count": 9
        }
      ]
    },
    {
      "cell_type": "code",
      "source": [
        "matrixx = tf.constant([[[1,2],\n",
        "                        [2,1]],\n",
        "                        [[2,3],\n",
        "                        [3,2]],\n",
        "                        [[3,4],\n",
        "                        [4,3]]], dtype=tf.int16)\n",
        "matrixx"
      ],
      "metadata": {
        "colab": {
          "base_uri": "https://localhost:8080/"
        },
        "id": "ehrkhMBsoNqy",
        "outputId": "7de378a2-6661-48f0-b2b1-e7eada8e4399"
      },
      "execution_count": 10,
      "outputs": [
        {
          "output_type": "execute_result",
          "data": {
            "text/plain": [
              "<tf.Tensor: shape=(3, 2, 2), dtype=int16, numpy=\n",
              "array([[[1, 2],\n",
              "        [2, 1]],\n",
              "\n",
              "       [[2, 3],\n",
              "        [3, 2]],\n",
              "\n",
              "       [[3, 4],\n",
              "        [4, 3]]], dtype=int16)>"
            ]
          },
          "metadata": {},
          "execution_count": 10
        }
      ]
    },
    {
      "cell_type": "markdown",
      "source": [
        "In above there are 3 (2-D) array, 2D array have 2 rows, those rows have 2 element. Hence, shape of (3,2,2)"
      ],
      "metadata": {
        "id": "PrT8Mgy_CRtp"
      }
    },
    {
      "cell_type": "code",
      "source": [
        "matrixx.ndim"
      ],
      "metadata": {
        "colab": {
          "base_uri": "https://localhost:8080/"
        },
        "id": "D9bAwsv2o0d8",
        "outputId": "60136fa3-469e-4c4f-ee7f-de1168f5e53a"
      },
      "execution_count": 11,
      "outputs": [
        {
          "output_type": "execute_result",
          "data": {
            "text/plain": [
              "3"
            ]
          },
          "metadata": {},
          "execution_count": 11
        }
      ]
    },
    {
      "cell_type": "markdown",
      "source": [
        "### **----------------------------------------------------------------------------**\n"
      ],
      "metadata": {
        "id": "6bdbVZtvvGMZ"
      }
    },
    {
      "cell_type": "markdown",
      "source": [
        "## Creating tensor with tf.Variable\n",
        "## With tf.variable we can create changeable tensors which with constant would not be changed"
      ],
      "metadata": {
        "id": "LwNlNKtkCtWP"
      }
    },
    {
      "cell_type": "code",
      "source": [
        "changeable_tensor = tf.Variable([10, 20])\n",
        "changeable_tensor"
      ],
      "metadata": {
        "colab": {
          "base_uri": "https://localhost:8080/"
        },
        "id": "TushOPowvWxT",
        "outputId": "c903f868-a6ea-4590-a819-a8a126e968ce"
      },
      "execution_count": 12,
      "outputs": [
        {
          "output_type": "execute_result",
          "data": {
            "text/plain": [
              "<tf.Variable 'Variable:0' shape=(2,) dtype=int32, numpy=array([10, 20], dtype=int32)>"
            ]
          },
          "metadata": {},
          "execution_count": 12
        }
      ]
    },
    {
      "cell_type": "code",
      "source": [
        "# to change values we use assign function like this:\n",
        "changeable_tensor[0].assign(21408)\n",
        "changeable_tensor"
      ],
      "metadata": {
        "colab": {
          "base_uri": "https://localhost:8080/"
        },
        "id": "tc4dxvcSxQqL",
        "outputId": "4bc836a7-0df8-4df4-a8a4-80e044470d58"
      },
      "execution_count": 13,
      "outputs": [
        {
          "output_type": "execute_result",
          "data": {
            "text/plain": [
              "<tf.Variable 'Variable:0' shape=(2,) dtype=int32, numpy=array([21408,    20], dtype=int32)>"
            ]
          },
          "metadata": {},
          "execution_count": 13
        }
      ]
    },
    {
      "cell_type": "markdown",
      "source": [
        "### **-----------------------------------------------------------------------------------------**\n"
      ],
      "metadata": {
        "id": "L_lNHgS9JWDK"
      }
    },
    {
      "cell_type": "markdown",
      "source": [
        "### Creating random tensors "
      ],
      "metadata": {
        "id": "LO_ZC42VHi6K"
      }
    },
    {
      "cell_type": "code",
      "source": [
        "random1 = tf.random.Generator.from_seed(32)\n",
        "random1 = random1.normal(shape = (3, 2))\n",
        "\n",
        "random2 = tf.random.Generator.from_seed(32)\n",
        "random2 = random2.normal(shape=(3,2))\n",
        "\n",
        "random1, random2, random1 == random2\n",
        "\n",
        "## Here the seed is a number for random number generator. normal here means normal distribution "
      ],
      "metadata": {
        "colab": {
          "base_uri": "https://localhost:8080/"
        },
        "id": "3z-ai5moHuNp",
        "outputId": "532f8911-81f7-406e-8ae3-57c3f2be243e"
      },
      "execution_count": 14,
      "outputs": [
        {
          "output_type": "execute_result",
          "data": {
            "text/plain": [
              "(<tf.Tensor: shape=(3, 2), dtype=float32, numpy=\n",
              " array([[ 0.7901182 ,  1.585549  ],\n",
              "        [ 0.4356279 ,  0.23645182],\n",
              "        [-0.15898712,  1.302304  ]], dtype=float32)>,\n",
              " <tf.Tensor: shape=(3, 2), dtype=float32, numpy=\n",
              " array([[ 0.7901182 ,  1.585549  ],\n",
              "        [ 0.4356279 ,  0.23645182],\n",
              "        [-0.15898712,  1.302304  ]], dtype=float32)>,\n",
              " <tf.Tensor: shape=(3, 2), dtype=bool, numpy=\n",
              " array([[ True,  True],\n",
              "        [ True,  True],\n",
              "        [ True,  True]])>)"
            ]
          },
          "metadata": {},
          "execution_count": 14
        }
      ]
    },
    {
      "cell_type": "markdown",
      "source": [
        "### **-----------------------------------------------------------------------------------------**\n"
      ],
      "metadata": {
        "id": "K2Poz9_25Idb"
      }
    },
    {
      "cell_type": "markdown",
      "source": [
        "## Shuffling the order of tensors "
      ],
      "metadata": {
        "id": "sw4R7dEzJcC8"
      }
    },
    {
      "cell_type": "code",
      "source": [
        "not_shuffled = tf.constant([[10, 20],\n",
        "                            [20, 30],\n",
        "                           [30, 40]])\n",
        "tf.random.shuffle(not_shuffled)"
      ],
      "metadata": {
        "colab": {
          "base_uri": "https://localhost:8080/"
        },
        "id": "7uITeHugJhHd",
        "outputId": "08fe98b5-c4f5-4af0-93d6-6a1194157777"
      },
      "execution_count": 15,
      "outputs": [
        {
          "output_type": "execute_result",
          "data": {
            "text/plain": [
              "<tf.Tensor: shape=(3, 2), dtype=int32, numpy=\n",
              "array([[10, 20],\n",
              "       [20, 30],\n",
              "       [30, 40]], dtype=int32)>"
            ]
          },
          "metadata": {},
          "execution_count": 15
        }
      ]
    },
    {
      "cell_type": "code",
      "source": [
        "# setting global and operation level seed ensure the tensor to be shuffled but it will be shuffled at same order everytime because both seed are same\n",
        "tf.random.set_seed(22) # global random seed\n",
        "tf.random.shuffle(not_shuffled, seed = 20) # operation level random seed"
      ],
      "metadata": {
        "colab": {
          "base_uri": "https://localhost:8080/"
        },
        "id": "LSX9kJfXMnNS",
        "outputId": "7409c084-2f0e-4a6f-aa06-9b3b073f9fac"
      },
      "execution_count": 16,
      "outputs": [
        {
          "output_type": "execute_result",
          "data": {
            "text/plain": [
              "<tf.Tensor: shape=(3, 2), dtype=int32, numpy=\n",
              "array([[10, 20],\n",
              "       [20, 30],\n",
              "       [30, 40]], dtype=int32)>"
            ]
          },
          "metadata": {},
          "execution_count": 16
        }
      ]
    },
    {
      "cell_type": "markdown",
      "source": [
        "### **-----------------------------------------------------------------------------------------**\n",
        "\n"
      ],
      "metadata": {
        "id": "TaCkiU255An4"
      }
    },
    {
      "cell_type": "markdown",
      "source": [
        "## Other ways to create tensor"
      ],
      "metadata": {
        "id": "oWfGK2tW0duW"
      }
    },
    {
      "cell_type": "code",
      "source": [
        "# making tensors of ones\n",
        "tf.ones([3, 4], tf.int32)"
      ],
      "metadata": {
        "colab": {
          "base_uri": "https://localhost:8080/"
        },
        "id": "nofn1Upl0rui",
        "outputId": "c81a44d8-c6a8-4ad3-a7e1-669f1fa828d0"
      },
      "execution_count": 17,
      "outputs": [
        {
          "output_type": "execute_result",
          "data": {
            "text/plain": [
              "<tf.Tensor: shape=(3, 4), dtype=int32, numpy=\n",
              "array([[1, 1, 1, 1],\n",
              "       [1, 1, 1, 1],\n",
              "       [1, 1, 1, 1]], dtype=int32)>"
            ]
          },
          "metadata": {},
          "execution_count": 17
        }
      ]
    },
    {
      "cell_type": "code",
      "source": [
        "tf.zeros((3,4), tf.float32)"
      ],
      "metadata": {
        "colab": {
          "base_uri": "https://localhost:8080/"
        },
        "id": "Pkwh4tcL1dK8",
        "outputId": "7b9b5ddb-3e7b-4b97-f728-a9b114208fda"
      },
      "execution_count": 18,
      "outputs": [
        {
          "output_type": "execute_result",
          "data": {
            "text/plain": [
              "<tf.Tensor: shape=(3, 4), dtype=float32, numpy=\n",
              "array([[0., 0., 0., 0.],\n",
              "       [0., 0., 0., 0.],\n",
              "       [0., 0., 0., 0.]], dtype=float32)>"
            ]
          },
          "metadata": {},
          "execution_count": 18
        }
      ]
    },
    {
      "cell_type": "code",
      "source": [
        "numpy_arr = np.arange(1, 25)\n",
        "numpy_arr "
      ],
      "metadata": {
        "colab": {
          "base_uri": "https://localhost:8080/"
        },
        "id": "Mg48B9p75MZk",
        "outputId": "d970d375-2fab-4f72-889e-fb86122345ef"
      },
      "execution_count": 19,
      "outputs": [
        {
          "output_type": "execute_result",
          "data": {
            "text/plain": [
              "array([ 1,  2,  3,  4,  5,  6,  7,  8,  9, 10, 11, 12, 13, 14, 15, 16, 17,\n",
              "       18, 19, 20, 21, 22, 23, 24])"
            ]
          },
          "metadata": {},
          "execution_count": 19
        }
      ]
    },
    {
      "cell_type": "code",
      "source": [
        "A = tf.constant(numpy_arr, shape=(3,8))\n",
        "A"
      ],
      "metadata": {
        "colab": {
          "base_uri": "https://localhost:8080/"
        },
        "id": "-mmf6DK25x05",
        "outputId": "500982f8-7c90-4577-cd71-b65a7c4b1fbc"
      },
      "execution_count": 20,
      "outputs": [
        {
          "output_type": "execute_result",
          "data": {
            "text/plain": [
              "<tf.Tensor: shape=(3, 8), dtype=int64, numpy=\n",
              "array([[ 1,  2,  3,  4,  5,  6,  7,  8],\n",
              "       [ 9, 10, 11, 12, 13, 14, 15, 16],\n",
              "       [17, 18, 19, 20, 21, 22, 23, 24]])>"
            ]
          },
          "metadata": {},
          "execution_count": 20
        }
      ]
    },
    {
      "cell_type": "markdown",
      "source": [
        "#**-----------------------------------------------------------------------------------------**\n"
      ],
      "metadata": {
        "id": "LWBqEHgdLv4a"
      }
    },
    {
      "cell_type": "markdown",
      "source": [
        "# Getting information about tensors \n",
        "when dealing with tensors you probably want to be aware of this attributes:\n",
        "- Shape\n",
        "- Rank\n",
        "- Axis or Dimension\n",
        "- Size"
      ],
      "metadata": {
        "id": "h8EeBQpWOAdI"
      }
    },
    {
      "cell_type": "code",
      "source": [
        "# create a rank 4 dimension\n",
        "rank_4 = tf.ones(shape=[2,3,4,5], dtype=tf.dtypes.int32)\n",
        "rank_4"
      ],
      "metadata": {
        "id": "qSbShykU55B0",
        "colab": {
          "base_uri": "https://localhost:8080/"
        },
        "outputId": "3c4c1263-9c50-47e8-89b8-fc1f316939ea"
      },
      "execution_count": 21,
      "outputs": [
        {
          "output_type": "execute_result",
          "data": {
            "text/plain": [
              "<tf.Tensor: shape=(2, 3, 4, 5), dtype=int32, numpy=\n",
              "array([[[[1, 1, 1, 1, 1],\n",
              "         [1, 1, 1, 1, 1],\n",
              "         [1, 1, 1, 1, 1],\n",
              "         [1, 1, 1, 1, 1]],\n",
              "\n",
              "        [[1, 1, 1, 1, 1],\n",
              "         [1, 1, 1, 1, 1],\n",
              "         [1, 1, 1, 1, 1],\n",
              "         [1, 1, 1, 1, 1]],\n",
              "\n",
              "        [[1, 1, 1, 1, 1],\n",
              "         [1, 1, 1, 1, 1],\n",
              "         [1, 1, 1, 1, 1],\n",
              "         [1, 1, 1, 1, 1]]],\n",
              "\n",
              "\n",
              "       [[[1, 1, 1, 1, 1],\n",
              "         [1, 1, 1, 1, 1],\n",
              "         [1, 1, 1, 1, 1],\n",
              "         [1, 1, 1, 1, 1]],\n",
              "\n",
              "        [[1, 1, 1, 1, 1],\n",
              "         [1, 1, 1, 1, 1],\n",
              "         [1, 1, 1, 1, 1],\n",
              "         [1, 1, 1, 1, 1]],\n",
              "\n",
              "        [[1, 1, 1, 1, 1],\n",
              "         [1, 1, 1, 1, 1],\n",
              "         [1, 1, 1, 1, 1],\n",
              "         [1, 1, 1, 1, 1]]]], dtype=int32)>"
            ]
          },
          "metadata": {},
          "execution_count": 21
        }
      ]
    },
    {
      "cell_type": "code",
      "source": [
        "rank_4[0][0] # if we specify rank[0] it will bring me first 3D array and specifying again 0 will will bring me first 2D array within 3D array"
      ],
      "metadata": {
        "colab": {
          "base_uri": "https://localhost:8080/"
        },
        "id": "vu_LIHvkPkGg",
        "outputId": "be8b672b-1974-4a8c-da1c-f8182d4402f9"
      },
      "execution_count": 22,
      "outputs": [
        {
          "output_type": "execute_result",
          "data": {
            "text/plain": [
              "<tf.Tensor: shape=(4, 5), dtype=int32, numpy=\n",
              "array([[1, 1, 1, 1, 1],\n",
              "       [1, 1, 1, 1, 1],\n",
              "       [1, 1, 1, 1, 1],\n",
              "       [1, 1, 1, 1, 1]], dtype=int32)>"
            ]
          },
          "metadata": {},
          "execution_count": 22
        }
      ]
    },
    {
      "cell_type": "code",
      "source": [
        "# Now let's get shape, size and the dimension of the rank_4 tensor\n",
        "rank_4.shape, tf.size(rank_4), rank_4.ndim"
      ],
      "metadata": {
        "colab": {
          "base_uri": "https://localhost:8080/"
        },
        "id": "7XigW02MPnTf",
        "outputId": "a3573936-0611-494e-f14c-ebf467a4fe1d"
      },
      "execution_count": 23,
      "outputs": [
        {
          "output_type": "execute_result",
          "data": {
            "text/plain": [
              "(TensorShape([2, 3, 4, 5]), <tf.Tensor: shape=(), dtype=int32, numpy=120>, 4)"
            ]
          },
          "metadata": {},
          "execution_count": 23
        }
      ]
    },
    {
      "cell_type": "code",
      "source": [
        "#Get various attributes of tensor\n",
        "print(\"Datatypes of every element:\", rank_4.dtype)\n",
        "print(\"Dimension of tensor:\", rank_4.ndim)\n",
        "print(\"Shape of tensor:\", rank_4.shape)\n",
        "print(\"Total size of tensor:\", tf.size(rank_4))\n",
        "print(\"Total size of tensor:\", tf.size(rank_4).numpy())\n",
        "print(\"Element of 0th axis :\", rank_4[0])"
      ],
      "metadata": {
        "colab": {
          "base_uri": "https://localhost:8080/"
        },
        "id": "bZSMNg63Qxns",
        "outputId": "295fba18-e61e-4057-ffcd-778beede6538"
      },
      "execution_count": 24,
      "outputs": [
        {
          "output_type": "stream",
          "name": "stdout",
          "text": [
            "Datatypes of every element: <dtype: 'int32'>\n",
            "Dimension of tensor: 4\n",
            "Shape of tensor: (2, 3, 4, 5)\n",
            "Total size of tensor: tf.Tensor(120, shape=(), dtype=int32)\n",
            "Total size of tensor: 120\n",
            "Element of 0th axis : tf.Tensor(\n",
            "[[[1 1 1 1 1]\n",
            "  [1 1 1 1 1]\n",
            "  [1 1 1 1 1]\n",
            "  [1 1 1 1 1]]\n",
            "\n",
            " [[1 1 1 1 1]\n",
            "  [1 1 1 1 1]\n",
            "  [1 1 1 1 1]\n",
            "  [1 1 1 1 1]]\n",
            "\n",
            " [[1 1 1 1 1]\n",
            "  [1 1 1 1 1]\n",
            "  [1 1 1 1 1]\n",
            "  [1 1 1 1 1]]], shape=(3, 4, 5), dtype=int32)\n"
          ]
        }
      ]
    },
    {
      "cell_type": "markdown",
      "source": [
        "#**-----------------------------------------------------------------------------------------**\n",
        "\n",
        "\n",
        "\n"
      ],
      "metadata": {
        "id": "7UTUCIQ1UD1p"
      }
    },
    {
      "cell_type": "markdown",
      "source": [
        "# Indexing Tensors\n",
        "Tensors can be indexed just like python list."
      ],
      "metadata": {
        "id": "elYbUsljUGAx"
      }
    },
    {
      "cell_type": "code",
      "source": [
        "# Get first two element of each dimension\n",
        "rank_4[:2, :2, :2, :2] # since multiple dimension we separate them by colon"
      ],
      "metadata": {
        "colab": {
          "base_uri": "https://localhost:8080/"
        },
        "id": "SVmf5q1NSlF0",
        "outputId": "8ac14f71-dab7-4031-9c56-d8b20f7599f2"
      },
      "execution_count": 25,
      "outputs": [
        {
          "output_type": "execute_result",
          "data": {
            "text/plain": [
              "<tf.Tensor: shape=(2, 2, 2, 2), dtype=int32, numpy=\n",
              "array([[[[1, 1],\n",
              "         [1, 1]],\n",
              "\n",
              "        [[1, 1],\n",
              "         [1, 1]]],\n",
              "\n",
              "\n",
              "       [[[1, 1],\n",
              "         [1, 1]],\n",
              "\n",
              "        [[1, 1],\n",
              "         [1, 1]]]], dtype=int32)>"
            ]
          },
          "metadata": {},
          "execution_count": 25
        }
      ]
    },
    {
      "cell_type": "code",
      "source": [
        "# Creating rank 2 tensor\n",
        "rank_2 = tf.zeros(shape = (3,4))\n",
        "rank_2\n",
        "# get the last item of each row\n",
        "print(rank_2[:, -1])"
      ],
      "metadata": {
        "colab": {
          "base_uri": "https://localhost:8080/"
        },
        "id": "gHK0pJGdUZHh",
        "outputId": "302920a6-15ff-4e31-a921-0e0c302c10cc"
      },
      "execution_count": 26,
      "outputs": [
        {
          "output_type": "stream",
          "name": "stdout",
          "text": [
            "tf.Tensor([0. 0. 0.], shape=(3,), dtype=float32)\n"
          ]
        }
      ]
    },
    {
      "cell_type": "code",
      "source": [
        "rank_2"
      ],
      "metadata": {
        "colab": {
          "base_uri": "https://localhost:8080/"
        },
        "id": "xFZDXs30YSYb",
        "outputId": "e1395de7-6ca3-46cf-d420-85ced85d44f1"
      },
      "execution_count": 27,
      "outputs": [
        {
          "output_type": "execute_result",
          "data": {
            "text/plain": [
              "<tf.Tensor: shape=(3, 4), dtype=float32, numpy=\n",
              "array([[0., 0., 0., 0.],\n",
              "       [0., 0., 0., 0.],\n",
              "       [0., 0., 0., 0.]], dtype=float32)>"
            ]
          },
          "metadata": {},
          "execution_count": 27
        }
      ]
    },
    {
      "cell_type": "code",
      "source": [
        "# Adding extra dimension to our rank_2 tensor\n",
        "rank_3 = rank_2[..., tf.newaxis]\n",
        "rank_3"
      ],
      "metadata": {
        "colab": {
          "base_uri": "https://localhost:8080/"
        },
        "id": "a8rh9NShXD1p",
        "outputId": "fb4e8f4b-4ffe-4532-ffb4-00e528b93497"
      },
      "execution_count": 28,
      "outputs": [
        {
          "output_type": "execute_result",
          "data": {
            "text/plain": [
              "<tf.Tensor: shape=(3, 4, 1), dtype=float32, numpy=\n",
              "array([[[0.],\n",
              "        [0.],\n",
              "        [0.],\n",
              "        [0.]],\n",
              "\n",
              "       [[0.],\n",
              "        [0.],\n",
              "        [0.],\n",
              "        [0.]],\n",
              "\n",
              "       [[0.],\n",
              "        [0.],\n",
              "        [0.],\n",
              "        [0.]]], dtype=float32)>"
            ]
          },
          "metadata": {},
          "execution_count": 28
        }
      ]
    },
    {
      "cell_type": "code",
      "source": [
        "# Alternative also the best way to do :\n",
        "print(tf.expand_dims(rank_2, axis = 0)) # adds extra dimension at the 2D\n",
        "print(tf.expand_dims(rank_2, axis = 1)) # adds extra dimension at the second or 1D\n",
        "print(tf.expand_dims(rank_2, axis = -1)) # adds extra dimension at the element"
      ],
      "metadata": {
        "colab": {
          "base_uri": "https://localhost:8080/"
        },
        "id": "0IVAZl8ZYX2R",
        "outputId": "94cb562b-bc1d-45e9-b7b3-00fae24f260d"
      },
      "execution_count": 29,
      "outputs": [
        {
          "output_type": "stream",
          "name": "stdout",
          "text": [
            "tf.Tensor(\n",
            "[[[0. 0. 0. 0.]\n",
            "  [0. 0. 0. 0.]\n",
            "  [0. 0. 0. 0.]]], shape=(1, 3, 4), dtype=float32)\n",
            "tf.Tensor(\n",
            "[[[0. 0. 0. 0.]]\n",
            "\n",
            " [[0. 0. 0. 0.]]\n",
            "\n",
            " [[0. 0. 0. 0.]]], shape=(3, 1, 4), dtype=float32)\n",
            "tf.Tensor(\n",
            "[[[0.]\n",
            "  [0.]\n",
            "  [0.]\n",
            "  [0.]]\n",
            "\n",
            " [[0.]\n",
            "  [0.]\n",
            "  [0.]\n",
            "  [0.]]\n",
            "\n",
            " [[0.]\n",
            "  [0.]\n",
            "  [0.]\n",
            "  [0.]]], shape=(3, 4, 1), dtype=float32)\n"
          ]
        }
      ]
    },
    {
      "cell_type": "markdown",
      "source": [
        "#**-----------------------------------------------------------------------------------------**"
      ],
      "metadata": {
        "id": "_1hKjTpwi4lJ"
      }
    },
    {
      "cell_type": "markdown",
      "source": [
        "# Manipulating Tensors\n",
        "**Basic operation** \n",
        "\n",
        "`+`, `-`, `/`, `*`"
      ],
      "metadata": {
        "id": "iP-sMABVag-q"
      }
    },
    {
      "cell_type": "code",
      "source": [
        "tensor = tf.constant([[10, 20], [20, 30]])\n",
        "print(tensor+10) # is same as \n",
        "print(tf.math.add(tensor, 10))\n"
      ],
      "metadata": {
        "colab": {
          "base_uri": "https://localhost:8080/"
        },
        "id": "Q1ouYhWEbK1l",
        "outputId": "8bacfe99-2253-4e73-f8be-d740d66a1dac"
      },
      "execution_count": 30,
      "outputs": [
        {
          "output_type": "stream",
          "name": "stdout",
          "text": [
            "tf.Tensor(\n",
            "[[20 30]\n",
            " [30 40]], shape=(2, 2), dtype=int32)\n",
            "tf.Tensor(\n",
            "[[20 30]\n",
            " [30 40]], shape=(2, 2), dtype=int32)\n"
          ]
        }
      ]
    },
    {
      "cell_type": "code",
      "source": [
        "print(tensor*10) # is same as \n",
        "print(tf.math.multiply(tensor, 10))\n"
      ],
      "metadata": {
        "colab": {
          "base_uri": "https://localhost:8080/"
        },
        "id": "Qf3rMNXicOF4",
        "outputId": "313857a2-5909-461c-c44e-df270e9892c9"
      },
      "execution_count": 31,
      "outputs": [
        {
          "output_type": "stream",
          "name": "stdout",
          "text": [
            "tf.Tensor(\n",
            "[[100 200]\n",
            " [200 300]], shape=(2, 2), dtype=int32)\n",
            "tf.Tensor(\n",
            "[[100 200]\n",
            " [200 300]], shape=(2, 2), dtype=int32)\n"
          ]
        }
      ]
    },
    {
      "cell_type": "markdown",
      "source": [
        "#**-----------------------------------------------------------------------------------------**\n"
      ],
      "metadata": {
        "id": "CBtBcSSxi7To"
      }
    },
    {
      "cell_type": "markdown",
      "source": [
        "# Matrix Multiplication"
      ],
      "metadata": {
        "id": "aZ-2k2jPjGfI"
      }
    },
    {
      "cell_type": "code",
      "source": [
        "tensor"
      ],
      "metadata": {
        "colab": {
          "base_uri": "https://localhost:8080/"
        },
        "id": "c-ck4CUUi857",
        "outputId": "6f5d8037-bd47-4ba5-c0fa-9aa15716d51e"
      },
      "execution_count": 32,
      "outputs": [
        {
          "output_type": "execute_result",
          "data": {
            "text/plain": [
              "<tf.Tensor: shape=(2, 2), dtype=int32, numpy=\n",
              "array([[10, 20],\n",
              "       [20, 30]], dtype=int32)>"
            ]
          },
          "metadata": {},
          "execution_count": 32
        }
      ]
    },
    {
      "cell_type": "code",
      "source": [
        "# for matrix multiplication using tensorflow use this:\n",
        "tf.matmul(tensor, tensor)"
      ],
      "metadata": {
        "colab": {
          "base_uri": "https://localhost:8080/"
        },
        "id": "0uGfJqgnvhDA",
        "outputId": "4babf411-999b-4a04-a41f-cb36b98877fc"
      },
      "execution_count": 33,
      "outputs": [
        {
          "output_type": "execute_result",
          "data": {
            "text/plain": [
              "<tf.Tensor: shape=(2, 2), dtype=int32, numpy=\n",
              "array([[ 500,  800],\n",
              "       [ 800, 1300]], dtype=int32)>"
            ]
          },
          "metadata": {},
          "execution_count": 33
        }
      ]
    },
    {
      "cell_type": "code",
      "source": [
        "# same operation can be done in python using \"@\" operator\n",
        "tensor @ tensor"
      ],
      "metadata": {
        "colab": {
          "base_uri": "https://localhost:8080/"
        },
        "id": "egbaJ8Mdvuh_",
        "outputId": "6a4a7629-7c15-4b2b-f9c5-b48c0c43e761"
      },
      "execution_count": 34,
      "outputs": [
        {
          "output_type": "execute_result",
          "data": {
            "text/plain": [
              "<tf.Tensor: shape=(2, 2), dtype=int32, numpy=\n",
              "array([[ 500,  800],\n",
              "       [ 800, 1300]], dtype=int32)>"
            ]
          },
          "metadata": {},
          "execution_count": 34
        }
      ]
    },
    {
      "cell_type": "code",
      "source": [
        "# making two (3, 2) tensor\n",
        "X = tf.constant( np.random.randint(100, size=6), shape=(3,2))\n",
        "print(X)\n",
        "\n",
        "Y = tf.constant(np.random.randint(1,10, 6), shape= (3,2))\n",
        "print(Y)"
      ],
      "metadata": {
        "colab": {
          "base_uri": "https://localhost:8080/"
        },
        "id": "l8n0mGSov0gi",
        "outputId": "02cad267-2b09-405e-c366-ae2acddb5234"
      },
      "execution_count": 35,
      "outputs": [
        {
          "output_type": "stream",
          "name": "stdout",
          "text": [
            "tf.Tensor(\n",
            "[[83 80]\n",
            " [31 46]\n",
            " [26 23]], shape=(3, 2), dtype=int64)\n",
            "tf.Tensor(\n",
            "[[8 3]\n",
            " [2 9]\n",
            " [1 7]], shape=(3, 2), dtype=int64)\n"
          ]
        }
      ]
    },
    {
      "cell_type": "code",
      "source": [
        "(X) @ Y"
      ],
      "metadata": {
        "colab": {
          "base_uri": "https://localhost:8080/",
          "height": 311
        },
        "id": "SkFz3zduzP9g",
        "outputId": "fadef654-e60b-4c3d-966e-33fad7c7a261"
      },
      "execution_count": 37,
      "outputs": [
        {
          "output_type": "error",
          "ename": "InvalidArgumentError",
          "evalue": "ignored",
          "traceback": [
            "\u001b[0;31m---------------------------------------------------------------------------\u001b[0m",
            "\u001b[0;31mInvalidArgumentError\u001b[0m                      Traceback (most recent call last)",
            "\u001b[0;32m<ipython-input-37-3703db16b734>\u001b[0m in \u001b[0;36m<module>\u001b[0;34m\u001b[0m\n\u001b[0;32m----> 1\u001b[0;31m \u001b[0;34m(\u001b[0m\u001b[0mX\u001b[0m\u001b[0;34m)\u001b[0m \u001b[0;34m@\u001b[0m \u001b[0mY\u001b[0m\u001b[0;34m\u001b[0m\u001b[0;34m\u001b[0m\u001b[0m\n\u001b[0m",
            "\u001b[0;32m/usr/local/lib/python3.8/dist-packages/tensorflow/python/util/traceback_utils.py\u001b[0m in \u001b[0;36merror_handler\u001b[0;34m(*args, **kwargs)\u001b[0m\n\u001b[1;32m    151\u001b[0m     \u001b[0;32mexcept\u001b[0m \u001b[0mException\u001b[0m \u001b[0;32mas\u001b[0m \u001b[0me\u001b[0m\u001b[0;34m:\u001b[0m\u001b[0;34m\u001b[0m\u001b[0;34m\u001b[0m\u001b[0m\n\u001b[1;32m    152\u001b[0m       \u001b[0mfiltered_tb\u001b[0m \u001b[0;34m=\u001b[0m \u001b[0m_process_traceback_frames\u001b[0m\u001b[0;34m(\u001b[0m\u001b[0me\u001b[0m\u001b[0;34m.\u001b[0m\u001b[0m__traceback__\u001b[0m\u001b[0;34m)\u001b[0m\u001b[0;34m\u001b[0m\u001b[0;34m\u001b[0m\u001b[0m\n\u001b[0;32m--> 153\u001b[0;31m       \u001b[0;32mraise\u001b[0m \u001b[0me\u001b[0m\u001b[0;34m.\u001b[0m\u001b[0mwith_traceback\u001b[0m\u001b[0;34m(\u001b[0m\u001b[0mfiltered_tb\u001b[0m\u001b[0;34m)\u001b[0m \u001b[0;32mfrom\u001b[0m \u001b[0;32mNone\u001b[0m\u001b[0;34m\u001b[0m\u001b[0;34m\u001b[0m\u001b[0m\n\u001b[0m\u001b[1;32m    154\u001b[0m     \u001b[0;32mfinally\u001b[0m\u001b[0;34m:\u001b[0m\u001b[0;34m\u001b[0m\u001b[0;34m\u001b[0m\u001b[0m\n\u001b[1;32m    155\u001b[0m       \u001b[0;32mdel\u001b[0m \u001b[0mfiltered_tb\u001b[0m\u001b[0;34m\u001b[0m\u001b[0;34m\u001b[0m\u001b[0m\n",
            "\u001b[0;32m/usr/local/lib/python3.8/dist-packages/tensorflow/python/framework/ops.py\u001b[0m in \u001b[0;36mraise_from_not_ok_status\u001b[0;34m(e, name)\u001b[0m\n\u001b[1;32m   7162\u001b[0m \u001b[0;32mdef\u001b[0m \u001b[0mraise_from_not_ok_status\u001b[0m\u001b[0;34m(\u001b[0m\u001b[0me\u001b[0m\u001b[0;34m,\u001b[0m \u001b[0mname\u001b[0m\u001b[0;34m)\u001b[0m\u001b[0;34m:\u001b[0m\u001b[0;34m\u001b[0m\u001b[0;34m\u001b[0m\u001b[0m\n\u001b[1;32m   7163\u001b[0m   \u001b[0me\u001b[0m\u001b[0;34m.\u001b[0m\u001b[0mmessage\u001b[0m \u001b[0;34m+=\u001b[0m \u001b[0;34m(\u001b[0m\u001b[0;34m\" name: \"\u001b[0m \u001b[0;34m+\u001b[0m \u001b[0mname\u001b[0m \u001b[0;32mif\u001b[0m \u001b[0mname\u001b[0m \u001b[0;32mis\u001b[0m \u001b[0;32mnot\u001b[0m \u001b[0;32mNone\u001b[0m \u001b[0;32melse\u001b[0m \u001b[0;34m\"\"\u001b[0m\u001b[0;34m)\u001b[0m\u001b[0;34m\u001b[0m\u001b[0;34m\u001b[0m\u001b[0m\n\u001b[0;32m-> 7164\u001b[0;31m   \u001b[0;32mraise\u001b[0m \u001b[0mcore\u001b[0m\u001b[0;34m.\u001b[0m\u001b[0m_status_to_exception\u001b[0m\u001b[0;34m(\u001b[0m\u001b[0me\u001b[0m\u001b[0;34m)\u001b[0m \u001b[0;32mfrom\u001b[0m \u001b[0;32mNone\u001b[0m  \u001b[0;31m# pylint: disable=protected-access\u001b[0m\u001b[0;34m\u001b[0m\u001b[0;34m\u001b[0m\u001b[0m\n\u001b[0m\u001b[1;32m   7165\u001b[0m \u001b[0;34m\u001b[0m\u001b[0m\n\u001b[1;32m   7166\u001b[0m \u001b[0;34m\u001b[0m\u001b[0m\n",
            "\u001b[0;31mInvalidArgumentError\u001b[0m: Matrix size-incompatible: In[0]: [3,2], In[1]: [3,2] [Op:MatMul]"
          ]
        }
      ]
    },
    {
      "cell_type": "markdown",
      "source": [
        "### Error raised because column of tensor1 must equal row of tensor2. let's change their shape \n"
      ],
      "metadata": {
        "id": "rH5mGgctzSnf"
      }
    },
    {
      "cell_type": "code",
      "source": [
        "# Now let's do matrix multiplication again\n",
        "tf.reshape(X, shape=(2,3)) @ Y"
      ],
      "metadata": {
        "colab": {
          "base_uri": "https://localhost:8080/"
        },
        "id": "XDEz1mzmztkZ",
        "outputId": "5045ca37-767e-42d0-8d30-5267c8012282"
      },
      "execution_count": 38,
      "outputs": [
        {
          "output_type": "execute_result",
          "data": {
            "text/plain": [
              "<tf.Tensor: shape=(2, 2), dtype=int64, numpy=\n",
              "array([[ 855, 1186],\n",
              "       [ 443,  533]])>"
            ]
          },
          "metadata": {},
          "execution_count": 38
        }
      ]
    },
    {
      "cell_type": "code",
      "source": [
        "# can use transpose to change row into columns too but see the DIFFERENCE\n",
        "Y, tf.transpose(Y), tf.reshape(Y, shape=(2,3))"
      ],
      "metadata": {
        "colab": {
          "base_uri": "https://localhost:8080/"
        },
        "id": "-97maS9ezzrH",
        "outputId": "7435249a-02bf-4d62-e5e7-08fca56d2ce5"
      },
      "execution_count": 39,
      "outputs": [
        {
          "output_type": "execute_result",
          "data": {
            "text/plain": [
              "(<tf.Tensor: shape=(3, 2), dtype=int64, numpy=\n",
              " array([[8, 3],\n",
              "        [2, 9],\n",
              "        [1, 7]])>, <tf.Tensor: shape=(2, 3), dtype=int64, numpy=\n",
              " array([[8, 2, 1],\n",
              "        [3, 9, 7]])>, <tf.Tensor: shape=(2, 3), dtype=int64, numpy=\n",
              " array([[8, 3, 2],\n",
              "        [9, 1, 7]])>)"
            ]
          },
          "metadata": {},
          "execution_count": 39
        }
      ]
    },
    {
      "cell_type": "markdown",
      "source": [
        "#**-----------------------------------------------------------------------------------------**\n"
      ],
      "metadata": {
        "id": "xFM4sBodFPMJ"
      }
    },
    {
      "cell_type": "markdown",
      "source": [
        "# The Dot Product\n",
        "matrix multiplication is often referred to as dot product.\n",
        "\n",
        "you can perform matrix multiplication using: \n",
        "- `tf.matmul()`\n",
        "- `tf.tensordot()`"
      ],
      "metadata": {
        "id": "Ek7FhMYzFV36"
      }
    },
    {
      "cell_type": "code",
      "source": [
        "X, Y"
      ],
      "metadata": {
        "colab": {
          "base_uri": "https://localhost:8080/"
        },
        "id": "riy0U048GbJj",
        "outputId": "77bc66c8-e89d-4ef6-f9f8-578757ce35dc"
      },
      "execution_count": 40,
      "outputs": [
        {
          "output_type": "execute_result",
          "data": {
            "text/plain": [
              "(<tf.Tensor: shape=(3, 2), dtype=int64, numpy=\n",
              " array([[83, 80],\n",
              "        [31, 46],\n",
              "        [26, 23]])>, <tf.Tensor: shape=(3, 2), dtype=int64, numpy=\n",
              " array([[8, 3],\n",
              "        [2, 9],\n",
              "        [1, 7]])>)"
            ]
          },
          "metadata": {},
          "execution_count": 40
        }
      ]
    },
    {
      "cell_type": "code",
      "source": [
        "tf.transpose(X) @ Y"
      ],
      "metadata": {
        "colab": {
          "base_uri": "https://localhost:8080/"
        },
        "id": "HvsvlqTiLwFp",
        "outputId": "557c28c1-5582-40ec-dc66-e03d95ed3eb6"
      },
      "execution_count": 41,
      "outputs": [
        {
          "output_type": "execute_result",
          "data": {
            "text/plain": [
              "<tf.Tensor: shape=(2, 2), dtype=int64, numpy=\n",
              "array([[752, 710],\n",
              "       [755, 815]])>"
            ]
          },
          "metadata": {},
          "execution_count": 41
        }
      ]
    },
    {
      "cell_type": "code",
      "source": [
        "# perform dot matrix on x on y (requires X or Y to be transposed)\n",
        "tf.tensordot(tf.transpose(X), Y, axes= 1)"
      ],
      "metadata": {
        "colab": {
          "base_uri": "https://localhost:8080/"
        },
        "id": "SIYbLjDnFP8J",
        "outputId": "b58bbea6-f27c-4fd5-8ea5-006050a6dc9f"
      },
      "execution_count": 42,
      "outputs": [
        {
          "output_type": "execute_result",
          "data": {
            "text/plain": [
              "<tf.Tensor: shape=(2, 2), dtype=int64, numpy=\n",
              "array([[752, 710],\n",
              "       [755, 815]])>"
            ]
          },
          "metadata": {},
          "execution_count": 42
        }
      ]
    },
    {
      "cell_type": "code",
      "source": [
        "# perform matrix multiplication on X and Y (Transposed)\n",
        "tf.tensordot(X, tf.transpose(Y), axes=1)"
      ],
      "metadata": {
        "colab": {
          "base_uri": "https://localhost:8080/"
        },
        "id": "2Y6cCcerGz3E",
        "outputId": "fb3379b9-bda7-4af8-d5b0-bad8097a955c"
      },
      "execution_count": 43,
      "outputs": [
        {
          "output_type": "execute_result",
          "data": {
            "text/plain": [
              "<tf.Tensor: shape=(3, 3), dtype=int64, numpy=\n",
              "array([[904, 886, 643],\n",
              "       [386, 476, 353],\n",
              "       [277, 259, 187]])>"
            ]
          },
          "metadata": {},
          "execution_count": 43
        }
      ]
    },
    {
      "cell_type": "markdown",
      "source": [
        "#**-----------------------------------------------------------------------------------------**\n"
      ],
      "metadata": {
        "id": "dUueCWM2Y7uy"
      }
    },
    {
      "cell_type": "markdown",
      "source": [
        "# converting the datatypes of tensors"
      ],
      "metadata": {
        "id": "9GZKKIKGY8B4"
      }
    },
    {
      "cell_type": "code",
      "source": [
        "# let's create tensor and check their datatype\n",
        "A = tf.constant([10, 20])\n",
        "A.dtype"
      ],
      "metadata": {
        "colab": {
          "base_uri": "https://localhost:8080/"
        },
        "id": "4yscyMLvZEvX",
        "outputId": "c7791a80-451b-4700-c2b7-1b77e8bad02b"
      },
      "execution_count": 44,
      "outputs": [
        {
          "output_type": "execute_result",
          "data": {
            "text/plain": [
              "tf.int32"
            ]
          },
          "metadata": {},
          "execution_count": 44
        }
      ]
    },
    {
      "cell_type": "code",
      "source": [
        "B = tf.constant([20.9, 30.5])\n",
        "B.dtype"
      ],
      "metadata": {
        "colab": {
          "base_uri": "https://localhost:8080/"
        },
        "id": "9PoxDsTsZNBq",
        "outputId": "f9ed6ef4-89fd-43f1-f12d-eb1aa3736b90"
      },
      "execution_count": 45,
      "outputs": [
        {
          "output_type": "execute_result",
          "data": {
            "text/plain": [
              "tf.float32"
            ]
          },
          "metadata": {},
          "execution_count": 45
        }
      ]
    },
    {
      "cell_type": "code",
      "source": [
        "# Nvidia gpus run faster in float16 than in float32\n",
        "# let's reduce the precision from 32 to 16 \n",
        "# it is reducing hardware memory from taking 32 bits to 16 bits making it faster\n",
        "new_B = tf.cast(B, dtype=tf.float16)\n",
        "new_B"
      ],
      "metadata": {
        "colab": {
          "base_uri": "https://localhost:8080/"
        },
        "id": "NkjOQctHZTeZ",
        "outputId": "da7963ca-8528-4ec2-ecd6-5d3f8d61fd06"
      },
      "execution_count": 46,
      "outputs": [
        {
          "output_type": "execute_result",
          "data": {
            "text/plain": [
              "<tf.Tensor: shape=(2,), dtype=float16, numpy=array([20.9, 30.5], dtype=float16)>"
            ]
          },
          "metadata": {},
          "execution_count": 46
        }
      ]
    },
    {
      "cell_type": "code",
      "source": [
        "# lets convert int32 to float 32\n",
        "C = tf.cast(A, dtype = tf.float32)\n",
        "C"
      ],
      "metadata": {
        "colab": {
          "base_uri": "https://localhost:8080/"
        },
        "id": "v5UWGcy6aBox",
        "outputId": "af85f13a-078c-4260-af67-59c4812fcc41"
      },
      "execution_count": 47,
      "outputs": [
        {
          "output_type": "execute_result",
          "data": {
            "text/plain": [
              "<tf.Tensor: shape=(2,), dtype=float32, numpy=array([10., 20.], dtype=float32)>"
            ]
          },
          "metadata": {},
          "execution_count": 47
        }
      ]
    },
    {
      "cell_type": "markdown",
      "source": [
        "#**-----------------------------------------------------------------------------------------**\n"
      ],
      "metadata": {
        "id": "iXRYXtgOf8nm"
      }
    },
    {
      "cell_type": "markdown",
      "source": [
        "# Aggregating tensors\n",
        "Aggregating tensors = converting them from multiple values down to a smaller amount of value."
      ],
      "metadata": {
        "id": "OKgcXZ-YgsTN"
      }
    },
    {
      "cell_type": "code",
      "source": [
        "D = tf.constant([-12, -23, 34, 56, 75, 53, 66, 3, 93])\n",
        "D"
      ],
      "metadata": {
        "id": "MroZY5oCaLNk",
        "colab": {
          "base_uri": "https://localhost:8080/"
        },
        "outputId": "e1a16075-576d-4d54-b20f-e85fa7ff120d"
      },
      "execution_count": 48,
      "outputs": [
        {
          "output_type": "execute_result",
          "data": {
            "text/plain": [
              "<tf.Tensor: shape=(9,), dtype=int32, numpy=array([-12, -23,  34,  56,  75,  53,  66,   3,  93], dtype=int32)>"
            ]
          },
          "metadata": {},
          "execution_count": 48
        }
      ]
    },
    {
      "cell_type": "code",
      "source": [
        "\n",
        "D = tf.abs(D)\n",
        "D"
      ],
      "metadata": {
        "colab": {
          "base_uri": "https://localhost:8080/"
        },
        "id": "En3s8wtMhe8h",
        "outputId": "feb9f0ec-f205-4e33-930f-c0ca0971688e"
      },
      "execution_count": 49,
      "outputs": [
        {
          "output_type": "execute_result",
          "data": {
            "text/plain": [
              "<tf.Tensor: shape=(9,), dtype=int32, numpy=array([12, 23, 34, 56, 75, 53, 66,  3, 93], dtype=int32)>"
            ]
          },
          "metadata": {},
          "execution_count": 49
        }
      ]
    },
    {
      "cell_type": "markdown",
      "source": [
        "Let's practice some of the aggregation that are:\n",
        "- Get the minimum and maximum value of tensor\n",
        "- Get the mean of tensor\n",
        "-Get the sum of tensor "
      ],
      "metadata": {
        "id": "VrbFzci_h3r2"
      }
    },
    {
      "cell_type": "code",
      "source": [
        "tf.reduce_min(D)"
      ],
      "metadata": {
        "colab": {
          "base_uri": "https://localhost:8080/"
        },
        "id": "QwaJitQ-iIV0",
        "outputId": "6d4e6a70-d1a8-4f06-82cd-b296bda7de71"
      },
      "execution_count": 50,
      "outputs": [
        {
          "output_type": "execute_result",
          "data": {
            "text/plain": [
              "<tf.Tensor: shape=(), dtype=int32, numpy=3>"
            ]
          },
          "metadata": {},
          "execution_count": 50
        }
      ]
    },
    {
      "cell_type": "code",
      "source": [
        "tf.reduce_max(D)"
      ],
      "metadata": {
        "colab": {
          "base_uri": "https://localhost:8080/"
        },
        "id": "M3JWUTzPiSKB",
        "outputId": "219a8000-caea-432c-acc2-962b6a21410a"
      },
      "execution_count": 51,
      "outputs": [
        {
          "output_type": "execute_result",
          "data": {
            "text/plain": [
              "<tf.Tensor: shape=(), dtype=int32, numpy=93>"
            ]
          },
          "metadata": {},
          "execution_count": 51
        }
      ]
    },
    {
      "cell_type": "code",
      "source": [
        "tf.reduce_mean(D)"
      ],
      "metadata": {
        "colab": {
          "base_uri": "https://localhost:8080/"
        },
        "id": "CJQfY48BinSF",
        "outputId": "4543acf2-665a-45d8-f67d-304ac4fe053d"
      },
      "execution_count": 52,
      "outputs": [
        {
          "output_type": "execute_result",
          "data": {
            "text/plain": [
              "<tf.Tensor: shape=(), dtype=int32, numpy=46>"
            ]
          },
          "metadata": {},
          "execution_count": 52
        }
      ]
    },
    {
      "cell_type": "code",
      "source": [
        "tf.reduce_sum(D)"
      ],
      "metadata": {
        "colab": {
          "base_uri": "https://localhost:8080/"
        },
        "id": "pBXn-yjOiqhR",
        "outputId": "032e6c41-ee1d-4fdb-fbab-4dfd9366a57a"
      },
      "execution_count": 53,
      "outputs": [
        {
          "output_type": "execute_result",
          "data": {
            "text/plain": [
              "<tf.Tensor: shape=(), dtype=int32, numpy=415>"
            ]
          },
          "metadata": {},
          "execution_count": 53
        }
      ]
    },
    {
      "cell_type": "code",
      "source": [
        "tf.math.reduce_std(tf.cast(D, dtype=tf.float32)) # calculate standard deviation|"
      ],
      "metadata": {
        "colab": {
          "base_uri": "https://localhost:8080/"
        },
        "id": "UOPyRmbeitUu",
        "outputId": "3f5c4d3f-06de-4326-b11b-349ffacf495b"
      },
      "execution_count": 54,
      "outputs": [
        {
          "output_type": "execute_result",
          "data": {
            "text/plain": [
              "<tf.Tensor: shape=(), dtype=float32, numpy=28.434895>"
            ]
          },
          "metadata": {},
          "execution_count": 54
        }
      ]
    },
    {
      "cell_type": "code",
      "source": [
        "tf.math.reduce_variance(tf.cast(D, dtype=tf.float32)) # calculate variance"
      ],
      "metadata": {
        "colab": {
          "base_uri": "https://localhost:8080/"
        },
        "id": "4-9QZ-6owxB9",
        "outputId": "c5e2d571-e1c1-4785-d90b-b11f3d7e710d"
      },
      "execution_count": 55,
      "outputs": [
        {
          "output_type": "execute_result",
          "data": {
            "text/plain": [
              "<tf.Tensor: shape=(), dtype=float32, numpy=808.5432>"
            ]
          },
          "metadata": {},
          "execution_count": 55
        }
      ]
    },
    {
      "cell_type": "markdown",
      "source": [
        "## Finding the positional maximum and minimum"
      ],
      "metadata": {
        "id": "UfW_9FnlywfH"
      }
    },
    {
      "cell_type": "code",
      "source": [
        "tf.random.set_seed(42)\n",
        "A = tf.random.uniform(shape=[50])\n",
        "A"
      ],
      "metadata": {
        "colab": {
          "base_uri": "https://localhost:8080/"
        },
        "id": "dHmqIaZiy0du",
        "outputId": "81ff6201-c747-4739-c56b-f7308b6753c3"
      },
      "execution_count": 56,
      "outputs": [
        {
          "output_type": "execute_result",
          "data": {
            "text/plain": [
              "<tf.Tensor: shape=(50,), dtype=float32, numpy=\n",
              "array([0.6645621 , 0.44100678, 0.3528825 , 0.46448255, 0.03366041,\n",
              "       0.68467236, 0.74011743, 0.8724445 , 0.22632635, 0.22319686,\n",
              "       0.3103881 , 0.7223358 , 0.13318717, 0.5480639 , 0.5746088 ,\n",
              "       0.8996835 , 0.00946367, 0.5212307 , 0.6345445 , 0.1993283 ,\n",
              "       0.72942245, 0.54583454, 0.10756552, 0.6767061 , 0.6602763 ,\n",
              "       0.33695042, 0.60141766, 0.21062577, 0.8527372 , 0.44062173,\n",
              "       0.9485276 , 0.23752594, 0.81179297, 0.5263394 , 0.494308  ,\n",
              "       0.21612847, 0.8457197 , 0.8718841 , 0.3083862 , 0.6868038 ,\n",
              "       0.23764038, 0.7817228 , 0.9671384 , 0.06870162, 0.79873943,\n",
              "       0.66028714, 0.5871513 , 0.16461694, 0.7381023 , 0.32054043],\n",
              "      dtype=float32)>"
            ]
          },
          "metadata": {},
          "execution_count": 56
        }
      ]
    },
    {
      "cell_type": "code",
      "source": [
        "# using argmax which returns the index of highest value\n",
        "tf.math.argmax(A)"
      ],
      "metadata": {
        "colab": {
          "base_uri": "https://localhost:8080/"
        },
        "id": "LYPjTugy0V-F",
        "outputId": "5984fca0-699c-4d91-d7f9-6abce391e63e"
      },
      "execution_count": 57,
      "outputs": [
        {
          "output_type": "execute_result",
          "data": {
            "text/plain": [
              "<tf.Tensor: shape=(), dtype=int64, numpy=42>"
            ]
          },
          "metadata": {},
          "execution_count": 57
        }
      ]
    },
    {
      "cell_type": "code",
      "source": [
        "A[tf.math.argmax(A)]"
      ],
      "metadata": {
        "colab": {
          "base_uri": "https://localhost:8080/"
        },
        "id": "Gk941gdV0r_Y",
        "outputId": "12f27781-0f0d-4858-e0f5-204d831b09cd"
      },
      "execution_count": 58,
      "outputs": [
        {
          "output_type": "execute_result",
          "data": {
            "text/plain": [
              "<tf.Tensor: shape=(), dtype=float32, numpy=0.9671384>"
            ]
          },
          "metadata": {},
          "execution_count": 58
        }
      ]
    },
    {
      "cell_type": "code",
      "source": [
        "assert A[tf.math.argmax(A)] == tf.reduce_max(A)"
      ],
      "metadata": {
        "id": "gMUzW4yY06m4"
      },
      "execution_count": 59,
      "outputs": []
    },
    {
      "cell_type": "code",
      "source": [
        "# finding the argmin of tensor A\n",
        "tf.math.argmin(A)"
      ],
      "metadata": {
        "colab": {
          "base_uri": "https://localhost:8080/"
        },
        "id": "KV-rSaf91AaQ",
        "outputId": "350df799-ce98-401f-885e-c703f13a95db"
      },
      "execution_count": 60,
      "outputs": [
        {
          "output_type": "execute_result",
          "data": {
            "text/plain": [
              "<tf.Tensor: shape=(), dtype=int64, numpy=16>"
            ]
          },
          "metadata": {},
          "execution_count": 60
        }
      ]
    },
    {
      "cell_type": "markdown",
      "source": [
        "#**-----------------------------------------------------------------------------------------**\n"
      ],
      "metadata": {
        "id": "zi4bRv4N1u7v"
      }
    },
    {
      "cell_type": "markdown",
      "source": [
        "## Squeezing our tensor(removing all single dimensions)"
      ],
      "metadata": {
        "id": "HpdAy0eS1zr2"
      }
    },
    {
      "cell_type": "code",
      "source": [
        "G = tf.random.uniform(shape=[1, 1, 1, 23]) "
      ],
      "metadata": {
        "id": "CwPJYQF61vda"
      },
      "execution_count": 61,
      "outputs": []
    },
    {
      "cell_type": "code",
      "source": [
        "G.shape"
      ],
      "metadata": {
        "colab": {
          "base_uri": "https://localhost:8080/"
        },
        "id": "nwm-sT3S2Rxu",
        "outputId": "7d070331-ac47-4f56-b4d9-abcf2617db23"
      },
      "execution_count": 62,
      "outputs": [
        {
          "output_type": "execute_result",
          "data": {
            "text/plain": [
              "TensorShape([1, 1, 1, 23])"
            ]
          },
          "metadata": {},
          "execution_count": 62
        }
      ]
    },
    {
      "cell_type": "code",
      "source": [
        "G_squeezed = tf.squeeze(G) # here squeeziing will remove all the unnecessary 1D array which can be seen in below output:\n",
        "G_squeezed, G_squeezed.shape"
      ],
      "metadata": {
        "colab": {
          "base_uri": "https://localhost:8080/"
        },
        "id": "djLKZMHA2S5s",
        "outputId": "64e9b1db-4106-4e85-aa3a-63007cf2f430"
      },
      "execution_count": 63,
      "outputs": [
        {
          "output_type": "execute_result",
          "data": {
            "text/plain": [
              "(<tf.Tensor: shape=(23,), dtype=float32, numpy=\n",
              " array([0.68789124, 0.48447883, 0.9309944 , 0.252187  , 0.73115396,\n",
              "        0.89256823, 0.94674826, 0.7493341 , 0.34925628, 0.54718256,\n",
              "        0.26160395, 0.69734323, 0.11962581, 0.53484344, 0.7148968 ,\n",
              "        0.87501776, 0.33967495, 0.17377627, 0.4418521 , 0.9008261 ,\n",
              "        0.13803864, 0.12217975, 0.5754491 ], dtype=float32)>,\n",
              " TensorShape([23]))"
            ]
          },
          "metadata": {},
          "execution_count": 63
        }
      ]
    },
    {
      "cell_type": "markdown",
      "source": [
        "# One hot encoding\n",
        "One hot encoding is a process by which categorical variables are converted into a form that could be provided to ML algorithms to do a better job in prediction.\n",
        "\n",
        "![](https://i.stack.imgur.com/FQIlT.jpg)\n",
        "0 indicates non existent while 1 indicates existent.\n",
        "\n",
        "`Why do you need one hot encoding?`\n",
        "\n",
        "*Problem with label encoding* is that it assumes higher the categorical value, better the category. “Wait, What!?”.\n",
        "\n",
        "**Let me explain**: What this form of organization presupposes is VW > Acura > Honda based on the categorical values. Say supposing your model internally calculates average, then accordingly we get, 1+3 = 4/2 =2. This implies that: Average of VW and Honda is Acura. This is definitely a recipe for disaster. This model’s prediction would have a lot of errors."
      ],
      "metadata": {
        "id": "88vKdmhq3KKt"
      }
    },
    {
      "cell_type": "code",
      "source": [
        "# let's create a list of indices\n",
        "some_list = [1, 2, 3, 4, 5]\n",
        "\n",
        "# One hode encode our list\n",
        "tf.one_hot(some_list, depth= 5) # output = 5(len(some_list)) * 4\n",
        "# depth will make the 1D array of len = depth i.e. specified above "
      ],
      "metadata": {
        "colab": {
          "base_uri": "https://localhost:8080/"
        },
        "id": "p3htrp8C2p6e",
        "outputId": "09fd149e-c54f-4984-d0b5-ae83cadff86d"
      },
      "execution_count": 64,
      "outputs": [
        {
          "output_type": "execute_result",
          "data": {
            "text/plain": [
              "<tf.Tensor: shape=(5, 5), dtype=float32, numpy=\n",
              "array([[0., 1., 0., 0., 0.],\n",
              "       [0., 0., 1., 0., 0.],\n",
              "       [0., 0., 0., 1., 0.],\n",
              "       [0., 0., 0., 0., 1.],\n",
              "       [0., 0., 0., 0., 0.]], dtype=float32)>"
            ]
          },
          "metadata": {},
          "execution_count": 64
        }
      ]
    },
    {
      "cell_type": "markdown",
      "source": [
        "### Tensorflow interacts beautifully with numpy array"
      ],
      "metadata": {
        "id": "khlBxKjr9Sir"
      }
    },
    {
      "cell_type": "code",
      "source": [
        "# Create tensor from numpy array\n",
        "J = tf.constant(np.array([10., 324., 43., 123.,]))\n",
        "J"
      ],
      "metadata": {
        "colab": {
          "base_uri": "https://localhost:8080/"
        },
        "id": "xPX8DWVK6Urw",
        "outputId": "27abb704-ab9d-401b-99b1-f7a5128d3dab"
      },
      "execution_count": 65,
      "outputs": [
        {
          "output_type": "execute_result",
          "data": {
            "text/plain": [
              "<tf.Tensor: shape=(4,), dtype=float64, numpy=array([ 10., 324.,  43., 123.])>"
            ]
          },
          "metadata": {},
          "execution_count": 65
        }
      ]
    },
    {
      "cell_type": "code",
      "source": [
        "# create numpy array from tensor\n",
        "np.array(J), type(np.array(J))"
      ],
      "metadata": {
        "colab": {
          "base_uri": "https://localhost:8080/"
        },
        "id": "Ml6Mqkyh9h65",
        "outputId": "a4067e5f-bd30-40ef-8809-ff06452ac2ca"
      },
      "execution_count": 66,
      "outputs": [
        {
          "output_type": "execute_result",
          "data": {
            "text/plain": [
              "(array([ 10., 324.,  43., 123.]), numpy.ndarray)"
            ]
          },
          "metadata": {},
          "execution_count": 66
        }
      ]
    },
    {
      "cell_type": "markdown",
      "source": [
        "## Finding access to GPUs"
      ],
      "metadata": {
        "id": "K3xuPoZt_Gkf"
      }
    },
    {
      "cell_type": "code",
      "source": [
        "tf.config.list_physical_devices(\"GPU\")"
      ],
      "metadata": {
        "colab": {
          "base_uri": "https://localhost:8080/"
        },
        "id": "C3LWyTrQ9mbj",
        "outputId": "e1108a9d-3819-4c67-bdb2-9f735eabefe8"
      },
      "execution_count": 67,
      "outputs": [
        {
          "output_type": "execute_result",
          "data": {
            "text/plain": [
              "[PhysicalDevice(name='/physical_device:GPU:0', device_type='GPU')]"
            ]
          },
          "metadata": {},
          "execution_count": 67
        }
      ]
    },
    {
      "cell_type": "code",
      "source": [
        "!nvidia-smi"
      ],
      "metadata": {
        "colab": {
          "base_uri": "https://localhost:8080/"
        },
        "id": "RW-CPRef_V6f",
        "outputId": "c26b038f-16ee-4b9c-b9e1-7e676443e55c"
      },
      "execution_count": 68,
      "outputs": [
        {
          "output_type": "stream",
          "name": "stdout",
          "text": [
            "Mon Jan  2 10:22:40 2023       \n",
            "+-----------------------------------------------------------------------------+\n",
            "| NVIDIA-SMI 460.32.03    Driver Version: 460.32.03    CUDA Version: 11.2     |\n",
            "|-------------------------------+----------------------+----------------------+\n",
            "| GPU  Name        Persistence-M| Bus-Id        Disp.A | Volatile Uncorr. ECC |\n",
            "| Fan  Temp  Perf  Pwr:Usage/Cap|         Memory-Usage | GPU-Util  Compute M. |\n",
            "|                               |                      |               MIG M. |\n",
            "|===============================+======================+======================|\n",
            "|   0  Tesla T4            Off  | 00000000:00:04.0 Off |                    0 |\n",
            "| N/A   64C    P0    32W /  70W |    314MiB / 15109MiB |      0%      Default |\n",
            "|                               |                      |                  N/A |\n",
            "+-------------------------------+----------------------+----------------------+\n",
            "                                                                               \n",
            "+-----------------------------------------------------------------------------+\n",
            "| Processes:                                                                  |\n",
            "|  GPU   GI   CI        PID   Type   Process name                  GPU Memory |\n",
            "|        ID   ID                                                   Usage      |\n",
            "|=============================================================================|\n",
            "+-----------------------------------------------------------------------------+\n"
          ]
        }
      ]
    }
  ]
}