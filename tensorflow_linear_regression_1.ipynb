{
  "nbformat": 4,
  "nbformat_minor": 0,
  "metadata": {
    "colab": {
      "provenance": [],
      "authorship_tag": "ABX9TyMkG+ORbCzs/99PUZ5WGM38",
      "include_colab_link": true
    },
    "kernelspec": {
      "name": "python3",
      "display_name": "Python 3"
    },
    "language_info": {
      "name": "python"
    },
    "accelerator": "GPU",
    "gpuClass": "standard"
  },
  "cells": [
    {
      "cell_type": "markdown",
      "metadata": {
        "id": "view-in-github",
        "colab_type": "text"
      },
      "source": [
        "<a href=\"https://colab.research.google.com/github/SabalNiroula/Colab-files/blob/master/tensorflow_linear_regression_1.ipynb\" target=\"_parent\"><img src=\"https://colab.research.google.com/assets/colab-badge.svg\" alt=\"Open In Colab\"/></a>"
      ]
    },
    {
      "cell_type": "markdown",
      "source": [
        "# Introduction to linear regression with Neural Networks in Tensorflow\n",
        "\n",
        "There are many definitions for a regression problem but in simple it is predicting a number based on different input features."
      ],
      "metadata": {
        "id": "NBHiE51qp5fs"
      }
    },
    {
      "cell_type": "code",
      "source": [
        "import tensorflow as tf\n",
        "print(tf.__version__)"
      ],
      "metadata": {
        "colab": {
          "base_uri": "https://localhost:8080/"
        },
        "id": "5ZsJ42f5qO1I",
        "outputId": "cd03ac00-0c70-445c-b57c-20e3bc900f3c"
      },
      "execution_count": null,
      "outputs": [
        {
          "output_type": "stream",
          "name": "stdout",
          "text": [
            "2.9.2\n"
          ]
        }
      ]
    },
    {
      "cell_type": "markdown",
      "source": [
        "# Create data to fit and view"
      ],
      "metadata": {
        "id": "nkU53NrnqoCf"
      }
    },
    {
      "cell_type": "code",
      "source": [
        "import numpy as np\n",
        "import matplotlib.pyplot as plt"
      ],
      "metadata": {
        "id": "2YPau4FHqWl0"
      },
      "execution_count": null,
      "outputs": []
    },
    {
      "cell_type": "code",
      "source": [
        "X = np.array([-5, -3, -1, 1, 3, 5, 7, 9, 11])\n",
        "\n",
        "Y = X +5\n",
        "\n",
        "plt.scatter(X, Y)"
      ],
      "metadata": {
        "colab": {
          "base_uri": "https://localhost:8080/",
          "height": 282
        },
        "id": "8Zgn4UJaqss5",
        "outputId": "21a8431c-c7b9-462c-b7d4-a13654a74464"
      },
      "execution_count": null,
      "outputs": [
        {
          "output_type": "execute_result",
          "data": {
            "text/plain": [
              "<matplotlib.collections.PathCollection at 0x7fbffcd124f0>"
            ]
          },
          "metadata": {},
          "execution_count": 4
        },
        {
          "output_type": "display_data",
          "data": {
            "text/plain": [
              "<Figure size 432x288 with 1 Axes>"
            ],
            "image/png": "[encoded data removed]"
          },
          "metadata": {
            "needs_background": "light"
          }
        }
      ]
    },
    {
      "cell_type": "code",
      "source": [
        "#let's make tensors from numpy array\n",
        "X = tf.constant(X)\n",
        "y = tf.constant(Y)\n",
        "X.shape, y.shape"
      ],
      "metadata": {
        "colab": {
          "base_uri": "https://localhost:8080/"
        },
        "id": "W1IOT4CO450_",
        "outputId": "515b601c-fe7b-42b3-b14b-5cfea203e07f"
      },
      "execution_count": null,
      "outputs": [
        {
          "output_type": "execute_result",
          "data": {
            "text/plain": [
              "(TensorShape([9]), TensorShape([9]))"
            ]
          },
          "metadata": {},
          "execution_count": 5
        }
      ]
    },
    {
      "cell_type": "markdown",
      "source": [
        "# Steps in modelling with tensorflow\n",
        "\n",
        "1. **Creating a model** - define the input and output layers, as well as the hidden \n",
        "layer of a deep learning model\n",
        "2. **Compiling a model** - define the loss function (in other words, the function \n",
        "which tells our model how wrong it is ) and optimizer (tells the model how to \n",
        "improve the patterns its learning) and evaluation metrix (which we can use to \n",
        "interprete the performance of our model)\n",
        "3. Fitting a model - letting the model try to find patterns between X and y"
      ],
      "metadata": {
        "id": "WKIZbntc5k4O"
      }
    },
    {
      "cell_type": "code",
      "source": [
        "# set a random seed\n",
        "tf.random.set_seed(43)\n",
        "\n",
        "# creating a model using sequential API\n",
        "model =  tf.keras.Sequential([\n",
        "    tf.keras.layers.Dense(1) #\n",
        "])\n",
        "\n",
        "# is same as\n",
        "# model = tf.keras.Sequential()\n",
        "# model.add(tf.keras.layers.Dense(1))\n",
        "\n",
        "#compiling the model\n",
        "model.compile(loss = tf.keras.losses.mae, \n",
        "    optimizer= tf.keras.optimizers.SGD(),\n",
        "    metrics= ['mae'])\n",
        "\n",
        "#3 fit the model\n",
        "model.fit(tf.expand_dims(X, axis=1),y, epochs=100)\n",
        "# epoch  refers to the one entire passing of training data through the algorithm"
      ],
      "metadata": {
        "colab": {
          "base_uri": "https://localhost:8080/"
        },
        "id": "MCf9Ewzm4570",
        "outputId": "e76bd786-fa8b-442f-dc01-713bf77ca07c"
      },
      "execution_count": null,
      "outputs": [
        {
          "output_type": "stream",
          "name": "stdout",
          "text": [
            "Epoch 1/100\n",
            "1/1 [==============================] - 2s 2s/step - loss: 11.3075 - mae: 11.3075\n",
            "Epoch 2/100\n",
            "1/1 [==============================] - 0s 7ms/step - loss: 11.0762 - mae: 11.0762\n",
            "Epoch 3/100\n",
            "1/1 [==============================] - 0s 8ms/step - loss: 10.8448 - mae: 10.8448\n",
            "Epoch 4/100\n",
            "1/1 [==============================] - 0s 9ms/step - loss: 10.6262 - mae: 10.6262\n",
            "Epoch 5/100\n",
            "1/1 [==============================] - 0s 6ms/step - loss: 10.4512 - mae: 10.4512\n",
            "Epoch 6/100\n",
            "1/1 [==============================] - 0s 9ms/step - loss: 10.2761 - mae: 10.2761\n",
            "Epoch 7/100\n",
            "1/1 [==============================] - 0s 14ms/step - loss: 10.1010 - mae: 10.1010\n",
            "Epoch 8/100\n",
            "1/1 [==============================] - 0s 9ms/step - loss: 9.9260 - mae: 9.9260\n",
            "Epoch 9/100\n",
            "1/1 [==============================] - 0s 9ms/step - loss: 9.7509 - mae: 9.7509\n",
            "Epoch 10/100\n",
            "1/1 [==============================] - 0s 10ms/step - loss: 9.5759 - mae: 9.5759\n",
            "Epoch 11/100\n",
            "1/1 [==============================] - 0s 7ms/step - loss: 9.4008 - mae: 9.4008\n",
            "Epoch 12/100\n",
            "1/1 [==============================] - 0s 9ms/step - loss: 9.2257 - mae: 9.2257\n",
            "Epoch 13/100\n",
            "1/1 [==============================] - 0s 11ms/step - loss: 9.0507 - mae: 9.0507\n",
            "Epoch 14/100\n",
            "1/1 [==============================] - 0s 9ms/step - loss: 8.8756 - mae: 8.8756\n",
            "Epoch 15/100\n",
            "1/1 [==============================] - 0s 10ms/step - loss: 8.7005 - mae: 8.7005\n",
            "Epoch 16/100\n",
            "1/1 [==============================] - 0s 9ms/step - loss: 8.5255 - mae: 8.5255\n",
            "Epoch 17/100\n",
            "1/1 [==============================] - 0s 9ms/step - loss: 8.3504 - mae: 8.3504\n",
            "Epoch 18/100\n",
            "1/1 [==============================] - 0s 9ms/step - loss: 8.1754 - mae: 8.1754\n",
            "Epoch 19/100\n",
            "1/1 [==============================] - 0s 10ms/step - loss: 8.0003 - mae: 8.0003\n",
            "Epoch 20/100\n",
            "1/1 [==============================] - 0s 7ms/step - loss: 7.8252 - mae: 7.8252\n",
            "Epoch 21/100\n",
            "1/1 [==============================] - 0s 11ms/step - loss: 7.6803 - mae: 7.6803\n",
            "Epoch 22/100\n",
            "1/1 [==============================] - 0s 7ms/step - loss: 7.5803 - mae: 7.5803\n",
            "Epoch 23/100\n",
            "1/1 [==============================] - 0s 8ms/step - loss: 7.4803 - mae: 7.4803\n",
            "Epoch 24/100\n",
            "1/1 [==============================] - 0s 9ms/step - loss: 7.3803 - mae: 7.3803\n",
            "Epoch 25/100\n",
            "1/1 [==============================] - 0s 10ms/step - loss: 7.2803 - mae: 7.2803\n",
            "Epoch 26/100\n",
            "1/1 [==============================] - 0s 7ms/step - loss: 7.1803 - mae: 7.1803\n",
            "Epoch 27/100\n",
            "1/1 [==============================] - 0s 9ms/step - loss: 7.0803 - mae: 7.0803\n",
            "Epoch 28/100\n",
            "1/1 [==============================] - 0s 7ms/step - loss: 6.9803 - mae: 6.9803\n",
            "Epoch 29/100\n",
            "1/1 [==============================] - 0s 9ms/step - loss: 6.8803 - mae: 6.8803\n",
            "Epoch 30/100\n",
            "1/1 [==============================] - 0s 11ms/step - loss: 6.7803 - mae: 6.7803\n",
            "Epoch 31/100\n",
            "1/1 [==============================] - 0s 14ms/step - loss: 6.6803 - mae: 6.6803\n",
            "Epoch 32/100\n",
            "1/1 [==============================] - 0s 9ms/step - loss: 6.5803 - mae: 6.5803\n",
            "Epoch 33/100\n",
            "1/1 [==============================] - 0s 7ms/step - loss: 6.4803 - mae: 6.4803\n",
            "Epoch 34/100\n",
            "1/1 [==============================] - 0s 7ms/step - loss: 6.3803 - mae: 6.3803\n",
            "Epoch 35/100\n",
            "1/1 [==============================] - 0s 7ms/step - loss: 6.2803 - mae: 6.2803\n",
            "Epoch 36/100\n",
            "1/1 [==============================] - 0s 10ms/step - loss: 6.1803 - mae: 6.1803\n",
            "Epoch 37/100\n",
            "1/1 [==============================] - 0s 10ms/step - loss: 6.0803 - mae: 6.0803\n",
            "Epoch 38/100\n",
            "1/1 [==============================] - 0s 8ms/step - loss: 5.9803 - mae: 5.9803\n",
            "Epoch 39/100\n",
            "1/1 [==============================] - 0s 5ms/step - loss: 5.8803 - mae: 5.8803\n",
            "Epoch 40/100\n",
            "1/1 [==============================] - 0s 6ms/step - loss: 5.7803 - mae: 5.7803\n",
            "Epoch 41/100\n",
            "1/1 [==============================] - 0s 8ms/step - loss: 5.6803 - mae: 5.6803\n",
            "Epoch 42/100\n",
            "1/1 [==============================] - 0s 5ms/step - loss: 5.5803 - mae: 5.5803\n",
            "Epoch 43/100\n",
            "1/1 [==============================] - 0s 7ms/step - loss: 5.4803 - mae: 5.4803\n",
            "Epoch 44/100\n",
            "1/1 [==============================] - 0s 6ms/step - loss: 5.3803 - mae: 5.3803\n",
            "Epoch 45/100\n",
            "1/1 [==============================] - 0s 8ms/step - loss: 5.2803 - mae: 5.2803\n",
            "Epoch 46/100\n",
            "1/1 [==============================] - 0s 7ms/step - loss: 5.1803 - mae: 5.1803\n",
            "Epoch 47/100\n",
            "1/1 [==============================] - 0s 8ms/step - loss: 5.0803 - mae: 5.0803\n",
            "Epoch 48/100\n",
            "1/1 [==============================] - 0s 6ms/step - loss: 4.9803 - mae: 4.9803\n",
            "Epoch 49/100\n",
            "1/1 [==============================] - 0s 7ms/step - loss: 4.8803 - mae: 4.8803\n",
            "Epoch 50/100\n",
            "1/1 [==============================] - 0s 11ms/step - loss: 4.7803 - mae: 4.7803\n",
            "Epoch 51/100\n",
            "1/1 [==============================] - 0s 7ms/step - loss: 4.6803 - mae: 4.6803\n",
            "Epoch 52/100\n",
            "1/1 [==============================] - 0s 8ms/step - loss: 4.5803 - mae: 4.5803\n",
            "Epoch 53/100\n",
            "1/1 [==============================] - 0s 7ms/step - loss: 4.4803 - mae: 4.4803\n",
            "Epoch 54/100\n",
            "1/1 [==============================] - 0s 8ms/step - loss: 4.3803 - mae: 4.3803\n",
            "Epoch 55/100\n",
            "1/1 [==============================] - 0s 15ms/step - loss: 4.2803 - mae: 4.2803\n",
            "Epoch 56/100\n",
            "1/1 [==============================] - 0s 10ms/step - loss: 4.1803 - mae: 4.1803\n",
            "Epoch 57/100\n",
            "1/1 [==============================] - 0s 7ms/step - loss: 4.0803 - mae: 4.0803\n",
            "Epoch 58/100\n",
            "1/1 [==============================] - 0s 7ms/step - loss: 3.9803 - mae: 3.9803\n",
            "Epoch 59/100\n",
            "1/1 [==============================] - 0s 6ms/step - loss: 3.8803 - mae: 3.8803\n",
            "Epoch 60/100\n",
            "1/1 [==============================] - 0s 7ms/step - loss: 3.7803 - mae: 3.7803\n",
            "Epoch 61/100\n",
            "1/1 [==============================] - 0s 7ms/step - loss: 3.6803 - mae: 3.6803\n",
            "Epoch 62/100\n",
            "1/1 [==============================] - 0s 7ms/step - loss: 3.5803 - mae: 3.5803\n",
            "Epoch 63/100\n",
            "1/1 [==============================] - 0s 7ms/step - loss: 3.4803 - mae: 3.4803\n",
            "Epoch 64/100\n",
            "1/1 [==============================] - 0s 7ms/step - loss: 3.3803 - mae: 3.3803\n",
            "Epoch 65/100\n",
            "1/1 [==============================] - 0s 7ms/step - loss: 3.2803 - mae: 3.2803\n",
            "Epoch 66/100\n",
            "1/1 [==============================] - 0s 7ms/step - loss: 3.1970 - mae: 3.1970\n",
            "Epoch 67/100\n",
            "1/1 [==============================] - 0s 7ms/step - loss: 3.1879 - mae: 3.1879\n",
            "Epoch 68/100\n",
            "1/1 [==============================] - 0s 6ms/step - loss: 3.1787 - mae: 3.1787\n",
            "Epoch 69/100\n",
            "1/1 [==============================] - 0s 7ms/step - loss: 3.1696 - mae: 3.1696\n",
            "Epoch 70/100\n",
            "1/1 [==============================] - 0s 7ms/step - loss: 3.1605 - mae: 3.1605\n",
            "Epoch 71/100\n",
            "1/1 [==============================] - 0s 7ms/step - loss: 3.1513 - mae: 3.1513\n",
            "Epoch 72/100\n",
            "1/1 [==============================] - 0s 7ms/step - loss: 3.1422 - mae: 3.1422\n",
            "Epoch 73/100\n",
            "1/1 [==============================] - 0s 7ms/step - loss: 3.1331 - mae: 3.1331\n",
            "Epoch 74/100\n",
            "1/1 [==============================] - 0s 7ms/step - loss: 3.1239 - mae: 3.1239\n",
            "Epoch 75/100\n",
            "1/1 [==============================] - 0s 7ms/step - loss: 3.1148 - mae: 3.1148\n",
            "Epoch 76/100\n",
            "1/1 [==============================] - 0s 6ms/step - loss: 3.1057 - mae: 3.1057\n",
            "Epoch 77/100\n",
            "1/1 [==============================] - 0s 7ms/step - loss: 3.0965 - mae: 3.0965\n",
            "Epoch 78/100\n",
            "1/1 [==============================] - 0s 7ms/step - loss: 3.0874 - mae: 3.0874\n",
            "Epoch 79/100\n",
            "1/1 [==============================] - 0s 9ms/step - loss: 3.0810 - mae: 3.0810\n",
            "Epoch 80/100\n",
            "1/1 [==============================] - 0s 14ms/step - loss: 3.0820 - mae: 3.0820\n",
            "Epoch 81/100\n",
            "1/1 [==============================] - 0s 19ms/step - loss: 3.0728 - mae: 3.0728\n",
            "Epoch 82/100\n",
            "1/1 [==============================] - 0s 12ms/step - loss: 3.0644 - mae: 3.0644\n",
            "Epoch 83/100\n",
            "1/1 [==============================] - 0s 13ms/step - loss: 3.0674 - mae: 3.0674\n",
            "Epoch 84/100\n",
            "1/1 [==============================] - 0s 19ms/step - loss: 3.0583 - mae: 3.0583\n",
            "Epoch 85/100\n",
            "1/1 [==============================] - 0s 11ms/step - loss: 3.0491 - mae: 3.0491\n",
            "Epoch 86/100\n",
            "1/1 [==============================] - 0s 15ms/step - loss: 3.0516 - mae: 3.0516\n",
            "Epoch 87/100\n",
            "1/1 [==============================] - 0s 10ms/step - loss: 3.0437 - mae: 3.0437\n",
            "Epoch 88/100\n",
            "1/1 [==============================] - 0s 6ms/step - loss: 3.0345 - mae: 3.0345\n",
            "Epoch 89/100\n",
            "1/1 [==============================] - 0s 45ms/step - loss: 3.0351 - mae: 3.0351\n",
            "Epoch 90/100\n",
            "1/1 [==============================] - 0s 19ms/step - loss: 3.0291 - mae: 3.0291\n",
            "Epoch 91/100\n",
            "1/1 [==============================] - 0s 19ms/step - loss: 3.0200 - mae: 3.0200\n",
            "Epoch 92/100\n",
            "1/1 [==============================] - 0s 10ms/step - loss: 3.0185 - mae: 3.0185\n",
            "Epoch 93/100\n",
            "1/1 [==============================] - 0s 10ms/step - loss: 3.0145 - mae: 3.0145\n",
            "Epoch 94/100\n",
            "1/1 [==============================] - 0s 14ms/step - loss: 3.0054 - mae: 3.0054\n",
            "Epoch 95/100\n",
            "1/1 [==============================] - 0s 22ms/step - loss: 3.0020 - mae: 3.0020\n",
            "Epoch 96/100\n",
            "1/1 [==============================] - 0s 10ms/step - loss: 3.0000 - mae: 3.0000\n",
            "Epoch 97/100\n",
            "1/1 [==============================] - 0s 15ms/step - loss: 2.9908 - mae: 2.9908\n",
            "Epoch 98/100\n",
            "1/1 [==============================] - 0s 22ms/step - loss: 2.9854 - mae: 2.9854\n",
            "Epoch 99/100\n",
            "1/1 [==============================] - 0s 11ms/step - loss: 2.9854 - mae: 2.9854\n",
            "Epoch 100/100\n",
            "1/1 [==============================] - 0s 10ms/step - loss: 2.9763 - mae: 2.9763\n"
          ]
        },
        {
          "output_type": "execute_result",
          "data": {
            "text/plain": [
              "<keras.callbacks.History at 0x7fbff03d35b0>"
            ]
          },
          "metadata": {},
          "execution_count": 6
        }
      ]
    },
    {
      "cell_type": "code",
      "source": [
        "print(tf.expand_dims(X, axis=1))\n"
      ],
      "metadata": {
        "colab": {
          "base_uri": "https://localhost:8080/"
        },
        "id": "VfLZl4cACtPp",
        "outputId": "229d7049-3fa9-486c-e183-d82a6f862465"
      },
      "execution_count": null,
      "outputs": [
        {
          "output_type": "stream",
          "name": "stdout",
          "text": [
            "tf.Tensor(\n",
            "[[-5]\n",
            " [-3]\n",
            " [-1]\n",
            " [ 1]\n",
            " [ 3]\n",
            " [ 5]\n",
            " [ 7]\n",
            " [ 9]\n",
            " [11]], shape=(9, 1), dtype=int64)\n"
          ]
        }
      ]
    },
    {
      "cell_type": "code",
      "source": [
        "X, y\n"
      ],
      "metadata": {
        "colab": {
          "base_uri": "https://localhost:8080/"
        },
        "id": "mPD39Y8wIy3X",
        "outputId": "a472239e-fefd-44b0-e8d1-0a45f144f776"
      },
      "execution_count": null,
      "outputs": [
        {
          "output_type": "execute_result",
          "data": {
            "text/plain": [
              "(<tf.Tensor: shape=(9,), dtype=int64, numpy=array([-5, -3, -1,  1,  3,  5,  7,  9, 11])>,\n",
              " <tf.Tensor: shape=(9,), dtype=int64, numpy=array([ 0,  2,  4,  6,  8, 10, 12, 14, 16])>)"
            ]
          },
          "metadata": {},
          "execution_count": 8
        }
      ]
    },
    {
      "cell_type": "code",
      "source": [
        "y_pred = model.predict([13])\n",
        "y_pred"
      ],
      "metadata": {
        "colab": {
          "base_uri": "https://localhost:8080/"
        },
        "id": "GvnH9cYEIjRW",
        "outputId": "f042632f-3a8a-431c-9d4d-e934f317343d"
      },
      "execution_count": null,
      "outputs": [
        {
          "output_type": "stream",
          "name": "stdout",
          "text": [
            "1/1 [==============================] - 0s 145ms/step\n"
          ]
        },
        {
          "output_type": "execute_result",
          "data": {
            "text/plain": [
              "array([[19.853323]], dtype=float32)"
            ]
          },
          "metadata": {},
          "execution_count": 9
        }
      ]
    },
    {
      "cell_type": "markdown",
      "source": [
        "\n",
        "# Improve our model \n",
        "We can improve our model by altering the steps we took to create our model:\n",
        "\n",
        "1. **Creating a model** - we might want to **add more layers**, and increase\n",
        "number of hidden units (neurons) within hidden layers, change the activation function.\n",
        "\n",
        "2. **Compiling a model** - we might change the optimization function or perhaps **learning rate** of the optimization function. \n",
        "\n",
        "3. **Fitting the model** - we might want to fit a model for more **epochs** or have more training data to learn from "
      ],
      "metadata": {
        "id": "GHXjclYVRVi8"
      }
    },
    {
      "cell_type": "code",
      "source": [
        "# let's create a model \n",
        "\n",
        "model = tf.keras.Sequential([\n",
        "    tf.keras.layers.Dense(100, activation='relu'),\n",
        "    tf.keras.layers.Dense(1)\n",
        "])\n",
        "\n",
        "model.compile(loss = tf.keras.losses.mae,\n",
        "              optimizer = tf.keras.optimizers.Adam(lr=0.00591),\n",
        "              metrics=['mae']\n",
        ")\n",
        "\n",
        "model.fit(tf.expand_dims(X, axis=1), y, epochs=100)"
      ],
      "metadata": {
        "colab": {
          "base_uri": "https://localhost:8080/"
        },
        "id": "26NeyRLCRY5J",
        "outputId": "1d18baa8-f48c-4e25-b365-5dcaa3c1458a"
      },
      "execution_count": null,
      "outputs": [
        {
          "output_type": "stream",
          "name": "stdout",
          "text": [
            "Epoch 1/100\n"
          ]
        },
        {
          "output_type": "stream",
          "name": "stderr",
          "text": [
            "/usr/local/lib/python3.8/dist-packages/keras/optimizers/optimizer_v2/adam.py:110: UserWarning: The `lr` argument is deprecated, use `learning_rate` instead.\n",
            "  super(Adam, self).__init__(name, **kwargs)\n"
          ]
        },
        {
          "output_type": "stream",
          "name": "stdout",
          "text": [
            "1/1 [==============================] - 1s 672ms/step - loss: 8.8016 - mae: 8.8016\n",
            "Epoch 2/100\n",
            "1/1 [==============================] - 0s 10ms/step - loss: 8.5217 - mae: 8.5217\n",
            "Epoch 3/100\n",
            "1/1 [==============================] - 0s 10ms/step - loss: 8.2408 - mae: 8.2408\n",
            "Epoch 4/100\n",
            "1/1 [==============================] - 0s 15ms/step - loss: 7.9561 - mae: 7.9561\n",
            "Epoch 5/100\n",
            "1/1 [==============================] - 0s 9ms/step - loss: 7.7331 - mae: 7.7331\n",
            "Epoch 6/100\n",
            "1/1 [==============================] - 0s 10ms/step - loss: 7.4180 - mae: 7.4180\n",
            "Epoch 7/100\n",
            "1/1 [==============================] - 0s 8ms/step - loss: 7.1209 - mae: 7.1209\n",
            "Epoch 8/100\n",
            "1/1 [==============================] - 0s 11ms/step - loss: 6.8441 - mae: 6.8441\n",
            "Epoch 9/100\n",
            "1/1 [==============================] - 0s 7ms/step - loss: 6.5642 - mae: 6.5642\n",
            "Epoch 10/100\n",
            "1/1 [==============================] - 0s 9ms/step - loss: 6.2799 - mae: 6.2799\n",
            "Epoch 11/100\n",
            "1/1 [==============================] - 0s 8ms/step - loss: 5.9910 - mae: 5.9910\n",
            "Epoch 12/100\n",
            "1/1 [==============================] - 0s 9ms/step - loss: 5.6987 - mae: 5.6987\n",
            "Epoch 13/100\n",
            "1/1 [==============================] - 0s 8ms/step - loss: 5.4025 - mae: 5.4025\n",
            "Epoch 14/100\n",
            "1/1 [==============================] - 0s 9ms/step - loss: 5.1016 - mae: 5.1016\n",
            "Epoch 15/100\n",
            "1/1 [==============================] - 0s 6ms/step - loss: 4.7938 - mae: 4.7938\n",
            "Epoch 16/100\n",
            "1/1 [==============================] - 0s 9ms/step - loss: 4.4749 - mae: 4.4749\n",
            "Epoch 17/100\n",
            "1/1 [==============================] - 0s 7ms/step - loss: 4.1462 - mae: 4.1462\n",
            "Epoch 18/100\n",
            "1/1 [==============================] - 0s 9ms/step - loss: 3.8064 - mae: 3.8064\n",
            "Epoch 19/100\n",
            "1/1 [==============================] - 0s 8ms/step - loss: 3.4534 - mae: 3.4534\n",
            "Epoch 20/100\n",
            "1/1 [==============================] - 0s 9ms/step - loss: 3.0854 - mae: 3.0854\n",
            "Epoch 21/100\n",
            "1/1 [==============================] - 0s 9ms/step - loss: 2.7003 - mae: 2.7003\n",
            "Epoch 22/100\n",
            "1/1 [==============================] - 0s 6ms/step - loss: 2.2997 - mae: 2.2997\n",
            "Epoch 23/100\n",
            "1/1 [==============================] - 0s 9ms/step - loss: 1.8838 - mae: 1.8838\n",
            "Epoch 24/100\n",
            "1/1 [==============================] - 0s 9ms/step - loss: 1.6027 - mae: 1.6027\n",
            "Epoch 25/100\n",
            "1/1 [==============================] - 0s 31ms/step - loss: 1.5834 - mae: 1.5834\n",
            "Epoch 26/100\n",
            "1/1 [==============================] - 0s 7ms/step - loss: 1.6851 - mae: 1.6851\n",
            "Epoch 27/100\n",
            "1/1 [==============================] - 0s 9ms/step - loss: 1.8102 - mae: 1.8102\n",
            "Epoch 28/100\n",
            "1/1 [==============================] - 0s 12ms/step - loss: 1.9125 - mae: 1.9125\n",
            "Epoch 29/100\n",
            "1/1 [==============================] - 0s 7ms/step - loss: 2.0258 - mae: 2.0258\n",
            "Epoch 30/100\n",
            "1/1 [==============================] - 0s 7ms/step - loss: 2.0822 - mae: 2.0822\n",
            "Epoch 31/100\n",
            "1/1 [==============================] - 0s 12ms/step - loss: 2.0899 - mae: 2.0899\n",
            "Epoch 32/100\n",
            "1/1 [==============================] - 0s 8ms/step - loss: 2.0667 - mae: 2.0667\n",
            "Epoch 33/100\n",
            "1/1 [==============================] - 0s 8ms/step - loss: 1.9879 - mae: 1.9879\n",
            "Epoch 34/100\n",
            "1/1 [==============================] - 0s 7ms/step - loss: 1.8894 - mae: 1.8894\n",
            "Epoch 35/100\n",
            "1/1 [==============================] - 0s 13ms/step - loss: 1.7641 - mae: 1.7641\n",
            "Epoch 36/100\n",
            "1/1 [==============================] - 0s 8ms/step - loss: 1.6478 - mae: 1.6478\n",
            "Epoch 37/100\n",
            "1/1 [==============================] - 0s 7ms/step - loss: 1.5407 - mae: 1.5407\n",
            "Epoch 38/100\n",
            "1/1 [==============================] - 0s 10ms/step - loss: 1.4299 - mae: 1.4299\n",
            "Epoch 39/100\n",
            "1/1 [==============================] - 0s 8ms/step - loss: 1.3181 - mae: 1.3181\n",
            "Epoch 40/100\n",
            "1/1 [==============================] - 0s 12ms/step - loss: 1.2464 - mae: 1.2464\n",
            "Epoch 41/100\n",
            "1/1 [==============================] - 0s 12ms/step - loss: 1.1957 - mae: 1.1957\n",
            "Epoch 42/100\n",
            "1/1 [==============================] - 0s 10ms/step - loss: 1.1564 - mae: 1.1564\n",
            "Epoch 43/100\n",
            "1/1 [==============================] - 0s 7ms/step - loss: 1.1741 - mae: 1.1741\n",
            "Epoch 44/100\n",
            "1/1 [==============================] - 0s 10ms/step - loss: 1.1716 - mae: 1.1716\n",
            "Epoch 45/100\n",
            "1/1 [==============================] - 0s 11ms/step - loss: 1.1435 - mae: 1.1435\n",
            "Epoch 46/100\n",
            "1/1 [==============================] - 0s 10ms/step - loss: 1.0943 - mae: 1.0943\n",
            "Epoch 47/100\n",
            "1/1 [==============================] - 0s 8ms/step - loss: 1.0298 - mae: 1.0298\n",
            "Epoch 48/100\n",
            "1/1 [==============================] - 0s 9ms/step - loss: 0.9693 - mae: 0.9693\n",
            "Epoch 49/100\n",
            "1/1 [==============================] - 0s 9ms/step - loss: 0.9026 - mae: 0.9026\n",
            "Epoch 50/100\n",
            "1/1 [==============================] - 0s 8ms/step - loss: 0.8543 - mae: 0.8543\n",
            "Epoch 51/100\n",
            "1/1 [==============================] - 0s 10ms/step - loss: 0.8144 - mae: 0.8144\n",
            "Epoch 52/100\n",
            "1/1 [==============================] - 0s 9ms/step - loss: 0.7850 - mae: 0.7850\n",
            "Epoch 53/100\n",
            "1/1 [==============================] - 0s 12ms/step - loss: 0.7572 - mae: 0.7572\n",
            "Epoch 54/100\n",
            "1/1 [==============================] - 0s 12ms/step - loss: 0.7066 - mae: 0.7066\n",
            "Epoch 55/100\n",
            "1/1 [==============================] - 0s 12ms/step - loss: 0.6375 - mae: 0.6375\n",
            "Epoch 56/100\n",
            "1/1 [==============================] - 0s 14ms/step - loss: 0.5792 - mae: 0.5792\n",
            "Epoch 57/100\n",
            "1/1 [==============================] - 0s 10ms/step - loss: 0.5310 - mae: 0.5310\n",
            "Epoch 58/100\n",
            "1/1 [==============================] - 0s 10ms/step - loss: 0.4701 - mae: 0.4701\n",
            "Epoch 59/100\n",
            "1/1 [==============================] - 0s 63ms/step - loss: 0.3947 - mae: 0.3947\n",
            "Epoch 60/100\n",
            "1/1 [==============================] - 0s 11ms/step - loss: 0.3331 - mae: 0.3331\n",
            "Epoch 61/100\n",
            "1/1 [==============================] - 0s 10ms/step - loss: 0.2984 - mae: 0.2984\n",
            "Epoch 62/100\n",
            "1/1 [==============================] - 0s 16ms/step - loss: 0.2548 - mae: 0.2548\n",
            "Epoch 63/100\n",
            "1/1 [==============================] - 0s 9ms/step - loss: 0.2129 - mae: 0.2129\n",
            "Epoch 64/100\n",
            "1/1 [==============================] - 0s 9ms/step - loss: 0.1523 - mae: 0.1523\n",
            "Epoch 65/100\n",
            "1/1 [==============================] - 0s 10ms/step - loss: 0.1986 - mae: 0.1986\n",
            "Epoch 66/100\n",
            "1/1 [==============================] - 0s 10ms/step - loss: 0.2166 - mae: 0.2166\n",
            "Epoch 67/100\n",
            "1/1 [==============================] - 0s 9ms/step - loss: 0.2228 - mae: 0.2228\n",
            "Epoch 68/100\n",
            "1/1 [==============================] - 0s 12ms/step - loss: 0.1936 - mae: 0.1936\n",
            "Epoch 69/100\n",
            "1/1 [==============================] - 0s 11ms/step - loss: 0.1516 - mae: 0.1516\n",
            "Epoch 70/100\n",
            "1/1 [==============================] - 0s 18ms/step - loss: 0.2427 - mae: 0.2427\n",
            "Epoch 71/100\n",
            "1/1 [==============================] - 0s 10ms/step - loss: 0.2701 - mae: 0.2701\n",
            "Epoch 72/100\n",
            "1/1 [==============================] - 0s 9ms/step - loss: 0.2210 - mae: 0.2210\n",
            "Epoch 73/100\n",
            "1/1 [==============================] - 0s 11ms/step - loss: 0.3162 - mae: 0.3162\n",
            "Epoch 74/100\n",
            "1/1 [==============================] - 0s 12ms/step - loss: 0.3049 - mae: 0.3049\n",
            "Epoch 75/100\n",
            "1/1 [==============================] - 0s 10ms/step - loss: 0.1550 - mae: 0.1550\n",
            "Epoch 76/100\n",
            "1/1 [==============================] - 0s 13ms/step - loss: 0.1869 - mae: 0.1869\n",
            "Epoch 77/100\n",
            "1/1 [==============================] - 0s 10ms/step - loss: 0.1727 - mae: 0.1727\n",
            "Epoch 78/100\n",
            "1/1 [==============================] - 0s 11ms/step - loss: 0.1597 - mae: 0.1597\n",
            "Epoch 79/100\n",
            "1/1 [==============================] - 0s 12ms/step - loss: 0.1361 - mae: 0.1361\n",
            "Epoch 80/100\n",
            "1/1 [==============================] - 0s 10ms/step - loss: 0.1525 - mae: 0.1525\n",
            "Epoch 81/100\n",
            "1/1 [==============================] - 0s 13ms/step - loss: 0.1629 - mae: 0.1629\n",
            "Epoch 82/100\n",
            "1/1 [==============================] - 0s 12ms/step - loss: 0.0976 - mae: 0.0976\n",
            "Epoch 83/100\n",
            "1/1 [==============================] - 0s 13ms/step - loss: 0.0958 - mae: 0.0958\n",
            "Epoch 84/100\n",
            "1/1 [==============================] - 0s 12ms/step - loss: 0.1098 - mae: 0.1098\n",
            "Epoch 85/100\n",
            "1/1 [==============================] - 0s 12ms/step - loss: 0.0928 - mae: 0.0928\n",
            "Epoch 86/100\n",
            "1/1 [==============================] - 0s 10ms/step - loss: 0.0897 - mae: 0.0897\n",
            "Epoch 87/100\n",
            "1/1 [==============================] - 0s 12ms/step - loss: 0.1287 - mae: 0.1287\n",
            "Epoch 88/100\n",
            "1/1 [==============================] - 0s 11ms/step - loss: 0.1079 - mae: 0.1079\n",
            "Epoch 89/100\n",
            "1/1 [==============================] - 0s 12ms/step - loss: 0.0959 - mae: 0.0959\n",
            "Epoch 90/100\n",
            "1/1 [==============================] - 0s 11ms/step - loss: 0.1125 - mae: 0.1125\n",
            "Epoch 91/100\n",
            "1/1 [==============================] - 0s 14ms/step - loss: 0.1175 - mae: 0.1175\n",
            "Epoch 92/100\n",
            "1/1 [==============================] - 0s 10ms/step - loss: 0.1107 - mae: 0.1107\n",
            "Epoch 93/100\n",
            "1/1 [==============================] - 0s 10ms/step - loss: 0.0784 - mae: 0.0784\n",
            "Epoch 94/100\n",
            "1/1 [==============================] - 0s 12ms/step - loss: 0.0680 - mae: 0.0680\n",
            "Epoch 95/100\n",
            "1/1 [==============================] - 0s 10ms/step - loss: 0.0663 - mae: 0.0663\n",
            "Epoch 96/100\n",
            "1/1 [==============================] - 0s 12ms/step - loss: 0.0595 - mae: 0.0595\n",
            "Epoch 97/100\n",
            "1/1 [==============================] - 0s 105ms/step - loss: 0.0535 - mae: 0.0535\n",
            "Epoch 98/100\n",
            "1/1 [==============================] - 0s 8ms/step - loss: 0.0494 - mae: 0.0494\n",
            "Epoch 99/100\n",
            "1/1 [==============================] - 0s 8ms/step - loss: 0.0535 - mae: 0.0535\n",
            "Epoch 100/100\n",
            "1/1 [==============================] - 0s 23ms/step - loss: 0.1151 - mae: 0.1151\n"
          ]
        },
        {
          "output_type": "execute_result",
          "data": {
            "text/plain": [
              "<keras.callbacks.History at 0x7fbff0120280>"
            ]
          },
          "metadata": {},
          "execution_count": 10
        }
      ]
    },
    {
      "cell_type": "code",
      "source": [
        "X, y"
      ],
      "metadata": {
        "colab": {
          "base_uri": "https://localhost:8080/"
        },
        "id": "4ULq4-qqZYZG",
        "outputId": "4a3bbcef-44f0-48e3-93c0-0bec53500880"
      },
      "execution_count": null,
      "outputs": [
        {
          "output_type": "execute_result",
          "data": {
            "text/plain": [
              "(<tf.Tensor: shape=(9,), dtype=int64, numpy=array([-5, -3, -1,  1,  3,  5,  7,  9, 11])>,\n",
              " <tf.Tensor: shape=(9,), dtype=int64, numpy=array([ 0,  2,  4,  6,  8, 10, 12, 14, 16])>)"
            ]
          },
          "metadata": {},
          "execution_count": 11
        }
      ]
    },
    {
      "cell_type": "code",
      "source": [
        "model.predict([100])"
      ],
      "metadata": {
        "colab": {
          "base_uri": "https://localhost:8080/"
        },
        "id": "3QAixV4wZnrT",
        "outputId": "fdd44148-71ec-4fa9-9588-7abde242ea5a"
      },
      "execution_count": null,
      "outputs": [
        {
          "output_type": "stream",
          "name": "stdout",
          "text": [
            "1/1 [==============================] - 0s 109ms/step\n"
          ]
        },
        {
          "output_type": "execute_result",
          "data": {
            "text/plain": [
              "array([[113.4906]], dtype=float32)"
            ]
          },
          "metadata": {},
          "execution_count": 12
        }
      ]
    },
    {
      "cell_type": "markdown",
      "source": [
        "# Evaluating the model \n"
      ],
      "metadata": {
        "id": "VGVAe5grgTYP"
      }
    },
    {
      "cell_type": "markdown",
      "source": [
        "## Visualizing data\n",
        "For data to perfrom better we need to have bigger dataset."
      ],
      "metadata": {
        "id": "q4NKaRnPvnkW"
      }
    },
    {
      "cell_type": "code",
      "source": [
        "X = tf.range(-100, 100, 4)\n",
        "X"
      ],
      "metadata": {
        "colab": {
          "base_uri": "https://localhost:8080/"
        },
        "id": "MrSOfJvXZ79k",
        "outputId": "23f0e27a-36bf-4ea8-d4ee-0268da5af575"
      },
      "execution_count": null,
      "outputs": [
        {
          "output_type": "execute_result",
          "data": {
            "text/plain": [
              "<tf.Tensor: shape=(50,), dtype=int32, numpy=\n",
              "array([-100,  -96,  -92,  -88,  -84,  -80,  -76,  -72,  -68,  -64,  -60,\n",
              "        -56,  -52,  -48,  -44,  -40,  -36,  -32,  -28,  -24,  -20,  -16,\n",
              "        -12,   -8,   -4,    0,    4,    8,   12,   16,   20,   24,   28,\n",
              "         32,   36,   40,   44,   48,   52,   56,   60,   64,   68,   72,\n",
              "         76,   80,   84,   88,   92,   96], dtype=int32)>"
            ]
          },
          "metadata": {},
          "execution_count": 13
        }
      ]
    },
    {
      "cell_type": "code",
      "source": [
        "y = X + 10\n",
        "y"
      ],
      "metadata": {
        "colab": {
          "base_uri": "https://localhost:8080/"
        },
        "id": "li_5gI0vwF2I",
        "outputId": "7804aeea-39fc-430b-8af8-5f9ae0e91b90"
      },
      "execution_count": null,
      "outputs": [
        {
          "output_type": "execute_result",
          "data": {
            "text/plain": [
              "<tf.Tensor: shape=(50,), dtype=int32, numpy=\n",
              "array([-90, -86, -82, -78, -74, -70, -66, -62, -58, -54, -50, -46, -42,\n",
              "       -38, -34, -30, -26, -22, -18, -14, -10,  -6,  -2,   2,   6,  10,\n",
              "        14,  18,  22,  26,  30,  34,  38,  42,  46,  50,  54,  58,  62,\n",
              "        66,  70,  74,  78,  82,  86,  90,  94,  98, 102, 106], dtype=int32)>"
            ]
          },
          "metadata": {},
          "execution_count": 14
        }
      ]
    },
    {
      "cell_type": "code",
      "source": [
        "import matplotlib.pyplot as plt\n",
        "plt.scatter(X,y )"
      ],
      "metadata": {
        "colab": {
          "base_uri": "https://localhost:8080/",
          "height": 282
        },
        "id": "5bgHCyK7wQkp",
        "outputId": "8df7d601-b273-4041-d728-4b68ee1ed5bf"
      },
      "execution_count": null,
      "outputs": [
        {
          "output_type": "execute_result",
          "data": {
            "text/plain": [
              "<matplotlib.collections.PathCollection at 0x7fbff0081400>"
            ]
          },
          "metadata": {},
          "execution_count": 15
        },
        {
          "output_type": "display_data",
          "data": {
            "text/plain": [
              "<Figure size 432x288 with 1 Axes>"
            ],
            "image/png": "[encoded data removed]"
          },
          "metadata": {
            "needs_background": "light"
          }
        }
      ]
    },
    {
      "cell_type": "code",
      "source": [
        "# lets split into x_test, X_train and y_test and y_train\n",
        "X_train = X[:40]\n",
        "y_train = y[:40]\n",
        "\n",
        "X_test = X[40:]\n",
        "y_test = y[40:]\n",
        "\n",
        "len(X_train), len(y_train), len(X_test),len(y_test)"
      ],
      "metadata": {
        "colab": {
          "base_uri": "https://localhost:8080/"
        },
        "id": "rO1-12gBwhwd",
        "outputId": "f1ccecb9-aae5-4954-992c-80a6c34f7265"
      },
      "execution_count": null,
      "outputs": [
        {
          "output_type": "execute_result",
          "data": {
            "text/plain": [
              "(40, 40, 10, 10)"
            ]
          },
          "metadata": {},
          "execution_count": 16
        }
      ]
    },
    {
      "cell_type": "code",
      "source": [
        "model = tf.keras.Sequential([\n",
        "    tf.keras.layers.Dense(1, activation='relu')\n",
        "])\n",
        "\n",
        "model.compile(loss = tf.keras.losses.mae,\n",
        "              optimizer = tf.keras.optimizers.Adam(lr=0.0059),\n",
        "              metrics = ['mae'])\n",
        "\n",
        "model.fit(tf.expand_dims(X_train, axis=1), y_train, epochs = 100)"
      ],
      "metadata": {
        "id": "VKMDn7dty6WG",
        "colab": {
          "base_uri": "https://localhost:8080/"
        },
        "outputId": "3b56b859-3c14-4f67-dd5a-6259ce1d9bd4"
      },
      "execution_count": null,
      "outputs": [
        {
          "output_type": "stream",
          "name": "stdout",
          "text": [
            "Epoch 1/100\n",
            "2/2 [==============================] - 1s 14ms/step - loss: 47.5166 - mae: 47.5166\n",
            "Epoch 2/100\n",
            "2/2 [==============================] - 0s 9ms/step - loss: 47.1320 - mae: 47.1320\n",
            "Epoch 3/100\n",
            "2/2 [==============================] - 0s 10ms/step - loss: 46.7697 - mae: 46.7697\n",
            "Epoch 4/100\n",
            "2/2 [==============================] - 0s 7ms/step - loss: 46.4098 - mae: 46.4098\n",
            "Epoch 5/100\n",
            "2/2 [==============================] - 0s 7ms/step - loss: 46.0468 - mae: 46.0468\n",
            "Epoch 6/100\n",
            "2/2 [==============================] - 0s 7ms/step - loss: 45.6795 - mae: 45.6795\n",
            "Epoch 7/100\n",
            "2/2 [==============================] - 0s 8ms/step - loss: 45.3177 - mae: 45.3177\n",
            "Epoch 8/100\n",
            "2/2 [==============================] - 0s 9ms/step - loss: 44.9792 - mae: 44.9792\n",
            "Epoch 9/100\n",
            "2/2 [==============================] - 0s 13ms/step - loss: 44.6133 - mae: 44.6133\n",
            "Epoch 10/100\n",
            "2/2 [==============================] - 0s 4ms/step - loss: 44.2412 - mae: 44.2412\n",
            "Epoch 11/100\n",
            "2/2 [==============================] - 0s 6ms/step - loss: 43.8722 - mae: 43.8722\n",
            "Epoch 12/100\n",
            "2/2 [==============================] - 0s 6ms/step - loss: 43.4851 - mae: 43.4851\n",
            "Epoch 13/100\n",
            "2/2 [==============================] - 0s 4ms/step - loss: 43.1120 - mae: 43.1120\n",
            "Epoch 14/100\n",
            "2/2 [==============================] - 0s 6ms/step - loss: 42.7225 - mae: 42.7225\n",
            "Epoch 15/100\n",
            "2/2 [==============================] - 0s 6ms/step - loss: 42.3458 - mae: 42.3458\n",
            "Epoch 16/100\n",
            "2/2 [==============================] - 0s 6ms/step - loss: 41.9617 - mae: 41.9617\n",
            "Epoch 17/100\n",
            "2/2 [==============================] - 0s 6ms/step - loss: 41.5637 - mae: 41.5637\n",
            "Epoch 18/100\n",
            "2/2 [==============================] - 0s 6ms/step - loss: 41.2016 - mae: 41.2016\n",
            "Epoch 19/100\n",
            "2/2 [==============================] - 0s 6ms/step - loss: 40.9000 - mae: 40.9000\n",
            "Epoch 20/100\n",
            "2/2 [==============================] - 0s 9ms/step - loss: 40.8750 - mae: 40.8750\n",
            "Epoch 21/100\n",
            "2/2 [==============================] - 0s 6ms/step - loss: 40.7896 - mae: 40.7896\n",
            "Epoch 22/100\n",
            "2/2 [==============================] - 0s 6ms/step - loss: 40.7107 - mae: 40.7107\n",
            "Epoch 23/100\n",
            "2/2 [==============================] - 0s 14ms/step - loss: 40.6447 - mae: 40.6447\n",
            "Epoch 24/100\n",
            "2/2 [==============================] - 0s 9ms/step - loss: 40.5743 - mae: 40.5743\n",
            "Epoch 25/100\n",
            "2/2 [==============================] - 0s 9ms/step - loss: 40.5110 - mae: 40.5110\n",
            "Epoch 26/100\n",
            "2/2 [==============================] - 0s 13ms/step - loss: 40.4456 - mae: 40.4456\n",
            "Epoch 27/100\n",
            "2/2 [==============================] - 0s 9ms/step - loss: 40.3820 - mae: 40.3820\n",
            "Epoch 28/100\n",
            "2/2 [==============================] - 0s 8ms/step - loss: 40.3231 - mae: 40.3231\n",
            "Epoch 29/100\n",
            "2/2 [==============================] - 0s 11ms/step - loss: 40.2646 - mae: 40.2646\n",
            "Epoch 30/100\n",
            "2/2 [==============================] - 0s 6ms/step - loss: 40.2031 - mae: 40.2031\n",
            "Epoch 31/100\n",
            "2/2 [==============================] - 0s 6ms/step - loss: 40.1441 - mae: 40.1441\n",
            "Epoch 32/100\n",
            "2/2 [==============================] - 0s 9ms/step - loss: 40.0854 - mae: 40.0854\n",
            "Epoch 33/100\n",
            "2/2 [==============================] - 0s 8ms/step - loss: 40.0292 - mae: 40.0292\n",
            "Epoch 34/100\n",
            "2/2 [==============================] - 0s 9ms/step - loss: 39.9710 - mae: 39.9710\n",
            "Epoch 35/100\n",
            "2/2 [==============================] - 0s 16ms/step - loss: 39.9149 - mae: 39.9149\n",
            "Epoch 36/100\n",
            "2/2 [==============================] - 0s 9ms/step - loss: 39.8616 - mae: 39.8616\n",
            "Epoch 37/100\n",
            "2/2 [==============================] - 0s 7ms/step - loss: 39.8025 - mae: 39.8025\n",
            "Epoch 38/100\n",
            "2/2 [==============================] - 0s 12ms/step - loss: 39.7457 - mae: 39.7457\n",
            "Epoch 39/100\n",
            "2/2 [==============================] - 0s 6ms/step - loss: 39.6881 - mae: 39.6881\n",
            "Epoch 40/100\n",
            "2/2 [==============================] - 0s 6ms/step - loss: 39.6235 - mae: 39.6235\n",
            "Epoch 41/100\n",
            "2/2 [==============================] - 0s 8ms/step - loss: 39.5687 - mae: 39.5687\n",
            "Epoch 42/100\n",
            "2/2 [==============================] - 0s 6ms/step - loss: 39.5027 - mae: 39.5027\n",
            "Epoch 43/100\n",
            "2/2 [==============================] - 0s 7ms/step - loss: 39.4432 - mae: 39.4432\n",
            "Epoch 44/100\n",
            "2/2 [==============================] - 0s 6ms/step - loss: 39.3775 - mae: 39.3775\n",
            "Epoch 45/100\n",
            "2/2 [==============================] - 0s 5ms/step - loss: 39.3125 - mae: 39.3125\n",
            "Epoch 46/100\n",
            "2/2 [==============================] - 0s 19ms/step - loss: 39.2476 - mae: 39.2476\n",
            "Epoch 47/100\n",
            "2/2 [==============================] - 0s 8ms/step - loss: 39.1864 - mae: 39.1864\n",
            "Epoch 48/100\n",
            "2/2 [==============================] - 0s 10ms/step - loss: 39.1155 - mae: 39.1155\n",
            "Epoch 49/100\n",
            "2/2 [==============================] - 0s 4ms/step - loss: 39.0548 - mae: 39.0548\n",
            "Epoch 50/100\n",
            "2/2 [==============================] - 0s 6ms/step - loss: 38.9900 - mae: 38.9900\n",
            "Epoch 51/100\n",
            "2/2 [==============================] - 0s 8ms/step - loss: 38.9234 - mae: 38.9234\n",
            "Epoch 52/100\n",
            "2/2 [==============================] - 0s 15ms/step - loss: 38.8565 - mae: 38.8565\n",
            "Epoch 53/100\n",
            "2/2 [==============================] - 0s 12ms/step - loss: 38.7933 - mae: 38.7933\n",
            "Epoch 54/100\n",
            "2/2 [==============================] - 0s 8ms/step - loss: 38.7330 - mae: 38.7330\n",
            "Epoch 55/100\n",
            "2/2 [==============================] - 0s 7ms/step - loss: 38.6638 - mae: 38.6638\n",
            "Epoch 56/100\n",
            "2/2 [==============================] - 0s 8ms/step - loss: 38.6024 - mae: 38.6024\n",
            "Epoch 57/100\n",
            "2/2 [==============================] - 0s 13ms/step - loss: 38.5368 - mae: 38.5368\n",
            "Epoch 58/100\n",
            "2/2 [==============================] - 0s 8ms/step - loss: 38.4731 - mae: 38.4731\n",
            "Epoch 59/100\n",
            "2/2 [==============================] - 0s 9ms/step - loss: 38.4133 - mae: 38.4133\n",
            "Epoch 60/100\n",
            "2/2 [==============================] - 0s 11ms/step - loss: 38.3438 - mae: 38.3438\n",
            "Epoch 61/100\n",
            "2/2 [==============================] - 0s 8ms/step - loss: 38.2833 - mae: 38.2833\n",
            "Epoch 62/100\n",
            "2/2 [==============================] - 0s 15ms/step - loss: 38.2107 - mae: 38.2107\n",
            "Epoch 63/100\n",
            "2/2 [==============================] - 0s 7ms/step - loss: 38.1399 - mae: 38.1399\n",
            "Epoch 64/100\n",
            "2/2 [==============================] - 0s 6ms/step - loss: 38.0693 - mae: 38.0693\n",
            "Epoch 65/100\n",
            "2/2 [==============================] - 0s 7ms/step - loss: 37.9934 - mae: 37.9934\n",
            "Epoch 66/100\n",
            "2/2 [==============================] - 0s 9ms/step - loss: 37.9225 - mae: 37.9225\n",
            "Epoch 67/100\n",
            "2/2 [==============================] - 0s 10ms/step - loss: 37.8418 - mae: 37.8418\n",
            "Epoch 68/100\n",
            "2/2 [==============================] - 0s 4ms/step - loss: 37.7702 - mae: 37.7702\n",
            "Epoch 69/100\n",
            "2/2 [==============================] - 0s 6ms/step - loss: 37.6903 - mae: 37.6903\n",
            "Epoch 70/100\n",
            "2/2 [==============================] - 0s 9ms/step - loss: 37.6178 - mae: 37.6178\n",
            "Epoch 71/100\n",
            "2/2 [==============================] - 0s 6ms/step - loss: 37.5508 - mae: 37.5508\n",
            "Epoch 72/100\n",
            "2/2 [==============================] - 0s 5ms/step - loss: 37.4660 - mae: 37.4660\n",
            "Epoch 73/100\n",
            "2/2 [==============================] - 0s 15ms/step - loss: 37.4022 - mae: 37.4022\n",
            "Epoch 74/100\n",
            "2/2 [==============================] - 0s 6ms/step - loss: 37.3287 - mae: 37.3287\n",
            "Epoch 75/100\n",
            "2/2 [==============================] - 0s 6ms/step - loss: 37.2532 - mae: 37.2532\n",
            "Epoch 76/100\n",
            "2/2 [==============================] - 0s 6ms/step - loss: 37.1859 - mae: 37.1859\n",
            "Epoch 77/100\n",
            "2/2 [==============================] - 0s 6ms/step - loss: 37.1139 - mae: 37.1139\n",
            "Epoch 78/100\n",
            "2/2 [==============================] - 0s 10ms/step - loss: 37.0399 - mae: 37.0399\n",
            "Epoch 79/100\n",
            "2/2 [==============================] - 0s 5ms/step - loss: 36.9671 - mae: 36.9671\n",
            "Epoch 80/100\n",
            "2/2 [==============================] - 0s 7ms/step - loss: 36.8916 - mae: 36.8916\n",
            "Epoch 81/100\n",
            "2/2 [==============================] - 0s 11ms/step - loss: 36.8153 - mae: 36.8153\n",
            "Epoch 82/100\n",
            "2/2 [==============================] - 0s 6ms/step - loss: 36.7394 - mae: 36.7394\n",
            "Epoch 83/100\n",
            "2/2 [==============================] - 0s 6ms/step - loss: 36.6569 - mae: 36.6569\n",
            "Epoch 84/100\n",
            "2/2 [==============================] - 0s 5ms/step - loss: 36.5887 - mae: 36.5887\n",
            "Epoch 85/100\n",
            "2/2 [==============================] - 0s 6ms/step - loss: 36.5035 - mae: 36.5035\n",
            "Epoch 86/100\n",
            "2/2 [==============================] - 0s 5ms/step - loss: 36.4288 - mae: 36.4288\n",
            "Epoch 87/100\n",
            "2/2 [==============================] - 0s 6ms/step - loss: 36.3585 - mae: 36.3585\n",
            "Epoch 88/100\n",
            "2/2 [==============================] - 0s 7ms/step - loss: 36.2753 - mae: 36.2753\n",
            "Epoch 89/100\n",
            "2/2 [==============================] - 0s 5ms/step - loss: 36.2048 - mae: 36.2048\n",
            "Epoch 90/100\n",
            "2/2 [==============================] - 0s 6ms/step - loss: 36.1290 - mae: 36.1290\n",
            "Epoch 91/100\n",
            "2/2 [==============================] - 0s 6ms/step - loss: 36.0499 - mae: 36.0499\n",
            "Epoch 92/100\n",
            "2/2 [==============================] - 0s 6ms/step - loss: 35.9755 - mae: 35.9755\n",
            "Epoch 93/100\n",
            "2/2 [==============================] - 0s 5ms/step - loss: 35.9050 - mae: 35.9050\n",
            "Epoch 94/100\n",
            "2/2 [==============================] - 0s 10ms/step - loss: 35.8200 - mae: 35.8200\n",
            "Epoch 95/100\n",
            "2/2 [==============================] - 0s 6ms/step - loss: 35.7540 - mae: 35.7540\n",
            "Epoch 96/100\n",
            "2/2 [==============================] - 0s 8ms/step - loss: 35.6769 - mae: 35.6769\n",
            "Epoch 97/100\n",
            "2/2 [==============================] - 0s 6ms/step - loss: 35.6003 - mae: 35.6003\n",
            "Epoch 98/100\n",
            "2/2 [==============================] - 0s 5ms/step - loss: 35.5317 - mae: 35.5317\n",
            "Epoch 99/100\n",
            "2/2 [==============================] - 0s 8ms/step - loss: 35.4515 - mae: 35.4515\n",
            "Epoch 100/100\n",
            "2/2 [==============================] - 0s 9ms/step - loss: 35.3780 - mae: 35.3780\n"
          ]
        },
        {
          "output_type": "execute_result",
          "data": {
            "text/plain": [
              "<keras.callbacks.History at 0x7fbff003b280>"
            ]
          },
          "metadata": {},
          "execution_count": 17
        }
      ]
    },
    {
      "cell_type": "code",
      "source": [
        "X, y"
      ],
      "metadata": {
        "colab": {
          "base_uri": "https://localhost:8080/"
        },
        "id": "it4qRcDTjAOd",
        "outputId": "253ce4b4-bfe2-4c6c-87ff-8ff956f833a4"
      },
      "execution_count": null,
      "outputs": [
        {
          "output_type": "execute_result",
          "data": {
            "text/plain": [
              "(<tf.Tensor: shape=(50,), dtype=int32, numpy=\n",
              " array([-100,  -96,  -92,  -88,  -84,  -80,  -76,  -72,  -68,  -64,  -60,\n",
              "         -56,  -52,  -48,  -44,  -40,  -36,  -32,  -28,  -24,  -20,  -16,\n",
              "         -12,   -8,   -4,    0,    4,    8,   12,   16,   20,   24,   28,\n",
              "          32,   36,   40,   44,   48,   52,   56,   60,   64,   68,   72,\n",
              "          76,   80,   84,   88,   92,   96], dtype=int32)>,\n",
              " <tf.Tensor: shape=(50,), dtype=int32, numpy=\n",
              " array([-90, -86, -82, -78, -74, -70, -66, -62, -58, -54, -50, -46, -42,\n",
              "        -38, -34, -30, -26, -22, -18, -14, -10,  -6,  -2,   2,   6,  10,\n",
              "         14,  18,  22,  26,  30,  34,  38,  42,  46,  50,  54,  58,  62,\n",
              "         66,  70,  74,  78,  82,  86,  90,  94,  98, 102, 106], dtype=int32)>)"
            ]
          },
          "metadata": {},
          "execution_count": 18
        }
      ]
    },
    {
      "cell_type": "code",
      "source": [
        "tf.expand_dims(X, axis=1)[0].shape"
      ],
      "metadata": {
        "colab": {
          "base_uri": "https://localhost:8080/"
        },
        "id": "rITJTfxQi-qS",
        "outputId": "5cb24858-a311-4a29-fb5b-a4653aa8fb64"
      },
      "execution_count": null,
      "outputs": [
        {
          "output_type": "execute_result",
          "data": {
            "text/plain": [
              "TensorShape([1])"
            ]
          },
          "metadata": {},
          "execution_count": 19
        }
      ]
    },
    {
      "cell_type": "code",
      "source": [
        "model = tf.keras.Sequential([\n",
        "    tf.keras.layers.Dense(50, activation = \"relu\"),\n",
        "    tf.keras.layers.Dense(1, input_shape = (1,),activation = \"relu\" , name=\"input-layer\") # \"1\" means 2D array and , represent more 1D inside 2D\n",
        "], name=\"Model\")\n",
        "\n",
        "model.compile(loss = tf.keras.losses.mae,\n",
        "              optimizer = tf.keras.optimizers.Adam(lr=0.0059),\n",
        "              metrics = ['mae'])\n",
        "\n",
        "model.fit(tf.expand_dims(X_train, axis=1), y_train, verbose=0, epochs=100)"
      ],
      "metadata": {
        "id": "yU09pH4oknym",
        "colab": {
          "base_uri": "https://localhost:8080/"
        },
        "outputId": "52521d70-d315-4d92-a5d9-45c533f24444"
      },
      "execution_count": null,
      "outputs": [
        {
          "output_type": "execute_result",
          "data": {
            "text/plain": [
              "<keras.callbacks.History at 0x7fbf96655d30>"
            ]
          },
          "metadata": {},
          "execution_count": 20
        }
      ]
    },
    {
      "cell_type": "code",
      "source": [
        "model.summary()"
      ],
      "metadata": {
        "id": "xJYAVhCtnSII",
        "colab": {
          "base_uri": "https://localhost:8080/"
        },
        "outputId": "f4dd2d73-6a09-45b3-bac4-dceff85b91f8"
      },
      "execution_count": null,
      "outputs": [
        {
          "output_type": "stream",
          "name": "stdout",
          "text": [
            "Model: \"Model\"\n",
            "_________________________________________________________________\n",
            " Layer (type)                Output Shape              Param #   \n",
            "=================================================================\n",
            " dense_4 (Dense)             (None, 50)                100       \n",
            "                                                                 \n",
            " input-layer (Dense)         (None, 1)                 51        \n",
            "                                                                 \n",
            "=================================================================\n",
            "Total params: 151\n",
            "Trainable params: 151\n",
            "Non-trainable params: 0\n",
            "_________________________________________________________________\n"
          ]
        }
      ]
    },
    {
      "cell_type": "code",
      "source": [
        "from tensorflow.keras.utils import plot_model\n",
        "\n",
        "plot_model(model=model, show_shapes=True)"
      ],
      "metadata": {
        "colab": {
          "base_uri": "https://localhost:8080/",
          "height": 312
        },
        "id": "x8OYiOCpPIrN",
        "outputId": "ee4533af-8b9b-4115-b355-3cd2262bfbfe"
      },
      "execution_count": null,
      "outputs": [
        {
          "output_type": "execute_result",
          "data": {
            "image/png": "[encoded data removed]",
            "text/plain": [
              "<IPython.core.display.Image object>"
            ]
          },
          "metadata": {},
          "execution_count": 22
        }
      ]
    },
    {
      "cell_type": "markdown",
      "source": [
        "#Visualizing our model prediction\n",
        "often time you will see this as 'y_true' or 'y_test' Vs. 'y_pred'"
      ],
      "metadata": {
        "id": "IBNhiYYybsZJ"
      }
    },
    {
      "cell_type": "code",
      "source": [
        "# make some prediction\n",
        "y_pred = model.predict(tf.expand_dims(X_test,axis=1))\n",
        "y_pred"
      ],
      "metadata": {
        "colab": {
          "base_uri": "https://localhost:8080/"
        },
        "id": "MZF4JZ5gb4Yo",
        "outputId": "1a3d01fa-ba7e-4b58-f38d-fa6b4fcf3a49"
      },
      "execution_count": null,
      "outputs": [
        {
          "output_type": "stream",
          "name": "stdout",
          "text": [
            "1/1 [==============================] - 0s 112ms/step\n"
          ]
        },
        {
          "output_type": "execute_result",
          "data": {
            "text/plain": [
              "array([[0.],\n",
              "       [0.],\n",
              "       [0.],\n",
              "       [0.],\n",
              "       [0.],\n",
              "       [0.],\n",
              "       [0.],\n",
              "       [0.],\n",
              "       [0.],\n",
              "       [0.]], dtype=float32)"
            ]
          },
          "metadata": {},
          "execution_count": 23
        }
      ]
    },
    {
      "cell_type": "code",
      "source": [
        "y_test"
      ],
      "metadata": {
        "colab": {
          "base_uri": "https://localhost:8080/"
        },
        "id": "Cq7qbcDwcOCG",
        "outputId": "fcff8177-ff2e-4bf6-8dc3-c643954bbaee"
      },
      "execution_count": null,
      "outputs": [
        {
          "output_type": "execute_result",
          "data": {
            "text/plain": [
              "<tf.Tensor: shape=(10,), dtype=int32, numpy=array([ 70,  74,  78,  82,  86,  90,  94,  98, 102, 106], dtype=int32)>"
            ]
          },
          "metadata": {},
          "execution_count": 24
        }
      ]
    },
    {
      "cell_type": "code",
      "source": [
        "def plot_line(test_x, test_y, train_x, train_y, pred_y):\n",
        "  \n",
        "  plt.figure(figsize=(10,8))\n",
        "  plt.scatter(train_x, train_y, color='b', label=\"Training_Data\")\n",
        "  plt.scatter(test_x, test_y, color='g', label=\"Test_Data\")\n",
        "  plt.scatter(test_x, pred_y, color='r', label=\"Pred_Data\")\n",
        "  plt.legend()"
      ],
      "metadata": {
        "id": "wEh_DFvVe_M1"
      },
      "execution_count": null,
      "outputs": []
    },
    {
      "cell_type": "code",
      "source": [
        "plot_line(tf.expand_dims(X_test, axis=1), y_test, tf.expand_dims(X_train, axis=1), y_train, y_pred)"
      ],
      "metadata": {
        "colab": {
          "base_uri": "https://localhost:8080/",
          "height": 483
        },
        "id": "NhtH6KXRkMcF",
        "outputId": "11c238b3-28c2-41e9-abd8-2cac1e9bb5b6"
      },
      "execution_count": null,
      "outputs": [
        {
          "output_type": "display_data",
          "data": {
            "text/plain": [
              "<Figure size 720x576 with 1 Axes>"
            ],
            "image/png": "[encoded data removed]"
          },
          "metadata": {
            "needs_background": "light"
          }
        }
      ]
    },
    {
      "cell_type": "markdown",
      "source": [
        "## Evaluation metrics\n",
        "Depending upon the problem you're working on, there will be different evaluation metrics to evaluate your model's performance.\n",
        "\n",
        "One of the two main evaluation metrics in regression problems are:\n",
        "\n",
        "- MAE - Mean Absolute Error \"On average how wrong is each of our model prediction\"\n",
        "- MSE - Mean Square Error \"Square the average error\""
      ],
      "metadata": {
        "id": "Z8uTJ4GJPGlS"
      }
    },
    {
      "cell_type": "code",
      "source": [
        "# Evaluate the metrics\n",
        "model.evaluate(tf.expand_dims(X_test, axis=1), y_test)\n",
        "# In the compile method we have initialized loss to be \"mae\" and metrics to be \"mae\""
      ],
      "metadata": {
        "colab": {
          "base_uri": "https://localhost:8080/"
        },
        "id": "uqPal7dnOE-1",
        "outputId": "360c1334-2a9a-4091-e595-7422d9b3ab1c"
      },
      "execution_count": null,
      "outputs": [
        {
          "output_type": "stream",
          "name": "stdout",
          "text": [
            "1/1 [==============================] - 0s 214ms/step - loss: 88.0000 - mae: 88.0000\n"
          ]
        },
        {
          "output_type": "execute_result",
          "data": {
            "text/plain": [
              "[88.0, 88.0]"
            ]
          },
          "metadata": {},
          "execution_count": 27
        }
      ]
    },
    {
      "cell_type": "code",
      "source": [
        "# Let's calculate the mean square error\n",
        "tf.metrics.mean_absolute_error(y_test, y_pred)"
      ],
      "metadata": {
        "colab": {
          "base_uri": "https://localhost:8080/"
        },
        "id": "44ImbmiuSNFE",
        "outputId": "931b5587-2509-4e5e-d8df-f3d053e1db1b"
      },
      "execution_count": null,
      "outputs": [
        {
          "output_type": "execute_result",
          "data": {
            "text/plain": [
              "<tf.Tensor: shape=(10,), dtype=float32, numpy=array([88., 88., 88., 88., 88., 88., 88., 88., 88., 88.], dtype=float32)>"
            ]
          },
          "metadata": {},
          "execution_count": 28
        }
      ]
    },
    {
      "cell_type": "code",
      "source": [
        "# It is giving that output because the spape of Y_test and y_pred are not equal\n",
        "\n",
        "print(y_pred.shape, y_test.shape) # yes, what we did claim is true\n",
        "print(y_pred, y_test) # Also y_pred is array where as y_test is a tensor so we need to convert it\n"
      ],
      "metadata": {
        "colab": {
          "base_uri": "https://localhost:8080/"
        },
        "id": "MWQl0htLStP2",
        "outputId": "d6e193e4-8ca1-4916-e708-150e7f7ef1ba"
      },
      "execution_count": null,
      "outputs": [
        {
          "output_type": "stream",
          "name": "stdout",
          "text": [
            "(10, 1) (10,)\n",
            "[[0.]\n",
            " [0.]\n",
            " [0.]\n",
            " [0.]\n",
            " [0.]\n",
            " [0.]\n",
            " [0.]\n",
            " [0.]\n",
            " [0.]\n",
            " [0.]] tf.Tensor([ 70  74  78  82  86  90  94  98 102 106], shape=(10,), dtype=int32)\n"
          ]
        }
      ]
    },
    {
      "cell_type": "code",
      "source": [
        "y_pred = tf.squeeze(y_pred)\n",
        "print(y_pred)"
      ],
      "metadata": {
        "colab": {
          "base_uri": "https://localhost:8080/"
        },
        "id": "ordRDKlwaVOH",
        "outputId": "fefaea48-aeb3-4c43-fe14-155785aba342"
      },
      "execution_count": null,
      "outputs": [
        {
          "output_type": "stream",
          "name": "stdout",
          "text": [
            "tf.Tensor([0. 0. 0. 0. 0. 0. 0. 0. 0. 0.], shape=(10,), dtype=float32)\n"
          ]
        }
      ]
    },
    {
      "cell_type": "code",
      "source": [
        "# Now if we try that same thing, this will produce output we want i.e. 6.4\n",
        "print(tf.metrics.mean_absolute_error(y_test, y_pred) ) # OR\n",
        "print(tf.keras.losses.mae(y_test, y_pred))"
      ],
      "metadata": {
        "colab": {
          "base_uri": "https://localhost:8080/"
        },
        "id": "KGgp5OYcTNTH",
        "outputId": "126dd00e-f495-403d-bbde-6996fc675279"
      },
      "execution_count": null,
      "outputs": [
        {
          "output_type": "stream",
          "name": "stdout",
          "text": [
            "tf.Tensor(88.0, shape=(), dtype=float32)\n",
            "tf.Tensor(88.0, shape=(), dtype=float32)\n"
          ]
        }
      ]
    },
    {
      "cell_type": "code",
      "source": [
        "# now let's calculate mean square error\n",
        "print(tf.metrics.mean_squared_error(y_test, y_pred))\n",
        "print(tf.keras.losses.mse(y_test, y_pred))"
      ],
      "metadata": {
        "colab": {
          "base_uri": "https://localhost:8080/"
        },
        "id": "sHgFtuRhds4g",
        "outputId": "7081fd6f-b225-47bd-cc90-105263c295b2"
      },
      "execution_count": null,
      "outputs": [
        {
          "output_type": "stream",
          "name": "stdout",
          "text": [
            "tf.Tensor(7876.0, shape=(), dtype=float32)\n",
            "tf.Tensor(7876.0, shape=(), dtype=float32)\n"
          ]
        }
      ]
    },
    {
      "cell_type": "code",
      "source": [
        "# Make a function for mse and mae\n",
        "def mae(y_true, y_pred):\n",
        "  return tf.metrics.mean_absolute_error(y_test, tf.squeeze(tf.constant(y_pred)))\n",
        "\n",
        "def mse(y_true, y_pred):\n",
        "  return tf.metrics.mean_squared_error(y_test, tf.squeeze(tf.constant(y_pred)))"
      ],
      "metadata": {
        "id": "6MrBGSszeRaf"
      },
      "execution_count": null,
      "outputs": []
    },
    {
      "cell_type": "code",
      "source": [
        "X_train = tf.expand_dims(X_train, axis=1)\n",
        "X_test = tf.expand_dims(X_test, axis=1)\n",
        "print(X_train)"
      ],
      "metadata": {
        "colab": {
          "base_uri": "https://localhost:8080/"
        },
        "id": "a18B0nx1hpIC",
        "outputId": "5632581c-239f-467f-dddd-e50dd5925160"
      },
      "execution_count": null,
      "outputs": [
        {
          "output_type": "stream",
          "name": "stdout",
          "text": [
            "tf.Tensor(\n",
            "[[-100]\n",
            " [ -96]\n",
            " [ -92]\n",
            " [ -88]\n",
            " [ -84]\n",
            " [ -80]\n",
            " [ -76]\n",
            " [ -72]\n",
            " [ -68]\n",
            " [ -64]\n",
            " [ -60]\n",
            " [ -56]\n",
            " [ -52]\n",
            " [ -48]\n",
            " [ -44]\n",
            " [ -40]\n",
            " [ -36]\n",
            " [ -32]\n",
            " [ -28]\n",
            " [ -24]\n",
            " [ -20]\n",
            " [ -16]\n",
            " [ -12]\n",
            " [  -8]\n",
            " [  -4]\n",
            " [   0]\n",
            " [   4]\n",
            " [   8]\n",
            " [  12]\n",
            " [  16]\n",
            " [  20]\n",
            " [  24]\n",
            " [  28]\n",
            " [  32]\n",
            " [  36]\n",
            " [  40]\n",
            " [  44]\n",
            " [  48]\n",
            " [  52]\n",
            " [  56]], shape=(40, 1), dtype=int32)\n"
          ]
        }
      ]
    },
    {
      "cell_type": "markdown",
      "source": [
        "## Running an Experiment on our model\n",
        "\n",
        "`Build a model -> fit it -> evaluate it -> tweak it -> fit it -> evaluate it ....`\n",
        "\n",
        "1. Get more Data : Get more example for your model to train on (more opportunities for model to learn pattern ore relationship between features and labels )\n",
        "\n",
        "2. Make your model larger (using a more complex model) - this might come in the form of more layers or more models hidden units in each layer.\n",
        "\n",
        "3. Train for longer - give your model more of a chance to find pattern in data. \n",
        "\n",
        "\n",
        "## let's do three modelling experiments:\n",
        "\n",
        "1. `model-1` trained for 1 layers for 100 epochs\n",
        "2. `model-2` trained for 2 layers for 100 epochs\n",
        "3. `model-2` trained for 2 layers for 500 epochs"
      ],
      "metadata": {
        "id": "VuJIvy1dfRAY"
      }
    },
    {
      "cell_type": "code",
      "source": [
        "model_1 = tf.keras.Sequential([\n",
        "    tf.keras.layers.Dense(1, activation=\"relu\")\n",
        "])\n",
        "\n",
        "model_1.compile(loss= tf.keras.losses.mae, \n",
        "                optimizer = tf.keras.optimizers.SGD(),\n",
        "                metrics=['mae'])\n",
        "\n",
        "model_1.fit(X_train, y_train, epochs=100)"
      ],
      "metadata": {
        "colab": {
          "base_uri": "https://localhost:8080/"
        },
        "id": "4dc6FM7feuTx",
        "outputId": "66b2b796-df40-499d-8f24-9355cb4c39f8"
      },
      "execution_count": null,
      "outputs": [
        {
          "output_type": "stream",
          "name": "stdout",
          "text": [
            "Epoch 1/100\n",
            "2/2 [==============================] - 0s 7ms/step - loss: 28.6124 - mae: 28.6124\n",
            "Epoch 2/100\n",
            "2/2 [==============================] - 0s 5ms/step - loss: 28.6495 - mae: 28.6495\n",
            "Epoch 3/100\n",
            "2/2 [==============================] - 0s 6ms/step - loss: 28.4689 - mae: 28.4689\n",
            "Epoch 4/100\n",
            "2/2 [==============================] - 0s 5ms/step - loss: 28.3177 - mae: 28.3177\n",
            "Epoch 5/100\n",
            "2/2 [==============================] - 0s 6ms/step - loss: 28.4009 - mae: 28.4009\n",
            "Epoch 6/100\n",
            "2/2 [==============================] - 0s 6ms/step - loss: 28.4099 - mae: 28.4099\n",
            "Epoch 7/100\n",
            "2/2 [==============================] - 0s 5ms/step - loss: 28.2860 - mae: 28.2860\n",
            "Epoch 8/100\n",
            "2/2 [==============================] - 0s 6ms/step - loss: 28.3756 - mae: 28.3756\n",
            "Epoch 9/100\n",
            "2/2 [==============================] - 0s 6ms/step - loss: 28.2899 - mae: 28.2899\n",
            "Epoch 10/100\n",
            "2/2 [==============================] - 0s 9ms/step - loss: 28.3179 - mae: 28.3179\n",
            "Epoch 11/100\n",
            "2/2 [==============================] - 0s 10ms/step - loss: 28.4603 - mae: 28.4603\n",
            "Epoch 12/100\n",
            "2/2 [==============================] - 0s 10ms/step - loss: 28.3739 - mae: 28.3739\n",
            "Epoch 13/100\n",
            "2/2 [==============================] - 0s 7ms/step - loss: 28.3859 - mae: 28.3859\n",
            "Epoch 14/100\n",
            "2/2 [==============================] - 0s 6ms/step - loss: 28.6234 - mae: 28.6234\n",
            "Epoch 15/100\n",
            "2/2 [==============================] - 0s 7ms/step - loss: 28.2818 - mae: 28.2818\n",
            "Epoch 16/100\n",
            "2/2 [==============================] - 0s 7ms/step - loss: 28.2644 - mae: 28.2644\n",
            "Epoch 17/100\n",
            "2/2 [==============================] - 0s 7ms/step - loss: 28.4372 - mae: 28.4372\n",
            "Epoch 18/100\n",
            "2/2 [==============================] - 0s 9ms/step - loss: 28.2819 - mae: 28.2819\n",
            "Epoch 19/100\n",
            "2/2 [==============================] - 0s 7ms/step - loss: 28.3609 - mae: 28.3609\n",
            "Epoch 20/100\n",
            "2/2 [==============================] - 0s 7ms/step - loss: 28.2753 - mae: 28.2753\n",
            "Epoch 21/100\n",
            "2/2 [==============================] - 0s 7ms/step - loss: 28.2978 - mae: 28.2978\n",
            "Epoch 22/100\n",
            "2/2 [==============================] - 0s 17ms/step - loss: 28.3820 - mae: 28.3820\n",
            "Epoch 23/100\n",
            "2/2 [==============================] - 0s 7ms/step - loss: 28.3235 - mae: 28.3235\n",
            "Epoch 24/100\n",
            "2/2 [==============================] - 0s 8ms/step - loss: 28.3823 - mae: 28.3823\n",
            "Epoch 25/100\n",
            "2/2 [==============================] - 0s 4ms/step - loss: 28.3550 - mae: 28.3550\n",
            "Epoch 26/100\n",
            "2/2 [==============================] - 0s 7ms/step - loss: 28.3237 - mae: 28.3237\n",
            "Epoch 27/100\n",
            "2/2 [==============================] - 0s 7ms/step - loss: 28.2925 - mae: 28.2925\n",
            "Epoch 28/100\n",
            "2/2 [==============================] - 0s 7ms/step - loss: 28.4171 - mae: 28.4171\n",
            "Epoch 29/100\n",
            "2/2 [==============================] - 0s 13ms/step - loss: 28.2627 - mae: 28.2627\n",
            "Epoch 30/100\n",
            "2/2 [==============================] - 0s 7ms/step - loss: 28.5351 - mae: 28.5351\n",
            "Epoch 31/100\n",
            "2/2 [==============================] - 0s 10ms/step - loss: 28.6068 - mae: 28.6068\n",
            "Epoch 32/100\n",
            "2/2 [==============================] - 0s 9ms/step - loss: 28.4762 - mae: 28.4762\n",
            "Epoch 33/100\n",
            "2/2 [==============================] - 0s 7ms/step - loss: 28.4047 - mae: 28.4047\n",
            "Epoch 34/100\n",
            "2/2 [==============================] - 0s 5ms/step - loss: 28.3936 - mae: 28.3936\n",
            "Epoch 35/100\n",
            "2/2 [==============================] - 0s 12ms/step - loss: 28.2641 - mae: 28.2641\n",
            "Epoch 36/100\n",
            "2/2 [==============================] - 0s 26ms/step - loss: 28.2752 - mae: 28.2752\n",
            "Epoch 37/100\n",
            "2/2 [==============================] - 0s 7ms/step - loss: 28.3544 - mae: 28.3544\n",
            "Epoch 38/100\n",
            "2/2 [==============================] - 0s 5ms/step - loss: 28.7495 - mae: 28.7495\n",
            "Epoch 39/100\n",
            "2/2 [==============================] - 0s 15ms/step - loss: 28.4923 - mae: 28.4923\n",
            "Epoch 40/100\n",
            "2/2 [==============================] - 0s 4ms/step - loss: 28.4018 - mae: 28.4018\n",
            "Epoch 41/100\n",
            "2/2 [==============================] - 0s 8ms/step - loss: 28.9586 - mae: 28.9586\n",
            "Epoch 42/100\n",
            "2/2 [==============================] - 0s 8ms/step - loss: 28.4006 - mae: 28.4006\n",
            "Epoch 43/100\n",
            "2/2 [==============================] - 0s 9ms/step - loss: 28.6246 - mae: 28.6246\n",
            "Epoch 44/100\n",
            "2/2 [==============================] - 0s 7ms/step - loss: 28.2682 - mae: 28.2682\n",
            "Epoch 45/100\n",
            "2/2 [==============================] - 0s 5ms/step - loss: 28.2821 - mae: 28.2821\n",
            "Epoch 46/100\n",
            "2/2 [==============================] - 0s 15ms/step - loss: 28.2689 - mae: 28.2689\n",
            "Epoch 47/100\n",
            "2/2 [==============================] - 0s 4ms/step - loss: 28.5768 - mae: 28.5768\n",
            "Epoch 48/100\n",
            "2/2 [==============================] - 0s 6ms/step - loss: 28.2554 - mae: 28.2554\n",
            "Epoch 49/100\n",
            "2/2 [==============================] - 0s 6ms/step - loss: 28.3203 - mae: 28.3203\n",
            "Epoch 50/100\n",
            "2/2 [==============================] - 0s 5ms/step - loss: 28.4075 - mae: 28.4075\n",
            "Epoch 51/100\n",
            "2/2 [==============================] - 0s 9ms/step - loss: 28.3124 - mae: 28.3124\n",
            "Epoch 52/100\n",
            "2/2 [==============================] - 0s 6ms/step - loss: 28.2864 - mae: 28.2864\n",
            "Epoch 53/100\n",
            "2/2 [==============================] - 0s 5ms/step - loss: 28.2994 - mae: 28.2994\n",
            "Epoch 54/100\n",
            "2/2 [==============================] - 0s 9ms/step - loss: 28.7539 - mae: 28.7539\n",
            "Epoch 55/100\n",
            "2/2 [==============================] - 0s 8ms/step - loss: 28.3325 - mae: 28.3325\n",
            "Epoch 56/100\n",
            "2/2 [==============================] - 0s 8ms/step - loss: 28.2564 - mae: 28.2564\n",
            "Epoch 57/100\n",
            "2/2 [==============================] - 0s 6ms/step - loss: 28.2619 - mae: 28.2619\n",
            "Epoch 58/100\n",
            "2/2 [==============================] - 0s 6ms/step - loss: 28.3704 - mae: 28.3704\n",
            "Epoch 59/100\n",
            "2/2 [==============================] - 0s 15ms/step - loss: 28.6603 - mae: 28.6603\n",
            "Epoch 60/100\n",
            "2/2 [==============================] - 0s 10ms/step - loss: 28.3790 - mae: 28.3790\n",
            "Epoch 61/100\n",
            "2/2 [==============================] - 0s 9ms/step - loss: 28.3243 - mae: 28.3243\n",
            "Epoch 62/100\n",
            "2/2 [==============================] - 0s 8ms/step - loss: 28.4831 - mae: 28.4831\n",
            "Epoch 63/100\n",
            "2/2 [==============================] - 0s 7ms/step - loss: 28.6215 - mae: 28.6215\n",
            "Epoch 64/100\n",
            "2/2 [==============================] - 0s 6ms/step - loss: 28.3408 - mae: 28.3408\n",
            "Epoch 65/100\n",
            "2/2 [==============================] - 0s 7ms/step - loss: 28.4074 - mae: 28.4074\n",
            "Epoch 66/100\n",
            "2/2 [==============================] - 0s 7ms/step - loss: 28.2822 - mae: 28.2822\n",
            "Epoch 67/100\n",
            "2/2 [==============================] - 0s 7ms/step - loss: 28.2881 - mae: 28.2881\n",
            "Epoch 68/100\n",
            "2/2 [==============================] - 0s 7ms/step - loss: 28.4104 - mae: 28.4104\n",
            "Epoch 69/100\n",
            "2/2 [==============================] - 0s 7ms/step - loss: 28.2699 - mae: 28.2699\n",
            "Epoch 70/100\n",
            "2/2 [==============================] - 0s 6ms/step - loss: 28.2884 - mae: 28.2884\n",
            "Epoch 71/100\n",
            "2/2 [==============================] - 0s 10ms/step - loss: 28.6733 - mae: 28.6733\n",
            "Epoch 72/100\n",
            "2/2 [==============================] - 0s 9ms/step - loss: 28.2779 - mae: 28.2779\n",
            "Epoch 73/100\n",
            "2/2 [==============================] - 0s 7ms/step - loss: 28.3906 - mae: 28.3906\n",
            "Epoch 74/100\n",
            "2/2 [==============================] - 0s 7ms/step - loss: 28.4042 - mae: 28.4042\n",
            "Epoch 75/100\n",
            "2/2 [==============================] - 0s 6ms/step - loss: 28.2926 - mae: 28.2926\n",
            "Epoch 76/100\n",
            "2/2 [==============================] - 0s 6ms/step - loss: 28.7338 - mae: 28.7338\n",
            "Epoch 77/100\n",
            "2/2 [==============================] - 0s 7ms/step - loss: 28.2523 - mae: 28.2523\n",
            "Epoch 78/100\n",
            "2/2 [==============================] - 0s 22ms/step - loss: 28.4579 - mae: 28.4579\n",
            "Epoch 79/100\n",
            "2/2 [==============================] - 0s 7ms/step - loss: 28.3259 - mae: 28.3259\n",
            "Epoch 80/100\n",
            "2/2 [==============================] - 0s 7ms/step - loss: 28.4826 - mae: 28.4826\n",
            "Epoch 81/100\n",
            "2/2 [==============================] - 0s 14ms/step - loss: 28.5151 - mae: 28.5151\n",
            "Epoch 82/100\n",
            "2/2 [==============================] - 0s 6ms/step - loss: 28.3115 - mae: 28.3115\n",
            "Epoch 83/100\n",
            "2/2 [==============================] - 0s 6ms/step - loss: 28.3234 - mae: 28.3234\n",
            "Epoch 84/100\n",
            "2/2 [==============================] - 0s 7ms/step - loss: 28.3542 - mae: 28.3542\n",
            "Epoch 85/100\n",
            "2/2 [==============================] - 0s 6ms/step - loss: 28.2678 - mae: 28.2678\n",
            "Epoch 86/100\n",
            "2/2 [==============================] - 0s 6ms/step - loss: 28.6533 - mae: 28.6533\n",
            "Epoch 87/100\n",
            "2/2 [==============================] - 0s 6ms/step - loss: 28.2367 - mae: 28.2367\n",
            "Epoch 88/100\n",
            "2/2 [==============================] - 0s 6ms/step - loss: 28.2663 - mae: 28.2663\n",
            "Epoch 89/100\n",
            "2/2 [==============================] - 0s 7ms/step - loss: 28.5128 - mae: 28.5128\n",
            "Epoch 90/100\n",
            "2/2 [==============================] - 0s 6ms/step - loss: 28.2466 - mae: 28.2466\n",
            "Epoch 91/100\n",
            "2/2 [==============================] - 0s 5ms/step - loss: 28.3532 - mae: 28.3532\n",
            "Epoch 92/100\n",
            "2/2 [==============================] - 0s 7ms/step - loss: 28.2488 - mae: 28.2488\n",
            "Epoch 93/100\n",
            "2/2 [==============================] - 0s 5ms/step - loss: 28.2365 - mae: 28.2365\n",
            "Epoch 94/100\n",
            "2/2 [==============================] - 0s 7ms/step - loss: 28.2321 - mae: 28.2321\n",
            "Epoch 95/100\n",
            "2/2 [==============================] - 0s 6ms/step - loss: 28.2585 - mae: 28.2585\n",
            "Epoch 96/100\n",
            "2/2 [==============================] - 0s 5ms/step - loss: 28.2419 - mae: 28.2419\n",
            "Epoch 97/100\n",
            "2/2 [==============================] - 0s 6ms/step - loss: 28.2200 - mae: 28.2200\n",
            "Epoch 98/100\n",
            "2/2 [==============================] - 0s 6ms/step - loss: 28.6381 - mae: 28.6381\n",
            "Epoch 99/100\n",
            "2/2 [==============================] - 0s 8ms/step - loss: 28.3932 - mae: 28.3932\n",
            "Epoch 100/100\n",
            "2/2 [==============================] - 0s 6ms/step - loss: 28.2470 - mae: 28.2470\n"
          ]
        },
        {
          "output_type": "execute_result",
          "data": {
            "text/plain": [
              "<keras.callbacks.History at 0x7fbfffd15a00>"
            ]
          },
          "metadata": {},
          "execution_count": 35
        }
      ]
    },
    {
      "cell_type": "code",
      "source": [
        "y_pred_1 = model_1.predict(X_test)\n",
        "print(\"MAE_1:\",mae(y_test, y_pred),\"\\nMSE_1:\", mse(y_test, y_pred))"
      ],
      "metadata": {
        "colab": {
          "base_uri": "https://localhost:8080/"
        },
        "id": "uJaIrJN9h1Xp",
        "outputId": "aa62e57e-be57-469f-b3fb-cb799d95b4c6"
      },
      "execution_count": null,
      "outputs": [
        {
          "output_type": "stream",
          "name": "stdout",
          "text": [
            "1/1 [==============================] - 0s 32ms/step\n",
            "MAE_1: tf.Tensor(88.0, shape=(), dtype=float32) \n",
            "MSE_1: tf.Tensor(7876.0, shape=(), dtype=float32)\n"
          ]
        }
      ]
    },
    {
      "cell_type": "code",
      "source": [
        "plot_line(X_test, y_test, X_train, y_train, y_pred_1)"
      ],
      "metadata": {
        "colab": {
          "base_uri": "https://localhost:8080/",
          "height": 483
        },
        "id": "2BPTJfWyjLp2",
        "outputId": "9839cd32-7300-4756-c1cf-c6fc962e3cde"
      },
      "execution_count": null,
      "outputs": [
        {
          "output_type": "display_data",
          "data": {
            "text/plain": [
              "<Figure size 720x576 with 1 Axes>"
            ],
            "image/png": "[encoded data removed]"
          },
          "metadata": {
            "needs_background": "light"
          }
        }
      ]
    },
    {
      "cell_type": "code",
      "source": [
        "print(y_test, y_pred)"
      ],
      "metadata": {
        "colab": {
          "base_uri": "https://localhost:8080/"
        },
        "id": "846oYfExjTky",
        "outputId": "fcf2a7a3-51c2-4aa8-8236-ba39caaeef03"
      },
      "execution_count": null,
      "outputs": [
        {
          "output_type": "stream",
          "name": "stdout",
          "text": [
            "tf.Tensor([ 70  74  78  82  86  90  94  98 102 106], shape=(10,), dtype=int32) tf.Tensor([0. 0. 0. 0. 0. 0. 0. 0. 0. 0.], shape=(10,), dtype=float32)\n"
          ]
        }
      ]
    },
    {
      "cell_type": "markdown",
      "source": [
        "# Model 2 \n",
        "* 2 dense layer and 100 epochs"
      ],
      "metadata": {
        "id": "6gqWa-huL6vd"
      }
    },
    {
      "cell_type": "code",
      "source": [
        "tf.random.set_seed(423)\n",
        "\n",
        "model_2 = tf.keras.Sequential()\n",
        "model_2.add(tf.keras.layers.Dense(10))\n",
        "model_2.add(tf.keras.layers.Dense(1))\n",
        "\n",
        "model_2.compile(loss = tf.keras.losses.mae,\n",
        "              optimizer = tf.keras.optimizers.SGD(),\n",
        "              metrics=['mse'])\n",
        "\n",
        "model_2.fit(X_train, y_train, epochs=100)"
      ],
      "metadata": {
        "colab": {
          "base_uri": "https://localhost:8080/"
        },
        "id": "bBZfcoyxMLfj",
        "outputId": "6a69aca3-1782-4c0e-8fd1-e595b639e135"
      },
      "execution_count": null,
      "outputs": [
        {
          "output_type": "stream",
          "name": "stdout",
          "text": [
            "Epoch 1/100\n",
            "2/2 [==============================] - 0s 6ms/step - loss: 56.3431 - mse: 4797.4395\n",
            "Epoch 2/100\n",
            "2/2 [==============================] - 0s 8ms/step - loss: 18.0191 - mse: 511.4672\n",
            "Epoch 3/100\n",
            "2/2 [==============================] - 0s 5ms/step - loss: 22.6010 - mse: 676.3180\n",
            "Epoch 4/100\n",
            "2/2 [==============================] - 0s 6ms/step - loss: 37.1468 - mse: 1983.4371\n",
            "Epoch 5/100\n",
            "2/2 [==============================] - 0s 6ms/step - loss: 10.4782 - mse: 121.3004\n",
            "Epoch 6/100\n",
            "2/2 [==============================] - 0s 6ms/step - loss: 16.3541 - mse: 413.1033\n",
            "Epoch 7/100\n",
            "2/2 [==============================] - 0s 5ms/step - loss: 13.9916 - mse: 234.1425\n",
            "Epoch 8/100\n",
            "2/2 [==============================] - 0s 6ms/step - loss: 24.4502 - mse: 830.5462\n",
            "Epoch 9/100\n",
            "2/2 [==============================] - 0s 5ms/step - loss: 11.0207 - mse: 134.3600\n",
            "Epoch 10/100\n",
            "2/2 [==============================] - 0s 5ms/step - loss: 24.3983 - mse: 908.2618\n",
            "Epoch 11/100\n",
            "2/2 [==============================] - 0s 5ms/step - loss: 14.7850 - mse: 317.8836\n",
            "Epoch 12/100\n",
            "2/2 [==============================] - 0s 6ms/step - loss: 23.2697 - mse: 817.2507\n",
            "Epoch 13/100\n",
            "2/2 [==============================] - 0s 14ms/step - loss: 15.9749 - mse: 326.3303\n",
            "Epoch 14/100\n",
            "2/2 [==============================] - 0s 6ms/step - loss: 19.4872 - mse: 519.5238\n",
            "Epoch 15/100\n",
            "2/2 [==============================] - 0s 6ms/step - loss: 11.5603 - mse: 161.3292\n",
            "Epoch 16/100\n",
            "2/2 [==============================] - 0s 7ms/step - loss: 9.7796 - mse: 129.0616\n",
            "Epoch 17/100\n",
            "2/2 [==============================] - 0s 6ms/step - loss: 13.1310 - mse: 197.4504\n",
            "Epoch 18/100\n",
            "2/2 [==============================] - 0s 5ms/step - loss: 29.5190 - mse: 1361.3616\n",
            "Epoch 19/100\n",
            "2/2 [==============================] - 0s 6ms/step - loss: 12.1067 - mse: 190.5746\n",
            "Epoch 20/100\n",
            "2/2 [==============================] - 0s 9ms/step - loss: 25.2263 - mse: 948.5690\n",
            "Epoch 21/100\n",
            "2/2 [==============================] - 0s 6ms/step - loss: 10.0792 - mse: 167.6087\n",
            "Epoch 22/100\n",
            "2/2 [==============================] - 0s 6ms/step - loss: 16.5530 - mse: 356.9316\n",
            "Epoch 23/100\n",
            "2/2 [==============================] - 0s 5ms/step - loss: 31.5772 - mse: 1379.2410\n",
            "Epoch 24/100\n",
            "2/2 [==============================] - 0s 9ms/step - loss: 14.5464 - mse: 280.5981\n",
            "Epoch 25/100\n",
            "2/2 [==============================] - 0s 6ms/step - loss: 22.9501 - mse: 768.0872\n",
            "Epoch 26/100\n",
            "2/2 [==============================] - 0s 6ms/step - loss: 11.4748 - mse: 149.0485\n",
            "Epoch 27/100\n",
            "2/2 [==============================] - 0s 6ms/step - loss: 24.6489 - mse: 905.2124\n",
            "Epoch 28/100\n",
            "2/2 [==============================] - 0s 5ms/step - loss: 11.2139 - mse: 162.8976\n",
            "Epoch 29/100\n",
            "2/2 [==============================] - 0s 6ms/step - loss: 20.0283 - mse: 615.8821\n",
            "Epoch 30/100\n",
            "2/2 [==============================] - 0s 6ms/step - loss: 8.7501 - mse: 82.3330\n",
            "Epoch 31/100\n",
            "2/2 [==============================] - 0s 6ms/step - loss: 26.5010 - mse: 1014.9850\n",
            "Epoch 32/100\n",
            "2/2 [==============================] - 0s 6ms/step - loss: 10.8302 - mse: 132.6101\n",
            "Epoch 33/100\n",
            "2/2 [==============================] - 0s 5ms/step - loss: 10.9136 - mse: 145.2503\n",
            "Epoch 34/100\n",
            "2/2 [==============================] - 0s 6ms/step - loss: 18.1576 - mse: 485.3973\n",
            "Epoch 35/100\n",
            "2/2 [==============================] - 0s 6ms/step - loss: 9.4338 - mse: 101.8184\n",
            "Epoch 36/100\n",
            "2/2 [==============================] - 0s 5ms/step - loss: 24.4154 - mse: 927.3187\n",
            "Epoch 37/100\n",
            "2/2 [==============================] - 0s 6ms/step - loss: 18.4106 - mse: 461.5360\n",
            "Epoch 38/100\n",
            "2/2 [==============================] - 0s 5ms/step - loss: 10.9383 - mse: 147.1330\n",
            "Epoch 39/100\n",
            "2/2 [==============================] - 0s 6ms/step - loss: 13.7858 - mse: 258.1373\n",
            "Epoch 40/100\n",
            "2/2 [==============================] - 0s 6ms/step - loss: 8.8045 - mse: 113.2750\n",
            "Epoch 41/100\n",
            "2/2 [==============================] - 0s 6ms/step - loss: 7.4322 - mse: 74.7762\n",
            "Epoch 42/100\n",
            "2/2 [==============================] - 0s 6ms/step - loss: 12.6254 - mse: 224.9285\n",
            "Epoch 43/100\n",
            "2/2 [==============================] - 0s 6ms/step - loss: 21.4082 - mse: 600.8672\n",
            "Epoch 44/100\n",
            "2/2 [==============================] - 0s 6ms/step - loss: 31.4967 - mse: 1522.6133\n",
            "Epoch 45/100\n",
            "2/2 [==============================] - 0s 7ms/step - loss: 12.6549 - mse: 236.1656\n",
            "Epoch 46/100\n",
            "2/2 [==============================] - 0s 6ms/step - loss: 7.1243 - mse: 74.6820\n",
            "Epoch 47/100\n",
            "2/2 [==============================] - 0s 6ms/step - loss: 15.4317 - mse: 322.3375\n",
            "Epoch 48/100\n",
            "2/2 [==============================] - 0s 6ms/step - loss: 18.1862 - mse: 470.2144\n",
            "Epoch 49/100\n",
            "2/2 [==============================] - 0s 6ms/step - loss: 11.4723 - mse: 198.8681\n",
            "Epoch 50/100\n",
            "2/2 [==============================] - 0s 5ms/step - loss: 15.0936 - mse: 298.1624\n",
            "Epoch 51/100\n",
            "2/2 [==============================] - 0s 6ms/step - loss: 27.1978 - mse: 1015.4473\n",
            "Epoch 52/100\n",
            "2/2 [==============================] - 0s 7ms/step - loss: 11.4671 - mse: 147.0006\n",
            "Epoch 53/100\n",
            "2/2 [==============================] - 0s 6ms/step - loss: 18.1078 - mse: 461.5497\n",
            "Epoch 54/100\n",
            "2/2 [==============================] - 0s 6ms/step - loss: 10.4805 - mse: 128.1434\n",
            "Epoch 55/100\n",
            "2/2 [==============================] - 0s 7ms/step - loss: 9.9226 - mse: 117.3238\n",
            "Epoch 56/100\n",
            "2/2 [==============================] - 0s 5ms/step - loss: 16.8076 - mse: 381.4034\n",
            "Epoch 57/100\n",
            "2/2 [==============================] - 0s 6ms/step - loss: 11.0213 - mse: 142.1447\n",
            "Epoch 58/100\n",
            "2/2 [==============================] - 0s 7ms/step - loss: 17.2647 - mse: 427.1979\n",
            "Epoch 59/100\n",
            "2/2 [==============================] - 0s 6ms/step - loss: 20.6969 - mse: 615.7705\n",
            "Epoch 60/100\n",
            "2/2 [==============================] - 0s 5ms/step - loss: 10.5743 - mse: 159.1647\n",
            "Epoch 61/100\n",
            "2/2 [==============================] - 0s 6ms/step - loss: 27.5513 - mse: 1152.3970\n",
            "Epoch 62/100\n",
            "2/2 [==============================] - 0s 6ms/step - loss: 15.3604 - mse: 359.6658\n",
            "Epoch 63/100\n",
            "2/2 [==============================] - 0s 6ms/step - loss: 17.1279 - mse: 407.4192\n",
            "Epoch 64/100\n",
            "2/2 [==============================] - 0s 6ms/step - loss: 13.9281 - mse: 267.9337\n",
            "Epoch 65/100\n",
            "2/2 [==============================] - 0s 6ms/step - loss: 17.6943 - mse: 461.4473\n",
            "Epoch 66/100\n",
            "2/2 [==============================] - 0s 6ms/step - loss: 14.1817 - mse: 280.4083\n",
            "Epoch 67/100\n",
            "2/2 [==============================] - 0s 6ms/step - loss: 24.1794 - mse: 853.5436\n",
            "Epoch 68/100\n",
            "2/2 [==============================] - 0s 6ms/step - loss: 12.6940 - mse: 239.2545\n",
            "Epoch 69/100\n",
            "2/2 [==============================] - 0s 5ms/step - loss: 12.7522 - mse: 211.2852\n",
            "Epoch 70/100\n",
            "2/2 [==============================] - 0s 6ms/step - loss: 24.0488 - mse: 880.7173\n",
            "Epoch 71/100\n",
            "2/2 [==============================] - 0s 6ms/step - loss: 11.6076 - mse: 211.5063\n",
            "Epoch 72/100\n",
            "2/2 [==============================] - 0s 6ms/step - loss: 16.6768 - mse: 394.4387\n",
            "Epoch 73/100\n",
            "2/2 [==============================] - 0s 12ms/step - loss: 31.4316 - mse: 1391.6407\n",
            "Epoch 74/100\n",
            "2/2 [==============================] - 0s 6ms/step - loss: 12.6536 - mse: 234.2074\n",
            "Epoch 75/100\n",
            "2/2 [==============================] - 0s 6ms/step - loss: 22.3012 - mse: 739.4642\n",
            "Epoch 76/100\n",
            "2/2 [==============================] - 0s 6ms/step - loss: 17.7725 - mse: 451.7978\n",
            "Epoch 77/100\n",
            "2/2 [==============================] - 0s 6ms/step - loss: 24.5252 - mse: 846.5213\n",
            "Epoch 78/100\n",
            "2/2 [==============================] - 0s 6ms/step - loss: 13.7606 - mse: 263.0198\n",
            "Epoch 79/100\n",
            "2/2 [==============================] - 0s 7ms/step - loss: 14.5271 - mse: 298.2778\n",
            "Epoch 80/100\n",
            "2/2 [==============================] - 0s 6ms/step - loss: 11.0768 - mse: 149.7315\n",
            "Epoch 81/100\n",
            "2/2 [==============================] - 0s 6ms/step - loss: 26.4327 - mse: 1075.9105\n",
            "Epoch 82/100\n",
            "2/2 [==============================] - 0s 6ms/step - loss: 8.8787 - mse: 84.8871\n",
            "Epoch 83/100\n",
            "2/2 [==============================] - 0s 6ms/step - loss: 15.4142 - mse: 323.9294\n",
            "Epoch 84/100\n",
            "2/2 [==============================] - 0s 7ms/step - loss: 10.8119 - mse: 149.6023\n",
            "Epoch 85/100\n",
            "2/2 [==============================] - 0s 8ms/step - loss: 16.4486 - mse: 391.0661\n",
            "Epoch 86/100\n",
            "2/2 [==============================] - 0s 6ms/step - loss: 13.4241 - mse: 268.8549\n",
            "Epoch 87/100\n",
            "2/2 [==============================] - 0s 6ms/step - loss: 10.0775 - mse: 119.7103\n",
            "Epoch 88/100\n",
            "2/2 [==============================] - 0s 7ms/step - loss: 18.9736 - mse: 522.3641\n",
            "Epoch 89/100\n",
            "2/2 [==============================] - 0s 10ms/step - loss: 11.2662 - mse: 212.5009\n",
            "Epoch 90/100\n",
            "2/2 [==============================] - 0s 6ms/step - loss: 19.0890 - mse: 532.9141\n",
            "Epoch 91/100\n",
            "2/2 [==============================] - 0s 7ms/step - loss: 17.0767 - mse: 408.9619\n",
            "Epoch 92/100\n",
            "2/2 [==============================] - 0s 7ms/step - loss: 9.5500 - mse: 116.9639\n",
            "Epoch 93/100\n",
            "2/2 [==============================] - 0s 6ms/step - loss: 19.2665 - mse: 552.0975\n",
            "Epoch 94/100\n",
            "2/2 [==============================] - 0s 6ms/step - loss: 11.6280 - mse: 163.9478\n",
            "Epoch 95/100\n",
            "2/2 [==============================] - 0s 7ms/step - loss: 12.5261 - mse: 223.5820\n",
            "Epoch 96/100\n",
            "2/2 [==============================] - 0s 6ms/step - loss: 7.7011 - mse: 84.5543\n",
            "Epoch 97/100\n",
            "2/2 [==============================] - 0s 6ms/step - loss: 16.4359 - mse: 345.9932\n",
            "Epoch 98/100\n",
            "2/2 [==============================] - 0s 6ms/step - loss: 18.8885 - mse: 477.7996\n",
            "Epoch 99/100\n",
            "2/2 [==============================] - 0s 6ms/step - loss: 15.6289 - mse: 331.0565\n",
            "Epoch 100/100\n",
            "2/2 [==============================] - 0s 6ms/step - loss: 16.0683 - mse: 360.5623\n"
          ]
        },
        {
          "output_type": "execute_result",
          "data": {
            "text/plain": [
              "<keras.callbacks.History at 0x7fbffcc7fc70>"
            ]
          },
          "metadata": {},
          "execution_count": 39
        }
      ]
    },
    {
      "cell_type": "code",
      "source": [
        "y_pred_2 = model_2.predict(X_test)\n",
        "y_pred_2"
      ],
      "metadata": {
        "colab": {
          "base_uri": "https://localhost:8080/"
        },
        "id": "6_ExBpiZMbfo",
        "outputId": "7cef8913-e173-4e04-8596-b2bd6b0f2937"
      },
      "execution_count": null,
      "outputs": [
        {
          "output_type": "stream",
          "name": "stderr",
          "text": [
            "WARNING:tensorflow:5 out of the last 5 calls to <function Model.make_predict_function.<locals>.predict_function at 0x7fbfffbb6310> triggered tf.function retracing. Tracing is expensive and the excessive number of tracings could be due to (1) creating @tf.function repeatedly in a loop, (2) passing tensors with different shapes, (3) passing Python objects instead of tensors. For (1), please define your @tf.function outside of the loop. For (2), @tf.function has reduce_retracing=True option that can avoid unnecessary retracing. For (3), please refer to https://www.tensorflow.org/guide/function#controlling_retracing and https://www.tensorflow.org/api_docs/python/tf/function for  more details.\n"
          ]
        },
        {
          "output_type": "stream",
          "name": "stdout",
          "text": [
            "1/1 [==============================] - 0s 38ms/step\n"
          ]
        },
        {
          "output_type": "execute_result",
          "data": {
            "text/plain": [
              "array([[20.560476],\n",
              "       [21.846802],\n",
              "       [23.13313 ],\n",
              "       [24.419456],\n",
              "       [25.705782],\n",
              "       [26.992107],\n",
              "       [28.278435],\n",
              "       [29.56476 ],\n",
              "       [30.851088],\n",
              "       [32.137417]], dtype=float32)"
            ]
          },
          "metadata": {},
          "execution_count": 40
        }
      ]
    },
    {
      "cell_type": "code",
      "source": [
        "plot_line(X_test, y_test, X_train, y_train, y_pred_2)"
      ],
      "metadata": {
        "colab": {
          "base_uri": "https://localhost:8080/",
          "height": 483
        },
        "id": "7ZW_G2OZNEH7",
        "outputId": "ccc5f86d-52d5-4b2f-d639-cd63e616d8a5"
      },
      "execution_count": null,
      "outputs": [
        {
          "output_type": "display_data",
          "data": {
            "text/plain": [
              "<Figure size 720x576 with 1 Axes>"
            ],
            "image/png": "[encoded data removed]"
          },
          "metadata": {
            "needs_background": "light"
          }
        }
      ]
    },
    {
      "cell_type": "code",
      "source": [
        "print(\"MAE_2:\",mae(y_test, y_pred_2),\"\\nMSE_2:\", mse(y_test, y_pred_2))"
      ],
      "metadata": {
        "colab": {
          "base_uri": "https://localhost:8080/"
        },
        "id": "ZFiqtIUsNvnd",
        "outputId": "ddd170dd-468a-4004-deef-7d162b0a3cc1"
      },
      "execution_count": null,
      "outputs": [
        {
          "output_type": "stream",
          "name": "stdout",
          "text": [
            "MAE_2: tf.Tensor(61.651054, shape=(), dtype=float32) \n",
            "MSE_2: tf.Tensor(3861.6055, shape=(), dtype=float32)\n"
          ]
        }
      ]
    },
    {
      "cell_type": "markdown",
      "source": [
        "## Model 3\n",
        "* 2 dense layer, 500 epochs"
      ],
      "metadata": {
        "id": "Aq6uYIcZPDw2"
      }
    },
    {
      "cell_type": "code",
      "source": [
        "tf.random.set_seed(42)\n",
        "\n",
        "model_3 = tf.keras.Sequential([\n",
        "    tf.keras.layers.Dense(10),\n",
        "    tf.keras.layers.Dense(1)\n",
        "])\n",
        "\n",
        "model_3.compile(loss= tf.keras.losses.mae,\n",
        "                optimizer = tf.keras.optimizers.SGD(),\n",
        "                metrics=['mse'])\n",
        "model_3.fit(X_train, y_train, epochs=500, verbose=1)"
      ],
      "metadata": {
        "colab": {
          "base_uri": "https://localhost:8080/"
        },
        "id": "pDBUqiv5PVws",
        "outputId": "019d6810-9bdd-49a0-a474-a4bc537eb9ba"
      },
      "execution_count": null,
      "outputs": [
        {
          "output_type": "stream",
          "name": "stdout",
          "text": [
            "Epoch 1/500\n",
            "2/2 [==============================] - 0s 7ms/step - loss: 27.4058 - mse: 1084.1481\n",
            "Epoch 2/500\n",
            "2/2 [==============================] - 0s 6ms/step - loss: 24.6339 - mse: 777.9203\n",
            "Epoch 3/500\n",
            "2/2 [==============================] - 0s 9ms/step - loss: 29.8935 - mse: 1334.8955\n",
            "Epoch 4/500\n",
            "2/2 [==============================] - 0s 7ms/step - loss: 27.4055 - mse: 1106.8035\n",
            "Epoch 5/500\n",
            "2/2 [==============================] - 0s 6ms/step - loss: 14.9463 - mse: 281.1077\n",
            "Epoch 6/500\n",
            "2/2 [==============================] - 0s 5ms/step - loss: 11.8819 - mse: 168.6621\n",
            "Epoch 7/500\n",
            "2/2 [==============================] - 0s 11ms/step - loss: 11.1988 - mse: 151.3508\n",
            "Epoch 8/500\n",
            "2/2 [==============================] - 0s 8ms/step - loss: 11.0910 - mse: 160.3745\n",
            "Epoch 9/500\n",
            "2/2 [==============================] - 0s 11ms/step - loss: 40.4763 - mse: 2586.0081\n",
            "Epoch 10/500\n",
            "2/2 [==============================] - 0s 5ms/step - loss: 27.8687 - mse: 1094.4379\n",
            "Epoch 11/500\n",
            "2/2 [==============================] - 0s 8ms/step - loss: 10.2473 - mse: 147.9359\n",
            "Epoch 12/500\n",
            "2/2 [==============================] - 0s 4ms/step - loss: 25.2803 - mse: 890.3866\n",
            "Epoch 13/500\n",
            "2/2 [==============================] - 0s 7ms/step - loss: 16.9897 - mse: 399.9679\n",
            "Epoch 14/500\n",
            "2/2 [==============================] - 0s 7ms/step - loss: 25.9217 - mse: 1049.5521\n",
            "Epoch 15/500\n",
            "2/2 [==============================] - 0s 6ms/step - loss: 17.9948 - mse: 450.2584\n",
            "Epoch 16/500\n",
            "2/2 [==============================] - 0s 12ms/step - loss: 7.3510 - mse: 80.6206\n",
            "Epoch 17/500\n",
            "2/2 [==============================] - 0s 6ms/step - loss: 10.8636 - mse: 174.7868\n",
            "Epoch 18/500\n",
            "2/2 [==============================] - 0s 6ms/step - loss: 19.5304 - mse: 565.8051\n",
            "Epoch 19/500\n",
            "2/2 [==============================] - 0s 9ms/step - loss: 10.3469 - mse: 167.7750\n",
            "Epoch 20/500\n",
            "2/2 [==============================] - 0s 7ms/step - loss: 17.6985 - mse: 455.7095\n",
            "Epoch 21/500\n",
            "2/2 [==============================] - 0s 6ms/step - loss: 15.8984 - mse: 347.1928\n",
            "Epoch 22/500\n",
            "2/2 [==============================] - 0s 5ms/step - loss: 14.1991 - mse: 285.1766\n",
            "Epoch 23/500\n",
            "2/2 [==============================] - 0s 7ms/step - loss: 8.7720 - mse: 91.7852\n",
            "Epoch 24/500\n",
            "2/2 [==============================] - 0s 5ms/step - loss: 11.0570 - mse: 153.7430\n",
            "Epoch 25/500\n",
            "2/2 [==============================] - 0s 5ms/step - loss: 12.6838 - mse: 233.2951\n",
            "Epoch 26/500\n",
            "2/2 [==============================] - 0s 5ms/step - loss: 26.1877 - mse: 1024.6096\n",
            "Epoch 27/500\n",
            "2/2 [==============================] - 0s 6ms/step - loss: 11.7432 - mse: 194.8454\n",
            "Epoch 28/500\n",
            "2/2 [==============================] - 0s 5ms/step - loss: 22.8730 - mse: 835.6074\n",
            "Epoch 29/500\n",
            "2/2 [==============================] - 0s 6ms/step - loss: 9.2459 - mse: 96.7786\n",
            "Epoch 30/500\n",
            "2/2 [==============================] - 0s 5ms/step - loss: 29.2641 - mse: 1535.1349\n",
            "Epoch 31/500\n",
            "2/2 [==============================] - 0s 9ms/step - loss: 53.0225 - mse: 5030.2974\n",
            "Epoch 32/500\n",
            "2/2 [==============================] - 0s 6ms/step - loss: 11.9951 - mse: 211.7024\n",
            "Epoch 33/500\n",
            "2/2 [==============================] - 0s 5ms/step - loss: 15.6357 - mse: 337.3665\n",
            "Epoch 34/500\n",
            "2/2 [==============================] - 0s 6ms/step - loss: 12.6925 - mse: 214.4822\n",
            "Epoch 35/500\n",
            "2/2 [==============================] - 0s 6ms/step - loss: 9.2398 - mse: 92.9126\n",
            "Epoch 36/500\n",
            "2/2 [==============================] - 0s 6ms/step - loss: 16.6497 - mse: 403.6570\n",
            "Epoch 37/500\n",
            "2/2 [==============================] - 0s 6ms/step - loss: 11.0382 - mse: 192.3919\n",
            "Epoch 38/500\n",
            "2/2 [==============================] - 0s 5ms/step - loss: 18.1634 - mse: 433.6718\n",
            "Epoch 39/500\n",
            "2/2 [==============================] - 0s 6ms/step - loss: 19.1013 - mse: 529.6441\n",
            "Epoch 40/500\n",
            "2/2 [==============================] - 0s 5ms/step - loss: 20.4324 - mse: 610.1327\n",
            "Epoch 41/500\n",
            "2/2 [==============================] - 0s 6ms/step - loss: 14.9102 - mse: 279.6181\n",
            "Epoch 42/500\n",
            "2/2 [==============================] - 0s 6ms/step - loss: 12.2809 - mse: 186.6179\n",
            "Epoch 43/500\n",
            "2/2 [==============================] - 0s 18ms/step - loss: 10.7333 - mse: 167.0951\n",
            "Epoch 44/500\n",
            "2/2 [==============================] - 0s 8ms/step - loss: 23.0260 - mse: 830.4236\n",
            "Epoch 45/500\n",
            "2/2 [==============================] - 0s 7ms/step - loss: 10.3897 - mse: 128.9549\n",
            "Epoch 46/500\n",
            "2/2 [==============================] - 0s 13ms/step - loss: 11.7904 - mse: 181.9210\n",
            "Epoch 47/500\n",
            "2/2 [==============================] - 0s 5ms/step - loss: 9.6438 - mse: 153.8708\n",
            "Epoch 48/500\n",
            "2/2 [==============================] - 0s 6ms/step - loss: 17.2335 - mse: 402.8497\n",
            "Epoch 49/500\n",
            "2/2 [==============================] - 0s 12ms/step - loss: 9.5729 - mse: 99.8336\n",
            "Epoch 50/500\n",
            "2/2 [==============================] - 0s 5ms/step - loss: 13.8185 - mse: 260.3668\n",
            "Epoch 51/500\n",
            "2/2 [==============================] - 0s 6ms/step - loss: 11.5958 - mse: 154.7956\n",
            "Epoch 52/500\n",
            "2/2 [==============================] - 0s 6ms/step - loss: 30.5538 - mse: 1613.0876\n",
            "Epoch 53/500\n",
            "2/2 [==============================] - 0s 6ms/step - loss: 14.3541 - mse: 302.5291\n",
            "Epoch 54/500\n",
            "2/2 [==============================] - 0s 5ms/step - loss: 23.9713 - mse: 859.3983\n",
            "Epoch 55/500\n",
            "2/2 [==============================] - 0s 6ms/step - loss: 23.1938 - mse: 805.5448\n",
            "Epoch 56/500\n",
            "2/2 [==============================] - 0s 6ms/step - loss: 10.8837 - mse: 170.9834\n",
            "Epoch 57/500\n",
            "2/2 [==============================] - 0s 5ms/step - loss: 12.7445 - mse: 198.7014\n",
            "Epoch 58/500\n",
            "2/2 [==============================] - 0s 5ms/step - loss: 9.5995 - mse: 102.5890\n",
            "Epoch 59/500\n",
            "2/2 [==============================] - 0s 6ms/step - loss: 12.5172 - mse: 216.3365\n",
            "Epoch 60/500\n",
            "2/2 [==============================] - 0s 5ms/step - loss: 12.3200 - mse: 208.6369\n",
            "Epoch 61/500\n",
            "2/2 [==============================] - 0s 6ms/step - loss: 17.4604 - mse: 428.6391\n",
            "Epoch 62/500\n",
            "2/2 [==============================] - 0s 5ms/step - loss: 10.6052 - mse: 136.9776\n",
            "Epoch 63/500\n",
            "2/2 [==============================] - 0s 6ms/step - loss: 10.4893 - mse: 152.4553\n",
            "Epoch 64/500\n",
            "2/2 [==============================] - 0s 6ms/step - loss: 24.8450 - mse: 911.7503\n",
            "Epoch 65/500\n",
            "2/2 [==============================] - 0s 6ms/step - loss: 10.6761 - mse: 142.7373\n",
            "Epoch 66/500\n",
            "2/2 [==============================] - 0s 4ms/step - loss: 21.7809 - mse: 704.4485\n",
            "Epoch 67/500\n",
            "2/2 [==============================] - 0s 5ms/step - loss: 10.7136 - mse: 136.0193\n",
            "Epoch 68/500\n",
            "2/2 [==============================] - 0s 9ms/step - loss: 10.6397 - mse: 149.2299\n",
            "Epoch 69/500\n",
            "2/2 [==============================] - 0s 5ms/step - loss: 22.6914 - mse: 742.1757\n",
            "Epoch 70/500\n",
            "2/2 [==============================] - 0s 5ms/step - loss: 9.3316 - mse: 166.1628\n",
            "Epoch 71/500\n",
            "2/2 [==============================] - 0s 10ms/step - loss: 15.4355 - mse: 323.0844\n",
            "Epoch 72/500\n",
            "2/2 [==============================] - 0s 7ms/step - loss: 6.7437 - mse: 67.0210\n",
            "Epoch 73/500\n",
            "2/2 [==============================] - 0s 7ms/step - loss: 11.6891 - mse: 183.7297\n",
            "Epoch 74/500\n",
            "2/2 [==============================] - 0s 5ms/step - loss: 24.0400 - mse: 908.8986\n",
            "Epoch 75/500\n",
            "2/2 [==============================] - 0s 5ms/step - loss: 9.5896 - mse: 149.3948\n",
            "Epoch 76/500\n",
            "2/2 [==============================] - 0s 4ms/step - loss: 12.4371 - mse: 188.3309\n",
            "Epoch 77/500\n",
            "2/2 [==============================] - 0s 5ms/step - loss: 16.6488 - mse: 429.2704\n",
            "Epoch 78/500\n",
            "2/2 [==============================] - 0s 5ms/step - loss: 9.0614 - mse: 95.4869\n",
            "Epoch 79/500\n",
            "2/2 [==============================] - 0s 6ms/step - loss: 23.9675 - mse: 864.0861\n",
            "Epoch 80/500\n",
            "2/2 [==============================] - 0s 5ms/step - loss: 26.7462 - mse: 1104.4027\n",
            "Epoch 81/500\n",
            "2/2 [==============================] - 0s 9ms/step - loss: 11.6714 - mse: 170.7055\n",
            "Epoch 82/500\n",
            "2/2 [==============================] - 0s 8ms/step - loss: 12.0228 - mse: 211.9191\n",
            "Epoch 83/500\n",
            "2/2 [==============================] - 0s 6ms/step - loss: 17.4218 - mse: 395.5589\n",
            "Epoch 84/500\n",
            "2/2 [==============================] - 0s 7ms/step - loss: 7.2629 - mse: 73.0935\n",
            "Epoch 85/500\n",
            "2/2 [==============================] - 0s 7ms/step - loss: 14.9650 - mse: 312.8361\n",
            "Epoch 86/500\n",
            "2/2 [==============================] - 0s 5ms/step - loss: 15.2862 - mse: 315.3605\n",
            "Epoch 87/500\n",
            "2/2 [==============================] - 0s 5ms/step - loss: 19.1086 - mse: 521.2533\n",
            "Epoch 88/500\n",
            "2/2 [==============================] - 0s 5ms/step - loss: 29.8229 - mse: 1287.1912\n",
            "Epoch 89/500\n",
            "2/2 [==============================] - 0s 8ms/step - loss: 10.1742 - mse: 124.1342\n",
            "Epoch 90/500\n",
            "2/2 [==============================] - 0s 24ms/step - loss: 21.5240 - mse: 663.8613\n",
            "Epoch 91/500\n",
            "2/2 [==============================] - 0s 6ms/step - loss: 10.5716 - mse: 161.7467\n",
            "Epoch 92/500\n",
            "2/2 [==============================] - 0s 6ms/step - loss: 18.3977 - mse: 464.1329\n",
            "Epoch 93/500\n",
            "2/2 [==============================] - 0s 7ms/step - loss: 7.4138 - mse: 81.9820\n",
            "Epoch 94/500\n",
            "2/2 [==============================] - 0s 5ms/step - loss: 17.7380 - mse: 445.7383\n",
            "Epoch 95/500\n",
            "2/2 [==============================] - 0s 7ms/step - loss: 11.1144 - mse: 164.0822\n",
            "Epoch 96/500\n",
            "2/2 [==============================] - 0s 7ms/step - loss: 19.4346 - mse: 510.5845\n",
            "Epoch 97/500\n",
            "2/2 [==============================] - 0s 7ms/step - loss: 12.1593 - mse: 209.9757\n",
            "Epoch 98/500\n",
            "2/2 [==============================] - 0s 5ms/step - loss: 11.5653 - mse: 169.4053\n",
            "Epoch 99/500\n",
            "2/2 [==============================] - 0s 15ms/step - loss: 13.8827 - mse: 265.4632\n",
            "Epoch 100/500\n",
            "2/2 [==============================] - 0s 6ms/step - loss: 20.2277 - mse: 608.8221\n",
            "Epoch 101/500\n",
            "2/2 [==============================] - 0s 6ms/step - loss: 11.4479 - mse: 177.1447\n",
            "Epoch 102/500\n",
            "2/2 [==============================] - 0s 6ms/step - loss: 17.4842 - mse: 426.5330\n",
            "Epoch 103/500\n",
            "2/2 [==============================] - 0s 8ms/step - loss: 7.0217 - mse: 65.2649\n",
            "Epoch 104/500\n",
            "2/2 [==============================] - 0s 6ms/step - loss: 23.5789 - mse: 757.4910\n",
            "Epoch 105/500\n",
            "2/2 [==============================] - 0s 6ms/step - loss: 16.8932 - mse: 443.0952\n",
            "Epoch 106/500\n",
            "2/2 [==============================] - 0s 6ms/step - loss: 9.2954 - mse: 144.6570\n",
            "Epoch 107/500\n",
            "2/2 [==============================] - 0s 6ms/step - loss: 25.3749 - mse: 934.2097\n",
            "Epoch 108/500\n",
            "2/2 [==============================] - 0s 6ms/step - loss: 13.4621 - mse: 269.8599\n",
            "Epoch 109/500\n",
            "2/2 [==============================] - 0s 7ms/step - loss: 9.5238 - mse: 108.7908\n",
            "Epoch 110/500\n",
            "2/2 [==============================] - 0s 6ms/step - loss: 9.6722 - mse: 128.8767\n",
            "Epoch 111/500\n",
            "2/2 [==============================] - 0s 6ms/step - loss: 14.5987 - mse: 295.9862\n",
            "Epoch 112/500\n",
            "2/2 [==============================] - 0s 6ms/step - loss: 9.5670 - mse: 123.4114\n",
            "Epoch 113/500\n",
            "2/2 [==============================] - 0s 6ms/step - loss: 17.8092 - mse: 460.3870\n",
            "Epoch 114/500\n",
            "2/2 [==============================] - 0s 6ms/step - loss: 17.1782 - mse: 441.2210\n",
            "Epoch 115/500\n",
            "2/2 [==============================] - 0s 6ms/step - loss: 11.1182 - mse: 155.0962\n",
            "Epoch 116/500\n",
            "2/2 [==============================] - 0s 6ms/step - loss: 23.3071 - mse: 791.7664\n",
            "Epoch 117/500\n",
            "2/2 [==============================] - 0s 6ms/step - loss: 9.6144 - mse: 126.1895\n",
            "Epoch 118/500\n",
            "2/2 [==============================] - 0s 6ms/step - loss: 10.6899 - mse: 140.2946\n",
            "Epoch 119/500\n",
            "2/2 [==============================] - 0s 6ms/step - loss: 8.0355 - mse: 78.3508\n",
            "Epoch 120/500\n",
            "2/2 [==============================] - 0s 6ms/step - loss: 29.6859 - mse: 1315.8655\n",
            "Epoch 121/500\n",
            "2/2 [==============================] - 0s 7ms/step - loss: 8.0714 - mse: 70.6648\n",
            "Epoch 122/500\n",
            "2/2 [==============================] - 0s 6ms/step - loss: 28.3086 - mse: 1233.3855\n",
            "Epoch 123/500\n",
            "2/2 [==============================] - 0s 6ms/step - loss: 32.9014 - mse: 1591.9512\n",
            "Epoch 124/500\n",
            "2/2 [==============================] - 0s 5ms/step - loss: 19.6291 - mse: 571.6962\n",
            "Epoch 125/500\n",
            "2/2 [==============================] - 0s 7ms/step - loss: 7.0095 - mse: 72.1091\n",
            "Epoch 126/500\n",
            "2/2 [==============================] - 0s 6ms/step - loss: 21.8056 - mse: 666.4343\n",
            "Epoch 127/500\n",
            "2/2 [==============================] - 0s 6ms/step - loss: 7.9812 - mse: 69.5627\n",
            "Epoch 128/500\n",
            "2/2 [==============================] - 0s 6ms/step - loss: 21.0585 - mse: 653.6490\n",
            "Epoch 129/500\n",
            "2/2 [==============================] - 0s 9ms/step - loss: 9.0107 - mse: 120.8763\n",
            "Epoch 130/500\n",
            "2/2 [==============================] - 0s 6ms/step - loss: 24.0502 - mse: 815.7745\n",
            "Epoch 131/500\n",
            "2/2 [==============================] - 0s 6ms/step - loss: 9.7537 - mse: 133.0194\n",
            "Epoch 132/500\n",
            "2/2 [==============================] - 0s 7ms/step - loss: 18.3052 - mse: 500.9215\n",
            "Epoch 133/500\n",
            "2/2 [==============================] - 0s 6ms/step - loss: 7.5833 - mse: 80.1913\n",
            "Epoch 134/500\n",
            "2/2 [==============================] - 0s 8ms/step - loss: 18.5755 - mse: 506.3340\n",
            "Epoch 135/500\n",
            "2/2 [==============================] - 0s 7ms/step - loss: 10.5360 - mse: 148.5977\n",
            "Epoch 136/500\n",
            "2/2 [==============================] - 0s 6ms/step - loss: 18.2694 - mse: 472.4460\n",
            "Epoch 137/500\n",
            "2/2 [==============================] - 0s 7ms/step - loss: 23.1658 - mse: 724.0378\n",
            "Epoch 138/500\n",
            "2/2 [==============================] - 0s 6ms/step - loss: 9.1362 - mse: 139.5299\n",
            "Epoch 139/500\n",
            "2/2 [==============================] - 0s 7ms/step - loss: 8.9181 - mse: 144.6080\n",
            "Epoch 140/500\n",
            "2/2 [==============================] - 0s 12ms/step - loss: 16.4732 - mse: 389.2469\n",
            "Epoch 141/500\n",
            "2/2 [==============================] - 0s 6ms/step - loss: 8.4208 - mse: 91.7412\n",
            "Epoch 142/500\n",
            "2/2 [==============================] - 0s 9ms/step - loss: 36.9540 - mse: 2404.8638\n",
            "Epoch 143/500\n",
            "2/2 [==============================] - 0s 7ms/step - loss: 25.5820 - mse: 927.2340\n",
            "Epoch 144/500\n",
            "2/2 [==============================] - 0s 17ms/step - loss: 9.5392 - mse: 144.3266\n",
            "Epoch 145/500\n",
            "2/2 [==============================] - 0s 8ms/step - loss: 26.6058 - mse: 957.1339\n",
            "Epoch 146/500\n",
            "2/2 [==============================] - 0s 17ms/step - loss: 8.7248 - mse: 109.2954\n",
            "Epoch 147/500\n",
            "2/2 [==============================] - 0s 10ms/step - loss: 15.6172 - mse: 311.2311\n",
            "Epoch 148/500\n",
            "2/2 [==============================] - 0s 8ms/step - loss: 18.3065 - mse: 464.7856\n",
            "Epoch 149/500\n",
            "2/2 [==============================] - 0s 9ms/step - loss: 8.1994 - mse: 106.4584\n",
            "Epoch 150/500\n",
            "2/2 [==============================] - 0s 6ms/step - loss: 7.4964 - mse: 66.4456\n",
            "Epoch 151/500\n",
            "2/2 [==============================] - 0s 5ms/step - loss: 18.3374 - mse: 485.9980\n",
            "Epoch 152/500\n",
            "2/2 [==============================] - 0s 6ms/step - loss: 10.2895 - mse: 130.5616\n",
            "Epoch 153/500\n",
            "2/2 [==============================] - 0s 14ms/step - loss: 29.6425 - mse: 1268.4626\n",
            "Epoch 154/500\n",
            "2/2 [==============================] - 0s 7ms/step - loss: 10.5556 - mse: 201.2334\n",
            "Epoch 155/500\n",
            "2/2 [==============================] - 0s 8ms/step - loss: 15.4537 - mse: 347.2171\n",
            "Epoch 156/500\n",
            "2/2 [==============================] - 0s 7ms/step - loss: 17.0174 - mse: 438.8495\n",
            "Epoch 157/500\n",
            "2/2 [==============================] - 0s 8ms/step - loss: 32.8217 - mse: 1744.8135\n",
            "Epoch 158/500\n",
            "2/2 [==============================] - 0s 7ms/step - loss: 10.7038 - mse: 151.0813\n",
            "Epoch 159/500\n",
            "2/2 [==============================] - 0s 14ms/step - loss: 8.9054 - mse: 97.7705\n",
            "Epoch 160/500\n",
            "2/2 [==============================] - 0s 7ms/step - loss: 22.1321 - mse: 709.4391\n",
            "Epoch 161/500\n",
            "2/2 [==============================] - 0s 10ms/step - loss: 11.7113 - mse: 202.9611\n",
            "Epoch 162/500\n",
            "2/2 [==============================] - 0s 8ms/step - loss: 21.5734 - mse: 670.2858\n",
            "Epoch 163/500\n",
            "2/2 [==============================] - 0s 10ms/step - loss: 19.2484 - mse: 533.4073\n",
            "Epoch 164/500\n",
            "2/2 [==============================] - 0s 8ms/step - loss: 11.0156 - mse: 177.6826\n",
            "Epoch 165/500\n",
            "2/2 [==============================] - 0s 13ms/step - loss: 9.6187 - mse: 179.8633\n",
            "Epoch 166/500\n",
            "2/2 [==============================] - 0s 7ms/step - loss: 21.5908 - mse: 681.9667\n",
            "Epoch 167/500\n",
            "2/2 [==============================] - 0s 19ms/step - loss: 26.2850 - mse: 1048.8445\n",
            "Epoch 168/500\n",
            "2/2 [==============================] - 0s 10ms/step - loss: 9.8525 - mse: 118.2891\n",
            "Epoch 169/500\n",
            "2/2 [==============================] - 0s 8ms/step - loss: 22.5630 - mse: 787.0587\n",
            "Epoch 170/500\n",
            "2/2 [==============================] - 0s 9ms/step - loss: 10.1499 - mse: 195.9051\n",
            "Epoch 171/500\n",
            "2/2 [==============================] - 0s 10ms/step - loss: 18.0464 - mse: 503.4533\n",
            "Epoch 172/500\n",
            "2/2 [==============================] - 0s 9ms/step - loss: 28.8377 - mse: 1305.7986\n",
            "Epoch 173/500\n",
            "2/2 [==============================] - 0s 6ms/step - loss: 16.5279 - mse: 432.1443\n",
            "Epoch 174/500\n",
            "2/2 [==============================] - 0s 5ms/step - loss: 11.2115 - mse: 199.9691\n",
            "Epoch 175/500\n",
            "2/2 [==============================] - 0s 13ms/step - loss: 27.5839 - mse: 1097.8187\n",
            "Epoch 176/500\n",
            "2/2 [==============================] - 0s 5ms/step - loss: 8.2680 - mse: 77.5372\n",
            "Epoch 177/500\n",
            "2/2 [==============================] - 0s 5ms/step - loss: 9.2580 - mse: 108.9075\n",
            "Epoch 178/500\n",
            "2/2 [==============================] - 0s 7ms/step - loss: 18.1440 - mse: 466.0510\n",
            "Epoch 179/500\n",
            "2/2 [==============================] - 0s 6ms/step - loss: 10.5995 - mse: 147.8544\n",
            "Epoch 180/500\n",
            "2/2 [==============================] - 0s 6ms/step - loss: 7.8992 - mse: 100.6933\n",
            "Epoch 181/500\n",
            "2/2 [==============================] - 0s 5ms/step - loss: 17.4015 - mse: 438.6032\n",
            "Epoch 182/500\n",
            "2/2 [==============================] - 0s 6ms/step - loss: 11.0089 - mse: 157.1595\n",
            "Epoch 183/500\n",
            "2/2 [==============================] - 0s 6ms/step - loss: 11.7027 - mse: 203.9955\n",
            "Epoch 184/500\n",
            "2/2 [==============================] - 0s 5ms/step - loss: 30.4062 - mse: 1387.3840\n",
            "Epoch 185/500\n",
            "2/2 [==============================] - 0s 10ms/step - loss: 7.5557 - mse: 98.6847\n",
            "Epoch 186/500\n",
            "2/2 [==============================] - 0s 9ms/step - loss: 15.9905 - mse: 369.3700\n",
            "Epoch 187/500\n",
            "2/2 [==============================] - 0s 6ms/step - loss: 8.5579 - mse: 85.4845\n",
            "Epoch 188/500\n",
            "2/2 [==============================] - 0s 6ms/step - loss: 28.7339 - mse: 1175.7059\n",
            "Epoch 189/500\n",
            "2/2 [==============================] - 0s 9ms/step - loss: 13.1689 - mse: 271.3447\n",
            "Epoch 190/500\n",
            "2/2 [==============================] - 0s 5ms/step - loss: 18.3101 - mse: 512.5546\n",
            "Epoch 191/500\n",
            "2/2 [==============================] - 0s 5ms/step - loss: 13.7376 - mse: 264.9675\n",
            "Epoch 192/500\n",
            "2/2 [==============================] - 0s 5ms/step - loss: 13.7104 - mse: 261.0631\n",
            "Epoch 193/500\n",
            "2/2 [==============================] - 0s 11ms/step - loss: 28.5842 - mse: 1135.1302\n",
            "Epoch 194/500\n",
            "2/2 [==============================] - 0s 7ms/step - loss: 7.0707 - mse: 78.6824\n",
            "Epoch 195/500\n",
            "2/2 [==============================] - 0s 5ms/step - loss: 7.0550 - mse: 74.9455\n",
            "Epoch 196/500\n",
            "2/2 [==============================] - 0s 14ms/step - loss: 22.0067 - mse: 709.4538\n",
            "Epoch 197/500\n",
            "2/2 [==============================] - 0s 7ms/step - loss: 20.8443 - mse: 643.6124\n",
            "Epoch 198/500\n",
            "2/2 [==============================] - 0s 13ms/step - loss: 12.4713 - mse: 236.5511\n",
            "Epoch 199/500\n",
            "2/2 [==============================] - 0s 8ms/step - loss: 17.9099 - mse: 460.3532\n",
            "Epoch 200/500\n",
            "2/2 [==============================] - 0s 8ms/step - loss: 13.7494 - mse: 282.2670\n",
            "Epoch 201/500\n",
            "2/2 [==============================] - 0s 7ms/step - loss: 5.4687 - mse: 41.0882\n",
            "Epoch 202/500\n",
            "2/2 [==============================] - 0s 7ms/step - loss: 13.7006 - mse: 293.8447\n",
            "Epoch 203/500\n",
            "2/2 [==============================] - 0s 5ms/step - loss: 9.4142 - mse: 139.9066\n",
            "Epoch 204/500\n",
            "2/2 [==============================] - 0s 7ms/step - loss: 20.9796 - mse: 656.2632\n",
            "Epoch 205/500\n",
            "2/2 [==============================] - 0s 4ms/step - loss: 9.5470 - mse: 127.9146\n",
            "Epoch 206/500\n",
            "2/2 [==============================] - 0s 19ms/step - loss: 11.7256 - mse: 195.6242\n",
            "Epoch 207/500\n",
            "2/2 [==============================] - 0s 24ms/step - loss: 14.3772 - mse: 317.1682\n",
            "Epoch 208/500\n",
            "2/2 [==============================] - 0s 7ms/step - loss: 14.8579 - mse: 323.1455\n",
            "Epoch 209/500\n",
            "2/2 [==============================] - 0s 15ms/step - loss: 14.9706 - mse: 345.7380\n",
            "Epoch 210/500\n",
            "2/2 [==============================] - 0s 9ms/step - loss: 17.8998 - mse: 467.4649\n",
            "Epoch 211/500\n",
            "2/2 [==============================] - 0s 10ms/step - loss: 9.8327 - mse: 145.8636\n",
            "Epoch 212/500\n",
            "2/2 [==============================] - 0s 9ms/step - loss: 18.3352 - mse: 507.7773\n",
            "Epoch 213/500\n",
            "2/2 [==============================] - 0s 10ms/step - loss: 15.0383 - mse: 307.6406\n",
            "Epoch 214/500\n",
            "2/2 [==============================] - 0s 8ms/step - loss: 14.5874 - mse: 293.5641\n",
            "Epoch 215/500\n",
            "2/2 [==============================] - 0s 17ms/step - loss: 23.3015 - mse: 799.4147\n",
            "Epoch 216/500\n",
            "2/2 [==============================] - 0s 9ms/step - loss: 13.3613 - mse: 278.0950\n",
            "Epoch 217/500\n",
            "2/2 [==============================] - 0s 7ms/step - loss: 9.8517 - mse: 136.3094\n",
            "Epoch 218/500\n",
            "2/2 [==============================] - 0s 6ms/step - loss: 12.5451 - mse: 206.5809\n",
            "Epoch 219/500\n",
            "2/2 [==============================] - 0s 6ms/step - loss: 4.9472 - mse: 37.4063\n",
            "Epoch 220/500\n",
            "2/2 [==============================] - 0s 11ms/step - loss: 7.1130 - mse: 57.5579\n",
            "Epoch 221/500\n",
            "2/2 [==============================] - 0s 11ms/step - loss: 35.4567 - mse: 2108.1030\n",
            "Epoch 222/500\n",
            "2/2 [==============================] - 0s 9ms/step - loss: 34.8634 - mse: 1966.9629\n",
            "Epoch 223/500\n",
            "2/2 [==============================] - 0s 19ms/step - loss: 7.9846 - mse: 119.7549\n",
            "Epoch 224/500\n",
            "2/2 [==============================] - 0s 9ms/step - loss: 14.7004 - mse: 318.5024\n",
            "Epoch 225/500\n",
            "2/2 [==============================] - 0s 8ms/step - loss: 16.7196 - mse: 360.6415\n",
            "Epoch 226/500\n",
            "2/2 [==============================] - 0s 8ms/step - loss: 15.9329 - mse: 369.8889\n",
            "Epoch 227/500\n",
            "2/2 [==============================] - 0s 13ms/step - loss: 16.1644 - mse: 369.5816\n",
            "Epoch 228/500\n",
            "2/2 [==============================] - 0s 12ms/step - loss: 13.9324 - mse: 282.1420\n",
            "Epoch 229/500\n",
            "2/2 [==============================] - 0s 10ms/step - loss: 18.0504 - mse: 457.4227\n",
            "Epoch 230/500\n",
            "2/2 [==============================] - 0s 15ms/step - loss: 15.6120 - mse: 314.6217\n",
            "Epoch 231/500\n",
            "2/2 [==============================] - 0s 6ms/step - loss: 21.2041 - mse: 670.7585\n",
            "Epoch 232/500\n",
            "2/2 [==============================] - 0s 5ms/step - loss: 25.2732 - mse: 913.5815\n",
            "Epoch 233/500\n",
            "2/2 [==============================] - 0s 9ms/step - loss: 16.3176 - mse: 387.7162\n",
            "Epoch 234/500\n",
            "2/2 [==============================] - 0s 5ms/step - loss: 7.2729 - mse: 66.5098\n",
            "Epoch 235/500\n",
            "2/2 [==============================] - 0s 5ms/step - loss: 16.9688 - mse: 403.1300\n",
            "Epoch 236/500\n",
            "2/2 [==============================] - 0s 17ms/step - loss: 7.1225 - mse: 69.7516\n",
            "Epoch 237/500\n",
            "2/2 [==============================] - 0s 6ms/step - loss: 9.2058 - mse: 118.9101\n",
            "Epoch 238/500\n",
            "2/2 [==============================] - 0s 6ms/step - loss: 8.0961 - mse: 86.7115\n",
            "Epoch 239/500\n",
            "2/2 [==============================] - 0s 19ms/step - loss: 17.0538 - mse: 438.0273\n",
            "Epoch 240/500\n",
            "2/2 [==============================] - 0s 5ms/step - loss: 8.8627 - mse: 107.8192\n",
            "Epoch 241/500\n",
            "2/2 [==============================] - 0s 11ms/step - loss: 13.1711 - mse: 273.2423\n",
            "Epoch 242/500\n",
            "2/2 [==============================] - 0s 8ms/step - loss: 8.7886 - mse: 104.8367\n",
            "Epoch 243/500\n",
            "2/2 [==============================] - 0s 24ms/step - loss: 18.8161 - mse: 541.4720\n",
            "Epoch 244/500\n",
            "2/2 [==============================] - 0s 14ms/step - loss: 14.0531 - mse: 275.3815\n",
            "Epoch 245/500\n",
            "2/2 [==============================] - 0s 23ms/step - loss: 14.6831 - mse: 290.1826\n",
            "Epoch 246/500\n",
            "2/2 [==============================] - 0s 5ms/step - loss: 15.8045 - mse: 370.7153\n",
            "Epoch 247/500\n",
            "2/2 [==============================] - 0s 6ms/step - loss: 17.6810 - mse: 421.4944\n",
            "Epoch 248/500\n",
            "2/2 [==============================] - 0s 12ms/step - loss: 13.2367 - mse: 251.7197\n",
            "Epoch 249/500\n",
            "2/2 [==============================] - 0s 6ms/step - loss: 14.5070 - mse: 288.7692\n",
            "Epoch 250/500\n",
            "2/2 [==============================] - 0s 21ms/step - loss: 23.2322 - mse: 793.2501\n",
            "Epoch 251/500\n",
            "2/2 [==============================] - 0s 6ms/step - loss: 9.3009 - mse: 119.0357\n",
            "Epoch 252/500\n",
            "2/2 [==============================] - 0s 16ms/step - loss: 36.6569 - mse: 2195.6199\n",
            "Epoch 253/500\n",
            "2/2 [==============================] - 0s 17ms/step - loss: 21.8205 - mse: 667.9635\n",
            "Epoch 254/500\n",
            "2/2 [==============================] - 0s 11ms/step - loss: 7.2792 - mse: 77.8093\n",
            "Epoch 255/500\n",
            "2/2 [==============================] - 0s 11ms/step - loss: 24.7127 - mse: 882.9673\n",
            "Epoch 256/500\n",
            "2/2 [==============================] - 0s 18ms/step - loss: 12.4220 - mse: 220.3517\n",
            "Epoch 257/500\n",
            "2/2 [==============================] - 0s 21ms/step - loss: 10.5823 - mse: 164.0441\n",
            "Epoch 258/500\n",
            "2/2 [==============================] - 0s 7ms/step - loss: 14.4883 - mse: 322.3513\n",
            "Epoch 259/500\n",
            "2/2 [==============================] - 0s 17ms/step - loss: 8.6132 - mse: 98.6933\n",
            "Epoch 260/500\n",
            "2/2 [==============================] - 0s 11ms/step - loss: 43.0580 - mse: 2975.2346\n",
            "Epoch 261/500\n",
            "2/2 [==============================] - 0s 7ms/step - loss: 18.4611 - mse: 493.6666\n",
            "Epoch 262/500\n",
            "2/2 [==============================] - 0s 7ms/step - loss: 6.8820 - mse: 94.3408\n",
            "Epoch 263/500\n",
            "2/2 [==============================] - 0s 7ms/step - loss: 13.7211 - mse: 268.5678\n",
            "Epoch 264/500\n",
            "2/2 [==============================] - 0s 6ms/step - loss: 21.0154 - mse: 653.9615\n",
            "Epoch 265/500\n",
            "2/2 [==============================] - 0s 6ms/step - loss: 19.3731 - mse: 545.6251\n",
            "Epoch 266/500\n",
            "2/2 [==============================] - 0s 6ms/step - loss: 11.4735 - mse: 234.7203\n",
            "Epoch 267/500\n",
            "2/2 [==============================] - 0s 7ms/step - loss: 7.5302 - mse: 112.0907\n",
            "Epoch 268/500\n",
            "2/2 [==============================] - 0s 7ms/step - loss: 21.6453 - mse: 670.2253\n",
            "Epoch 269/500\n",
            "2/2 [==============================] - 0s 6ms/step - loss: 33.1785 - mse: 1653.7371\n",
            "Epoch 270/500\n",
            "2/2 [==============================] - 0s 9ms/step - loss: 10.0833 - mse: 148.7352\n",
            "Epoch 271/500\n",
            "2/2 [==============================] - 0s 7ms/step - loss: 12.1012 - mse: 303.1725\n",
            "Epoch 272/500\n",
            "2/2 [==============================] - 0s 6ms/step - loss: 26.1372 - mse: 944.6779\n",
            "Epoch 273/500\n",
            "2/2 [==============================] - 0s 5ms/step - loss: 12.1751 - mse: 228.8032\n",
            "Epoch 274/500\n",
            "2/2 [==============================] - 0s 8ms/step - loss: 13.3272 - mse: 282.3033\n",
            "Epoch 275/500\n",
            "2/2 [==============================] - 0s 6ms/step - loss: 29.3775 - mse: 1229.1165\n",
            "Epoch 276/500\n",
            "2/2 [==============================] - 0s 6ms/step - loss: 7.3329 - mse: 104.3416\n",
            "Epoch 277/500\n",
            "2/2 [==============================] - 0s 6ms/step - loss: 31.1362 - mse: 1360.7682\n",
            "Epoch 278/500\n",
            "2/2 [==============================] - 0s 6ms/step - loss: 12.3015 - mse: 234.6619\n",
            "Epoch 279/500\n",
            "2/2 [==============================] - 0s 4ms/step - loss: 16.4103 - mse: 416.9115\n",
            "Epoch 280/500\n",
            "2/2 [==============================] - 0s 6ms/step - loss: 21.9118 - mse: 716.7845\n",
            "Epoch 281/500\n",
            "2/2 [==============================] - 0s 4ms/step - loss: 22.1500 - mse: 745.2057\n",
            "Epoch 282/500\n",
            "2/2 [==============================] - 0s 5ms/step - loss: 7.7429 - mse: 90.5224\n",
            "Epoch 283/500\n",
            "2/2 [==============================] - 0s 6ms/step - loss: 8.1429 - mse: 87.9050\n",
            "Epoch 284/500\n",
            "2/2 [==============================] - 0s 6ms/step - loss: 24.9435 - mse: 936.1600\n",
            "Epoch 285/500\n",
            "2/2 [==============================] - 0s 7ms/step - loss: 13.6958 - mse: 299.3612\n",
            "Epoch 286/500\n",
            "2/2 [==============================] - 0s 4ms/step - loss: 6.8926 - mse: 81.2998\n",
            "Epoch 287/500\n",
            "2/2 [==============================] - 0s 6ms/step - loss: 24.5352 - mse: 862.2881\n",
            "Epoch 288/500\n",
            "2/2 [==============================] - 0s 4ms/step - loss: 20.1721 - mse: 605.2872\n",
            "Epoch 289/500\n",
            "2/2 [==============================] - 0s 9ms/step - loss: 11.9658 - mse: 244.8306\n",
            "Epoch 290/500\n",
            "2/2 [==============================] - 0s 7ms/step - loss: 16.5391 - mse: 366.5719\n",
            "Epoch 291/500\n",
            "2/2 [==============================] - 0s 5ms/step - loss: 16.8017 - mse: 414.8176\n",
            "Epoch 292/500\n",
            "2/2 [==============================] - 0s 7ms/step - loss: 9.4642 - mse: 213.4544\n",
            "Epoch 293/500\n",
            "2/2 [==============================] - 0s 8ms/step - loss: 15.2711 - mse: 318.1684\n",
            "Epoch 294/500\n",
            "2/2 [==============================] - 0s 6ms/step - loss: 22.7179 - mse: 780.8712\n",
            "Epoch 295/500\n",
            "2/2 [==============================] - 0s 6ms/step - loss: 17.9234 - mse: 458.5734\n",
            "Epoch 296/500\n",
            "2/2 [==============================] - 0s 7ms/step - loss: 6.1743 - mse: 59.0634\n",
            "Epoch 297/500\n",
            "2/2 [==============================] - 0s 5ms/step - loss: 10.9440 - mse: 254.2861\n",
            "Epoch 298/500\n",
            "2/2 [==============================] - 0s 6ms/step - loss: 23.1530 - mse: 785.9867\n",
            "Epoch 299/500\n",
            "2/2 [==============================] - 0s 8ms/step - loss: 17.7331 - mse: 469.9269\n",
            "Epoch 300/500\n",
            "2/2 [==============================] - 0s 6ms/step - loss: 6.9824 - mse: 65.0503\n",
            "Epoch 301/500\n",
            "2/2 [==============================] - 0s 5ms/step - loss: 25.1857 - mse: 898.2787\n",
            "Epoch 302/500\n",
            "2/2 [==============================] - 0s 6ms/step - loss: 8.9025 - mse: 116.0077\n",
            "Epoch 303/500\n",
            "2/2 [==============================] - 0s 10ms/step - loss: 17.7668 - mse: 461.9372\n",
            "Epoch 304/500\n",
            "2/2 [==============================] - 0s 6ms/step - loss: 11.0002 - mse: 173.9248\n",
            "Epoch 305/500\n",
            "2/2 [==============================] - 0s 8ms/step - loss: 12.9191 - mse: 271.8381\n",
            "Epoch 306/500\n",
            "2/2 [==============================] - 0s 7ms/step - loss: 8.4033 - mse: 94.4444\n",
            "Epoch 307/500\n",
            "2/2 [==============================] - 0s 6ms/step - loss: 13.6094 - mse: 279.1172\n",
            "Epoch 308/500\n",
            "2/2 [==============================] - 0s 6ms/step - loss: 7.4404 - mse: 78.3839\n",
            "Epoch 309/500\n",
            "2/2 [==============================] - 0s 6ms/step - loss: 9.4642 - mse: 138.8857\n",
            "Epoch 310/500\n",
            "2/2 [==============================] - 0s 6ms/step - loss: 10.7099 - mse: 198.2186\n",
            "Epoch 311/500\n",
            "2/2 [==============================] - 0s 6ms/step - loss: 13.2814 - mse: 254.2447\n",
            "Epoch 312/500\n",
            "2/2 [==============================] - 0s 7ms/step - loss: 29.9763 - mse: 1241.6274\n",
            "Epoch 313/500\n",
            "2/2 [==============================] - 0s 4ms/step - loss: 7.6304 - mse: 104.4100\n",
            "Epoch 314/500\n",
            "2/2 [==============================] - 0s 4ms/step - loss: 9.9106 - mse: 239.5555\n",
            "Epoch 315/500\n",
            "2/2 [==============================] - 0s 6ms/step - loss: 23.7669 - mse: 820.7438\n",
            "Epoch 316/500\n",
            "2/2 [==============================] - 0s 5ms/step - loss: 16.3936 - mse: 404.4794\n",
            "Epoch 317/500\n",
            "2/2 [==============================] - 0s 8ms/step - loss: 21.0758 - mse: 606.4601\n",
            "Epoch 318/500\n",
            "2/2 [==============================] - 0s 5ms/step - loss: 7.9367 - mse: 81.3764\n",
            "Epoch 319/500\n",
            "2/2 [==============================] - 0s 5ms/step - loss: 17.9731 - mse: 479.6088\n",
            "Epoch 320/500\n",
            "2/2 [==============================] - 0s 14ms/step - loss: 10.2375 - mse: 174.0453\n",
            "Epoch 321/500\n",
            "2/2 [==============================] - 0s 7ms/step - loss: 8.3338 - mse: 110.8493\n",
            "Epoch 322/500\n",
            "2/2 [==============================] - 0s 7ms/step - loss: 5.0621 - mse: 39.6195\n",
            "Epoch 323/500\n",
            "2/2 [==============================] - 0s 7ms/step - loss: 23.5109 - mse: 802.4886\n",
            "Epoch 324/500\n",
            "2/2 [==============================] - 0s 5ms/step - loss: 6.8309 - mse: 57.6745\n",
            "Epoch 325/500\n",
            "2/2 [==============================] - 0s 4ms/step - loss: 16.3862 - mse: 384.4402\n",
            "Epoch 326/500\n",
            "2/2 [==============================] - 0s 4ms/step - loss: 7.5019 - mse: 78.7650\n",
            "Epoch 327/500\n",
            "2/2 [==============================] - 0s 4ms/step - loss: 20.0573 - mse: 568.8234\n",
            "Epoch 328/500\n",
            "2/2 [==============================] - 0s 7ms/step - loss: 13.7661 - mse: 265.8647\n",
            "Epoch 329/500\n",
            "2/2 [==============================] - 0s 5ms/step - loss: 16.8282 - mse: 430.9922\n",
            "Epoch 330/500\n",
            "2/2 [==============================] - 0s 4ms/step - loss: 7.0514 - mse: 81.9922\n",
            "Epoch 331/500\n",
            "2/2 [==============================] - 0s 5ms/step - loss: 21.4846 - mse: 704.3914\n",
            "Epoch 332/500\n",
            "2/2 [==============================] - 0s 5ms/step - loss: 12.2880 - mse: 236.5700\n",
            "Epoch 333/500\n",
            "2/2 [==============================] - 0s 6ms/step - loss: 11.8117 - mse: 222.0919\n",
            "Epoch 334/500\n",
            "2/2 [==============================] - 0s 5ms/step - loss: 8.3600 - mse: 169.8893\n",
            "Epoch 335/500\n",
            "2/2 [==============================] - 0s 5ms/step - loss: 12.4833 - mse: 276.8588\n",
            "Epoch 336/500\n",
            "2/2 [==============================] - 0s 6ms/step - loss: 32.2171 - mse: 1416.1729\n",
            "Epoch 337/500\n",
            "2/2 [==============================] - 0s 5ms/step - loss: 10.4477 - mse: 180.3260\n",
            "Epoch 338/500\n",
            "2/2 [==============================] - 0s 5ms/step - loss: 19.6832 - mse: 573.4711\n",
            "Epoch 339/500\n",
            "2/2 [==============================] - 0s 6ms/step - loss: 35.0762 - mse: 1849.1533\n",
            "Epoch 340/500\n",
            "2/2 [==============================] - 0s 5ms/step - loss: 10.4192 - mse: 181.4144\n",
            "Epoch 341/500\n",
            "2/2 [==============================] - 0s 5ms/step - loss: 9.7625 - mse: 156.3228\n",
            "Epoch 342/500\n",
            "2/2 [==============================] - 0s 4ms/step - loss: 11.9500 - mse: 188.5579\n",
            "Epoch 343/500\n",
            "2/2 [==============================] - 0s 5ms/step - loss: 9.3943 - mse: 145.3950\n",
            "Epoch 344/500\n",
            "2/2 [==============================] - 0s 4ms/step - loss: 5.6071 - mse: 44.6761\n",
            "Epoch 345/500\n",
            "2/2 [==============================] - 0s 5ms/step - loss: 37.4875 - mse: 2291.7778\n",
            "Epoch 346/500\n",
            "2/2 [==============================] - 0s 5ms/step - loss: 16.8830 - mse: 411.1349\n",
            "Epoch 347/500\n",
            "2/2 [==============================] - 0s 5ms/step - loss: 12.8748 - mse: 281.5981\n",
            "Epoch 348/500\n",
            "2/2 [==============================] - 0s 5ms/step - loss: 8.1960 - mse: 162.6962\n",
            "Epoch 349/500\n",
            "2/2 [==============================] - 0s 9ms/step - loss: 13.5568 - mse: 261.1368\n",
            "Epoch 350/500\n",
            "2/2 [==============================] - 0s 5ms/step - loss: 15.4354 - mse: 333.2083\n",
            "Epoch 351/500\n",
            "2/2 [==============================] - 0s 5ms/step - loss: 32.9626 - mse: 1524.7935\n",
            "Epoch 352/500\n",
            "2/2 [==============================] - 0s 5ms/step - loss: 14.2040 - mse: 282.7507\n",
            "Epoch 353/500\n",
            "2/2 [==============================] - 0s 5ms/step - loss: 15.9196 - mse: 374.1917\n",
            "Epoch 354/500\n",
            "2/2 [==============================] - 0s 5ms/step - loss: 19.0878 - mse: 534.9773\n",
            "Epoch 355/500\n",
            "2/2 [==============================] - 0s 7ms/step - loss: 34.1178 - mse: 1782.7012\n",
            "Epoch 356/500\n",
            "2/2 [==============================] - 0s 5ms/step - loss: 7.6798 - mse: 90.9117\n",
            "Epoch 357/500\n",
            "2/2 [==============================] - 0s 5ms/step - loss: 25.2286 - mse: 974.0941\n",
            "Epoch 358/500\n",
            "2/2 [==============================] - 0s 5ms/step - loss: 22.6759 - mse: 742.0934\n",
            "Epoch 359/500\n",
            "2/2 [==============================] - 0s 5ms/step - loss: 8.8765 - mse: 198.2590\n",
            "Epoch 360/500\n",
            "2/2 [==============================] - 0s 5ms/step - loss: 21.4709 - mse: 687.3279\n",
            "Epoch 361/500\n",
            "2/2 [==============================] - 0s 6ms/step - loss: 20.6073 - mse: 616.7941\n",
            "Epoch 362/500\n",
            "2/2 [==============================] - 0s 11ms/step - loss: 7.0611 - mse: 69.3817\n",
            "Epoch 363/500\n",
            "2/2 [==============================] - 0s 5ms/step - loss: 25.8117 - mse: 994.8185\n",
            "Epoch 364/500\n",
            "2/2 [==============================] - 0s 6ms/step - loss: 32.2247 - mse: 1527.6057\n",
            "Epoch 365/500\n",
            "2/2 [==============================] - 0s 6ms/step - loss: 10.0204 - mse: 161.6847\n",
            "Epoch 366/500\n",
            "2/2 [==============================] - 0s 6ms/step - loss: 9.6722 - mse: 227.5722\n",
            "Epoch 367/500\n",
            "2/2 [==============================] - 0s 10ms/step - loss: 30.4171 - mse: 1294.6047\n",
            "Epoch 368/500\n",
            "2/2 [==============================] - 0s 7ms/step - loss: 10.5020 - mse: 236.3134\n",
            "Epoch 369/500\n",
            "2/2 [==============================] - 0s 5ms/step - loss: 14.9909 - mse: 330.8544\n",
            "Epoch 370/500\n",
            "2/2 [==============================] - 0s 9ms/step - loss: 14.6580 - mse: 308.0736\n",
            "Epoch 371/500\n",
            "2/2 [==============================] - 0s 5ms/step - loss: 23.3672 - mse: 789.0358\n",
            "Epoch 372/500\n",
            "2/2 [==============================] - 0s 5ms/step - loss: 13.1025 - mse: 290.2267\n",
            "Epoch 373/500\n",
            "2/2 [==============================] - 0s 7ms/step - loss: 9.2586 - mse: 140.7051\n",
            "Epoch 374/500\n",
            "2/2 [==============================] - 0s 5ms/step - loss: 9.6648 - mse: 194.1146\n",
            "Epoch 375/500\n",
            "2/2 [==============================] - 0s 8ms/step - loss: 13.0041 - mse: 237.9868\n",
            "Epoch 376/500\n",
            "2/2 [==============================] - 0s 4ms/step - loss: 14.8863 - mse: 324.7538\n",
            "Epoch 377/500\n",
            "2/2 [==============================] - 0s 6ms/step - loss: 14.7932 - mse: 297.2056\n",
            "Epoch 378/500\n",
            "2/2 [==============================] - 0s 5ms/step - loss: 16.2751 - mse: 418.5635\n",
            "Epoch 379/500\n",
            "2/2 [==============================] - 0s 6ms/step - loss: 20.8307 - mse: 596.8136\n",
            "Epoch 380/500\n",
            "2/2 [==============================] - 0s 5ms/step - loss: 33.5317 - mse: 1684.8926\n",
            "Epoch 381/500\n",
            "2/2 [==============================] - 0s 5ms/step - loss: 8.2166 - mse: 100.6384\n",
            "Epoch 382/500\n",
            "2/2 [==============================] - 0s 5ms/step - loss: 13.0959 - mse: 282.0380\n",
            "Epoch 383/500\n",
            "2/2 [==============================] - 0s 5ms/step - loss: 8.3999 - mse: 126.0928\n",
            "Epoch 384/500\n",
            "2/2 [==============================] - 0s 5ms/step - loss: 7.1283 - mse: 72.4398\n",
            "Epoch 385/500\n",
            "2/2 [==============================] - 0s 5ms/step - loss: 10.9391 - mse: 249.4375\n",
            "Epoch 386/500\n",
            "2/2 [==============================] - 0s 10ms/step - loss: 19.7654 - mse: 601.5797\n",
            "Epoch 387/500\n",
            "2/2 [==============================] - 0s 5ms/step - loss: 24.8625 - mse: 896.3683\n",
            "Epoch 388/500\n",
            "2/2 [==============================] - 0s 5ms/step - loss: 8.7422 - mse: 128.0916\n",
            "Epoch 389/500\n",
            "2/2 [==============================] - 0s 5ms/step - loss: 5.9488 - mse: 48.1567\n",
            "Epoch 390/500\n",
            "2/2 [==============================] - 0s 4ms/step - loss: 24.4400 - mse: 881.1030\n",
            "Epoch 391/500\n",
            "2/2 [==============================] - 0s 5ms/step - loss: 5.9771 - mse: 73.2800\n",
            "Epoch 392/500\n",
            "2/2 [==============================] - 0s 73ms/step - loss: 16.3250 - mse: 379.2589\n",
            "Epoch 393/500\n",
            "2/2 [==============================] - 0s 5ms/step - loss: 6.0917 - mse: 76.7833\n",
            "Epoch 394/500\n",
            "2/2 [==============================] - 0s 5ms/step - loss: 11.0963 - mse: 204.7648\n",
            "Epoch 395/500\n",
            "2/2 [==============================] - 0s 8ms/step - loss: 14.9601 - mse: 336.1562\n",
            "Epoch 396/500\n",
            "2/2 [==============================] - 0s 5ms/step - loss: 7.6462 - mse: 103.3247\n",
            "Epoch 397/500\n",
            "2/2 [==============================] - 0s 7ms/step - loss: 8.7654 - mse: 136.5432\n",
            "Epoch 398/500\n",
            "2/2 [==============================] - 0s 4ms/step - loss: 14.5991 - mse: 320.4533\n",
            "Epoch 399/500\n",
            "2/2 [==============================] - 0s 5ms/step - loss: 11.3166 - mse: 280.6887\n",
            "Epoch 400/500\n",
            "2/2 [==============================] - 0s 8ms/step - loss: 21.9080 - mse: 741.3465\n",
            "Epoch 401/500\n",
            "2/2 [==============================] - 0s 5ms/step - loss: 14.8653 - mse: 348.6716\n",
            "Epoch 402/500\n",
            "2/2 [==============================] - 0s 4ms/step - loss: 8.4970 - mse: 115.5853\n",
            "Epoch 403/500\n",
            "2/2 [==============================] - 0s 8ms/step - loss: 10.3957 - mse: 191.0401\n",
            "Epoch 404/500\n",
            "2/2 [==============================] - 0s 4ms/step - loss: 10.2556 - mse: 207.5717\n",
            "Epoch 405/500\n",
            "2/2 [==============================] - 0s 7ms/step - loss: 6.3392 - mse: 68.2857\n",
            "Epoch 406/500\n",
            "2/2 [==============================] - 0s 5ms/step - loss: 17.4602 - mse: 460.2043\n",
            "Epoch 407/500\n",
            "2/2 [==============================] - 0s 9ms/step - loss: 11.4627 - mse: 284.7275\n",
            "Epoch 408/500\n",
            "2/2 [==============================] - 0s 5ms/step - loss: 20.7294 - mse: 662.1503\n",
            "Epoch 409/500\n",
            "2/2 [==============================] - 0s 5ms/step - loss: 31.3338 - mse: 1522.7665\n",
            "Epoch 410/500\n",
            "2/2 [==============================] - 0s 5ms/step - loss: 9.2542 - mse: 221.9485\n",
            "Epoch 411/500\n",
            "2/2 [==============================] - 0s 7ms/step - loss: 14.8621 - mse: 285.8416\n",
            "Epoch 412/500\n",
            "2/2 [==============================] - 0s 7ms/step - loss: 21.7182 - mse: 721.0394\n",
            "Epoch 413/500\n",
            "2/2 [==============================] - 0s 5ms/step - loss: 12.6615 - mse: 248.9691\n",
            "Epoch 414/500\n",
            "2/2 [==============================] - 0s 4ms/step - loss: 6.0687 - mse: 88.3708\n",
            "Epoch 415/500\n",
            "2/2 [==============================] - 0s 5ms/step - loss: 13.2201 - mse: 239.8954\n",
            "Epoch 416/500\n",
            "2/2 [==============================] - 0s 5ms/step - loss: 27.4244 - mse: 1037.9583\n",
            "Epoch 417/500\n",
            "2/2 [==============================] - 0s 5ms/step - loss: 10.6407 - mse: 207.4819\n",
            "Epoch 418/500\n",
            "2/2 [==============================] - 0s 8ms/step - loss: 12.8230 - mse: 236.7907\n",
            "Epoch 419/500\n",
            "2/2 [==============================] - 0s 5ms/step - loss: 15.8836 - mse: 374.5484\n",
            "Epoch 420/500\n",
            "2/2 [==============================] - 0s 4ms/step - loss: 24.7510 - mse: 849.5331\n",
            "Epoch 421/500\n",
            "2/2 [==============================] - 0s 6ms/step - loss: 17.3753 - mse: 444.1827\n",
            "Epoch 422/500\n",
            "2/2 [==============================] - 0s 6ms/step - loss: 7.8241 - mse: 157.5327\n",
            "Epoch 423/500\n",
            "2/2 [==============================] - 0s 4ms/step - loss: 25.3789 - mse: 907.6141\n",
            "Epoch 424/500\n",
            "2/2 [==============================] - 0s 5ms/step - loss: 15.1031 - mse: 369.3289\n",
            "Epoch 425/500\n",
            "2/2 [==============================] - 0s 4ms/step - loss: 7.1643 - mse: 75.3718\n",
            "Epoch 426/500\n",
            "2/2 [==============================] - 0s 8ms/step - loss: 20.3318 - mse: 572.0350\n",
            "Epoch 427/500\n",
            "2/2 [==============================] - 0s 7ms/step - loss: 6.3283 - mse: 84.9745\n",
            "Epoch 428/500\n",
            "2/2 [==============================] - 0s 10ms/step - loss: 12.9961 - mse: 288.4218\n",
            "Epoch 429/500\n",
            "2/2 [==============================] - 0s 6ms/step - loss: 10.7869 - mse: 192.7742\n",
            "Epoch 430/500\n",
            "2/2 [==============================] - 0s 7ms/step - loss: 11.4007 - mse: 248.2724\n",
            "Epoch 431/500\n",
            "2/2 [==============================] - 0s 6ms/step - loss: 10.6152 - mse: 218.3398\n",
            "Epoch 432/500\n",
            "2/2 [==============================] - 0s 6ms/step - loss: 11.4582 - mse: 239.2198\n",
            "Epoch 433/500\n",
            "2/2 [==============================] - 0s 5ms/step - loss: 11.3851 - mse: 296.6782\n",
            "Epoch 434/500\n",
            "2/2 [==============================] - 0s 5ms/step - loss: 30.3986 - mse: 1296.5632\n",
            "Epoch 435/500\n",
            "2/2 [==============================] - 0s 6ms/step - loss: 10.5052 - mse: 283.6812\n",
            "Epoch 436/500\n",
            "2/2 [==============================] - 0s 6ms/step - loss: 28.8810 - mse: 1216.2338\n",
            "Epoch 437/500\n",
            "2/2 [==============================] - 0s 5ms/step - loss: 8.5916 - mse: 209.5433\n",
            "Epoch 438/500\n",
            "2/2 [==============================] - 0s 6ms/step - loss: 12.7378 - mse: 264.4511\n",
            "Epoch 439/500\n",
            "2/2 [==============================] - 0s 7ms/step - loss: 33.6754 - mse: 1570.2360\n",
            "Epoch 440/500\n",
            "2/2 [==============================] - 0s 6ms/step - loss: 15.0963 - mse: 294.7131\n",
            "Epoch 441/500\n",
            "2/2 [==============================] - 0s 6ms/step - loss: 17.4813 - mse: 487.0571\n",
            "Epoch 442/500\n",
            "2/2 [==============================] - 0s 5ms/step - loss: 22.3049 - mse: 750.9304\n",
            "Epoch 443/500\n",
            "2/2 [==============================] - 0s 4ms/step - loss: 23.5841 - mse: 784.1384\n",
            "Epoch 444/500\n",
            "2/2 [==============================] - 0s 4ms/step - loss: 11.0008 - mse: 203.7584\n",
            "Epoch 445/500\n",
            "2/2 [==============================] - 0s 5ms/step - loss: 14.9175 - mse: 316.4789\n",
            "Epoch 446/500\n",
            "2/2 [==============================] - 0s 6ms/step - loss: 17.9979 - mse: 515.1711\n",
            "Epoch 447/500\n",
            "2/2 [==============================] - 0s 5ms/step - loss: 5.4482 - mse: 51.4485\n",
            "Epoch 448/500\n",
            "2/2 [==============================] - 0s 5ms/step - loss: 10.0527 - mse: 253.4829\n",
            "Epoch 449/500\n",
            "2/2 [==============================] - 0s 4ms/step - loss: 14.0052 - mse: 277.3353\n",
            "Epoch 450/500\n",
            "2/2 [==============================] - 0s 5ms/step - loss: 16.7782 - mse: 424.4228\n",
            "Epoch 451/500\n",
            "2/2 [==============================] - 0s 5ms/step - loss: 14.2937 - mse: 303.4477\n",
            "Epoch 452/500\n",
            "2/2 [==============================] - 0s 9ms/step - loss: 30.6193 - mse: 1329.8265\n",
            "Epoch 453/500\n",
            "2/2 [==============================] - 0s 5ms/step - loss: 7.6541 - mse: 159.0377\n",
            "Epoch 454/500\n",
            "2/2 [==============================] - 0s 5ms/step - loss: 28.1428 - mse: 1104.4141\n",
            "Epoch 455/500\n",
            "2/2 [==============================] - 0s 5ms/step - loss: 8.0017 - mse: 119.3275\n",
            "Epoch 456/500\n",
            "2/2 [==============================] - 0s 5ms/step - loss: 10.3933 - mse: 289.6392\n",
            "Epoch 457/500\n",
            "2/2 [==============================] - 0s 5ms/step - loss: 15.0242 - mse: 318.3535\n",
            "Epoch 458/500\n",
            "2/2 [==============================] - 0s 5ms/step - loss: 16.5653 - mse: 439.8006\n",
            "Epoch 459/500\n",
            "2/2 [==============================] - 0s 5ms/step - loss: 26.8566 - mse: 1033.5485\n",
            "Epoch 460/500\n",
            "2/2 [==============================] - 0s 5ms/step - loss: 12.4852 - mse: 251.1162\n",
            "Epoch 461/500\n",
            "2/2 [==============================] - 0s 5ms/step - loss: 12.4784 - mse: 272.9072\n",
            "Epoch 462/500\n",
            "2/2 [==============================] - 0s 5ms/step - loss: 13.3186 - mse: 245.2334\n",
            "Epoch 463/500\n",
            "2/2 [==============================] - 0s 4ms/step - loss: 29.5524 - mse: 1219.8658\n",
            "Epoch 464/500\n",
            "2/2 [==============================] - 0s 5ms/step - loss: 3.4664 - mse: 22.0145\n",
            "Epoch 465/500\n",
            "2/2 [==============================] - 0s 5ms/step - loss: 15.2136 - mse: 352.9367\n",
            "Epoch 466/500\n",
            "2/2 [==============================] - 0s 4ms/step - loss: 20.8327 - mse: 651.1591\n",
            "Epoch 467/500\n",
            "2/2 [==============================] - 0s 5ms/step - loss: 30.5108 - mse: 1421.0021\n",
            "Epoch 468/500\n",
            "2/2 [==============================] - 0s 5ms/step - loss: 11.0597 - mse: 236.2267\n",
            "Epoch 469/500\n",
            "2/2 [==============================] - 0s 5ms/step - loss: 12.8372 - mse: 278.2046\n",
            "Epoch 470/500\n",
            "2/2 [==============================] - 0s 5ms/step - loss: 3.2398 - mse: 14.0655\n",
            "Epoch 471/500\n",
            "2/2 [==============================] - 0s 5ms/step - loss: 16.6964 - mse: 372.9565\n",
            "Epoch 472/500\n",
            "2/2 [==============================] - 0s 5ms/step - loss: 13.3883 - mse: 253.4232\n",
            "Epoch 473/500\n",
            "2/2 [==============================] - 0s 4ms/step - loss: 15.2771 - mse: 396.6107\n",
            "Epoch 474/500\n",
            "2/2 [==============================] - 0s 5ms/step - loss: 11.7448 - mse: 305.3250\n",
            "Epoch 475/500\n",
            "2/2 [==============================] - 0s 4ms/step - loss: 16.4113 - mse: 397.1612\n",
            "Epoch 476/500\n",
            "2/2 [==============================] - 0s 5ms/step - loss: 13.8785 - mse: 273.7976\n",
            "Epoch 477/500\n",
            "2/2 [==============================] - 0s 5ms/step - loss: 30.6702 - mse: 1309.4624\n",
            "Epoch 478/500\n",
            "2/2 [==============================] - 0s 5ms/step - loss: 8.5880 - mse: 188.9073\n",
            "Epoch 479/500\n",
            "2/2 [==============================] - 0s 4ms/step - loss: 10.7384 - mse: 261.5204\n",
            "Epoch 480/500\n",
            "2/2 [==============================] - 0s 5ms/step - loss: 17.9051 - mse: 484.4154\n",
            "Epoch 481/500\n",
            "2/2 [==============================] - 0s 4ms/step - loss: 15.8095 - mse: 368.1044\n",
            "Epoch 482/500\n",
            "2/2 [==============================] - 0s 5ms/step - loss: 21.3054 - mse: 698.1635\n",
            "Epoch 483/500\n",
            "2/2 [==============================] - 0s 8ms/step - loss: 25.3845 - mse: 955.1252\n",
            "Epoch 484/500\n",
            "2/2 [==============================] - 0s 5ms/step - loss: 23.9815 - mse: 811.2784\n",
            "Epoch 485/500\n",
            "2/2 [==============================] - 0s 5ms/step - loss: 5.7734 - mse: 53.7612\n",
            "Epoch 486/500\n",
            "2/2 [==============================] - 0s 5ms/step - loss: 20.0010 - mse: 565.2877\n",
            "Epoch 487/500\n",
            "2/2 [==============================] - 0s 5ms/step - loss: 14.0419 - mse: 286.2685\n",
            "Epoch 488/500\n",
            "2/2 [==============================] - 0s 4ms/step - loss: 30.6088 - mse: 1334.5730\n",
            "Epoch 489/500\n",
            "2/2 [==============================] - 0s 5ms/step - loss: 11.9409 - mse: 237.4729\n",
            "Epoch 490/500\n",
            "2/2 [==============================] - 0s 5ms/step - loss: 12.7352 - mse: 252.5674\n",
            "Epoch 491/500\n",
            "2/2 [==============================] - 0s 8ms/step - loss: 23.6139 - mse: 837.7736\n",
            "Epoch 492/500\n",
            "2/2 [==============================] - 0s 5ms/step - loss: 20.5365 - mse: 592.2184\n",
            "Epoch 493/500\n",
            "2/2 [==============================] - 0s 7ms/step - loss: 4.9942 - mse: 48.0282\n",
            "Epoch 494/500\n",
            "2/2 [==============================] - 0s 5ms/step - loss: 12.7986 - mse: 247.7646\n",
            "Epoch 495/500\n",
            "2/2 [==============================] - 0s 4ms/step - loss: 13.3772 - mse: 239.0901\n",
            "Epoch 496/500\n",
            "2/2 [==============================] - 0s 5ms/step - loss: 12.6727 - mse: 241.5637\n",
            "Epoch 497/500\n",
            "2/2 [==============================] - 0s 12ms/step - loss: 17.6192 - mse: 515.3861\n",
            "Epoch 498/500\n",
            "2/2 [==============================] - 0s 5ms/step - loss: 23.5629 - mse: 816.5496\n",
            "Epoch 499/500\n",
            "2/2 [==============================] - 0s 5ms/step - loss: 9.3755 - mse: 136.1006\n",
            "Epoch 500/500\n",
            "2/2 [==============================] - 0s 5ms/step - loss: 14.6316 - mse: 295.2644\n"
          ]
        },
        {
          "output_type": "execute_result",
          "data": {
            "text/plain": [
              "<keras.callbacks.History at 0x7fbfffb43940>"
            ]
          },
          "metadata": {},
          "execution_count": 43
        }
      ]
    },
    {
      "cell_type": "code",
      "source": [
        "y_pred_3 = model_3.predict(X_test)\n",
        "y_pred_3"
      ],
      "metadata": {
        "colab": {
          "base_uri": "https://localhost:8080/"
        },
        "id": "RZGDWdmFQQHP",
        "outputId": "5b783460-2f07-40e8-cab9-9cf0bb6fccc3"
      },
      "execution_count": null,
      "outputs": [
        {
          "output_type": "stream",
          "name": "stderr",
          "text": [
            "WARNING:tensorflow:6 out of the last 6 calls to <function Model.make_predict_function.<locals>.predict_function at 0x7fbfffadac10> triggered tf.function retracing. Tracing is expensive and the excessive number of tracings could be due to (1) creating @tf.function repeatedly in a loop, (2) passing tensors with different shapes, (3) passing Python objects instead of tensors. For (1), please define your @tf.function outside of the loop. For (2), @tf.function has reduce_retracing=True option that can avoid unnecessary retracing. For (3), please refer to https://www.tensorflow.org/guide/function#controlling_retracing and https://www.tensorflow.org/api_docs/python/tf/function for  more details.\n"
          ]
        },
        {
          "output_type": "stream",
          "name": "stdout",
          "text": [
            "1/1 [==============================] - 0s 39ms/step\n"
          ]
        },
        {
          "output_type": "execute_result",
          "data": {
            "text/plain": [
              "array([[15.854739],\n",
              "       [16.617327],\n",
              "       [17.379913],\n",
              "       [18.142502],\n",
              "       [18.905088],\n",
              "       [19.667677],\n",
              "       [20.430264],\n",
              "       [21.19285 ],\n",
              "       [21.955437],\n",
              "       [22.718025]], dtype=float32)"
            ]
          },
          "metadata": {},
          "execution_count": 44
        }
      ]
    },
    {
      "cell_type": "code",
      "source": [
        "plot_line(X_test, y_test, X_train, y_train, y_pred_3)"
      ],
      "metadata": {
        "colab": {
          "base_uri": "https://localhost:8080/",
          "height": 483
        },
        "id": "WWKGTPp_QbbP",
        "outputId": "723fdc95-94d6-420d-ec2e-8fd7edc0d9ae"
      },
      "execution_count": null,
      "outputs": [
        {
          "output_type": "display_data",
          "data": {
            "text/plain": [
              "<Figure size 720x576 with 1 Axes>"
            ],
            "image/png": "[encoded data removed]"
          },
          "metadata": {
            "needs_background": "light"
          }
        }
      ]
    },
    {
      "cell_type": "code",
      "source": [
        "print(\"MAE_2:\",mae(y_test, y_pred_3),\"\\nMSE_2:\", mse(y_test, y_pred_3))"
      ],
      "metadata": {
        "colab": {
          "base_uri": "https://localhost:8080/"
        },
        "id": "93af3xFHQv7U",
        "outputId": "5e36983c-38b6-4f29-d568-b728b7c843a2"
      },
      "execution_count": null,
      "outputs": [
        {
          "output_type": "stream",
          "name": "stdout",
          "text": [
            "MAE_2: tf.Tensor(68.71362, shape=(), dtype=float32) \n",
            "MSE_2: tf.Tensor(4808.0283, shape=(), dtype=float32)\n"
          ]
        }
      ]
    },
    {
      "cell_type": "markdown",
      "source": [
        "## Saving our model\n",
        "saving our model allows us to use them outside of Google colab (or whereever they can be used )\n",
        "There are two main format we can save our model:\n",
        "1. The SavedModel format\n",
        "2. The HDF5 format "
      ],
      "metadata": {
        "id": "rPGk3XQscKjz"
      }
    },
    {
      "cell_type": "code",
      "source": [
        "# Saving model using SavedModel Format\n",
        "# model_1.save(\"model_1\")"
      ],
      "metadata": {
        "id": "o-RINbHZcJYO"
      },
      "execution_count": null,
      "outputs": []
    },
    {
      "cell_type": "code",
      "source": [
        "# Saving the model using hdf5 model(for larger dataset model)\n",
        "# model_1.save('model_1_trained.h5')"
      ],
      "metadata": {
        "id": "ZVySYcFJe7N9"
      },
      "execution_count": null,
      "outputs": []
    },
    {
      "cell_type": "code",
      "source": [
        "# loading the saved model\n",
        "load_model1 = tf.keras.models.load_model(\"model_1\")\n",
        "load_model1.summary()"
      ],
      "metadata": {
        "colab": {
          "base_uri": "https://localhost:8080/"
        },
        "id": "PS-J4Ymcf-xN",
        "outputId": "19406808-5742-44df-8a6a-47f720837835"
      },
      "execution_count": null,
      "outputs": [
        {
          "output_type": "stream",
          "name": "stdout",
          "text": [
            "Model: \"sequential_3\"\n",
            "_________________________________________________________________\n",
            " Layer (type)                Output Shape              Param #   \n",
            "=================================================================\n",
            " dense_5 (Dense)             (None, 1)                 2         \n",
            "                                                                 \n",
            "=================================================================\n",
            "Total params: 2\n",
            "Trainable params: 2\n",
            "Non-trainable params: 0\n",
            "_________________________________________________________________\n"
          ]
        }
      ]
    },
    {
      "cell_type": "code",
      "source": [
        "model_1.summary() # yes, it is the same "
      ],
      "metadata": {
        "id": "8xPf44t1gbL7",
        "outputId": "6b46e38d-5529-48c5-f49b-3ae94bf85f95",
        "colab": {
          "base_uri": "https://localhost:8080/"
        }
      },
      "execution_count": null,
      "outputs": [
        {
          "output_type": "stream",
          "name": "stdout",
          "text": [
            "Model: \"sequential_3\"\n",
            "_________________________________________________________________\n",
            " Layer (type)                Output Shape              Param #   \n",
            "=================================================================\n",
            " dense_5 (Dense)             (None, 1)                 2         \n",
            "                                                                 \n",
            "=================================================================\n",
            "Total params: 2\n",
            "Trainable params: 2\n",
            "Non-trainable params: 0\n",
            "_________________________________________________________________\n"
          ]
        }
      ]
    },
    {
      "cell_type": "code",
      "source": [
        "loaded_h5 = tf.keras.models.load_model(\"model_1_trained.h5\")\n",
        "loaded_h5.summary()"
      ],
      "metadata": {
        "colab": {
          "base_uri": "https://localhost:8080/"
        },
        "id": "9f7TNFHpg_a8",
        "outputId": "964c0268-396d-449c-a3fe-3eada6f5870a"
      },
      "execution_count": null,
      "outputs": [
        {
          "output_type": "stream",
          "name": "stdout",
          "text": [
            "Model: \"sequential_3\"\n",
            "_________________________________________________________________\n",
            " Layer (type)                Output Shape              Param #   \n",
            "=================================================================\n",
            " dense_5 (Dense)             (None, 1)                 2         \n",
            "                                                                 \n",
            "=================================================================\n",
            "Total params: 2\n",
            "Trainable params: 2\n",
            "Non-trainable params: 0\n",
            "_________________________________________________________________\n"
          ]
        }
      ]
    },
    {
      "cell_type": "code",
      "source": [
        "model_1.summary()"
      ],
      "metadata": {
        "colab": {
          "base_uri": "https://localhost:8080/"
        },
        "id": "WAd1PODQiS4B",
        "outputId": "8f75772c-0f23-490f-c231-dcfcba4a8ae5"
      },
      "execution_count": null,
      "outputs": [
        {
          "output_type": "stream",
          "name": "stdout",
          "text": [
            "Model: \"sequential_3\"\n",
            "_________________________________________________________________\n",
            " Layer (type)                Output Shape              Param #   \n",
            "=================================================================\n",
            " dense_5 (Dense)             (None, 1)                 2         \n",
            "                                                                 \n",
            "=================================================================\n",
            "Total params: 2\n",
            "Trainable params: 2\n",
            "Non-trainable params: 0\n",
            "_________________________________________________________________\n"
          ]
        }
      ]
    },
    {
      "cell_type": "markdown",
      "source": [
        "# Downloading files\n",
        "you can either downlod using 3dot key or save from code using below:"
      ],
      "metadata": {
        "id": "VckWDJ2ckbcN"
      }
    },
    {
      "cell_type": "code",
      "source": [
        "from google.colab import files\n",
        "# files.download(\"model_1_trained.h5\")\n"
      ],
      "metadata": {
        "id": "g3tIJiLxiVmz",
        "colab": {
          "base_uri": "https://localhost:8080/",
          "height": 17
        },
        "outputId": "de5569fb-3c5b-4ff4-8ee0-089043ef3ca7"
      },
      "execution_count": null,
      "outputs": [
        {
          "output_type": "display_data",
          "data": {
            "text/plain": [
              "<IPython.core.display.Javascript object>"
            ],
            "application/javascript": [
              "\n",
              "    async function download(id, filename, size) {\n",
              "      if (!google.colab.kernel.accessAllowed) {\n",
              "        return;\n",
              "      }\n",
              "      const div = document.createElement('div');\n",
              "      const label = document.createElement('label');\n",
              "      label.textContent = `Downloading \"${filename}\": `;\n",
              "      div.appendChild(label);\n",
              "      const progress = document.createElement('progress');\n",
              "      progress.max = size;\n",
              "      div.appendChild(progress);\n",
              "      document.body.appendChild(div);\n",
              "\n",
              "      const buffers = [];\n",
              "      let downloaded = 0;\n",
              "\n",
              "      const channel = await google.colab.kernel.comms.open(id);\n",
              "      // Send a message to notify the kernel that we're ready.\n",
              "      channel.send({})\n",
              "\n",
              "      for await (const message of channel.messages) {\n",
              "        // Send a message to notify the kernel that we're ready.\n",
              "        channel.send({})\n",
              "        if (message.buffers) {\n",
              "          for (const buffer of message.buffers) {\n",
              "            buffers.push(buffer);\n",
              "            downloaded += buffer.byteLength;\n",
              "            progress.value = downloaded;\n",
              "          }\n",
              "        }\n",
              "      }\n",
              "      const blob = new Blob(buffers, {type: 'application/binary'});\n",
              "      const a = document.createElement('a');\n",
              "      a.href = window.URL.createObjectURL(blob);\n",
              "      a.download = filename;\n",
              "      div.appendChild(a);\n",
              "      a.click();\n",
              "      div.remove();\n",
              "    }\n",
              "  "
            ]
          },
          "metadata": {}
        },
        {
          "output_type": "display_data",
          "data": {
            "text/plain": [
              "<IPython.core.display.Javascript object>"
            ],
            "application/javascript": [
              "download(\"download_08c53afb-c106-4af0-bd49-18634c1f068d\", \"model_1_trained.h5\", 15064)"
            ]
          },
          "metadata": {}
        }
      ]
    },
    {
      "cell_type": "markdown",
      "source": [
        "# A Practice on larger dataset\n"
      ],
      "metadata": {
        "id": "AGMopuFfmWjc"
      }
    },
    {
      "cell_type": "code",
      "source": [
        "import tensorflow as tf\n",
        "import pandas as pd\n",
        "import matplotlib.pyplot as plt"
      ],
      "metadata": {
        "id": "ulSYPlPnmZIJ"
      },
      "execution_count": null,
      "outputs": []
    },
    {
      "cell_type": "code",
      "source": [
        "data = pd.read_csv(\"https://raw.githubusercontent.com/stedy/Machine-Learning-with-R-datasets/master/insurance.csv\")\n",
        "data.sample(5)"
      ],
      "metadata": {
        "colab": {
          "base_uri": "https://localhost:8080/",
          "height": 206
        },
        "id": "PZYhO8YDmgH5",
        "outputId": "f2c667f1-8e7d-40a1-d54c-0f0420ae7761"
      },
      "execution_count": null,
      "outputs": [
        {
          "output_type": "execute_result",
          "data": {
            "text/plain": [
              "      age     sex    bmi  children smoker     region     charges\n",
              "284    52  female  31.20         0     no  southwest   9625.9200\n",
              "1233   58    male  23.30         0     no  southwest  11345.5190\n",
              "251    63  female  32.20         2    yes  southwest  47305.3050\n",
              "1160   43  female  34.58         1     no  northwest   7727.2532\n",
              "1085   39  female  18.30         5    yes  southwest  19023.2600"
            ],
            "text/html": [
              "\n",
              "  <div id=\"df-6f57150c-d15b-4366-8533-3f8d271873d2\">\n",
              "    <div class=\"colab-df-container\">\n",
              "      <div>\n",
              "<style scoped>\n",
              "    .dataframe tbody tr th:only-of-type {\n",
              "        vertical-align: middle;\n",
              "    }\n",
              "\n",
              "    .dataframe tbody tr th {\n",
              "        vertical-align: top;\n",
              "    }\n",
              "\n",
              "    .dataframe thead th {\n",
              "        text-align: right;\n",
              "    }\n",
              "</style>\n",
              "<table border=\"1\" class=\"dataframe\">\n",
              "  <thead>\n",
              "    <tr style=\"text-align: right;\">\n",
              "      <th></th>\n",
              "      <th>age</th>\n",
              "      <th>sex</th>\n",
              "      <th>bmi</th>\n",
              "      <th>children</th>\n",
              "      <th>smoker</th>\n",
              "      <th>region</th>\n",
              "      <th>charges</th>\n",
              "    </tr>\n",
              "  </thead>\n",
              "  <tbody>\n",
              "    <tr>\n",
              "      <th>284</th>\n",
              "      <td>52</td>\n",
              "      <td>female</td>\n",
              "      <td>31.20</td>\n",
              "      <td>0</td>\n",
              "      <td>no</td>\n",
              "      <td>southwest</td>\n",
              "      <td>9625.9200</td>\n",
              "    </tr>\n",
              "    <tr>\n",
              "      <th>1233</th>\n",
              "      <td>58</td>\n",
              "      <td>male</td>\n",
              "      <td>23.30</td>\n",
              "      <td>0</td>\n",
              "      <td>no</td>\n",
              "      <td>southwest</td>\n",
              "      <td>11345.5190</td>\n",
              "    </tr>\n",
              "    <tr>\n",
              "      <th>251</th>\n",
              "      <td>63</td>\n",
              "      <td>female</td>\n",
              "      <td>32.20</td>\n",
              "      <td>2</td>\n",
              "      <td>yes</td>\n",
              "      <td>southwest</td>\n",
              "      <td>47305.3050</td>\n",
              "    </tr>\n",
              "    <tr>\n",
              "      <th>1160</th>\n",
              "      <td>43</td>\n",
              "      <td>female</td>\n",
              "      <td>34.58</td>\n",
              "      <td>1</td>\n",
              "      <td>no</td>\n",
              "      <td>northwest</td>\n",
              "      <td>7727.2532</td>\n",
              "    </tr>\n",
              "    <tr>\n",
              "      <th>1085</th>\n",
              "      <td>39</td>\n",
              "      <td>female</td>\n",
              "      <td>18.30</td>\n",
              "      <td>5</td>\n",
              "      <td>yes</td>\n",
              "      <td>southwest</td>\n",
              "      <td>19023.2600</td>\n",
              "    </tr>\n",
              "  </tbody>\n",
              "</table>\n",
              "</div>\n",
              "      <button class=\"colab-df-convert\" onclick=\"convertToInteractive('df-6f57150c-d15b-4366-8533-3f8d271873d2')\"\n",
              "              title=\"Convert this dataframe to an interactive table.\"\n",
              "              style=\"display:none;\">\n",
              "        \n",
              "  <svg xmlns=\"http://www.w3.org/2000/svg\" height=\"24px\"viewBox=\"0 0 24 24\"\n",
              "       width=\"24px\">\n",
              "    <path d=\"M0 0h24v24H0V0z\" fill=\"none\"/>\n",
              "    <path d=\"M18.56 5.44l.94 2.06.94-2.06 2.06-.94-2.06-.94-.94-2.06-.94 2.06-2.06.94zm-11 1L8.5 8.5l.94-2.06 2.06-.94-2.06-.94L8.5 2.5l-.94 2.06-2.06.94zm10 10l.94 2.06.94-2.06 2.06-.94-2.06-.94-.94-2.06-.94 2.06-2.06.94z\"/><path d=\"M17.41 7.96l-1.37-1.37c-.4-.4-.92-.59-1.43-.59-.52 0-1.04.2-1.43.59L10.3 9.45l-7.72 7.72c-.78.78-.78 2.05 0 2.83L4 21.41c.39.39.9.59 1.41.59.51 0 1.02-.2 1.41-.59l7.78-7.78 2.81-2.81c.8-.78.8-2.07 0-2.86zM5.41 20L4 18.59l7.72-7.72 1.47 1.35L5.41 20z\"/>\n",
              "  </svg>\n",
              "      </button>\n",
              "      \n",
              "  <style>\n",
              "    .colab-df-container {\n",
              "      display:flex;\n",
              "      flex-wrap:wrap;\n",
              "      gap: 12px;\n",
              "    }\n",
              "\n",
              "    .colab-df-convert {\n",
              "      background-color: #E8F0FE;\n",
              "      border: none;\n",
              "      border-radius: 50%;\n",
              "      cursor: pointer;\n",
              "      display: none;\n",
              "      fill: #1967D2;\n",
              "      height: 32px;\n",
              "      padding: 0 0 0 0;\n",
              "      width: 32px;\n",
              "    }\n",
              "\n",
              "    .colab-df-convert:hover {\n",
              "      background-color: #E2EBFA;\n",
              "      box-shadow: 0px 1px 2px rgba(60, 64, 67, 0.3), 0px 1px 3px 1px rgba(60, 64, 67, 0.15);\n",
              "      fill: #174EA6;\n",
              "    }\n",
              "\n",
              "    [theme=dark] .colab-df-convert {\n",
              "      background-color: #3B4455;\n",
              "      fill: #D2E3FC;\n",
              "    }\n",
              "\n",
              "    [theme=dark] .colab-df-convert:hover {\n",
              "      background-color: #434B5C;\n",
              "      box-shadow: 0px 1px 3px 1px rgba(0, 0, 0, 0.15);\n",
              "      filter: drop-shadow(0px 1px 2px rgba(0, 0, 0, 0.3));\n",
              "      fill: #FFFFFF;\n",
              "    }\n",
              "  </style>\n",
              "\n",
              "      <script>\n",
              "        const buttonEl =\n",
              "          document.querySelector('#df-6f57150c-d15b-4366-8533-3f8d271873d2 button.colab-df-convert');\n",
              "        buttonEl.style.display =\n",
              "          google.colab.kernel.accessAllowed ? 'block' : 'none';\n",
              "\n",
              "        async function convertToInteractive(key) {\n",
              "          const element = document.querySelector('#df-6f57150c-d15b-4366-8533-3f8d271873d2');\n",
              "          const dataTable =\n",
              "            await google.colab.kernel.invokeFunction('convertToInteractive',\n",
              "                                                     [key], {});\n",
              "          if (!dataTable) return;\n",
              "\n",
              "          const docLinkHtml = 'Like what you see? Visit the ' +\n",
              "            '<a target=\"_blank\" href=https://colab.research.google.com/notebooks/data_table.ipynb>data table notebook</a>'\n",
              "            + ' to learn more about interactive tables.';\n",
              "          element.innerHTML = '';\n",
              "          dataTable['output_type'] = 'display_data';\n",
              "          await google.colab.output.renderOutput(dataTable, element);\n",
              "          const docLink = document.createElement('div');\n",
              "          docLink.innerHTML = docLinkHtml;\n",
              "          element.appendChild(docLink);\n",
              "        }\n",
              "      </script>\n",
              "    </div>\n",
              "  </div>\n",
              "  "
            ]
          },
          "metadata": {},
          "execution_count": 87
        }
      ]
    },
    {
      "cell_type": "code",
      "source": [
        "data.shape"
      ],
      "metadata": {
        "colab": {
          "base_uri": "https://localhost:8080/"
        },
        "id": "495VUZOzmwWx",
        "outputId": "160d7c35-be2f-4229-f77e-0f0a7485d0f3"
      },
      "execution_count": null,
      "outputs": [
        {
          "output_type": "execute_result",
          "data": {
            "text/plain": [
              "(1338, 7)"
            ]
          },
          "metadata": {},
          "execution_count": 88
        }
      ]
    },
    {
      "cell_type": "code",
      "source": [
        "data.info()"
      ],
      "metadata": {
        "id": "6tA3Tdzim1U2",
        "outputId": "2d3de183-bbc1-46a6-b2aa-413c2dd4a67c",
        "colab": {
          "base_uri": "https://localhost:8080/"
        }
      },
      "execution_count": null,
      "outputs": [
        {
          "output_type": "stream",
          "name": "stdout",
          "text": [
            "<class 'pandas.core.frame.DataFrame'>\n",
            "RangeIndex: 1338 entries, 0 to 1337\n",
            "Data columns (total 7 columns):\n",
            " #   Column    Non-Null Count  Dtype  \n",
            "---  ------    --------------  -----  \n",
            " 0   age       1338 non-null   int64  \n",
            " 1   sex       1338 non-null   object \n",
            " 2   bmi       1338 non-null   float64\n",
            " 3   children  1338 non-null   int64  \n",
            " 4   smoker    1338 non-null   object \n",
            " 5   region    1338 non-null   object \n",
            " 6   charges   1338 non-null   float64\n",
            "dtypes: float64(2), int64(2), object(3)\n",
            "memory usage: 73.3+ KB\n"
          ]
        }
      ]
    },
    {
      "cell_type": "code",
      "source": [
        "# let's one hot encode into numerical columns\n",
        "data_one_hot = pd.get_dummies(data)\n",
        "data_one_hot.head()"
      ],
      "metadata": {
        "id": "Nx9yCypWm369",
        "colab": {
          "base_uri": "https://localhost:8080/",
          "height": 206
        },
        "outputId": "74d3e30f-0de4-436f-b62b-846bd3558acb"
      },
      "execution_count": null,
      "outputs": [
        {
          "output_type": "execute_result",
          "data": {
            "text/plain": [
              "   age     bmi  children      charges  sex_female  sex_male  smoker_no  \\\n",
              "0   19  27.900         0  16884.92400           1         0          0   \n",
              "1   18  33.770         1   1725.55230           0         1          1   \n",
              "2   28  33.000         3   4449.46200           0         1          1   \n",
              "3   33  22.705         0  21984.47061           0         1          1   \n",
              "4   32  28.880         0   3866.85520           0         1          1   \n",
              "\n",
              "   smoker_yes  region_northeast  region_northwest  region_southeast  \\\n",
              "0           1                 0                 0                 0   \n",
              "1           0                 0                 0                 1   \n",
              "2           0                 0                 0                 1   \n",
              "3           0                 0                 1                 0   \n",
              "4           0                 0                 1                 0   \n",
              "\n",
              "   region_southwest  \n",
              "0                 1  \n",
              "1                 0  \n",
              "2                 0  \n",
              "3                 0  \n",
              "4                 0  "
            ],
            "text/html": [
              "\n",
              "  <div id=\"df-4518f506-dece-44f4-9671-f7d0c1fdecd3\">\n",
              "    <div class=\"colab-df-container\">\n",
              "      <div>\n",
              "<style scoped>\n",
              "    .dataframe tbody tr th:only-of-type {\n",
              "        vertical-align: middle;\n",
              "    }\n",
              "\n",
              "    .dataframe tbody tr th {\n",
              "        vertical-align: top;\n",
              "    }\n",
              "\n",
              "    .dataframe thead th {\n",
              "        text-align: right;\n",
              "    }\n",
              "</style>\n",
              "<table border=\"1\" class=\"dataframe\">\n",
              "  <thead>\n",
              "    <tr style=\"text-align: right;\">\n",
              "      <th></th>\n",
              "      <th>age</th>\n",
              "      <th>bmi</th>\n",
              "      <th>children</th>\n",
              "      <th>charges</th>\n",
              "      <th>sex_female</th>\n",
              "      <th>sex_male</th>\n",
              "      <th>smoker_no</th>\n",
              "      <th>smoker_yes</th>\n",
              "      <th>region_northeast</th>\n",
              "      <th>region_northwest</th>\n",
              "      <th>region_southeast</th>\n",
              "      <th>region_southwest</th>\n",
              "    </tr>\n",
              "  </thead>\n",
              "  <tbody>\n",
              "    <tr>\n",
              "      <th>0</th>\n",
              "      <td>19</td>\n",
              "      <td>27.900</td>\n",
              "      <td>0</td>\n",
              "      <td>16884.92400</td>\n",
              "      <td>1</td>\n",
              "      <td>0</td>\n",
              "      <td>0</td>\n",
              "      <td>1</td>\n",
              "      <td>0</td>\n",
              "      <td>0</td>\n",
              "      <td>0</td>\n",
              "      <td>1</td>\n",
              "    </tr>\n",
              "    <tr>\n",
              "      <th>1</th>\n",
              "      <td>18</td>\n",
              "      <td>33.770</td>\n",
              "      <td>1</td>\n",
              "      <td>1725.55230</td>\n",
              "      <td>0</td>\n",
              "      <td>1</td>\n",
              "      <td>1</td>\n",
              "      <td>0</td>\n",
              "      <td>0</td>\n",
              "      <td>0</td>\n",
              "      <td>1</td>\n",
              "      <td>0</td>\n",
              "    </tr>\n",
              "    <tr>\n",
              "      <th>2</th>\n",
              "      <td>28</td>\n",
              "      <td>33.000</td>\n",
              "      <td>3</td>\n",
              "      <td>4449.46200</td>\n",
              "      <td>0</td>\n",
              "      <td>1</td>\n",
              "      <td>1</td>\n",
              "      <td>0</td>\n",
              "      <td>0</td>\n",
              "      <td>0</td>\n",
              "      <td>1</td>\n",
              "      <td>0</td>\n",
              "    </tr>\n",
              "    <tr>\n",
              "      <th>3</th>\n",
              "      <td>33</td>\n",
              "      <td>22.705</td>\n",
              "      <td>0</td>\n",
              "      <td>21984.47061</td>\n",
              "      <td>0</td>\n",
              "      <td>1</td>\n",
              "      <td>1</td>\n",
              "      <td>0</td>\n",
              "      <td>0</td>\n",
              "      <td>1</td>\n",
              "      <td>0</td>\n",
              "      <td>0</td>\n",
              "    </tr>\n",
              "    <tr>\n",
              "      <th>4</th>\n",
              "      <td>32</td>\n",
              "      <td>28.880</td>\n",
              "      <td>0</td>\n",
              "      <td>3866.85520</td>\n",
              "      <td>0</td>\n",
              "      <td>1</td>\n",
              "      <td>1</td>\n",
              "      <td>0</td>\n",
              "      <td>0</td>\n",
              "      <td>1</td>\n",
              "      <td>0</td>\n",
              "      <td>0</td>\n",
              "    </tr>\n",
              "  </tbody>\n",
              "</table>\n",
              "</div>\n",
              "      <button class=\"colab-df-convert\" onclick=\"convertToInteractive('df-4518f506-dece-44f4-9671-f7d0c1fdecd3')\"\n",
              "              title=\"Convert this dataframe to an interactive table.\"\n",
              "              style=\"display:none;\">\n",
              "        \n",
              "  <svg xmlns=\"http://www.w3.org/2000/svg\" height=\"24px\"viewBox=\"0 0 24 24\"\n",
              "       width=\"24px\">\n",
              "    <path d=\"M0 0h24v24H0V0z\" fill=\"none\"/>\n",
              "    <path d=\"M18.56 5.44l.94 2.06.94-2.06 2.06-.94-2.06-.94-.94-2.06-.94 2.06-2.06.94zm-11 1L8.5 8.5l.94-2.06 2.06-.94-2.06-.94L8.5 2.5l-.94 2.06-2.06.94zm10 10l.94 2.06.94-2.06 2.06-.94-2.06-.94-.94-2.06-.94 2.06-2.06.94z\"/><path d=\"M17.41 7.96l-1.37-1.37c-.4-.4-.92-.59-1.43-.59-.52 0-1.04.2-1.43.59L10.3 9.45l-7.72 7.72c-.78.78-.78 2.05 0 2.83L4 21.41c.39.39.9.59 1.41.59.51 0 1.02-.2 1.41-.59l7.78-7.78 2.81-2.81c.8-.78.8-2.07 0-2.86zM5.41 20L4 18.59l7.72-7.72 1.47 1.35L5.41 20z\"/>\n",
              "  </svg>\n",
              "      </button>\n",
              "      \n",
              "  <style>\n",
              "    .colab-df-container {\n",
              "      display:flex;\n",
              "      flex-wrap:wrap;\n",
              "      gap: 12px;\n",
              "    }\n",
              "\n",
              "    .colab-df-convert {\n",
              "      background-color: #E8F0FE;\n",
              "      border: none;\n",
              "      border-radius: 50%;\n",
              "      cursor: pointer;\n",
              "      display: none;\n",
              "      fill: #1967D2;\n",
              "      height: 32px;\n",
              "      padding: 0 0 0 0;\n",
              "      width: 32px;\n",
              "    }\n",
              "\n",
              "    .colab-df-convert:hover {\n",
              "      background-color: #E2EBFA;\n",
              "      box-shadow: 0px 1px 2px rgba(60, 64, 67, 0.3), 0px 1px 3px 1px rgba(60, 64, 67, 0.15);\n",
              "      fill: #174EA6;\n",
              "    }\n",
              "\n",
              "    [theme=dark] .colab-df-convert {\n",
              "      background-color: #3B4455;\n",
              "      fill: #D2E3FC;\n",
              "    }\n",
              "\n",
              "    [theme=dark] .colab-df-convert:hover {\n",
              "      background-color: #434B5C;\n",
              "      box-shadow: 0px 1px 3px 1px rgba(0, 0, 0, 0.15);\n",
              "      filter: drop-shadow(0px 1px 2px rgba(0, 0, 0, 0.3));\n",
              "      fill: #FFFFFF;\n",
              "    }\n",
              "  </style>\n",
              "\n",
              "      <script>\n",
              "        const buttonEl =\n",
              "          document.querySelector('#df-4518f506-dece-44f4-9671-f7d0c1fdecd3 button.colab-df-convert');\n",
              "        buttonEl.style.display =\n",
              "          google.colab.kernel.accessAllowed ? 'block' : 'none';\n",
              "\n",
              "        async function convertToInteractive(key) {\n",
              "          const element = document.querySelector('#df-4518f506-dece-44f4-9671-f7d0c1fdecd3');\n",
              "          const dataTable =\n",
              "            await google.colab.kernel.invokeFunction('convertToInteractive',\n",
              "                                                     [key], {});\n",
              "          if (!dataTable) return;\n",
              "\n",
              "          const docLinkHtml = 'Like what you see? Visit the ' +\n",
              "            '<a target=\"_blank\" href=https://colab.research.google.com/notebooks/data_table.ipynb>data table notebook</a>'\n",
              "            + ' to learn more about interactive tables.';\n",
              "          element.innerHTML = '';\n",
              "          dataTable['output_type'] = 'display_data';\n",
              "          await google.colab.output.renderOutput(dataTable, element);\n",
              "          const docLink = document.createElement('div');\n",
              "          docLink.innerHTML = docLinkHtml;\n",
              "          element.appendChild(docLink);\n",
              "        }\n",
              "      </script>\n",
              "    </div>\n",
              "  </div>\n",
              "  "
            ]
          },
          "metadata": {},
          "execution_count": 90
        }
      ]
    },
    {
      "cell_type": "code",
      "source": [
        "# Or you can manually do \n",
        "# first of all let's change gender 0-> female and 1-> male\n",
        "data['sex'] = data['sex'].replace({'female': 0, 'male': 1})\n",
        "data.head()"
      ],
      "metadata": {
        "colab": {
          "base_uri": "https://localhost:8080/",
          "height": 206
        },
        "id": "kjFXIOJAPK-T",
        "outputId": "79a85dc8-f302-4da5-e85f-546cd0e531e7"
      },
      "execution_count": null,
      "outputs": [
        {
          "output_type": "execute_result",
          "data": {
            "text/plain": [
              "   age  sex     bmi  children smoker     region      charges\n",
              "0   19    0  27.900         0    yes  southwest  16884.92400\n",
              "1   18    1  33.770         1     no  southeast   1725.55230\n",
              "2   28    1  33.000         3     no  southeast   4449.46200\n",
              "3   33    1  22.705         0     no  northwest  21984.47061\n",
              "4   32    1  28.880         0     no  northwest   3866.85520"
            ],
            "text/html": [
              "\n",
              "  <div id=\"df-264b498f-2568-4e9f-ae71-322166749da2\">\n",
              "    <div class=\"colab-df-container\">\n",
              "      <div>\n",
              "<style scoped>\n",
              "    .dataframe tbody tr th:only-of-type {\n",
              "        vertical-align: middle;\n",
              "    }\n",
              "\n",
              "    .dataframe tbody tr th {\n",
              "        vertical-align: top;\n",
              "    }\n",
              "\n",
              "    .dataframe thead th {\n",
              "        text-align: right;\n",
              "    }\n",
              "</style>\n",
              "<table border=\"1\" class=\"dataframe\">\n",
              "  <thead>\n",
              "    <tr style=\"text-align: right;\">\n",
              "      <th></th>\n",
              "      <th>age</th>\n",
              "      <th>sex</th>\n",
              "      <th>bmi</th>\n",
              "      <th>children</th>\n",
              "      <th>smoker</th>\n",
              "      <th>region</th>\n",
              "      <th>charges</th>\n",
              "    </tr>\n",
              "  </thead>\n",
              "  <tbody>\n",
              "    <tr>\n",
              "      <th>0</th>\n",
              "      <td>19</td>\n",
              "      <td>0</td>\n",
              "      <td>27.900</td>\n",
              "      <td>0</td>\n",
              "      <td>yes</td>\n",
              "      <td>southwest</td>\n",
              "      <td>16884.92400</td>\n",
              "    </tr>\n",
              "    <tr>\n",
              "      <th>1</th>\n",
              "      <td>18</td>\n",
              "      <td>1</td>\n",
              "      <td>33.770</td>\n",
              "      <td>1</td>\n",
              "      <td>no</td>\n",
              "      <td>southeast</td>\n",
              "      <td>1725.55230</td>\n",
              "    </tr>\n",
              "    <tr>\n",
              "      <th>2</th>\n",
              "      <td>28</td>\n",
              "      <td>1</td>\n",
              "      <td>33.000</td>\n",
              "      <td>3</td>\n",
              "      <td>no</td>\n",
              "      <td>southeast</td>\n",
              "      <td>4449.46200</td>\n",
              "    </tr>\n",
              "    <tr>\n",
              "      <th>3</th>\n",
              "      <td>33</td>\n",
              "      <td>1</td>\n",
              "      <td>22.705</td>\n",
              "      <td>0</td>\n",
              "      <td>no</td>\n",
              "      <td>northwest</td>\n",
              "      <td>21984.47061</td>\n",
              "    </tr>\n",
              "    <tr>\n",
              "      <th>4</th>\n",
              "      <td>32</td>\n",
              "      <td>1</td>\n",
              "      <td>28.880</td>\n",
              "      <td>0</td>\n",
              "      <td>no</td>\n",
              "      <td>northwest</td>\n",
              "      <td>3866.85520</td>\n",
              "    </tr>\n",
              "  </tbody>\n",
              "</table>\n",
              "</div>\n",
              "      <button class=\"colab-df-convert\" onclick=\"convertToInteractive('df-264b498f-2568-4e9f-ae71-322166749da2')\"\n",
              "              title=\"Convert this dataframe to an interactive table.\"\n",
              "              style=\"display:none;\">\n",
              "        \n",
              "  <svg xmlns=\"http://www.w3.org/2000/svg\" height=\"24px\"viewBox=\"0 0 24 24\"\n",
              "       width=\"24px\">\n",
              "    <path d=\"M0 0h24v24H0V0z\" fill=\"none\"/>\n",
              "    <path d=\"M18.56 5.44l.94 2.06.94-2.06 2.06-.94-2.06-.94-.94-2.06-.94 2.06-2.06.94zm-11 1L8.5 8.5l.94-2.06 2.06-.94-2.06-.94L8.5 2.5l-.94 2.06-2.06.94zm10 10l.94 2.06.94-2.06 2.06-.94-2.06-.94-.94-2.06-.94 2.06-2.06.94z\"/><path d=\"M17.41 7.96l-1.37-1.37c-.4-.4-.92-.59-1.43-.59-.52 0-1.04.2-1.43.59L10.3 9.45l-7.72 7.72c-.78.78-.78 2.05 0 2.83L4 21.41c.39.39.9.59 1.41.59.51 0 1.02-.2 1.41-.59l7.78-7.78 2.81-2.81c.8-.78.8-2.07 0-2.86zM5.41 20L4 18.59l7.72-7.72 1.47 1.35L5.41 20z\"/>\n",
              "  </svg>\n",
              "      </button>\n",
              "      \n",
              "  <style>\n",
              "    .colab-df-container {\n",
              "      display:flex;\n",
              "      flex-wrap:wrap;\n",
              "      gap: 12px;\n",
              "    }\n",
              "\n",
              "    .colab-df-convert {\n",
              "      background-color: #E8F0FE;\n",
              "      border: none;\n",
              "      border-radius: 50%;\n",
              "      cursor: pointer;\n",
              "      display: none;\n",
              "      fill: #1967D2;\n",
              "      height: 32px;\n",
              "      padding: 0 0 0 0;\n",
              "      width: 32px;\n",
              "    }\n",
              "\n",
              "    .colab-df-convert:hover {\n",
              "      background-color: #E2EBFA;\n",
              "      box-shadow: 0px 1px 2px rgba(60, 64, 67, 0.3), 0px 1px 3px 1px rgba(60, 64, 67, 0.15);\n",
              "      fill: #174EA6;\n",
              "    }\n",
              "\n",
              "    [theme=dark] .colab-df-convert {\n",
              "      background-color: #3B4455;\n",
              "      fill: #D2E3FC;\n",
              "    }\n",
              "\n",
              "    [theme=dark] .colab-df-convert:hover {\n",
              "      background-color: #434B5C;\n",
              "      box-shadow: 0px 1px 3px 1px rgba(0, 0, 0, 0.15);\n",
              "      filter: drop-shadow(0px 1px 2px rgba(0, 0, 0, 0.3));\n",
              "      fill: #FFFFFF;\n",
              "    }\n",
              "  </style>\n",
              "\n",
              "      <script>\n",
              "        const buttonEl =\n",
              "          document.querySelector('#df-264b498f-2568-4e9f-ae71-322166749da2 button.colab-df-convert');\n",
              "        buttonEl.style.display =\n",
              "          google.colab.kernel.accessAllowed ? 'block' : 'none';\n",
              "\n",
              "        async function convertToInteractive(key) {\n",
              "          const element = document.querySelector('#df-264b498f-2568-4e9f-ae71-322166749da2');\n",
              "          const dataTable =\n",
              "            await google.colab.kernel.invokeFunction('convertToInteractive',\n",
              "                                                     [key], {});\n",
              "          if (!dataTable) return;\n",
              "\n",
              "          const docLinkHtml = 'Like what you see? Visit the ' +\n",
              "            '<a target=\"_blank\" href=https://colab.research.google.com/notebooks/data_table.ipynb>data table notebook</a>'\n",
              "            + ' to learn more about interactive tables.';\n",
              "          element.innerHTML = '';\n",
              "          dataTable['output_type'] = 'display_data';\n",
              "          await google.colab.output.renderOutput(dataTable, element);\n",
              "          const docLink = document.createElement('div');\n",
              "          docLink.innerHTML = docLinkHtml;\n",
              "          element.appendChild(docLink);\n",
              "        }\n",
              "      </script>\n",
              "    </div>\n",
              "  </div>\n",
              "  "
            ]
          },
          "metadata": {},
          "execution_count": 91
        }
      ]
    },
    {
      "cell_type": "code",
      "source": [
        "data['smoker'] = data.smoker.replace({\"yes\":1, \"no\":0})\n",
        "data.head()"
      ],
      "metadata": {
        "colab": {
          "base_uri": "https://localhost:8080/",
          "height": 206
        },
        "id": "eXXZNBtJP3EX",
        "outputId": "f63a1095-c188-4a1d-8466-867b88631058"
      },
      "execution_count": null,
      "outputs": [
        {
          "output_type": "execute_result",
          "data": {
            "text/plain": [
              "   age  sex     bmi  children  smoker     region      charges\n",
              "0   19    0  27.900         0       1  southwest  16884.92400\n",
              "1   18    1  33.770         1       0  southeast   1725.55230\n",
              "2   28    1  33.000         3       0  southeast   4449.46200\n",
              "3   33    1  22.705         0       0  northwest  21984.47061\n",
              "4   32    1  28.880         0       0  northwest   3866.85520"
            ],
            "text/html": [
              "\n",
              "  <div id=\"df-5b73d106-a238-42cb-a12a-7d8225d87880\">\n",
              "    <div class=\"colab-df-container\">\n",
              "      <div>\n",
              "<style scoped>\n",
              "    .dataframe tbody tr th:only-of-type {\n",
              "        vertical-align: middle;\n",
              "    }\n",
              "\n",
              "    .dataframe tbody tr th {\n",
              "        vertical-align: top;\n",
              "    }\n",
              "\n",
              "    .dataframe thead th {\n",
              "        text-align: right;\n",
              "    }\n",
              "</style>\n",
              "<table border=\"1\" class=\"dataframe\">\n",
              "  <thead>\n",
              "    <tr style=\"text-align: right;\">\n",
              "      <th></th>\n",
              "      <th>age</th>\n",
              "      <th>sex</th>\n",
              "      <th>bmi</th>\n",
              "      <th>children</th>\n",
              "      <th>smoker</th>\n",
              "      <th>region</th>\n",
              "      <th>charges</th>\n",
              "    </tr>\n",
              "  </thead>\n",
              "  <tbody>\n",
              "    <tr>\n",
              "      <th>0</th>\n",
              "      <td>19</td>\n",
              "      <td>0</td>\n",
              "      <td>27.900</td>\n",
              "      <td>0</td>\n",
              "      <td>1</td>\n",
              "      <td>southwest</td>\n",
              "      <td>16884.92400</td>\n",
              "    </tr>\n",
              "    <tr>\n",
              "      <th>1</th>\n",
              "      <td>18</td>\n",
              "      <td>1</td>\n",
              "      <td>33.770</td>\n",
              "      <td>1</td>\n",
              "      <td>0</td>\n",
              "      <td>southeast</td>\n",
              "      <td>1725.55230</td>\n",
              "    </tr>\n",
              "    <tr>\n",
              "      <th>2</th>\n",
              "      <td>28</td>\n",
              "      <td>1</td>\n",
              "      <td>33.000</td>\n",
              "      <td>3</td>\n",
              "      <td>0</td>\n",
              "      <td>southeast</td>\n",
              "      <td>4449.46200</td>\n",
              "    </tr>\n",
              "    <tr>\n",
              "      <th>3</th>\n",
              "      <td>33</td>\n",
              "      <td>1</td>\n",
              "      <td>22.705</td>\n",
              "      <td>0</td>\n",
              "      <td>0</td>\n",
              "      <td>northwest</td>\n",
              "      <td>21984.47061</td>\n",
              "    </tr>\n",
              "    <tr>\n",
              "      <th>4</th>\n",
              "      <td>32</td>\n",
              "      <td>1</td>\n",
              "      <td>28.880</td>\n",
              "      <td>0</td>\n",
              "      <td>0</td>\n",
              "      <td>northwest</td>\n",
              "      <td>3866.85520</td>\n",
              "    </tr>\n",
              "  </tbody>\n",
              "</table>\n",
              "</div>\n",
              "      <button class=\"colab-df-convert\" onclick=\"convertToInteractive('df-5b73d106-a238-42cb-a12a-7d8225d87880')\"\n",
              "              title=\"Convert this dataframe to an interactive table.\"\n",
              "              style=\"display:none;\">\n",
              "        \n",
              "  <svg xmlns=\"http://www.w3.org/2000/svg\" height=\"24px\"viewBox=\"0 0 24 24\"\n",
              "       width=\"24px\">\n",
              "    <path d=\"M0 0h24v24H0V0z\" fill=\"none\"/>\n",
              "    <path d=\"M18.56 5.44l.94 2.06.94-2.06 2.06-.94-2.06-.94-.94-2.06-.94 2.06-2.06.94zm-11 1L8.5 8.5l.94-2.06 2.06-.94-2.06-.94L8.5 2.5l-.94 2.06-2.06.94zm10 10l.94 2.06.94-2.06 2.06-.94-2.06-.94-.94-2.06-.94 2.06-2.06.94z\"/><path d=\"M17.41 7.96l-1.37-1.37c-.4-.4-.92-.59-1.43-.59-.52 0-1.04.2-1.43.59L10.3 9.45l-7.72 7.72c-.78.78-.78 2.05 0 2.83L4 21.41c.39.39.9.59 1.41.59.51 0 1.02-.2 1.41-.59l7.78-7.78 2.81-2.81c.8-.78.8-2.07 0-2.86zM5.41 20L4 18.59l7.72-7.72 1.47 1.35L5.41 20z\"/>\n",
              "  </svg>\n",
              "      </button>\n",
              "      \n",
              "  <style>\n",
              "    .colab-df-container {\n",
              "      display:flex;\n",
              "      flex-wrap:wrap;\n",
              "      gap: 12px;\n",
              "    }\n",
              "\n",
              "    .colab-df-convert {\n",
              "      background-color: #E8F0FE;\n",
              "      border: none;\n",
              "      border-radius: 50%;\n",
              "      cursor: pointer;\n",
              "      display: none;\n",
              "      fill: #1967D2;\n",
              "      height: 32px;\n",
              "      padding: 0 0 0 0;\n",
              "      width: 32px;\n",
              "    }\n",
              "\n",
              "    .colab-df-convert:hover {\n",
              "      background-color: #E2EBFA;\n",
              "      box-shadow: 0px 1px 2px rgba(60, 64, 67, 0.3), 0px 1px 3px 1px rgba(60, 64, 67, 0.15);\n",
              "      fill: #174EA6;\n",
              "    }\n",
              "\n",
              "    [theme=dark] .colab-df-convert {\n",
              "      background-color: #3B4455;\n",
              "      fill: #D2E3FC;\n",
              "    }\n",
              "\n",
              "    [theme=dark] .colab-df-convert:hover {\n",
              "      background-color: #434B5C;\n",
              "      box-shadow: 0px 1px 3px 1px rgba(0, 0, 0, 0.15);\n",
              "      filter: drop-shadow(0px 1px 2px rgba(0, 0, 0, 0.3));\n",
              "      fill: #FFFFFF;\n",
              "    }\n",
              "  </style>\n",
              "\n",
              "      <script>\n",
              "        const buttonEl =\n",
              "          document.querySelector('#df-5b73d106-a238-42cb-a12a-7d8225d87880 button.colab-df-convert');\n",
              "        buttonEl.style.display =\n",
              "          google.colab.kernel.accessAllowed ? 'block' : 'none';\n",
              "\n",
              "        async function convertToInteractive(key) {\n",
              "          const element = document.querySelector('#df-5b73d106-a238-42cb-a12a-7d8225d87880');\n",
              "          const dataTable =\n",
              "            await google.colab.kernel.invokeFunction('convertToInteractive',\n",
              "                                                     [key], {});\n",
              "          if (!dataTable) return;\n",
              "\n",
              "          const docLinkHtml = 'Like what you see? Visit the ' +\n",
              "            '<a target=\"_blank\" href=https://colab.research.google.com/notebooks/data_table.ipynb>data table notebook</a>'\n",
              "            + ' to learn more about interactive tables.';\n",
              "          element.innerHTML = '';\n",
              "          dataTable['output_type'] = 'display_data';\n",
              "          await google.colab.output.renderOutput(dataTable, element);\n",
              "          const docLink = document.createElement('div');\n",
              "          docLink.innerHTML = docLinkHtml;\n",
              "          element.appendChild(docLink);\n",
              "        }\n",
              "      </script>\n",
              "    </div>\n",
              "  </div>\n",
              "  "
            ]
          },
          "metadata": {},
          "execution_count": 92
        }
      ]
    },
    {
      "cell_type": "code",
      "source": [
        "# now for region we can use get_dummies() for one hot encoding in \"region\" column\n",
        "data = pd.get_dummies(data)\n",
        "data.head()"
      ],
      "metadata": {
        "colab": {
          "base_uri": "https://localhost:8080/",
          "height": 206
        },
        "id": "RymWj3sZWioy",
        "outputId": "8409bad1-2ab4-4ef1-e106-6a07b9e30aeb"
      },
      "execution_count": null,
      "outputs": [
        {
          "output_type": "execute_result",
          "data": {
            "text/plain": [
              "   age  sex     bmi  children  smoker      charges  region_northeast  \\\n",
              "0   19    0  27.900         0       1  16884.92400                 0   \n",
              "1   18    1  33.770         1       0   1725.55230                 0   \n",
              "2   28    1  33.000         3       0   4449.46200                 0   \n",
              "3   33    1  22.705         0       0  21984.47061                 0   \n",
              "4   32    1  28.880         0       0   3866.85520                 0   \n",
              "\n",
              "   region_northwest  region_southeast  region_southwest  \n",
              "0                 0                 0                 1  \n",
              "1                 0                 1                 0  \n",
              "2                 0                 1                 0  \n",
              "3                 1                 0                 0  \n",
              "4                 1                 0                 0  "
            ],
            "text/html": [
              "\n",
              "  <div id=\"df-69c4915b-3647-425c-91ab-3f6b1aab2438\">\n",
              "    <div class=\"colab-df-container\">\n",
              "      <div>\n",
              "<style scoped>\n",
              "    .dataframe tbody tr th:only-of-type {\n",
              "        vertical-align: middle;\n",
              "    }\n",
              "\n",
              "    .dataframe tbody tr th {\n",
              "        vertical-align: top;\n",
              "    }\n",
              "\n",
              "    .dataframe thead th {\n",
              "        text-align: right;\n",
              "    }\n",
              "</style>\n",
              "<table border=\"1\" class=\"dataframe\">\n",
              "  <thead>\n",
              "    <tr style=\"text-align: right;\">\n",
              "      <th></th>\n",
              "      <th>age</th>\n",
              "      <th>sex</th>\n",
              "      <th>bmi</th>\n",
              "      <th>children</th>\n",
              "      <th>smoker</th>\n",
              "      <th>charges</th>\n",
              "      <th>region_northeast</th>\n",
              "      <th>region_northwest</th>\n",
              "      <th>region_southeast</th>\n",
              "      <th>region_southwest</th>\n",
              "    </tr>\n",
              "  </thead>\n",
              "  <tbody>\n",
              "    <tr>\n",
              "      <th>0</th>\n",
              "      <td>19</td>\n",
              "      <td>0</td>\n",
              "      <td>27.900</td>\n",
              "      <td>0</td>\n",
              "      <td>1</td>\n",
              "      <td>16884.92400</td>\n",
              "      <td>0</td>\n",
              "      <td>0</td>\n",
              "      <td>0</td>\n",
              "      <td>1</td>\n",
              "    </tr>\n",
              "    <tr>\n",
              "      <th>1</th>\n",
              "      <td>18</td>\n",
              "      <td>1</td>\n",
              "      <td>33.770</td>\n",
              "      <td>1</td>\n",
              "      <td>0</td>\n",
              "      <td>1725.55230</td>\n",
              "      <td>0</td>\n",
              "      <td>0</td>\n",
              "      <td>1</td>\n",
              "      <td>0</td>\n",
              "    </tr>\n",
              "    <tr>\n",
              "      <th>2</th>\n",
              "      <td>28</td>\n",
              "      <td>1</td>\n",
              "      <td>33.000</td>\n",
              "      <td>3</td>\n",
              "      <td>0</td>\n",
              "      <td>4449.46200</td>\n",
              "      <td>0</td>\n",
              "      <td>0</td>\n",
              "      <td>1</td>\n",
              "      <td>0</td>\n",
              "    </tr>\n",
              "    <tr>\n",
              "      <th>3</th>\n",
              "      <td>33</td>\n",
              "      <td>1</td>\n",
              "      <td>22.705</td>\n",
              "      <td>0</td>\n",
              "      <td>0</td>\n",
              "      <td>21984.47061</td>\n",
              "      <td>0</td>\n",
              "      <td>1</td>\n",
              "      <td>0</td>\n",
              "      <td>0</td>\n",
              "    </tr>\n",
              "    <tr>\n",
              "      <th>4</th>\n",
              "      <td>32</td>\n",
              "      <td>1</td>\n",
              "      <td>28.880</td>\n",
              "      <td>0</td>\n",
              "      <td>0</td>\n",
              "      <td>3866.85520</td>\n",
              "      <td>0</td>\n",
              "      <td>1</td>\n",
              "      <td>0</td>\n",
              "      <td>0</td>\n",
              "    </tr>\n",
              "  </tbody>\n",
              "</table>\n",
              "</div>\n",
              "      <button class=\"colab-df-convert\" onclick=\"convertToInteractive('df-69c4915b-3647-425c-91ab-3f6b1aab2438')\"\n",
              "              title=\"Convert this dataframe to an interactive table.\"\n",
              "              style=\"display:none;\">\n",
              "        \n",
              "  <svg xmlns=\"http://www.w3.org/2000/svg\" height=\"24px\"viewBox=\"0 0 24 24\"\n",
              "       width=\"24px\">\n",
              "    <path d=\"M0 0h24v24H0V0z\" fill=\"none\"/>\n",
              "    <path d=\"M18.56 5.44l.94 2.06.94-2.06 2.06-.94-2.06-.94-.94-2.06-.94 2.06-2.06.94zm-11 1L8.5 8.5l.94-2.06 2.06-.94-2.06-.94L8.5 2.5l-.94 2.06-2.06.94zm10 10l.94 2.06.94-2.06 2.06-.94-2.06-.94-.94-2.06-.94 2.06-2.06.94z\"/><path d=\"M17.41 7.96l-1.37-1.37c-.4-.4-.92-.59-1.43-.59-.52 0-1.04.2-1.43.59L10.3 9.45l-7.72 7.72c-.78.78-.78 2.05 0 2.83L4 21.41c.39.39.9.59 1.41.59.51 0 1.02-.2 1.41-.59l7.78-7.78 2.81-2.81c.8-.78.8-2.07 0-2.86zM5.41 20L4 18.59l7.72-7.72 1.47 1.35L5.41 20z\"/>\n",
              "  </svg>\n",
              "      </button>\n",
              "      \n",
              "  <style>\n",
              "    .colab-df-container {\n",
              "      display:flex;\n",
              "      flex-wrap:wrap;\n",
              "      gap: 12px;\n",
              "    }\n",
              "\n",
              "    .colab-df-convert {\n",
              "      background-color: #E8F0FE;\n",
              "      border: none;\n",
              "      border-radius: 50%;\n",
              "      cursor: pointer;\n",
              "      display: none;\n",
              "      fill: #1967D2;\n",
              "      height: 32px;\n",
              "      padding: 0 0 0 0;\n",
              "      width: 32px;\n",
              "    }\n",
              "\n",
              "    .colab-df-convert:hover {\n",
              "      background-color: #E2EBFA;\n",
              "      box-shadow: 0px 1px 2px rgba(60, 64, 67, 0.3), 0px 1px 3px 1px rgba(60, 64, 67, 0.15);\n",
              "      fill: #174EA6;\n",
              "    }\n",
              "\n",
              "    [theme=dark] .colab-df-convert {\n",
              "      background-color: #3B4455;\n",
              "      fill: #D2E3FC;\n",
              "    }\n",
              "\n",
              "    [theme=dark] .colab-df-convert:hover {\n",
              "      background-color: #434B5C;\n",
              "      box-shadow: 0px 1px 3px 1px rgba(0, 0, 0, 0.15);\n",
              "      filter: drop-shadow(0px 1px 2px rgba(0, 0, 0, 0.3));\n",
              "      fill: #FFFFFF;\n",
              "    }\n",
              "  </style>\n",
              "\n",
              "      <script>\n",
              "        const buttonEl =\n",
              "          document.querySelector('#df-69c4915b-3647-425c-91ab-3f6b1aab2438 button.colab-df-convert');\n",
              "        buttonEl.style.display =\n",
              "          google.colab.kernel.accessAllowed ? 'block' : 'none';\n",
              "\n",
              "        async function convertToInteractive(key) {\n",
              "          const element = document.querySelector('#df-69c4915b-3647-425c-91ab-3f6b1aab2438');\n",
              "          const dataTable =\n",
              "            await google.colab.kernel.invokeFunction('convertToInteractive',\n",
              "                                                     [key], {});\n",
              "          if (!dataTable) return;\n",
              "\n",
              "          const docLinkHtml = 'Like what you see? Visit the ' +\n",
              "            '<a target=\"_blank\" href=https://colab.research.google.com/notebooks/data_table.ipynb>data table notebook</a>'\n",
              "            + ' to learn more about interactive tables.';\n",
              "          element.innerHTML = '';\n",
              "          dataTable['output_type'] = 'display_data';\n",
              "          await google.colab.output.renderOutput(dataTable, element);\n",
              "          const docLink = document.createElement('div');\n",
              "          docLink.innerHTML = docLinkHtml;\n",
              "          element.appendChild(docLink);\n",
              "        }\n",
              "      </script>\n",
              "    </div>\n",
              "  </div>\n",
              "  "
            ]
          },
          "metadata": {},
          "execution_count": 93
        }
      ]
    },
    {
      "cell_type": "code",
      "source": [
        "# Create feature and label\n",
        "# Here \"charges\" is label and other columns are feature\n",
        "y = data['charges'] \n",
        "X = data.drop(columns= ['charges'], axis=1)"
      ],
      "metadata": {
        "id": "RBGAkGZxgKxG"
      },
      "execution_count": null,
      "outputs": []
    },
    {
      "cell_type": "code",
      "source": [
        "print(X.head())\n",
        "print(\"_ \" * 30)\n",
        "print(y) "
      ],
      "metadata": {
        "colab": {
          "base_uri": "https://localhost:8080/"
        },
        "id": "ReQLkyToiGK6",
        "outputId": "c3837a8c-f74e-4599-8c30-f53694721c77"
      },
      "execution_count": null,
      "outputs": [
        {
          "output_type": "stream",
          "name": "stdout",
          "text": [
            "   age  sex     bmi  children  smoker  region_northeast  region_northwest  \\\n",
            "0   19    0  27.900         0       1                 0                 0   \n",
            "1   18    1  33.770         1       0                 0                 0   \n",
            "2   28    1  33.000         3       0                 0                 0   \n",
            "3   33    1  22.705         0       0                 0                 1   \n",
            "4   32    1  28.880         0       0                 0                 1   \n",
            "\n",
            "   region_southeast  region_southwest  \n",
            "0                 0                 1  \n",
            "1                 1                 0  \n",
            "2                 1                 0  \n",
            "3                 0                 0  \n",
            "4                 0                 0  \n",
            "_ _ _ _ _ _ _ _ _ _ _ _ _ _ _ _ _ _ _ _ _ _ _ _ _ _ _ _ _ _ \n",
            "0       16884.92400\n",
            "1        1725.55230\n",
            "2        4449.46200\n",
            "3       21984.47061\n",
            "4        3866.85520\n",
            "           ...     \n",
            "1333    10600.54830\n",
            "1334     2205.98080\n",
            "1335     1629.83350\n",
            "1336     2007.94500\n",
            "1337    29141.36030\n",
            "Name: charges, Length: 1338, dtype: float64\n"
          ]
        }
      ]
    },
    {
      "cell_type": "code",
      "source": [
        "import seaborn as sns\n",
        "plt.figure(figsize=(10,7))\n",
        "sns.heatmap(data.corr())"
      ],
      "metadata": {
        "colab": {
          "base_uri": "https://localhost:8080/",
          "height": 527
        },
        "id": "sMkVsAhliHXp",
        "outputId": "fafcd0f7-cb68-4739-c061-d14f25e976be"
      },
      "execution_count": null,
      "outputs": [
        {
          "output_type": "execute_result",
          "data": {
            "text/plain": [
              "<matplotlib.axes._subplots.AxesSubplot at 0x7fbf6e0c5490>"
            ]
          },
          "metadata": {},
          "execution_count": 96
        },
        {
          "output_type": "display_data",
          "data": {
            "text/plain": [
              "<Figure size 720x504 with 2 Axes>"
            ],
            "image/png": "[encoded data removed]"
          },
          "metadata": {
            "needs_background": "light"
          }
        }
      ]
    },
    {
      "cell_type": "code",
      "source": [
        "# Create train test split\n",
        "\n",
        "from sklearn.model_selection import train_test_split\n",
        "\n",
        "X_train, X_test, y_train, y_test = train_test_split(X, y,test_size=0.2, random_state=42 )"
      ],
      "metadata": {
        "id": "G1mojNgKjUiL"
      },
      "execution_count": null,
      "outputs": []
    },
    {
      "cell_type": "code",
      "source": [
        "len(X), len(X_train), len(X_test)\n"
      ],
      "metadata": {
        "colab": {
          "base_uri": "https://localhost:8080/"
        },
        "id": "W8IjqsmJk_5j",
        "outputId": "7e7a16f9-9b98-46c0-84aa-9592efe86cdd"
      },
      "execution_count": null,
      "outputs": [
        {
          "output_type": "execute_result",
          "data": {
            "text/plain": [
              "560      9193.83850\n",
              "1285     8534.67180\n",
              "1142    27117.99378\n",
              "969      8596.82780\n",
              "486     12475.35130\n",
              "           ...     \n",
              "1095     4561.18850\n",
              "1130     8582.30230\n",
              "1294    11931.12525\n",
              "860     46113.51100\n",
              "1126    10214.63600\n",
              "Name: charges, Length: 1070, dtype: float64"
            ]
          },
          "metadata": {},
          "execution_count": 110
        }
      ]
    },
    {
      "cell_type": "code",
      "source": [
        "# build a neural network from it;\n",
        "\n",
        "tf.random.set_seed(42)\n",
        "\n",
        "new_model = tf.keras.Sequential([\n",
        "    tf.keras.layers.Dense(10),\n",
        "    tf.keras.layers.Dense(1)\n",
        "])\n",
        "\n",
        "new_model.compile(loss = tf.keras.losses.mae,\n",
        "                  optimizer= tf.keras.optimizers.SGD(),\n",
        "                  metrics=['mse'])\n",
        "\n",
        "new_model.fit(X_train, (y_train), verbose=1, epochs=200)"
      ],
      "metadata": {
        "colab": {
          "base_uri": "https://localhost:8080/"
        },
        "id": "0u6fN_k7lDxn",
        "outputId": "bfb255b5-5976-4b9e-981b-09b5f8930614"
      },
      "execution_count": null,
      "outputs": [
        {
          "output_type": "stream",
          "name": "stdout",
          "text": [
            "Epoch 1/200\n",
            "34/34 [==============================] - 1s 3ms/step - loss: 8653.1465 - mse: 189404512.0000\n",
            "Epoch 2/200\n",
            "34/34 [==============================] - 0s 4ms/step - loss: 7887.8345 - mse: 168245280.0000\n",
            "Epoch 3/200\n",
            "34/34 [==============================] - 0s 5ms/step - loss: 7534.6533 - mse: 164690448.0000\n",
            "Epoch 4/200\n",
            "34/34 [==============================] - 0s 5ms/step - loss: 7721.3418 - mse: 169289408.0000\n",
            "Epoch 5/200\n",
            "34/34 [==============================] - 0s 6ms/step - loss: 7764.1509 - mse: 166593024.0000\n",
            "Epoch 6/200\n",
            "34/34 [==============================] - 0s 7ms/step - loss: 7552.1641 - mse: 163926736.0000\n",
            "Epoch 7/200\n",
            "34/34 [==============================] - 0s 4ms/step - loss: 7604.3472 - mse: 162240208.0000\n",
            "Epoch 8/200\n",
            "34/34 [==============================] - 0s 3ms/step - loss: 7744.8833 - mse: 163472224.0000\n",
            "Epoch 9/200\n",
            "34/34 [==============================] - 0s 3ms/step - loss: 7612.5034 - mse: 164386128.0000\n",
            "Epoch 10/200\n",
            "34/34 [==============================] - 0s 2ms/step - loss: 7767.1646 - mse: 168346496.0000\n",
            "Epoch 11/200\n",
            "34/34 [==============================] - 0s 3ms/step - loss: 7502.8047 - mse: 163897584.0000\n",
            "Epoch 12/200\n",
            "34/34 [==============================] - 0s 2ms/step - loss: 7562.8027 - mse: 165372736.0000\n",
            "Epoch 13/200\n",
            "34/34 [==============================] - 0s 2ms/step - loss: 7721.0503 - mse: 169910096.0000\n",
            "Epoch 14/200\n",
            "34/34 [==============================] - 0s 3ms/step - loss: 7680.7632 - mse: 163797552.0000\n",
            "Epoch 15/200\n",
            "34/34 [==============================] - 0s 2ms/step - loss: 7661.7524 - mse: 164045920.0000\n",
            "Epoch 16/200\n",
            "34/34 [==============================] - 0s 3ms/step - loss: 7684.9561 - mse: 163397792.0000\n",
            "Epoch 17/200\n",
            "34/34 [==============================] - 0s 2ms/step - loss: 7636.7559 - mse: 165810608.0000\n",
            "Epoch 18/200\n",
            "34/34 [==============================] - 0s 2ms/step - loss: 7877.7534 - mse: 167874816.0000\n",
            "Epoch 19/200\n",
            "34/34 [==============================] - 0s 2ms/step - loss: 7673.6274 - mse: 169439760.0000\n",
            "Epoch 20/200\n",
            "34/34 [==============================] - 0s 2ms/step - loss: 7968.1533 - mse: 168294608.0000\n",
            "Epoch 21/200\n",
            "34/34 [==============================] - 0s 2ms/step - loss: 7564.7896 - mse: 163301872.0000\n",
            "Epoch 22/200\n",
            "34/34 [==============================] - 0s 2ms/step - loss: 7792.7935 - mse: 167146368.0000\n",
            "Epoch 23/200\n",
            "34/34 [==============================] - 0s 2ms/step - loss: 7822.1323 - mse: 162654528.0000\n",
            "Epoch 24/200\n",
            "34/34 [==============================] - 0s 3ms/step - loss: 7594.6724 - mse: 163382160.0000\n",
            "Epoch 25/200\n",
            "34/34 [==============================] - 0s 3ms/step - loss: 7814.7046 - mse: 165370848.0000\n",
            "Epoch 26/200\n",
            "34/34 [==============================] - 0s 2ms/step - loss: 7729.3442 - mse: 162978512.0000\n",
            "Epoch 27/200\n",
            "34/34 [==============================] - 0s 3ms/step - loss: 7484.4727 - mse: 159052848.0000\n",
            "Epoch 28/200\n",
            "34/34 [==============================] - 0s 2ms/step - loss: 7586.4775 - mse: 161431488.0000\n",
            "Epoch 29/200\n",
            "34/34 [==============================] - 0s 2ms/step - loss: 7575.4604 - mse: 161580272.0000\n",
            "Epoch 30/200\n",
            "34/34 [==============================] - 0s 2ms/step - loss: 7632.6572 - mse: 159912752.0000\n",
            "Epoch 31/200\n",
            "34/34 [==============================] - 0s 2ms/step - loss: 7679.9048 - mse: 162977952.0000\n",
            "Epoch 32/200\n",
            "34/34 [==============================] - 0s 2ms/step - loss: 7576.4482 - mse: 161302016.0000\n",
            "Epoch 33/200\n",
            "34/34 [==============================] - 0s 3ms/step - loss: 7550.6689 - mse: 157231952.0000\n",
            "Epoch 34/200\n",
            "34/34 [==============================] - 0s 2ms/step - loss: 7505.0776 - mse: 160355184.0000\n",
            "Epoch 35/200\n",
            "34/34 [==============================] - 0s 2ms/step - loss: 7475.9785 - mse: 163323168.0000\n",
            "Epoch 36/200\n",
            "34/34 [==============================] - 0s 3ms/step - loss: 7489.7524 - mse: 157535424.0000\n",
            "Epoch 37/200\n",
            "34/34 [==============================] - 0s 3ms/step - loss: 7539.6924 - mse: 160205520.0000\n",
            "Epoch 38/200\n",
            "34/34 [==============================] - 0s 3ms/step - loss: 7615.7822 - mse: 163392528.0000\n",
            "Epoch 39/200\n",
            "34/34 [==============================] - 0s 2ms/step - loss: 7716.0000 - mse: 162937984.0000\n",
            "Epoch 40/200\n",
            "34/34 [==============================] - 0s 2ms/step - loss: 7476.5229 - mse: 159527408.0000\n",
            "Epoch 41/200\n",
            "34/34 [==============================] - 0s 2ms/step - loss: 7725.9292 - mse: 161353488.0000\n",
            "Epoch 42/200\n",
            "34/34 [==============================] - 0s 2ms/step - loss: 7606.1528 - mse: 160920784.0000\n",
            "Epoch 43/200\n",
            "34/34 [==============================] - 0s 2ms/step - loss: 7841.8853 - mse: 164476400.0000\n",
            "Epoch 44/200\n",
            "34/34 [==============================] - 0s 2ms/step - loss: 7597.7334 - mse: 158622576.0000\n",
            "Epoch 45/200\n",
            "34/34 [==============================] - 0s 2ms/step - loss: 7623.8716 - mse: 160102080.0000\n",
            "Epoch 46/200\n",
            "34/34 [==============================] - 0s 2ms/step - loss: 7338.2256 - mse: 158999392.0000\n",
            "Epoch 47/200\n",
            "34/34 [==============================] - 0s 3ms/step - loss: 7499.3403 - mse: 158151408.0000\n",
            "Epoch 48/200\n",
            "34/34 [==============================] - 0s 3ms/step - loss: 7430.8711 - mse: 156837968.0000\n",
            "Epoch 49/200\n",
            "34/34 [==============================] - 0s 3ms/step - loss: 7461.5723 - mse: 157847664.0000\n",
            "Epoch 50/200\n",
            "34/34 [==============================] - 0s 2ms/step - loss: 7470.9243 - mse: 158256096.0000\n",
            "Epoch 51/200\n",
            "34/34 [==============================] - 0s 3ms/step - loss: 7526.6899 - mse: 159599120.0000\n",
            "Epoch 52/200\n",
            "34/34 [==============================] - 0s 2ms/step - loss: 7662.7192 - mse: 164779328.0000\n",
            "Epoch 53/200\n",
            "34/34 [==============================] - 0s 2ms/step - loss: 7713.1011 - mse: 159753344.0000\n",
            "Epoch 54/200\n",
            "34/34 [==============================] - 0s 2ms/step - loss: 7328.3203 - mse: 155972544.0000\n",
            "Epoch 55/200\n",
            "34/34 [==============================] - 0s 3ms/step - loss: 7548.0801 - mse: 159874496.0000\n",
            "Epoch 56/200\n",
            "34/34 [==============================] - 0s 2ms/step - loss: 7354.2881 - mse: 154328720.0000\n",
            "Epoch 57/200\n",
            "34/34 [==============================] - 0s 2ms/step - loss: 7398.7964 - mse: 157602480.0000\n",
            "Epoch 58/200\n",
            "34/34 [==============================] - 0s 3ms/step - loss: 7520.1440 - mse: 160188192.0000\n",
            "Epoch 59/200\n",
            "34/34 [==============================] - 0s 3ms/step - loss: 7774.3442 - mse: 162043968.0000\n",
            "Epoch 60/200\n",
            "34/34 [==============================] - 0s 2ms/step - loss: 7712.3857 - mse: 160532672.0000\n",
            "Epoch 61/200\n",
            "34/34 [==============================] - 0s 3ms/step - loss: 7576.5923 - mse: 157627792.0000\n",
            "Epoch 62/200\n",
            "34/34 [==============================] - 0s 2ms/step - loss: 7512.5034 - mse: 158104912.0000\n",
            "Epoch 63/200\n",
            "34/34 [==============================] - 0s 3ms/step - loss: 7566.1226 - mse: 157335968.0000\n",
            "Epoch 64/200\n",
            "34/34 [==============================] - 0s 3ms/step - loss: 7686.8247 - mse: 157163520.0000\n",
            "Epoch 65/200\n",
            "34/34 [==============================] - 0s 3ms/step - loss: 7591.5503 - mse: 159669632.0000\n",
            "Epoch 66/200\n",
            "34/34 [==============================] - 0s 3ms/step - loss: 7422.2280 - mse: 161097632.0000\n",
            "Epoch 67/200\n",
            "34/34 [==============================] - 0s 2ms/step - loss: 7566.1392 - mse: 160869680.0000\n",
            "Epoch 68/200\n",
            "34/34 [==============================] - 0s 3ms/step - loss: 7418.8882 - mse: 153686016.0000\n",
            "Epoch 69/200\n",
            "34/34 [==============================] - 0s 3ms/step - loss: 7667.7412 - mse: 165314240.0000\n",
            "Epoch 70/200\n",
            "34/34 [==============================] - 0s 3ms/step - loss: 7688.0708 - mse: 160422320.0000\n",
            "Epoch 71/200\n",
            "34/34 [==============================] - 0s 2ms/step - loss: 7413.1592 - mse: 159125344.0000\n",
            "Epoch 72/200\n",
            "34/34 [==============================] - 0s 2ms/step - loss: 7258.9561 - mse: 157549376.0000\n",
            "Epoch 73/200\n",
            "34/34 [==============================] - 0s 3ms/step - loss: 7607.7944 - mse: 156712736.0000\n",
            "Epoch 74/200\n",
            "34/34 [==============================] - 0s 3ms/step - loss: 7456.2012 - mse: 155802864.0000\n",
            "Epoch 75/200\n",
            "34/34 [==============================] - 0s 2ms/step - loss: 7531.5762 - mse: 157826576.0000\n",
            "Epoch 76/200\n",
            "34/34 [==============================] - 0s 3ms/step - loss: 7350.8604 - mse: 154782960.0000\n",
            "Epoch 77/200\n",
            "34/34 [==============================] - 0s 2ms/step - loss: 7402.0581 - mse: 154074112.0000\n",
            "Epoch 78/200\n",
            "34/34 [==============================] - 0s 2ms/step - loss: 7533.5410 - mse: 158062992.0000\n",
            "Epoch 79/200\n",
            "34/34 [==============================] - 0s 3ms/step - loss: 7412.2393 - mse: 155792960.0000\n",
            "Epoch 80/200\n",
            "34/34 [==============================] - 0s 2ms/step - loss: 7503.1211 - mse: 158411008.0000\n",
            "Epoch 81/200\n",
            "34/34 [==============================] - 0s 3ms/step - loss: 7308.0273 - mse: 154010144.0000\n",
            "Epoch 82/200\n",
            "34/34 [==============================] - 0s 2ms/step - loss: 7451.7075 - mse: 151444528.0000\n",
            "Epoch 83/200\n",
            "34/34 [==============================] - 0s 2ms/step - loss: 7574.8589 - mse: 153909456.0000\n",
            "Epoch 84/200\n",
            "34/34 [==============================] - 0s 3ms/step - loss: 7542.6719 - mse: 161379648.0000\n",
            "Epoch 85/200\n",
            "34/34 [==============================] - 0s 3ms/step - loss: 7745.8403 - mse: 159638480.0000\n",
            "Epoch 86/200\n",
            "34/34 [==============================] - 0s 2ms/step - loss: 7505.2773 - mse: 155510320.0000\n",
            "Epoch 87/200\n",
            "34/34 [==============================] - 0s 2ms/step - loss: 7356.4551 - mse: 154684224.0000\n",
            "Epoch 88/200\n",
            "34/34 [==============================] - 0s 2ms/step - loss: 7538.9863 - mse: 159789168.0000\n",
            "Epoch 89/200\n",
            "34/34 [==============================] - 0s 3ms/step - loss: 7501.0229 - mse: 158482048.0000\n",
            "Epoch 90/200\n",
            "34/34 [==============================] - 0s 2ms/step - loss: 7377.8857 - mse: 151733072.0000\n",
            "Epoch 91/200\n",
            "34/34 [==============================] - 0s 3ms/step - loss: 7324.3657 - mse: 150955728.0000\n",
            "Epoch 92/200\n",
            "34/34 [==============================] - 0s 2ms/step - loss: 7654.8081 - mse: 155195952.0000\n",
            "Epoch 93/200\n",
            "34/34 [==============================] - 0s 2ms/step - loss: 7494.2866 - mse: 160401152.0000\n",
            "Epoch 94/200\n",
            "34/34 [==============================] - 0s 2ms/step - loss: 7454.6484 - mse: 156731408.0000\n",
            "Epoch 95/200\n",
            "34/34 [==============================] - 0s 2ms/step - loss: 7679.4443 - mse: 156729952.0000\n",
            "Epoch 96/200\n",
            "34/34 [==============================] - 0s 3ms/step - loss: 7298.4980 - mse: 152453600.0000\n",
            "Epoch 97/200\n",
            "34/34 [==============================] - 0s 2ms/step - loss: 7483.2949 - mse: 150797104.0000\n",
            "Epoch 98/200\n",
            "34/34 [==============================] - 0s 2ms/step - loss: 7304.4756 - mse: 151834976.0000\n",
            "Epoch 99/200\n",
            "34/34 [==============================] - 0s 2ms/step - loss: 7541.6152 - mse: 154550224.0000\n",
            "Epoch 100/200\n",
            "34/34 [==============================] - 0s 3ms/step - loss: 7472.0210 - mse: 156167648.0000\n",
            "Epoch 101/200\n",
            "34/34 [==============================] - 0s 2ms/step - loss: 7674.7754 - mse: 159281632.0000\n",
            "Epoch 102/200\n",
            "34/34 [==============================] - 0s 3ms/step - loss: 7228.5630 - mse: 147256016.0000\n",
            "Epoch 103/200\n",
            "34/34 [==============================] - 0s 2ms/step - loss: 7349.7764 - mse: 151417136.0000\n",
            "Epoch 104/200\n",
            "34/34 [==============================] - 0s 3ms/step - loss: 7307.3516 - mse: 148986176.0000\n",
            "Epoch 105/200\n",
            "34/34 [==============================] - 0s 3ms/step - loss: 7669.4048 - mse: 153846080.0000\n",
            "Epoch 106/200\n",
            "34/34 [==============================] - 0s 3ms/step - loss: 7406.8945 - mse: 156586640.0000\n",
            "Epoch 107/200\n",
            "34/34 [==============================] - 0s 2ms/step - loss: 7250.9160 - mse: 149091392.0000\n",
            "Epoch 108/200\n",
            "34/34 [==============================] - 0s 2ms/step - loss: 7738.0962 - mse: 155128368.0000\n",
            "Epoch 109/200\n",
            "34/34 [==============================] - 0s 3ms/step - loss: 7507.2773 - mse: 156822128.0000\n",
            "Epoch 110/200\n",
            "34/34 [==============================] - 0s 3ms/step - loss: 7633.0737 - mse: 156044144.0000\n",
            "Epoch 111/200\n",
            "34/34 [==============================] - 0s 3ms/step - loss: 7390.1162 - mse: 151932864.0000\n",
            "Epoch 112/200\n",
            "34/34 [==============================] - 0s 3ms/step - loss: 7549.7808 - mse: 153001424.0000\n",
            "Epoch 113/200\n",
            "34/34 [==============================] - 0s 3ms/step - loss: 7382.7324 - mse: 147674496.0000\n",
            "Epoch 114/200\n",
            "34/34 [==============================] - 0s 3ms/step - loss: 7685.7388 - mse: 151752704.0000\n",
            "Epoch 115/200\n",
            "34/34 [==============================] - 0s 3ms/step - loss: 7287.6768 - mse: 147056608.0000\n",
            "Epoch 116/200\n",
            "34/34 [==============================] - 0s 2ms/step - loss: 7379.0029 - mse: 149351936.0000\n",
            "Epoch 117/200\n",
            "34/34 [==============================] - 0s 2ms/step - loss: 7408.9727 - mse: 149378624.0000\n",
            "Epoch 118/200\n",
            "34/34 [==============================] - 0s 3ms/step - loss: 7418.1680 - mse: 148217616.0000\n",
            "Epoch 119/200\n",
            "34/34 [==============================] - 0s 3ms/step - loss: 7559.8989 - mse: 147087056.0000\n",
            "Epoch 120/200\n",
            "34/34 [==============================] - 0s 2ms/step - loss: 7554.3237 - mse: 152509616.0000\n",
            "Epoch 121/200\n",
            "34/34 [==============================] - 0s 3ms/step - loss: 7488.3726 - mse: 149567008.0000\n",
            "Epoch 122/200\n",
            "34/34 [==============================] - 0s 3ms/step - loss: 7320.2104 - mse: 152110848.0000\n",
            "Epoch 123/200\n",
            "34/34 [==============================] - 0s 2ms/step - loss: 7325.7339 - mse: 154878528.0000\n",
            "Epoch 124/200\n",
            "34/34 [==============================] - 0s 3ms/step - loss: 7278.0054 - mse: 151705936.0000\n",
            "Epoch 125/200\n",
            "34/34 [==============================] - 0s 3ms/step - loss: 7474.0737 - mse: 149461616.0000\n",
            "Epoch 126/200\n",
            "34/34 [==============================] - 0s 3ms/step - loss: 7279.0103 - mse: 151322208.0000\n",
            "Epoch 127/200\n",
            "34/34 [==============================] - 0s 3ms/step - loss: 7337.7988 - mse: 144933328.0000\n",
            "Epoch 128/200\n",
            "34/34 [==============================] - 0s 3ms/step - loss: 7220.8809 - mse: 149159680.0000\n",
            "Epoch 129/200\n",
            "34/34 [==============================] - 0s 2ms/step - loss: 7619.2012 - mse: 156201648.0000\n",
            "Epoch 130/200\n",
            "34/34 [==============================] - 0s 3ms/step - loss: 7478.3374 - mse: 151845664.0000\n",
            "Epoch 131/200\n",
            "34/34 [==============================] - 0s 2ms/step - loss: 7373.4175 - mse: 146854512.0000\n",
            "Epoch 132/200\n",
            "34/34 [==============================] - 0s 3ms/step - loss: 7510.8662 - mse: 151342576.0000\n",
            "Epoch 133/200\n",
            "34/34 [==============================] - 0s 2ms/step - loss: 7348.1904 - mse: 144960512.0000\n",
            "Epoch 134/200\n",
            "34/34 [==============================] - 0s 2ms/step - loss: 7480.2876 - mse: 152806832.0000\n",
            "Epoch 135/200\n",
            "34/34 [==============================] - 0s 2ms/step - loss: 7405.8984 - mse: 152072576.0000\n",
            "Epoch 136/200\n",
            "34/34 [==============================] - 0s 3ms/step - loss: 7373.0103 - mse: 146841008.0000\n",
            "Epoch 137/200\n",
            "34/34 [==============================] - 0s 2ms/step - loss: 7373.3848 - mse: 142534128.0000\n",
            "Epoch 138/200\n",
            "34/34 [==============================] - 0s 3ms/step - loss: 7360.6797 - mse: 143051456.0000\n",
            "Epoch 139/200\n",
            "34/34 [==============================] - 0s 3ms/step - loss: 7546.2192 - mse: 145035456.0000\n",
            "Epoch 140/200\n",
            "34/34 [==============================] - 0s 3ms/step - loss: 7383.1562 - mse: 143804544.0000\n",
            "Epoch 141/200\n",
            "34/34 [==============================] - 0s 3ms/step - loss: 7605.4536 - mse: 152199776.0000\n",
            "Epoch 142/200\n",
            "34/34 [==============================] - 0s 3ms/step - loss: 7240.7876 - mse: 142496912.0000\n",
            "Epoch 143/200\n",
            "34/34 [==============================] - 0s 3ms/step - loss: 7394.8491 - mse: 156749120.0000\n",
            "Epoch 144/200\n",
            "34/34 [==============================] - 0s 3ms/step - loss: 6957.1509 - mse: 141751824.0000\n",
            "Epoch 145/200\n",
            "34/34 [==============================] - 0s 2ms/step - loss: 7502.8613 - mse: 147104976.0000\n",
            "Epoch 146/200\n",
            "34/34 [==============================] - 0s 3ms/step - loss: 7227.6113 - mse: 147308560.0000\n",
            "Epoch 147/200\n",
            "34/34 [==============================] - 0s 2ms/step - loss: 7335.7241 - mse: 146758176.0000\n",
            "Epoch 148/200\n",
            "34/34 [==============================] - 0s 2ms/step - loss: 7666.7334 - mse: 148821200.0000\n",
            "Epoch 149/200\n",
            "34/34 [==============================] - 0s 3ms/step - loss: 7360.2461 - mse: 146000704.0000\n",
            "Epoch 150/200\n",
            "34/34 [==============================] - 0s 2ms/step - loss: 7465.3667 - mse: 146561984.0000\n",
            "Epoch 151/200\n",
            "34/34 [==============================] - 0s 3ms/step - loss: 7542.3369 - mse: 146226016.0000\n",
            "Epoch 152/200\n",
            "34/34 [==============================] - 0s 3ms/step - loss: 7237.4502 - mse: 145651152.0000\n",
            "Epoch 153/200\n",
            "34/34 [==============================] - 0s 3ms/step - loss: 7194.4321 - mse: 137383984.0000\n",
            "Epoch 154/200\n",
            "34/34 [==============================] - 0s 3ms/step - loss: 7221.1865 - mse: 142766240.0000\n",
            "Epoch 155/200\n",
            "34/34 [==============================] - 0s 2ms/step - loss: 7111.4243 - mse: 139930576.0000\n",
            "Epoch 156/200\n",
            "34/34 [==============================] - 0s 2ms/step - loss: 7294.6064 - mse: 135802208.0000\n",
            "Epoch 157/200\n",
            "34/34 [==============================] - 0s 3ms/step - loss: 7267.3359 - mse: 140924592.0000\n",
            "Epoch 158/200\n",
            "34/34 [==============================] - 0s 3ms/step - loss: 7157.2583 - mse: 141736480.0000\n",
            "Epoch 159/200\n",
            "34/34 [==============================] - 0s 2ms/step - loss: 7228.4907 - mse: 142334592.0000\n",
            "Epoch 160/200\n",
            "34/34 [==============================] - 0s 2ms/step - loss: 7327.5273 - mse: 145521136.0000\n",
            "Epoch 161/200\n",
            "34/34 [==============================] - 0s 2ms/step - loss: 7278.6685 - mse: 138982928.0000\n",
            "Epoch 162/200\n",
            "34/34 [==============================] - 0s 2ms/step - loss: 7305.3779 - mse: 145275888.0000\n",
            "Epoch 163/200\n",
            "34/34 [==============================] - 0s 3ms/step - loss: 7423.6963 - mse: 147232816.0000\n",
            "Epoch 164/200\n",
            "34/34 [==============================] - 0s 3ms/step - loss: 7471.6323 - mse: 139700816.0000\n",
            "Epoch 165/200\n",
            "34/34 [==============================] - 0s 2ms/step - loss: 7398.7539 - mse: 142282880.0000\n",
            "Epoch 166/200\n",
            "34/34 [==============================] - 0s 3ms/step - loss: 7465.6201 - mse: 143363600.0000\n",
            "Epoch 167/200\n",
            "34/34 [==============================] - 0s 3ms/step - loss: 7202.2871 - mse: 137448656.0000\n",
            "Epoch 168/200\n",
            "34/34 [==============================] - 0s 2ms/step - loss: 7500.5210 - mse: 143922256.0000\n",
            "Epoch 169/200\n",
            "34/34 [==============================] - 0s 3ms/step - loss: 7292.9575 - mse: 142097584.0000\n",
            "Epoch 170/200\n",
            "34/34 [==============================] - 0s 3ms/step - loss: 7423.7729 - mse: 136077920.0000\n",
            "Epoch 171/200\n",
            "34/34 [==============================] - 0s 2ms/step - loss: 7479.6406 - mse: 144820128.0000\n",
            "Epoch 172/200\n",
            "34/34 [==============================] - 0s 3ms/step - loss: 7305.3872 - mse: 137805136.0000\n",
            "Epoch 173/200\n",
            "34/34 [==============================] - 0s 3ms/step - loss: 7031.3423 - mse: 136499824.0000\n",
            "Epoch 174/200\n",
            "34/34 [==============================] - 0s 3ms/step - loss: 7338.9229 - mse: 142070400.0000\n",
            "Epoch 175/200\n",
            "34/34 [==============================] - 0s 2ms/step - loss: 7162.9834 - mse: 141978176.0000\n",
            "Epoch 176/200\n",
            "34/34 [==============================] - 0s 3ms/step - loss: 7260.1113 - mse: 140739680.0000\n",
            "Epoch 177/200\n",
            "34/34 [==============================] - 0s 2ms/step - loss: 7207.6084 - mse: 142661136.0000\n",
            "Epoch 178/200\n",
            "34/34 [==============================] - 0s 3ms/step - loss: 7349.1221 - mse: 139869824.0000\n",
            "Epoch 179/200\n",
            "34/34 [==============================] - 0s 3ms/step - loss: 7313.2681 - mse: 139589152.0000\n",
            "Epoch 180/200\n",
            "34/34 [==============================] - 0s 3ms/step - loss: 7365.6470 - mse: 136213232.0000\n",
            "Epoch 181/200\n",
            "34/34 [==============================] - 0s 2ms/step - loss: 7248.4775 - mse: 138552624.0000\n",
            "Epoch 182/200\n",
            "34/34 [==============================] - 0s 3ms/step - loss: 6972.4834 - mse: 137152528.0000\n",
            "Epoch 183/200\n",
            "34/34 [==============================] - 0s 3ms/step - loss: 7459.9917 - mse: 138963488.0000\n",
            "Epoch 184/200\n",
            "34/34 [==============================] - 0s 3ms/step - loss: 7241.2847 - mse: 139734720.0000\n",
            "Epoch 185/200\n",
            "34/34 [==============================] - 0s 3ms/step - loss: 7322.9307 - mse: 136923424.0000\n",
            "Epoch 186/200\n",
            "34/34 [==============================] - 0s 2ms/step - loss: 7281.7139 - mse: 139389520.0000\n",
            "Epoch 187/200\n",
            "34/34 [==============================] - 0s 2ms/step - loss: 7082.6743 - mse: 132038928.0000\n",
            "Epoch 188/200\n",
            "34/34 [==============================] - 0s 2ms/step - loss: 7248.1777 - mse: 133208552.0000\n",
            "Epoch 189/200\n",
            "34/34 [==============================] - 0s 3ms/step - loss: 7340.0718 - mse: 139273920.0000\n",
            "Epoch 190/200\n",
            "34/34 [==============================] - 0s 3ms/step - loss: 7151.6528 - mse: 138991664.0000\n",
            "Epoch 191/200\n",
            "34/34 [==============================] - 0s 3ms/step - loss: 7261.4551 - mse: 135635648.0000\n",
            "Epoch 192/200\n",
            "34/34 [==============================] - 0s 2ms/step - loss: 7377.4326 - mse: 139492384.0000\n",
            "Epoch 193/200\n",
            "34/34 [==============================] - 0s 3ms/step - loss: 7448.4731 - mse: 137208288.0000\n",
            "Epoch 194/200\n",
            "34/34 [==============================] - 0s 3ms/step - loss: 6973.1826 - mse: 134297840.0000\n",
            "Epoch 195/200\n",
            "34/34 [==============================] - 0s 3ms/step - loss: 7297.3311 - mse: 137673040.0000\n",
            "Epoch 196/200\n",
            "34/34 [==============================] - 0s 3ms/step - loss: 7319.7183 - mse: 139051216.0000\n",
            "Epoch 197/200\n",
            "34/34 [==============================] - 0s 3ms/step - loss: 7020.1494 - mse: 129242840.0000\n",
            "Epoch 198/200\n",
            "34/34 [==============================] - 0s 2ms/step - loss: 7410.5176 - mse: 135513184.0000\n",
            "Epoch 199/200\n",
            "34/34 [==============================] - 0s 2ms/step - loss: 7098.4971 - mse: 138930176.0000\n",
            "Epoch 200/200\n",
            "34/34 [==============================] - 0s 3ms/step - loss: 7326.1665 - mse: 134873072.0000\n"
          ]
        },
        {
          "output_type": "execute_result",
          "data": {
            "text/plain": [
              "<keras.callbacks.History at 0x7fbf7fb12d60>"
            ]
          },
          "metadata": {},
          "execution_count": 113
        }
      ]
    },
    {
      "cell_type": "code",
      "source": [
        "y_pred = new_model.predict(X_test)\n",
        "y_pred.shape, y_test.shape"
      ],
      "metadata": {
        "colab": {
          "base_uri": "https://localhost:8080/"
        },
        "id": "ZoH0bm_dnI2u",
        "outputId": "6235b1a2-179f-4a43-915f-6935c371c9d8"
      },
      "execution_count": null,
      "outputs": [
        {
          "output_type": "stream",
          "name": "stdout",
          "text": [
            "9/9 [==============================] - 0s 2ms/step\n"
          ]
        },
        {
          "output_type": "execute_result",
          "data": {
            "text/plain": [
              "((268, 1), (268,))"
            ]
          },
          "metadata": {},
          "execution_count": 116
        }
      ]
    },
    {
      "cell_type": "code",
      "source": [
        "tf.metrics.mean_absolute_error(y_test, y_pred.squeeze())"
      ],
      "metadata": {
        "colab": {
          "base_uri": "https://localhost:8080/"
        },
        "id": "mtvfS4jDn4fT",
        "outputId": "1bec8dc9-6b88-4657-9046-6ffb07851b40"
      },
      "execution_count": null,
      "outputs": [
        {
          "output_type": "execute_result",
          "data": {
            "text/plain": [
              "<tf.Tensor: shape=(), dtype=float32, numpy=6426.861>"
            ]
          },
          "metadata": {},
          "execution_count": 117
        }
      ]
    },
    {
      "cell_type": "code",
      "source": [
        "new_model.evaluate(X_test, y_test)"
      ],
      "metadata": {
        "colab": {
          "base_uri": "https://localhost:8080/"
        },
        "id": "c5UHd9ICoAwg",
        "outputId": "442a8a71-5305-487d-b278-fde0bc32a31f"
      },
      "execution_count": null,
      "outputs": [
        {
          "output_type": "stream",
          "name": "stdout",
          "text": [
            "9/9 [==============================] - 0s 4ms/step - loss: 6426.8608 - mse: 117808056.0000\n"
          ]
        },
        {
          "output_type": "execute_result",
          "data": {
            "text/plain": [
              "[6426.86083984375, 117808056.0]"
            ]
          },
          "metadata": {},
          "execution_count": 118
        }
      ]
    },
    {
      "cell_type": "code",
      "source": [
        "# build a neural network from it;\n",
        "\n",
        "tf.random.set_seed(42)\n",
        "\n",
        "new_model_2 = tf.keras.Sequential([\n",
        "    tf.keras.layers.Dense(100, activation='relu'),\n",
        "    tf.keras.layers.Dense(1, activation='relu')\n",
        "])\n",
        "\n",
        "new_model_2.compile(loss = tf.keras.losses.mae,\n",
        "                  optimizer= tf.keras.optimizers.SGD(),\n",
        "                  metrics=['mse'])\n",
        "\n",
        "history2= new_model_2.fit(X_train, y_train, verbose=0, epochs=500)"
      ],
      "metadata": {
        "id": "XKsVZeUbq1nr"
      },
      "execution_count": null,
      "outputs": []
    },
    {
      "cell_type": "code",
      "source": [
        "new_model_2.evaluate(X_test, y_test)"
      ],
      "metadata": {
        "colab": {
          "base_uri": "https://localhost:8080/"
        },
        "id": "pM91rPfbrhHn",
        "outputId": "712d4df2-2c75-4b98-c567-3e25b3d13d07"
      },
      "execution_count": null,
      "outputs": [
        {
          "output_type": "stream",
          "name": "stdout",
          "text": [
            "9/9 [==============================] - 0s 2ms/step - loss: 4849.3828 - mse: 89553488.0000\n"
          ]
        },
        {
          "output_type": "execute_result",
          "data": {
            "text/plain": [
              "[4849.3828125, 89553488.0]"
            ]
          },
          "metadata": {},
          "execution_count": 126
        }
      ]
    },
    {
      "cell_type": "code",
      "source": [
        "# Build a neural network from it;\n",
        "\n",
        "tf.random.set_seed(42)\n",
        "\n",
        "new_model_3 = tf.keras.Sequential([\n",
        "    tf.keras.layers.Dense(100, activation='relu'),\n",
        "    tf.keras.layers.Dense(10, activation='relu'),\n",
        "    tf.keras.layers.Dense(1, activation='relu')\n",
        "])\n",
        "\n",
        "new_model_3.compile(loss = tf.keras.losses.mae,\n",
        "                  optimizer= tf.keras.optimizers.Adam(),\n",
        "                  metrics=['mse'])\n",
        "\n",
        "new_model_3.fit(X_train, y_train, verbose=0, epochs=500)"
      ],
      "metadata": {
        "colab": {
          "base_uri": "https://localhost:8080/"
        },
        "id": "laF66J1NsiNa",
        "outputId": "d3e02895-9e60-426b-c159-5b040ce9bc63"
      },
      "execution_count": null,
      "outputs": [
        {
          "output_type": "execute_result",
          "data": {
            "text/plain": [
              "<keras.callbacks.History at 0x7fbf7fee4880>"
            ]
          },
          "metadata": {},
          "execution_count": 131
        }
      ]
    },
    {
      "cell_type": "code",
      "source": [
        "new_model_3.evaluate(X_test, y_test)"
      ],
      "metadata": {
        "colab": {
          "base_uri": "https://localhost:8080/"
        },
        "id": "CLAd-SqQsu6h",
        "outputId": "17dfda9a-273d-4961-d720-c68005ef95fb"
      },
      "execution_count": null,
      "outputs": [
        {
          "output_type": "stream",
          "name": "stdout",
          "text": [
            "9/9 [==============================] - 0s 3ms/step - loss: 12968.3174 - mse: 323425984.0000\n"
          ]
        },
        {
          "output_type": "execute_result",
          "data": {
            "text/plain": [
              "[12968.3173828125, 323425984.0]"
            ]
          },
          "metadata": {},
          "execution_count": 132
        }
      ]
    },
    {
      "cell_type": "code",
      "source": [
        "# training for 200 epochs \n",
        "\n",
        "tf.random.set_seed(42)\n",
        "\n",
        "new_model_4 = tf.keras.Sequential([\n",
        "    tf.keras.layers.Dense(100, activation='relu'),\n",
        "    tf.keras.layers.Dense(10, activation='relu'),\n",
        "    tf.keras.layers.Dense(1, activation='relu')\n",
        "])\n",
        "\n",
        "new_model_4.compile(loss = tf.keras.losses.mae,\n",
        "                  optimizer= tf.keras.optimizers.Adam(),\n",
        "                  metrics=['mse'])\n",
        "\n",
        "history = new_model_4.fit(X_train, y_train, verbose=1, epochs=200)"
      ],
      "metadata": {
        "colab": {
          "base_uri": "https://localhost:8080/"
        },
        "id": "ZTYDLPCOt1w9",
        "outputId": "e96de029-61fb-4a66-de80-bd3ec0cd153a"
      },
      "execution_count": null,
      "outputs": [
        {
          "output_type": "stream",
          "name": "stdout",
          "text": [
            "Epoch 1/200\n",
            "34/34 [==============================] - 0s 3ms/step - loss: 13346.0908 - mse: 322451776.0000\n",
            "Epoch 2/200\n",
            "34/34 [==============================] - 0s 3ms/step - loss: 13346.0889 - mse: 322451744.0000\n",
            "Epoch 3/200\n",
            "34/34 [==============================] - 0s 3ms/step - loss: 13346.0908 - mse: 322451680.0000\n",
            "Epoch 4/200\n",
            "34/34 [==============================] - 0s 3ms/step - loss: 13346.0898 - mse: 322451712.0000\n",
            "Epoch 5/200\n",
            "34/34 [==============================] - 0s 3ms/step - loss: 13346.0898 - mse: 322451712.0000\n",
            "Epoch 6/200\n",
            "34/34 [==============================] - 0s 3ms/step - loss: 13346.0898 - mse: 322451776.0000\n",
            "Epoch 7/200\n",
            "34/34 [==============================] - 0s 3ms/step - loss: 13346.0898 - mse: 322451744.0000\n",
            "Epoch 8/200\n",
            "34/34 [==============================] - 0s 3ms/step - loss: 13346.0928 - mse: 322451712.0000\n",
            "Epoch 9/200\n",
            "34/34 [==============================] - 0s 3ms/step - loss: 13346.0918 - mse: 322451680.0000\n",
            "Epoch 10/200\n",
            "34/34 [==============================] - 0s 3ms/step - loss: 13346.0898 - mse: 322451712.0000\n",
            "Epoch 11/200\n",
            "34/34 [==============================] - 0s 3ms/step - loss: 13346.0908 - mse: 322451744.0000\n",
            "Epoch 12/200\n",
            "34/34 [==============================] - 0s 3ms/step - loss: 13346.0889 - mse: 322451712.0000\n",
            "Epoch 13/200\n",
            "34/34 [==============================] - 0s 3ms/step - loss: 13346.0889 - mse: 322451744.0000\n",
            "Epoch 14/200\n",
            "34/34 [==============================] - 0s 3ms/step - loss: 13346.0879 - mse: 322451712.0000\n",
            "Epoch 15/200\n",
            "34/34 [==============================] - 0s 3ms/step - loss: 13346.0908 - mse: 322451744.0000\n",
            "Epoch 16/200\n",
            "34/34 [==============================] - 0s 3ms/step - loss: 13346.0898 - mse: 322451712.0000\n",
            "Epoch 17/200\n",
            "34/34 [==============================] - 0s 3ms/step - loss: 13346.0898 - mse: 322451712.0000\n",
            "Epoch 18/200\n",
            "34/34 [==============================] - 0s 3ms/step - loss: 13346.0908 - mse: 322451712.0000\n",
            "Epoch 19/200\n",
            "34/34 [==============================] - 0s 3ms/step - loss: 13346.0898 - mse: 322451776.0000\n",
            "Epoch 20/200\n",
            "34/34 [==============================] - 0s 3ms/step - loss: 13346.0898 - mse: 322451744.0000\n",
            "Epoch 21/200\n",
            "34/34 [==============================] - 0s 3ms/step - loss: 13346.0908 - mse: 322451744.0000\n",
            "Epoch 22/200\n",
            "34/34 [==============================] - 0s 3ms/step - loss: 13346.0908 - mse: 322451712.0000\n",
            "Epoch 23/200\n",
            "34/34 [==============================] - 0s 3ms/step - loss: 13346.0889 - mse: 322451776.0000\n",
            "Epoch 24/200\n",
            "34/34 [==============================] - 0s 3ms/step - loss: 13346.0898 - mse: 322451744.0000\n",
            "Epoch 25/200\n",
            "34/34 [==============================] - 0s 3ms/step - loss: 13346.0908 - mse: 322451744.0000\n",
            "Epoch 26/200\n",
            "34/34 [==============================] - 0s 3ms/step - loss: 13346.0889 - mse: 322451744.0000\n",
            "Epoch 27/200\n",
            "34/34 [==============================] - 0s 3ms/step - loss: 13346.0918 - mse: 322451712.0000\n",
            "Epoch 28/200\n",
            "34/34 [==============================] - 0s 3ms/step - loss: 13346.0898 - mse: 322451712.0000\n",
            "Epoch 29/200\n",
            "34/34 [==============================] - 0s 3ms/step - loss: 13346.0918 - mse: 322451712.0000\n",
            "Epoch 30/200\n",
            "34/34 [==============================] - 0s 3ms/step - loss: 13346.0879 - mse: 322451712.0000\n",
            "Epoch 31/200\n",
            "34/34 [==============================] - 0s 3ms/step - loss: 13346.0898 - mse: 322451648.0000\n",
            "Epoch 32/200\n",
            "34/34 [==============================] - 0s 3ms/step - loss: 13346.0879 - mse: 322451712.0000\n",
            "Epoch 33/200\n",
            "34/34 [==============================] - 0s 3ms/step - loss: 13346.0889 - mse: 322451712.0000\n",
            "Epoch 34/200\n",
            "34/34 [==============================] - 0s 3ms/step - loss: 13346.0898 - mse: 322451712.0000\n",
            "Epoch 35/200\n",
            "34/34 [==============================] - 0s 3ms/step - loss: 13346.0908 - mse: 322451712.0000\n",
            "Epoch 36/200\n",
            "34/34 [==============================] - 0s 3ms/step - loss: 13346.0908 - mse: 322451776.0000\n",
            "Epoch 37/200\n",
            "34/34 [==============================] - 0s 3ms/step - loss: 13346.0908 - mse: 322451744.0000\n",
            "Epoch 38/200\n",
            "34/34 [==============================] - 0s 3ms/step - loss: 13346.0898 - mse: 322451712.0000\n",
            "Epoch 39/200\n",
            "34/34 [==============================] - 0s 3ms/step - loss: 13346.0898 - mse: 322451712.0000\n",
            "Epoch 40/200\n",
            "34/34 [==============================] - 0s 3ms/step - loss: 13346.0908 - mse: 322451744.0000\n",
            "Epoch 41/200\n",
            "34/34 [==============================] - 0s 3ms/step - loss: 13346.0869 - mse: 322451712.0000\n",
            "Epoch 42/200\n",
            "34/34 [==============================] - 0s 3ms/step - loss: 13346.0908 - mse: 322451744.0000\n",
            "Epoch 43/200\n",
            "34/34 [==============================] - 0s 3ms/step - loss: 13346.0898 - mse: 322451712.0000\n",
            "Epoch 44/200\n",
            "34/34 [==============================] - 0s 3ms/step - loss: 13346.0898 - mse: 322451712.0000\n",
            "Epoch 45/200\n",
            "34/34 [==============================] - 0s 3ms/step - loss: 13346.0879 - mse: 322451712.0000\n",
            "Epoch 46/200\n",
            "34/34 [==============================] - 0s 3ms/step - loss: 13346.0898 - mse: 322451712.0000\n",
            "Epoch 47/200\n",
            "34/34 [==============================] - 0s 3ms/step - loss: 13346.0898 - mse: 322451776.0000\n",
            "Epoch 48/200\n",
            "34/34 [==============================] - 0s 3ms/step - loss: 13346.0898 - mse: 322451712.0000\n",
            "Epoch 49/200\n",
            "34/34 [==============================] - 0s 3ms/step - loss: 13346.0908 - mse: 322451744.0000\n",
            "Epoch 50/200\n",
            "34/34 [==============================] - 0s 3ms/step - loss: 13346.0889 - mse: 322451712.0000\n",
            "Epoch 51/200\n",
            "34/34 [==============================] - 0s 3ms/step - loss: 13346.0879 - mse: 322451744.0000\n",
            "Epoch 52/200\n",
            "34/34 [==============================] - 0s 3ms/step - loss: 13346.0918 - mse: 322451712.0000\n",
            "Epoch 53/200\n",
            "34/34 [==============================] - 0s 3ms/step - loss: 13346.0898 - mse: 322451744.0000\n",
            "Epoch 54/200\n",
            "34/34 [==============================] - 0s 3ms/step - loss: 13346.0898 - mse: 322451744.0000\n",
            "Epoch 55/200\n",
            "34/34 [==============================] - 0s 3ms/step - loss: 13346.0898 - mse: 322451712.0000\n",
            "Epoch 56/200\n",
            "34/34 [==============================] - 0s 3ms/step - loss: 13346.0898 - mse: 322451776.0000\n",
            "Epoch 57/200\n",
            "34/34 [==============================] - 0s 3ms/step - loss: 13346.0879 - mse: 322451712.0000\n",
            "Epoch 58/200\n",
            "34/34 [==============================] - 0s 3ms/step - loss: 13346.0889 - mse: 322451712.0000\n",
            "Epoch 59/200\n",
            "34/34 [==============================] - 0s 3ms/step - loss: 13346.0889 - mse: 322451744.0000\n",
            "Epoch 60/200\n",
            "34/34 [==============================] - 0s 3ms/step - loss: 13346.0889 - mse: 322451744.0000\n",
            "Epoch 61/200\n",
            "34/34 [==============================] - 0s 3ms/step - loss: 13346.0908 - mse: 322451712.0000\n",
            "Epoch 62/200\n",
            "34/34 [==============================] - 0s 3ms/step - loss: 13346.0928 - mse: 322451744.0000\n",
            "Epoch 63/200\n",
            "34/34 [==============================] - 0s 3ms/step - loss: 13346.0898 - mse: 322451744.0000\n",
            "Epoch 64/200\n",
            "34/34 [==============================] - 0s 3ms/step - loss: 13346.0879 - mse: 322451712.0000\n",
            "Epoch 65/200\n",
            "34/34 [==============================] - 0s 3ms/step - loss: 13346.0898 - mse: 322451712.0000\n",
            "Epoch 66/200\n",
            "34/34 [==============================] - 0s 3ms/step - loss: 13346.0918 - mse: 322451712.0000\n",
            "Epoch 67/200\n",
            "34/34 [==============================] - 0s 3ms/step - loss: 13346.0879 - mse: 322451744.0000\n",
            "Epoch 68/200\n",
            "34/34 [==============================] - 0s 3ms/step - loss: 13346.0898 - mse: 322451712.0000\n",
            "Epoch 69/200\n",
            "34/34 [==============================] - 0s 3ms/step - loss: 13346.0908 - mse: 322451680.0000\n",
            "Epoch 70/200\n",
            "34/34 [==============================] - 0s 3ms/step - loss: 13346.0898 - mse: 322451712.0000\n",
            "Epoch 71/200\n",
            "34/34 [==============================] - 0s 3ms/step - loss: 13346.0889 - mse: 322451712.0000\n",
            "Epoch 72/200\n",
            "34/34 [==============================] - 0s 3ms/step - loss: 13346.0908 - mse: 322451744.0000\n",
            "Epoch 73/200\n",
            "34/34 [==============================] - 0s 3ms/step - loss: 13346.0879 - mse: 322451712.0000\n",
            "Epoch 74/200\n",
            "34/34 [==============================] - 0s 3ms/step - loss: 13346.0908 - mse: 322451744.0000\n",
            "Epoch 75/200\n",
            "34/34 [==============================] - 0s 3ms/step - loss: 13346.0879 - mse: 322451712.0000\n",
            "Epoch 76/200\n",
            "34/34 [==============================] - 0s 3ms/step - loss: 13346.0889 - mse: 322451744.0000\n",
            "Epoch 77/200\n",
            "34/34 [==============================] - 0s 3ms/step - loss: 13346.0908 - mse: 322451712.0000\n",
            "Epoch 78/200\n",
            "34/34 [==============================] - 0s 3ms/step - loss: 13346.0889 - mse: 322451712.0000\n",
            "Epoch 79/200\n",
            "34/34 [==============================] - 0s 3ms/step - loss: 13346.0908 - mse: 322451744.0000\n",
            "Epoch 80/200\n",
            "34/34 [==============================] - 0s 3ms/step - loss: 13346.0879 - mse: 322451712.0000\n",
            "Epoch 81/200\n",
            "34/34 [==============================] - 0s 3ms/step - loss: 13346.0898 - mse: 322451712.0000\n",
            "Epoch 82/200\n",
            "34/34 [==============================] - 0s 3ms/step - loss: 13346.0908 - mse: 322451712.0000\n",
            "Epoch 83/200\n",
            "34/34 [==============================] - 0s 3ms/step - loss: 13346.0908 - mse: 322451712.0000\n",
            "Epoch 84/200\n",
            "34/34 [==============================] - 0s 3ms/step - loss: 13346.0898 - mse: 322451712.0000\n",
            "Epoch 85/200\n",
            "34/34 [==============================] - 0s 3ms/step - loss: 13346.0908 - mse: 322451680.0000\n",
            "Epoch 86/200\n",
            "34/34 [==============================] - 0s 3ms/step - loss: 13346.0918 - mse: 322451712.0000\n",
            "Epoch 87/200\n",
            "34/34 [==============================] - 0s 3ms/step - loss: 13346.0898 - mse: 322451712.0000\n",
            "Epoch 88/200\n",
            "34/34 [==============================] - 0s 3ms/step - loss: 13346.0908 - mse: 322451744.0000\n",
            "Epoch 89/200\n",
            "34/34 [==============================] - 0s 3ms/step - loss: 13346.0879 - mse: 322451744.0000\n",
            "Epoch 90/200\n",
            "34/34 [==============================] - 0s 3ms/step - loss: 13346.0889 - mse: 322451712.0000\n",
            "Epoch 91/200\n",
            "34/34 [==============================] - 0s 3ms/step - loss: 13346.0898 - mse: 322451712.0000\n",
            "Epoch 92/200\n",
            "34/34 [==============================] - 0s 3ms/step - loss: 13346.0908 - mse: 322451680.0000\n",
            "Epoch 93/200\n",
            "34/34 [==============================] - 0s 3ms/step - loss: 13346.0898 - mse: 322451712.0000\n",
            "Epoch 94/200\n",
            "34/34 [==============================] - 0s 3ms/step - loss: 13346.0889 - mse: 322451744.0000\n",
            "Epoch 95/200\n",
            "34/34 [==============================] - 0s 3ms/step - loss: 13346.0879 - mse: 322451744.0000\n",
            "Epoch 96/200\n",
            "34/34 [==============================] - 0s 3ms/step - loss: 13346.0898 - mse: 322451744.0000\n",
            "Epoch 97/200\n",
            "34/34 [==============================] - 0s 3ms/step - loss: 13346.0898 - mse: 322451712.0000\n",
            "Epoch 98/200\n",
            "34/34 [==============================] - 0s 3ms/step - loss: 13346.0879 - mse: 322451744.0000\n",
            "Epoch 99/200\n",
            "34/34 [==============================] - 0s 3ms/step - loss: 13346.0908 - mse: 322451744.0000\n",
            "Epoch 100/200\n",
            "34/34 [==============================] - 0s 3ms/step - loss: 13346.0898 - mse: 322451712.0000\n",
            "Epoch 101/200\n",
            "34/34 [==============================] - 0s 3ms/step - loss: 13346.0918 - mse: 322451744.0000\n",
            "Epoch 102/200\n",
            "34/34 [==============================] - 0s 3ms/step - loss: 13346.0889 - mse: 322451712.0000\n",
            "Epoch 103/200\n",
            "34/34 [==============================] - 0s 3ms/step - loss: 13346.0869 - mse: 322451776.0000\n",
            "Epoch 104/200\n",
            "34/34 [==============================] - 0s 3ms/step - loss: 13346.0898 - mse: 322451712.0000\n",
            "Epoch 105/200\n",
            "34/34 [==============================] - 0s 3ms/step - loss: 13346.0898 - mse: 322451712.0000\n",
            "Epoch 106/200\n",
            "34/34 [==============================] - 0s 3ms/step - loss: 13346.0918 - mse: 322451712.0000\n",
            "Epoch 107/200\n",
            "34/34 [==============================] - 0s 3ms/step - loss: 13346.0908 - mse: 322451744.0000\n",
            "Epoch 108/200\n",
            "34/34 [==============================] - 0s 3ms/step - loss: 13346.0898 - mse: 322451744.0000\n",
            "Epoch 109/200\n",
            "34/34 [==============================] - 0s 3ms/step - loss: 13346.0908 - mse: 322451744.0000\n",
            "Epoch 110/200\n",
            "34/34 [==============================] - 0s 3ms/step - loss: 13346.0898 - mse: 322451744.0000\n",
            "Epoch 111/200\n",
            "34/34 [==============================] - 0s 3ms/step - loss: 13346.0879 - mse: 322451776.0000\n",
            "Epoch 112/200\n",
            "34/34 [==============================] - 0s 3ms/step - loss: 13346.0908 - mse: 322451712.0000\n",
            "Epoch 113/200\n",
            "34/34 [==============================] - 0s 3ms/step - loss: 13346.0898 - mse: 322451712.0000\n",
            "Epoch 114/200\n",
            "34/34 [==============================] - 0s 3ms/step - loss: 13346.0879 - mse: 322451744.0000\n",
            "Epoch 115/200\n",
            "34/34 [==============================] - 0s 3ms/step - loss: 13346.0879 - mse: 322451712.0000\n",
            "Epoch 116/200\n",
            "34/34 [==============================] - 0s 3ms/step - loss: 13346.0889 - mse: 322451744.0000\n",
            "Epoch 117/200\n",
            "34/34 [==============================] - 0s 3ms/step - loss: 13346.0898 - mse: 322451680.0000\n",
            "Epoch 118/200\n",
            "34/34 [==============================] - 0s 3ms/step - loss: 13346.0918 - mse: 322451712.0000\n",
            "Epoch 119/200\n",
            "34/34 [==============================] - 0s 3ms/step - loss: 13346.0898 - mse: 322451712.0000\n",
            "Epoch 120/200\n",
            "34/34 [==============================] - 0s 3ms/step - loss: 13346.0889 - mse: 322451712.0000\n",
            "Epoch 121/200\n",
            "34/34 [==============================] - 0s 3ms/step - loss: 13346.0889 - mse: 322451712.0000\n",
            "Epoch 122/200\n",
            "34/34 [==============================] - 0s 3ms/step - loss: 13346.0908 - mse: 322451712.0000\n",
            "Epoch 123/200\n",
            "34/34 [==============================] - 0s 3ms/step - loss: 13346.0898 - mse: 322451712.0000\n",
            "Epoch 124/200\n",
            "34/34 [==============================] - 0s 3ms/step - loss: 13346.0908 - mse: 322451776.0000\n",
            "Epoch 125/200\n",
            "34/34 [==============================] - 0s 3ms/step - loss: 13346.0908 - mse: 322451712.0000\n",
            "Epoch 126/200\n",
            "34/34 [==============================] - 0s 3ms/step - loss: 13346.0898 - mse: 322451744.0000\n",
            "Epoch 127/200\n",
            "34/34 [==============================] - 0s 3ms/step - loss: 13346.0898 - mse: 322451712.0000\n",
            "Epoch 128/200\n",
            "34/34 [==============================] - 0s 3ms/step - loss: 13346.0908 - mse: 322451712.0000\n",
            "Epoch 129/200\n",
            "34/34 [==============================] - 0s 3ms/step - loss: 13346.0889 - mse: 322451712.0000\n",
            "Epoch 130/200\n",
            "34/34 [==============================] - 0s 3ms/step - loss: 13346.0879 - mse: 322451712.0000\n",
            "Epoch 131/200\n",
            "34/34 [==============================] - 0s 3ms/step - loss: 13346.0869 - mse: 322451712.0000\n",
            "Epoch 132/200\n",
            "34/34 [==============================] - 0s 3ms/step - loss: 13346.0889 - mse: 322451680.0000\n",
            "Epoch 133/200\n",
            "34/34 [==============================] - 0s 3ms/step - loss: 13346.0908 - mse: 322451712.0000\n",
            "Epoch 134/200\n",
            "34/34 [==============================] - 0s 3ms/step - loss: 13346.0889 - mse: 322451712.0000\n",
            "Epoch 135/200\n",
            "34/34 [==============================] - 0s 3ms/step - loss: 13346.0898 - mse: 322451712.0000\n",
            "Epoch 136/200\n",
            "34/34 [==============================] - 0s 3ms/step - loss: 13346.0889 - mse: 322451712.0000\n",
            "Epoch 137/200\n",
            "34/34 [==============================] - 0s 3ms/step - loss: 13346.0918 - mse: 322451744.0000\n",
            "Epoch 138/200\n",
            "34/34 [==============================] - 0s 3ms/step - loss: 13346.0908 - mse: 322451712.0000\n",
            "Epoch 139/200\n",
            "34/34 [==============================] - 0s 3ms/step - loss: 13346.0889 - mse: 322451712.0000\n",
            "Epoch 140/200\n",
            "34/34 [==============================] - 0s 3ms/step - loss: 13346.0928 - mse: 322451712.0000\n",
            "Epoch 141/200\n",
            "34/34 [==============================] - 0s 3ms/step - loss: 13346.0908 - mse: 322451712.0000\n",
            "Epoch 142/200\n",
            "34/34 [==============================] - 0s 3ms/step - loss: 13346.0889 - mse: 322451712.0000\n",
            "Epoch 143/200\n",
            "34/34 [==============================] - 0s 3ms/step - loss: 13346.0908 - mse: 322451712.0000\n",
            "Epoch 144/200\n",
            "34/34 [==============================] - 0s 4ms/step - loss: 13346.0918 - mse: 322451712.0000\n",
            "Epoch 145/200\n",
            "34/34 [==============================] - 0s 3ms/step - loss: 13346.0928 - mse: 322451744.0000\n",
            "Epoch 146/200\n",
            "34/34 [==============================] - 0s 3ms/step - loss: 13346.0898 - mse: 322451712.0000\n",
            "Epoch 147/200\n",
            "34/34 [==============================] - 0s 3ms/step - loss: 13346.0908 - mse: 322451744.0000\n",
            "Epoch 148/200\n",
            "34/34 [==============================] - 0s 3ms/step - loss: 13346.0889 - mse: 322451712.0000\n",
            "Epoch 149/200\n",
            "34/34 [==============================] - 0s 3ms/step - loss: 13346.0908 - mse: 322451744.0000\n",
            "Epoch 150/200\n",
            "34/34 [==============================] - 0s 3ms/step - loss: 13346.0869 - mse: 322451712.0000\n",
            "Epoch 151/200\n",
            "34/34 [==============================] - 0s 3ms/step - loss: 13346.0879 - mse: 322451744.0000\n",
            "Epoch 152/200\n",
            "34/34 [==============================] - 0s 3ms/step - loss: 13346.0889 - mse: 322451776.0000\n",
            "Epoch 153/200\n",
            "34/34 [==============================] - 0s 3ms/step - loss: 13346.0889 - mse: 322451712.0000\n",
            "Epoch 154/200\n",
            "34/34 [==============================] - 0s 3ms/step - loss: 13346.0908 - mse: 322451712.0000\n",
            "Epoch 155/200\n",
            "34/34 [==============================] - 0s 3ms/step - loss: 13346.0889 - mse: 322451712.0000\n",
            "Epoch 156/200\n",
            "34/34 [==============================] - 0s 3ms/step - loss: 13346.0918 - mse: 322451712.0000\n",
            "Epoch 157/200\n",
            "34/34 [==============================] - 0s 3ms/step - loss: 13346.0898 - mse: 322451712.0000\n",
            "Epoch 158/200\n",
            "34/34 [==============================] - 0s 3ms/step - loss: 13346.0889 - mse: 322451712.0000\n",
            "Epoch 159/200\n",
            "34/34 [==============================] - 0s 3ms/step - loss: 13346.0889 - mse: 322451744.0000\n",
            "Epoch 160/200\n",
            "34/34 [==============================] - 0s 3ms/step - loss: 13346.0908 - mse: 322451712.0000\n",
            "Epoch 161/200\n",
            "34/34 [==============================] - 0s 3ms/step - loss: 13346.0908 - mse: 322451712.0000\n",
            "Epoch 162/200\n",
            "34/34 [==============================] - 0s 3ms/step - loss: 13346.0908 - mse: 322451712.0000\n",
            "Epoch 163/200\n",
            "34/34 [==============================] - 0s 3ms/step - loss: 13346.0908 - mse: 322451712.0000\n",
            "Epoch 164/200\n",
            "34/34 [==============================] - 0s 3ms/step - loss: 13346.0918 - mse: 322451712.0000\n",
            "Epoch 165/200\n",
            "34/34 [==============================] - 0s 3ms/step - loss: 13346.0898 - mse: 322451712.0000\n",
            "Epoch 166/200\n",
            "34/34 [==============================] - 0s 3ms/step - loss: 13346.0898 - mse: 322451712.0000\n",
            "Epoch 167/200\n",
            "34/34 [==============================] - 0s 3ms/step - loss: 13346.0918 - mse: 322451712.0000\n",
            "Epoch 168/200\n",
            "34/34 [==============================] - 0s 3ms/step - loss: 13346.0908 - mse: 322451712.0000\n",
            "Epoch 169/200\n",
            "34/34 [==============================] - 0s 3ms/step - loss: 13346.0898 - mse: 322451712.0000\n",
            "Epoch 170/200\n",
            "34/34 [==============================] - 0s 3ms/step - loss: 13346.0898 - mse: 322451744.0000\n",
            "Epoch 171/200\n",
            "34/34 [==============================] - 0s 3ms/step - loss: 13346.0879 - mse: 322451712.0000\n",
            "Epoch 172/200\n",
            "34/34 [==============================] - 0s 3ms/step - loss: 13346.0898 - mse: 322451744.0000\n",
            "Epoch 173/200\n",
            "34/34 [==============================] - 0s 4ms/step - loss: 13346.0898 - mse: 322451712.0000\n",
            "Epoch 174/200\n",
            "34/34 [==============================] - 0s 3ms/step - loss: 13346.0908 - mse: 322451744.0000\n",
            "Epoch 175/200\n",
            "34/34 [==============================] - 0s 3ms/step - loss: 13346.0879 - mse: 322451680.0000\n",
            "Epoch 176/200\n",
            "34/34 [==============================] - 0s 3ms/step - loss: 13346.0908 - mse: 322451712.0000\n",
            "Epoch 177/200\n",
            "34/34 [==============================] - 0s 3ms/step - loss: 13346.0908 - mse: 322451744.0000\n",
            "Epoch 178/200\n",
            "34/34 [==============================] - 0s 3ms/step - loss: 13346.0898 - mse: 322451744.0000\n",
            "Epoch 179/200\n",
            "34/34 [==============================] - 0s 3ms/step - loss: 13346.0879 - mse: 322451744.0000\n",
            "Epoch 180/200\n",
            "34/34 [==============================] - 0s 3ms/step - loss: 13346.0889 - mse: 322451744.0000\n",
            "Epoch 181/200\n",
            "34/34 [==============================] - 0s 3ms/step - loss: 13346.0898 - mse: 322451712.0000\n",
            "Epoch 182/200\n",
            "34/34 [==============================] - 0s 3ms/step - loss: 13346.0898 - mse: 322451712.0000\n",
            "Epoch 183/200\n",
            "34/34 [==============================] - 0s 3ms/step - loss: 13346.0908 - mse: 322451712.0000\n",
            "Epoch 184/200\n",
            "34/34 [==============================] - 0s 3ms/step - loss: 13346.0869 - mse: 322451712.0000\n",
            "Epoch 185/200\n",
            "34/34 [==============================] - 0s 3ms/step - loss: 13346.0918 - mse: 322451712.0000\n",
            "Epoch 186/200\n",
            "34/34 [==============================] - 0s 3ms/step - loss: 13346.0898 - mse: 322451776.0000\n",
            "Epoch 187/200\n",
            "34/34 [==============================] - 0s 3ms/step - loss: 13346.0889 - mse: 322451712.0000\n",
            "Epoch 188/200\n",
            "34/34 [==============================] - 0s 3ms/step - loss: 13346.0898 - mse: 322451712.0000\n",
            "Epoch 189/200\n",
            "34/34 [==============================] - 0s 3ms/step - loss: 13346.0908 - mse: 322451744.0000\n",
            "Epoch 190/200\n",
            "34/34 [==============================] - 0s 3ms/step - loss: 13346.0889 - mse: 322451744.0000\n",
            "Epoch 191/200\n",
            "34/34 [==============================] - 0s 3ms/step - loss: 13346.0889 - mse: 322451744.0000\n",
            "Epoch 192/200\n",
            "34/34 [==============================] - 0s 3ms/step - loss: 13346.0898 - mse: 322451712.0000\n",
            "Epoch 193/200\n",
            "34/34 [==============================] - 0s 3ms/step - loss: 13346.0889 - mse: 322451744.0000\n",
            "Epoch 194/200\n",
            "34/34 [==============================] - 0s 3ms/step - loss: 13346.0879 - mse: 322451744.0000\n",
            "Epoch 195/200\n",
            "34/34 [==============================] - 0s 3ms/step - loss: 13346.0889 - mse: 322451712.0000\n",
            "Epoch 196/200\n",
            "34/34 [==============================] - 0s 3ms/step - loss: 13346.0889 - mse: 322451776.0000\n",
            "Epoch 197/200\n",
            "34/34 [==============================] - 0s 3ms/step - loss: 13346.0908 - mse: 322451776.0000\n",
            "Epoch 198/200\n",
            "34/34 [==============================] - 0s 3ms/step - loss: 13346.0898 - mse: 322451712.0000\n",
            "Epoch 199/200\n",
            "34/34 [==============================] - 0s 3ms/step - loss: 13346.0918 - mse: 322451744.0000\n",
            "Epoch 200/200\n",
            "34/34 [==============================] - 0s 3ms/step - loss: 13346.0898 - mse: 322451712.0000\n"
          ]
        }
      ]
    },
    {
      "cell_type": "code",
      "source": [
        "# plot history also called as loss function or training curve\n",
        "\n",
        "pd.DataFrame(history2.history).plot()\n",
        "plt.ylabel(\"loss\")\n",
        "plt.xlabel(\"epochs\")"
      ],
      "metadata": {
        "colab": {
          "base_uri": "https://localhost:8080/",
          "height": 307
        },
        "id": "xsvTPQX2uBSi",
        "outputId": "60343c55-6c84-4eca-f89d-249f1c988fc0"
      },
      "execution_count": null,
      "outputs": [
        {
          "output_type": "execute_result",
          "data": {
            "text/plain": [
              "Text(0.5, 0, 'epochs')"
            ]
          },
          "metadata": {},
          "execution_count": 140
        },
        {
          "output_type": "display_data",
          "data": {
            "text/plain": [
              "<Figure size 432x288 with 1 Axes>"
            ],
            "image/png": "[encoded data removed]"
          },
          "metadata": {
            "needs_background": "light"
          }
        }
      ]
    },
    {
      "cell_type": "markdown",
      "source": [
        "## How long should I train for ?\n",
        "you have earlystopping call back in tensorflow which stops when the model stops progressing."
      ],
      "metadata": {
        "id": "3uQ1RyEhGwEU"
      }
    },
    {
      "cell_type": "markdown",
      "source": [
        "# Preprosessing data (Standardization and Normalization)\n",
        "Neural networks tend to perform better when they are standardized or normalized\n",
        "If you are not sure you can experiment to see which fits best"
      ],
      "metadata": {
        "id": "0o-8m3cAkXMQ"
      }
    },
    {
      "cell_type": "code",
      "source": [
        "import pandas as pd\n",
        "import tensorflow as tf\n",
        "import seaborn as sns\n",
        "import matplotlib.pyplot as plt"
      ],
      "metadata": {
        "id": "CPctBcx4usIO"
      },
      "execution_count": null,
      "outputs": []
    },
    {
      "cell_type": "code",
      "source": [
        "data = pd.read_csv(\"https://raw.githubusercontent.com/stedy/Machine-Learning-with-R-datasets/master/insurance.csv\")\n",
        "data.sample(5)"
      ],
      "metadata": {
        "colab": {
          "base_uri": "https://localhost:8080/",
          "height": 206
        },
        "id": "WBjRcyM-lnwi",
        "outputId": "338fd273-35e2-4ce3-f1c9-278e6e5d7a9a"
      },
      "execution_count": null,
      "outputs": [
        {
          "output_type": "execute_result",
          "data": {
            "text/plain": [
              "      age     sex     bmi  children smoker     region      charges\n",
              "1112   48  female  25.850         3    yes  southeast  24180.93350\n",
              "508    24  female  25.270         0     no  northeast   3044.21330\n",
              "818    47  female  26.125         1    yes  northeast  23401.30575\n",
              "652    48  female  31.130         0     no  southeast   8280.62270\n",
              "908    63    male  39.800         3     no  southwest  15170.06900"
            ],
            "text/html": [
              "\n",
              "  <div id=\"df-fd69597b-946e-4d8c-a572-18fb1e7af687\">\n",
              "    <div class=\"colab-df-container\">\n",
              "      <div>\n",
              "<style scoped>\n",
              "    .dataframe tbody tr th:only-of-type {\n",
              "        vertical-align: middle;\n",
              "    }\n",
              "\n",
              "    .dataframe tbody tr th {\n",
              "        vertical-align: top;\n",
              "    }\n",
              "\n",
              "    .dataframe thead th {\n",
              "        text-align: right;\n",
              "    }\n",
              "</style>\n",
              "<table border=\"1\" class=\"dataframe\">\n",
              "  <thead>\n",
              "    <tr style=\"text-align: right;\">\n",
              "      <th></th>\n",
              "      <th>age</th>\n",
              "      <th>sex</th>\n",
              "      <th>bmi</th>\n",
              "      <th>children</th>\n",
              "      <th>smoker</th>\n",
              "      <th>region</th>\n",
              "      <th>charges</th>\n",
              "    </tr>\n",
              "  </thead>\n",
              "  <tbody>\n",
              "    <tr>\n",
              "      <th>1112</th>\n",
              "      <td>48</td>\n",
              "      <td>female</td>\n",
              "      <td>25.850</td>\n",
              "      <td>3</td>\n",
              "      <td>yes</td>\n",
              "      <td>southeast</td>\n",
              "      <td>24180.93350</td>\n",
              "    </tr>\n",
              "    <tr>\n",
              "      <th>508</th>\n",
              "      <td>24</td>\n",
              "      <td>female</td>\n",
              "      <td>25.270</td>\n",
              "      <td>0</td>\n",
              "      <td>no</td>\n",
              "      <td>northeast</td>\n",
              "      <td>3044.21330</td>\n",
              "    </tr>\n",
              "    <tr>\n",
              "      <th>818</th>\n",
              "      <td>47</td>\n",
              "      <td>female</td>\n",
              "      <td>26.125</td>\n",
              "      <td>1</td>\n",
              "      <td>yes</td>\n",
              "      <td>northeast</td>\n",
              "      <td>23401.30575</td>\n",
              "    </tr>\n",
              "    <tr>\n",
              "      <th>652</th>\n",
              "      <td>48</td>\n",
              "      <td>female</td>\n",
              "      <td>31.130</td>\n",
              "      <td>0</td>\n",
              "      <td>no</td>\n",
              "      <td>southeast</td>\n",
              "      <td>8280.62270</td>\n",
              "    </tr>\n",
              "    <tr>\n",
              "      <th>908</th>\n",
              "      <td>63</td>\n",
              "      <td>male</td>\n",
              "      <td>39.800</td>\n",
              "      <td>3</td>\n",
              "      <td>no</td>\n",
              "      <td>southwest</td>\n",
              "      <td>15170.06900</td>\n",
              "    </tr>\n",
              "  </tbody>\n",
              "</table>\n",
              "</div>\n",
              "      <button class=\"colab-df-convert\" onclick=\"convertToInteractive('df-fd69597b-946e-4d8c-a572-18fb1e7af687')\"\n",
              "              title=\"Convert this dataframe to an interactive table.\"\n",
              "              style=\"display:none;\">\n",
              "        \n",
              "  <svg xmlns=\"http://www.w3.org/2000/svg\" height=\"24px\"viewBox=\"0 0 24 24\"\n",
              "       width=\"24px\">\n",
              "    <path d=\"M0 0h24v24H0V0z\" fill=\"none\"/>\n",
              "    <path d=\"M18.56 5.44l.94 2.06.94-2.06 2.06-.94-2.06-.94-.94-2.06-.94 2.06-2.06.94zm-11 1L8.5 8.5l.94-2.06 2.06-.94-2.06-.94L8.5 2.5l-.94 2.06-2.06.94zm10 10l.94 2.06.94-2.06 2.06-.94-2.06-.94-.94-2.06-.94 2.06-2.06.94z\"/><path d=\"M17.41 7.96l-1.37-1.37c-.4-.4-.92-.59-1.43-.59-.52 0-1.04.2-1.43.59L10.3 9.45l-7.72 7.72c-.78.78-.78 2.05 0 2.83L4 21.41c.39.39.9.59 1.41.59.51 0 1.02-.2 1.41-.59l7.78-7.78 2.81-2.81c.8-.78.8-2.07 0-2.86zM5.41 20L4 18.59l7.72-7.72 1.47 1.35L5.41 20z\"/>\n",
              "  </svg>\n",
              "      </button>\n",
              "      \n",
              "  <style>\n",
              "    .colab-df-container {\n",
              "      display:flex;\n",
              "      flex-wrap:wrap;\n",
              "      gap: 12px;\n",
              "    }\n",
              "\n",
              "    .colab-df-convert {\n",
              "      background-color: #E8F0FE;\n",
              "      border: none;\n",
              "      border-radius: 50%;\n",
              "      cursor: pointer;\n",
              "      display: none;\n",
              "      fill: #1967D2;\n",
              "      height: 32px;\n",
              "      padding: 0 0 0 0;\n",
              "      width: 32px;\n",
              "    }\n",
              "\n",
              "    .colab-df-convert:hover {\n",
              "      background-color: #E2EBFA;\n",
              "      box-shadow: 0px 1px 2px rgba(60, 64, 67, 0.3), 0px 1px 3px 1px rgba(60, 64, 67, 0.15);\n",
              "      fill: #174EA6;\n",
              "    }\n",
              "\n",
              "    [theme=dark] .colab-df-convert {\n",
              "      background-color: #3B4455;\n",
              "      fill: #D2E3FC;\n",
              "    }\n",
              "\n",
              "    [theme=dark] .colab-df-convert:hover {\n",
              "      background-color: #434B5C;\n",
              "      box-shadow: 0px 1px 3px 1px rgba(0, 0, 0, 0.15);\n",
              "      filter: drop-shadow(0px 1px 2px rgba(0, 0, 0, 0.3));\n",
              "      fill: #FFFFFF;\n",
              "    }\n",
              "  </style>\n",
              "\n",
              "      <script>\n",
              "        const buttonEl =\n",
              "          document.querySelector('#df-fd69597b-946e-4d8c-a572-18fb1e7af687 button.colab-df-convert');\n",
              "        buttonEl.style.display =\n",
              "          google.colab.kernel.accessAllowed ? 'block' : 'none';\n",
              "\n",
              "        async function convertToInteractive(key) {\n",
              "          const element = document.querySelector('#df-fd69597b-946e-4d8c-a572-18fb1e7af687');\n",
              "          const dataTable =\n",
              "            await google.colab.kernel.invokeFunction('convertToInteractive',\n",
              "                                                     [key], {});\n",
              "          if (!dataTable) return;\n",
              "\n",
              "          const docLinkHtml = 'Like what you see? Visit the ' +\n",
              "            '<a target=\"_blank\" href=https://colab.research.google.com/notebooks/data_table.ipynb>data table notebook</a>'\n",
              "            + ' to learn more about interactive tables.';\n",
              "          element.innerHTML = '';\n",
              "          dataTable['output_type'] = 'display_data';\n",
              "          await google.colab.output.renderOutput(dataTable, element);\n",
              "          const docLink = document.createElement('div');\n",
              "          docLink.innerHTML = docLinkHtml;\n",
              "          element.appendChild(docLink);\n",
              "        }\n",
              "      </script>\n",
              "    </div>\n",
              "  </div>\n",
              "  "
            ]
          },
          "metadata": {},
          "execution_count": 2
        }
      ]
    },
    {
      "cell_type": "code",
      "source": [
        "X = data.drop(columns=['charges'], axis=1)\n",
        "y = data['charges']\n",
        "from sklearn.model_selection import train_test_split\n",
        "X_train, X_test, y_train, y_test = train_test_split(X, y, random_state=42, test_size=0.2)"
      ],
      "metadata": {
        "id": "TDTGOEwS1cKn"
      },
      "execution_count": null,
      "outputs": []
    },
    {
      "cell_type": "markdown",
      "source": [
        "> **make_column_transformer** is a function in the **sklearn.compose** module of \n",
        "the scikit-learn library in Python that allows you to apply different preprocessing or feature extraction techniques to different columns of a data set. It creates a transformer object that can be used to transform a data set using the specified techniques.\n",
        "\n"
      ],
      "metadata": {
        "id": "mektYKJXy_Kc"
      }
    },
    {
      "cell_type": "code",
      "source": [
        "numeric_feats = [\"age\", \"bmi\", \"children\"]  # apply minmax scaling\n",
        "categorical_feats = [\"region\", \"sex\", \"smoker\",]  # apply one-hot encoding\n",
        "passthrough_feats = [\"charges\"]  # do not apply any transformation\n",
        "drop_feats = []  # do not include these features in modeling"
      ],
      "metadata": {
        "id": "U39KC90v0lWE"
      },
      "execution_count": null,
      "outputs": []
    },
    {
      "cell_type": "code",
      "source": [
        "from sklearn.preprocessing import StandardScaler, OneHotEncoder, MinMaxScaler\n",
        "from sklearn.compose import make_column_transformer\n",
        "\n",
        "ct = make_column_transformer(\n",
        "    (MinMaxScaler(), numeric_feats),\n",
        "    (OneHotEncoder(handle_unknown='ignore'), categorical_feats),\n",
        ")\n",
        "ct"
      ],
      "metadata": {
        "colab": {
          "base_uri": "https://localhost:8080/"
        },
        "id": "juGLHkySl00g",
        "outputId": "837b63ae-5306-4536-a73e-53679c5a42db"
      },
      "execution_count": null,
      "outputs": [
        {
          "output_type": "execute_result",
          "data": {
            "text/plain": [
              "ColumnTransformer(transformers=[('minmaxscaler', MinMaxScaler(),\n",
              "                                 ['age', 'bmi', 'children']),\n",
              "                                ('onehotencoder',\n",
              "                                 OneHotEncoder(handle_unknown='ignore'),\n",
              "                                 ['region', 'sex', 'smoker'])])"
            ]
          },
          "metadata": {},
          "execution_count": 5
        }
      ]
    },
    {
      "cell_type": "code",
      "source": [
        "# Fit the column transformer on the training data\n",
        "ct.fit(X_train)\n",
        "\n",
        "# Transform the training and test data sets using the fitted column transformer\n",
        "X_train_transformed = ct.transform(X_train)\n",
        "X_test_transformed = ct.transform(X_test)\n"
      ],
      "metadata": {
        "id": "uSPxoyUDogjY"
      },
      "execution_count": null,
      "outputs": []
    },
    {
      "cell_type": "code",
      "source": [
        "print(X_train.iloc[0])\n",
        "print(X_train_transformed[0])"
      ],
      "metadata": {
        "colab": {
          "base_uri": "https://localhost:8080/"
        },
        "id": "DKlWR0Ce3Nyc",
        "outputId": "96f58520-781c-4e09-9708-8c8b10e7036c"
      },
      "execution_count": null,
      "outputs": [
        {
          "output_type": "stream",
          "name": "stdout",
          "text": [
            "age                46\n",
            "sex            female\n",
            "bmi             19.95\n",
            "children            2\n",
            "smoker             no\n",
            "region      northwest\n",
            "Name: 560, dtype: object\n",
            "[0.60869565 0.10734463 0.4        0.         1.         0.\n",
            " 0.         1.         0.         1.         0.        ]\n"
          ]
        }
      ]
    },
    {
      "cell_type": "code",
      "source": [
        "X_train.shape, X_train_transformed.shape"
      ],
      "metadata": {
        "colab": {
          "base_uri": "https://localhost:8080/"
        },
        "id": "hyXs11MY7g1e",
        "outputId": "51725cbd-e34f-4f28-bd27-165388ad3d69"
      },
      "execution_count": null,
      "outputs": [
        {
          "output_type": "execute_result",
          "data": {
            "text/plain": [
              "((1070, 6), (1070, 11))"
            ]
          },
          "metadata": {},
          "execution_count": 8
        }
      ]
    },
    {
      "cell_type": "markdown",
      "source": [
        "## Now, we can build neural networks to with it"
      ],
      "metadata": {
        "id": "0FAS1gWsAY89"
      }
    },
    {
      "cell_type": "code",
      "source": [
        "# Building neural network with it\n",
        "\n",
        "tf.random.set_seed(42)\n",
        "\n",
        "#create a model\n",
        "\n",
        "improv_model = tf.keras.Sequential([\n",
        "    tf.keras.layers.Dense(100),\n",
        "    tf.keras.layers.Dense(10),\n",
        "    tf.keras.layers.Dense(1)\n",
        "])\n",
        "\n",
        "#compile the model\n",
        "improv_model.compile(loss = tf.keras.losses.mae,\n",
        "                  optimizer= tf.keras.optimizers.Adam(),\n",
        "                  metrics=['mse'])\n",
        "\n",
        "#fit the training data\n",
        "history = improv_model.fit(X_train_transformed, y_train, epochs=200)"
      ],
      "metadata": {
        "colab": {
          "base_uri": "https://localhost:8080/"
        },
        "id": "8HS_tbNTAIdj",
        "outputId": "8547fe39-6ec6-4326-c97a-9048d8266af7"
      },
      "execution_count": null,
      "outputs": [
        {
          "output_type": "stream",
          "name": "stdout",
          "text": [
            "Epoch 1/200\n",
            "34/34 [==============================] - 3s 4ms/step - loss: 13342.8145 - mse: 322359936.0000\n",
            "Epoch 2/200\n",
            "34/34 [==============================] - 0s 5ms/step - loss: 13334.0645 - mse: 322120352.0000\n",
            "Epoch 3/200\n",
            "34/34 [==============================] - 0s 4ms/step - loss: 13313.4805 - mse: 321557728.0000\n",
            "Epoch 4/200\n",
            "34/34 [==============================] - 0s 4ms/step - loss: 13270.6709 - mse: 320392288.0000\n",
            "Epoch 5/200\n",
            "34/34 [==============================] - 0s 4ms/step - loss: 13194.2451 - mse: 318342080.0000\n",
            "Epoch 6/200\n",
            "34/34 [==============================] - 0s 3ms/step - loss: 13072.8145 - mse: 315075872.0000\n",
            "Epoch 7/200\n",
            "34/34 [==============================] - 0s 6ms/step - loss: 12896.0371 - mse: 310393824.0000\n",
            "Epoch 8/200\n",
            "34/34 [==============================] - 0s 5ms/step - loss: 12653.7812 - mse: 304098912.0000\n",
            "Epoch 9/200\n",
            "34/34 [==============================] - 0s 4ms/step - loss: 12335.8086 - mse: 295958144.0000\n",
            "Epoch 10/200\n",
            "34/34 [==============================] - 0s 5ms/step - loss: 11936.9512 - mse: 286109472.0000\n",
            "Epoch 11/200\n",
            "34/34 [==============================] - 0s 4ms/step - loss: 11465.2646 - mse: 274444896.0000\n",
            "Epoch 12/200\n",
            "34/34 [==============================] - 0s 4ms/step - loss: 10958.3584 - mse: 261447568.0000\n",
            "Epoch 13/200\n",
            "34/34 [==============================] - 0s 5ms/step - loss: 10456.4766 - mse: 248130224.0000\n",
            "Epoch 14/200\n",
            "34/34 [==============================] - 0s 4ms/step - loss: 9957.8564 - mse: 234224928.0000\n",
            "Epoch 15/200\n",
            "34/34 [==============================] - 0s 5ms/step - loss: 9485.9922 - mse: 220732016.0000\n",
            "Epoch 16/200\n",
            "34/34 [==============================] - 0s 4ms/step - loss: 9066.8496 - mse: 207694944.0000\n",
            "Epoch 17/200\n",
            "34/34 [==============================] - 0s 4ms/step - loss: 8719.5225 - mse: 196006768.0000\n",
            "Epoch 18/200\n",
            "34/34 [==============================] - 0s 5ms/step - loss: 8437.6025 - mse: 185503264.0000\n",
            "Epoch 19/200\n",
            "34/34 [==============================] - 0s 5ms/step - loss: 8221.7305 - mse: 176714784.0000\n",
            "Epoch 20/200\n",
            "34/34 [==============================] - 0s 4ms/step - loss: 8074.7983 - mse: 169136560.0000\n",
            "Epoch 21/200\n",
            "34/34 [==============================] - 0s 5ms/step - loss: 7966.6035 - mse: 163834176.0000\n",
            "Epoch 22/200\n",
            "34/34 [==============================] - 0s 4ms/step - loss: 7891.3867 - mse: 159309120.0000\n",
            "Epoch 23/200\n",
            "34/34 [==============================] - 0s 5ms/step - loss: 7832.1665 - mse: 155449184.0000\n",
            "Epoch 24/200\n",
            "34/34 [==============================] - 0s 6ms/step - loss: 7779.3496 - mse: 152461264.0000\n",
            "Epoch 25/200\n",
            "34/34 [==============================] - 0s 4ms/step - loss: 7740.4214 - mse: 149344176.0000\n",
            "Epoch 26/200\n",
            "34/34 [==============================] - 0s 4ms/step - loss: 7688.9380 - mse: 147401824.0000\n",
            "Epoch 27/200\n",
            "34/34 [==============================] - 0s 4ms/step - loss: 7646.9185 - mse: 145782672.0000\n",
            "Epoch 28/200\n",
            "34/34 [==============================] - 0s 4ms/step - loss: 7604.2378 - mse: 143915152.0000\n",
            "Epoch 29/200\n",
            "34/34 [==============================] - 0s 4ms/step - loss: 7561.6191 - mse: 142375008.0000\n",
            "Epoch 30/200\n",
            "34/34 [==============================] - 0s 6ms/step - loss: 7517.8940 - mse: 140286464.0000\n",
            "Epoch 31/200\n",
            "34/34 [==============================] - 0s 5ms/step - loss: 7473.8496 - mse: 138558624.0000\n",
            "Epoch 32/200\n",
            "34/34 [==============================] - 0s 4ms/step - loss: 7429.4941 - mse: 136818288.0000\n",
            "Epoch 33/200\n",
            "34/34 [==============================] - 0s 5ms/step - loss: 7384.9624 - mse: 135532080.0000\n",
            "Epoch 34/200\n",
            "34/34 [==============================] - 0s 6ms/step - loss: 7336.4917 - mse: 133662904.0000\n",
            "Epoch 35/200\n",
            "34/34 [==============================] - 0s 5ms/step - loss: 7289.4214 - mse: 131331864.0000\n",
            "Epoch 36/200\n",
            "34/34 [==============================] - 0s 4ms/step - loss: 7238.9551 - mse: 129649656.0000\n",
            "Epoch 37/200\n",
            "34/34 [==============================] - 0s 6ms/step - loss: 7188.2554 - mse: 127845336.0000\n",
            "Epoch 38/200\n",
            "34/34 [==============================] - 0s 7ms/step - loss: 7136.9707 - mse: 126273200.0000\n",
            "Epoch 39/200\n",
            "34/34 [==============================] - 0s 7ms/step - loss: 7081.7505 - mse: 124602000.0000\n",
            "Epoch 40/200\n",
            "34/34 [==============================] - 0s 4ms/step - loss: 7025.9727 - mse: 122824416.0000\n",
            "Epoch 41/200\n",
            "34/34 [==============================] - 0s 5ms/step - loss: 6969.1064 - mse: 121187608.0000\n",
            "Epoch 42/200\n",
            "34/34 [==============================] - 0s 5ms/step - loss: 6909.8804 - mse: 119356584.0000\n",
            "Epoch 43/200\n",
            "34/34 [==============================] - 0s 4ms/step - loss: 6846.7446 - mse: 116723616.0000\n",
            "Epoch 44/200\n",
            "34/34 [==============================] - 0s 5ms/step - loss: 6779.9346 - mse: 114782920.0000\n",
            "Epoch 45/200\n",
            "34/34 [==============================] - 0s 5ms/step - loss: 6712.2329 - mse: 112704936.0000\n",
            "Epoch 46/200\n",
            "34/34 [==============================] - 0s 6ms/step - loss: 6642.7070 - mse: 110854056.0000\n",
            "Epoch 47/200\n",
            "34/34 [==============================] - 0s 5ms/step - loss: 6570.8179 - mse: 108193336.0000\n",
            "Epoch 48/200\n",
            "34/34 [==============================] - 0s 4ms/step - loss: 6491.4722 - mse: 106519184.0000\n",
            "Epoch 49/200\n",
            "34/34 [==============================] - 0s 4ms/step - loss: 6411.9746 - mse: 103961376.0000\n",
            "Epoch 50/200\n",
            "34/34 [==============================] - 0s 5ms/step - loss: 6325.4893 - mse: 101996600.0000\n",
            "Epoch 51/200\n",
            "34/34 [==============================] - 0s 6ms/step - loss: 6240.1533 - mse: 99956192.0000\n",
            "Epoch 52/200\n",
            "34/34 [==============================] - 0s 6ms/step - loss: 6146.6499 - mse: 98154176.0000\n",
            "Epoch 53/200\n",
            "34/34 [==============================] - 0s 5ms/step - loss: 6049.9512 - mse: 95806656.0000\n",
            "Epoch 54/200\n",
            "34/34 [==============================] - 0s 4ms/step - loss: 5950.4746 - mse: 93009992.0000\n",
            "Epoch 55/200\n",
            "34/34 [==============================] - 0s 4ms/step - loss: 5842.3325 - mse: 90739008.0000\n",
            "Epoch 56/200\n",
            "34/34 [==============================] - 0s 4ms/step - loss: 5733.1182 - mse: 88231832.0000\n",
            "Epoch 57/200\n",
            "34/34 [==============================] - 0s 4ms/step - loss: 5616.8672 - mse: 85901768.0000\n",
            "Epoch 58/200\n",
            "34/34 [==============================] - 0s 4ms/step - loss: 5499.6030 - mse: 83303336.0000\n",
            "Epoch 59/200\n",
            "34/34 [==============================] - 0s 5ms/step - loss: 5380.2651 - mse: 81225056.0000\n",
            "Epoch 60/200\n",
            "34/34 [==============================] - 0s 5ms/step - loss: 5256.7354 - mse: 78441544.0000\n",
            "Epoch 61/200\n",
            "34/34 [==============================] - 0s 6ms/step - loss: 5130.5815 - mse: 76167192.0000\n",
            "Epoch 62/200\n",
            "34/34 [==============================] - 0s 6ms/step - loss: 5000.1294 - mse: 74167760.0000\n",
            "Epoch 63/200\n",
            "34/34 [==============================] - 0s 7ms/step - loss: 4870.8198 - mse: 71895792.0000\n",
            "Epoch 64/200\n",
            "34/34 [==============================] - 0s 5ms/step - loss: 4737.9463 - mse: 69597632.0000\n",
            "Epoch 65/200\n",
            "34/34 [==============================] - 0s 6ms/step - loss: 4612.0962 - mse: 67550088.0000\n",
            "Epoch 66/200\n",
            "34/34 [==============================] - 0s 5ms/step - loss: 4489.0771 - mse: 65956128.0000\n",
            "Epoch 67/200\n",
            "34/34 [==============================] - 0s 6ms/step - loss: 4380.9434 - mse: 64764940.0000\n",
            "Epoch 68/200\n",
            "34/34 [==============================] - 0s 6ms/step - loss: 4275.0103 - mse: 63369836.0000\n",
            "Epoch 69/200\n",
            "34/34 [==============================] - 0s 5ms/step - loss: 4174.5039 - mse: 61966024.0000\n",
            "Epoch 70/200\n",
            "34/34 [==============================] - 0s 5ms/step - loss: 4082.7617 - mse: 60394304.0000\n",
            "Epoch 71/200\n",
            "34/34 [==============================] - 0s 6ms/step - loss: 3998.2373 - mse: 58778796.0000\n",
            "Epoch 72/200\n",
            "34/34 [==============================] - 0s 5ms/step - loss: 3925.0916 - mse: 57494460.0000\n",
            "Epoch 73/200\n",
            "34/34 [==============================] - 0s 5ms/step - loss: 3863.3000 - mse: 56186424.0000\n",
            "Epoch 74/200\n",
            "34/34 [==============================] - 0s 6ms/step - loss: 3811.2363 - mse: 55121060.0000\n",
            "Epoch 75/200\n",
            "34/34 [==============================] - 0s 6ms/step - loss: 3771.6504 - mse: 53861060.0000\n",
            "Epoch 76/200\n",
            "34/34 [==============================] - 0s 4ms/step - loss: 3742.3896 - mse: 53205124.0000\n",
            "Epoch 77/200\n",
            "34/34 [==============================] - 0s 6ms/step - loss: 3718.2710 - mse: 52123260.0000\n",
            "Epoch 78/200\n",
            "34/34 [==============================] - 0s 5ms/step - loss: 3702.2927 - mse: 51808252.0000\n",
            "Epoch 79/200\n",
            "34/34 [==============================] - 0s 4ms/step - loss: 3690.7368 - mse: 50925916.0000\n",
            "Epoch 80/200\n",
            "34/34 [==============================] - 0s 4ms/step - loss: 3681.7966 - mse: 50388764.0000\n",
            "Epoch 81/200\n",
            "34/34 [==============================] - 0s 6ms/step - loss: 3675.7231 - mse: 49868052.0000\n",
            "Epoch 82/200\n",
            "34/34 [==============================] - 0s 6ms/step - loss: 3672.6660 - mse: 49045484.0000\n",
            "Epoch 83/200\n",
            "34/34 [==============================] - 0s 6ms/step - loss: 3666.5691 - mse: 48946960.0000\n",
            "Epoch 84/200\n",
            "34/34 [==============================] - 0s 7ms/step - loss: 3663.5986 - mse: 48605216.0000\n",
            "Epoch 85/200\n",
            "34/34 [==============================] - 0s 7ms/step - loss: 3661.3162 - mse: 48645256.0000\n",
            "Epoch 86/200\n",
            "34/34 [==============================] - 0s 6ms/step - loss: 3659.5806 - mse: 47897576.0000\n",
            "Epoch 87/200\n",
            "34/34 [==============================] - 0s 7ms/step - loss: 3656.5583 - mse: 48022588.0000\n",
            "Epoch 88/200\n",
            "34/34 [==============================] - 0s 7ms/step - loss: 3654.1853 - mse: 47737964.0000\n",
            "Epoch 89/200\n",
            "34/34 [==============================] - 0s 5ms/step - loss: 3652.8521 - mse: 47502504.0000\n",
            "Epoch 90/200\n",
            "34/34 [==============================] - 0s 5ms/step - loss: 3650.9836 - mse: 47115692.0000\n",
            "Epoch 91/200\n",
            "34/34 [==============================] - 0s 4ms/step - loss: 3648.0586 - mse: 46985924.0000\n",
            "Epoch 92/200\n",
            "34/34 [==============================] - 0s 6ms/step - loss: 3647.4089 - mse: 46898000.0000\n",
            "Epoch 93/200\n",
            "34/34 [==============================] - 0s 6ms/step - loss: 3645.1816 - mse: 46748108.0000\n",
            "Epoch 94/200\n",
            "34/34 [==============================] - 0s 7ms/step - loss: 3643.4246 - mse: 46442876.0000\n",
            "Epoch 95/200\n",
            "34/34 [==============================] - 0s 6ms/step - loss: 3644.5103 - mse: 46074884.0000\n",
            "Epoch 96/200\n",
            "34/34 [==============================] - 0s 5ms/step - loss: 3641.4070 - mse: 45976460.0000\n",
            "Epoch 97/200\n",
            "34/34 [==============================] - 0s 7ms/step - loss: 3638.9390 - mse: 45937480.0000\n",
            "Epoch 98/200\n",
            "34/34 [==============================] - 0s 7ms/step - loss: 3636.8352 - mse: 45927896.0000\n",
            "Epoch 99/200\n",
            "34/34 [==============================] - 0s 8ms/step - loss: 3636.3794 - mse: 45634204.0000\n",
            "Epoch 100/200\n",
            "34/34 [==============================] - 0s 6ms/step - loss: 3635.0259 - mse: 45273664.0000\n",
            "Epoch 101/200\n",
            "34/34 [==============================] - 0s 5ms/step - loss: 3631.8792 - mse: 45148284.0000\n",
            "Epoch 102/200\n",
            "34/34 [==============================] - 0s 5ms/step - loss: 3629.5171 - mse: 45032980.0000\n",
            "Epoch 103/200\n",
            "34/34 [==============================] - 0s 6ms/step - loss: 3628.3459 - mse: 44919624.0000\n",
            "Epoch 104/200\n",
            "34/34 [==============================] - 0s 5ms/step - loss: 3625.9502 - mse: 44703496.0000\n",
            "Epoch 105/200\n",
            "34/34 [==============================] - 0s 5ms/step - loss: 3624.2798 - mse: 44735656.0000\n",
            "Epoch 106/200\n",
            "34/34 [==============================] - 0s 5ms/step - loss: 3623.0569 - mse: 44520652.0000\n",
            "Epoch 107/200\n",
            "34/34 [==============================] - 0s 5ms/step - loss: 3622.3418 - mse: 44139092.0000\n",
            "Epoch 108/200\n",
            "34/34 [==============================] - 0s 4ms/step - loss: 3619.9084 - mse: 44369936.0000\n",
            "Epoch 109/200\n",
            "34/34 [==============================] - 0s 5ms/step - loss: 3620.0142 - mse: 43845560.0000\n",
            "Epoch 110/200\n",
            "34/34 [==============================] - 0s 7ms/step - loss: 3616.9592 - mse: 43928396.0000\n",
            "Epoch 111/200\n",
            "34/34 [==============================] - 0s 5ms/step - loss: 3614.2485 - mse: 43970056.0000\n",
            "Epoch 112/200\n",
            "34/34 [==============================] - 0s 6ms/step - loss: 3612.0864 - mse: 43711656.0000\n",
            "Epoch 113/200\n",
            "34/34 [==============================] - 0s 7ms/step - loss: 3610.6577 - mse: 43460724.0000\n",
            "Epoch 114/200\n",
            "34/34 [==============================] - 0s 4ms/step - loss: 3609.6602 - mse: 43500692.0000\n",
            "Epoch 115/200\n",
            "34/34 [==============================] - 0s 6ms/step - loss: 3608.0312 - mse: 43424800.0000\n",
            "Epoch 116/200\n",
            "34/34 [==============================] - 0s 5ms/step - loss: 3606.5969 - mse: 43112236.0000\n",
            "Epoch 117/200\n",
            "34/34 [==============================] - 0s 5ms/step - loss: 3603.5283 - mse: 43171656.0000\n",
            "Epoch 118/200\n",
            "34/34 [==============================] - 0s 4ms/step - loss: 3599.8245 - mse: 43072544.0000\n",
            "Epoch 119/200\n",
            "34/34 [==============================] - 0s 6ms/step - loss: 3601.9490 - mse: 42824772.0000\n",
            "Epoch 120/200\n",
            "34/34 [==============================] - 0s 6ms/step - loss: 3599.1108 - mse: 42883508.0000\n",
            "Epoch 121/200\n",
            "34/34 [==============================] - 0s 5ms/step - loss: 3594.0947 - mse: 42702764.0000\n",
            "Epoch 122/200\n",
            "34/34 [==============================] - 0s 4ms/step - loss: 3593.4380 - mse: 42649496.0000\n",
            "Epoch 123/200\n",
            "34/34 [==============================] - 0s 6ms/step - loss: 3591.5645 - mse: 42525000.0000\n",
            "Epoch 124/200\n",
            "34/34 [==============================] - 0s 7ms/step - loss: 3589.0962 - mse: 42440880.0000\n",
            "Epoch 125/200\n",
            "34/34 [==============================] - 0s 5ms/step - loss: 3586.8628 - mse: 42238212.0000\n",
            "Epoch 126/200\n",
            "34/34 [==============================] - 0s 7ms/step - loss: 3586.2932 - mse: 42475732.0000\n",
            "Epoch 127/200\n",
            "34/34 [==============================] - 0s 6ms/step - loss: 3586.5083 - mse: 42105732.0000\n",
            "Epoch 128/200\n",
            "34/34 [==============================] - 0s 6ms/step - loss: 3582.9231 - mse: 42344460.0000\n",
            "Epoch 129/200\n",
            "34/34 [==============================] - 0s 6ms/step - loss: 3581.4705 - mse: 42170844.0000\n",
            "Epoch 130/200\n",
            "34/34 [==============================] - 0s 8ms/step - loss: 3577.9526 - mse: 42078876.0000\n",
            "Epoch 131/200\n",
            "34/34 [==============================] - 0s 7ms/step - loss: 3576.5872 - mse: 42122140.0000\n",
            "Epoch 132/200\n",
            "34/34 [==============================] - 0s 6ms/step - loss: 3573.5896 - mse: 41961224.0000\n",
            "Epoch 133/200\n",
            "34/34 [==============================] - 0s 5ms/step - loss: 3572.1616 - mse: 41935216.0000\n",
            "Epoch 134/200\n",
            "34/34 [==============================] - 0s 6ms/step - loss: 3569.9844 - mse: 41945936.0000\n",
            "Epoch 135/200\n",
            "34/34 [==============================] - 0s 6ms/step - loss: 3568.0381 - mse: 41830396.0000\n",
            "Epoch 136/200\n",
            "34/34 [==============================] - 0s 6ms/step - loss: 3566.6899 - mse: 41981068.0000\n",
            "Epoch 137/200\n",
            "34/34 [==============================] - 0s 5ms/step - loss: 3564.9048 - mse: 41791092.0000\n",
            "Epoch 138/200\n",
            "34/34 [==============================] - 0s 5ms/step - loss: 3562.7419 - mse: 41850376.0000\n",
            "Epoch 139/200\n",
            "34/34 [==============================] - 0s 4ms/step - loss: 3562.0674 - mse: 41758280.0000\n",
            "Epoch 140/200\n",
            "34/34 [==============================] - 0s 4ms/step - loss: 3559.9702 - mse: 41896980.0000\n",
            "Epoch 141/200\n",
            "34/34 [==============================] - 0s 5ms/step - loss: 3560.0000 - mse: 41834744.0000\n",
            "Epoch 142/200\n",
            "34/34 [==============================] - 0s 4ms/step - loss: 3557.0125 - mse: 41857152.0000\n",
            "Epoch 143/200\n",
            "34/34 [==============================] - 0s 4ms/step - loss: 3557.3452 - mse: 41830868.0000\n",
            "Epoch 144/200\n",
            "34/34 [==============================] - 0s 4ms/step - loss: 3554.2253 - mse: 41791188.0000\n",
            "Epoch 145/200\n",
            "34/34 [==============================] - 0s 4ms/step - loss: 3552.3459 - mse: 41890460.0000\n",
            "Epoch 146/200\n",
            "34/34 [==============================] - 0s 5ms/step - loss: 3552.6367 - mse: 41825604.0000\n",
            "Epoch 147/200\n",
            "34/34 [==============================] - 0s 3ms/step - loss: 3550.0059 - mse: 41880060.0000\n",
            "Epoch 148/200\n",
            "34/34 [==============================] - 0s 4ms/step - loss: 3548.7266 - mse: 41843928.0000\n",
            "Epoch 149/200\n",
            "34/34 [==============================] - 0s 6ms/step - loss: 3545.9592 - mse: 41891912.0000\n",
            "Epoch 150/200\n",
            "34/34 [==============================] - 0s 4ms/step - loss: 3545.7810 - mse: 41902916.0000\n",
            "Epoch 151/200\n",
            "34/34 [==============================] - 0s 5ms/step - loss: 3544.0161 - mse: 42008176.0000\n",
            "Epoch 152/200\n",
            "34/34 [==============================] - 0s 6ms/step - loss: 3542.3508 - mse: 41977204.0000\n",
            "Epoch 153/200\n",
            "34/34 [==============================] - 0s 4ms/step - loss: 3540.8467 - mse: 42080840.0000\n",
            "Epoch 154/200\n",
            "34/34 [==============================] - 0s 5ms/step - loss: 3542.1318 - mse: 41982396.0000\n",
            "Epoch 155/200\n",
            "34/34 [==============================] - 0s 4ms/step - loss: 3540.0366 - mse: 42164732.0000\n",
            "Epoch 156/200\n",
            "34/34 [==============================] - 0s 4ms/step - loss: 3537.9414 - mse: 42120408.0000\n",
            "Epoch 157/200\n",
            "34/34 [==============================] - 0s 4ms/step - loss: 3536.6296 - mse: 42237248.0000\n",
            "Epoch 158/200\n",
            "34/34 [==============================] - 0s 4ms/step - loss: 3533.4714 - mse: 42251796.0000\n",
            "Epoch 159/200\n",
            "34/34 [==============================] - 0s 6ms/step - loss: 3532.0347 - mse: 42321968.0000\n",
            "Epoch 160/200\n",
            "34/34 [==============================] - 0s 4ms/step - loss: 3531.7373 - mse: 42434612.0000\n",
            "Epoch 161/200\n",
            "34/34 [==============================] - 0s 4ms/step - loss: 3528.6597 - mse: 42425076.0000\n",
            "Epoch 162/200\n",
            "34/34 [==============================] - 0s 5ms/step - loss: 3528.2834 - mse: 42576188.0000\n",
            "Epoch 163/200\n",
            "34/34 [==============================] - 0s 5ms/step - loss: 3526.5674 - mse: 42613688.0000\n",
            "Epoch 164/200\n",
            "34/34 [==============================] - 0s 4ms/step - loss: 3525.5037 - mse: 42660680.0000\n",
            "Epoch 165/200\n",
            "34/34 [==============================] - 0s 3ms/step - loss: 3523.5034 - mse: 42765732.0000\n",
            "Epoch 166/200\n",
            "34/34 [==============================] - 0s 4ms/step - loss: 3522.0154 - mse: 42939000.0000\n",
            "Epoch 167/200\n",
            "34/34 [==============================] - 0s 4ms/step - loss: 3521.0420 - mse: 42983440.0000\n",
            "Epoch 168/200\n",
            "34/34 [==============================] - 0s 5ms/step - loss: 3520.0229 - mse: 42969936.0000\n",
            "Epoch 169/200\n",
            "34/34 [==============================] - 0s 5ms/step - loss: 3518.8030 - mse: 43096788.0000\n",
            "Epoch 170/200\n",
            "34/34 [==============================] - 0s 3ms/step - loss: 3517.0803 - mse: 43150956.0000\n",
            "Epoch 171/200\n",
            "34/34 [==============================] - 0s 3ms/step - loss: 3516.6882 - mse: 43290000.0000\n",
            "Epoch 172/200\n",
            "34/34 [==============================] - 0s 2ms/step - loss: 3515.1721 - mse: 43347736.0000\n",
            "Epoch 173/200\n",
            "34/34 [==============================] - 0s 2ms/step - loss: 3513.8716 - mse: 43616744.0000\n",
            "Epoch 174/200\n",
            "34/34 [==============================] - 0s 3ms/step - loss: 3512.8694 - mse: 43605192.0000\n",
            "Epoch 175/200\n",
            "34/34 [==============================] - 0s 3ms/step - loss: 3511.5332 - mse: 43714796.0000\n",
            "Epoch 176/200\n",
            "34/34 [==============================] - 0s 3ms/step - loss: 3511.2749 - mse: 43844820.0000\n",
            "Epoch 177/200\n",
            "34/34 [==============================] - 0s 3ms/step - loss: 3511.6648 - mse: 44060804.0000\n",
            "Epoch 178/200\n",
            "34/34 [==============================] - 0s 3ms/step - loss: 3509.3481 - mse: 44046476.0000\n",
            "Epoch 179/200\n",
            "34/34 [==============================] - 0s 3ms/step - loss: 3511.2917 - mse: 44192736.0000\n",
            "Epoch 180/200\n",
            "34/34 [==============================] - 0s 2ms/step - loss: 3506.2214 - mse: 44420960.0000\n",
            "Epoch 181/200\n",
            "34/34 [==============================] - 0s 3ms/step - loss: 3504.1875 - mse: 44408592.0000\n",
            "Epoch 182/200\n",
            "34/34 [==============================] - 0s 2ms/step - loss: 3503.5483 - mse: 44632052.0000\n",
            "Epoch 183/200\n",
            "34/34 [==============================] - 0s 3ms/step - loss: 3501.7776 - mse: 44726796.0000\n",
            "Epoch 184/200\n",
            "34/34 [==============================] - 0s 2ms/step - loss: 3500.8906 - mse: 44910216.0000\n",
            "Epoch 185/200\n",
            "34/34 [==============================] - 0s 3ms/step - loss: 3500.5476 - mse: 45096272.0000\n",
            "Epoch 186/200\n",
            "34/34 [==============================] - 0s 3ms/step - loss: 3498.0476 - mse: 45237572.0000\n",
            "Epoch 187/200\n",
            "34/34 [==============================] - 0s 3ms/step - loss: 3498.5906 - mse: 45447520.0000\n",
            "Epoch 188/200\n",
            "34/34 [==============================] - 0s 3ms/step - loss: 3495.6052 - mse: 45643556.0000\n",
            "Epoch 189/200\n",
            "34/34 [==============================] - 0s 2ms/step - loss: 3493.9858 - mse: 45707272.0000\n",
            "Epoch 190/200\n",
            "34/34 [==============================] - 0s 3ms/step - loss: 3495.8025 - mse: 45779928.0000\n",
            "Epoch 191/200\n",
            "34/34 [==============================] - 0s 2ms/step - loss: 3500.7822 - mse: 46171900.0000\n",
            "Epoch 192/200\n",
            "34/34 [==============================] - 0s 3ms/step - loss: 3491.0972 - mse: 46219692.0000\n",
            "Epoch 193/200\n",
            "34/34 [==============================] - 0s 3ms/step - loss: 3490.8401 - mse: 46465848.0000\n",
            "Epoch 194/200\n",
            "34/34 [==============================] - 0s 3ms/step - loss: 3487.9685 - mse: 46591340.0000\n",
            "Epoch 195/200\n",
            "34/34 [==============================] - 0s 3ms/step - loss: 3487.1387 - mse: 46732064.0000\n",
            "Epoch 196/200\n",
            "34/34 [==============================] - 0s 3ms/step - loss: 3488.5762 - mse: 47101324.0000\n",
            "Epoch 197/200\n",
            "34/34 [==============================] - 0s 3ms/step - loss: 3484.4041 - mse: 47326772.0000\n",
            "Epoch 198/200\n",
            "34/34 [==============================] - 0s 2ms/step - loss: 3483.7566 - mse: 47608412.0000\n",
            "Epoch 199/200\n",
            "34/34 [==============================] - 0s 3ms/step - loss: 3482.6760 - mse: 47668056.0000\n",
            "Epoch 200/200\n",
            "34/34 [==============================] - 0s 3ms/step - loss: 3483.0347 - mse: 47856852.0000\n"
          ]
        }
      ]
    },
    {
      "cell_type": "code",
      "source": [
        "# evaluate the model\n",
        "improv_model.evaluate(X_test_transformed, y_test)"
      ],
      "metadata": {
        "colab": {
          "base_uri": "https://localhost:8080/"
        },
        "id": "8NAKABQMBZRm",
        "outputId": "433e8c5a-f8c3-4065-a1fa-7183441dd0ab"
      },
      "execution_count": null,
      "outputs": [
        {
          "output_type": "stream",
          "name": "stdout",
          "text": [
            "9/9 [==============================] - 0s 2ms/step - loss: 3169.9648 - mse: 41837200.0000\n"
          ]
        },
        {
          "output_type": "execute_result",
          "data": {
            "text/plain": [
              "[3169.96484375, 41837200.0]"
            ]
          },
          "metadata": {},
          "execution_count": 12
        }
      ]
    },
    {
      "cell_type": "code",
      "source": [
        "# plot history also called as loss function or training curve\n",
        "\n",
        "pd.DataFrame(history.history).plot()\n",
        "plt.ylabel(\"loss\")\n",
        "plt.xlabel(\"epochs\")"
      ],
      "metadata": {
        "colab": {
          "base_uri": "https://localhost:8080/",
          "height": 307
        },
        "id": "zeUVEw58DRlV",
        "outputId": "d0d648f8-3335-4d15-a0f3-fde1898f8afd"
      },
      "execution_count": null,
      "outputs": [
        {
          "output_type": "execute_result",
          "data": {
            "text/plain": [
              "Text(0.5, 0, 'epochs')"
            ]
          },
          "metadata": {},
          "execution_count": 13
        },
        {
          "output_type": "display_data",
          "data": {
            "text/plain": [
              "<Figure size 432x288 with 1 Axes>"
            ],
            "image/png": "[encoded data removed]"
          },
          "metadata": {
            "needs_background": "light"
          }
        }
      ]
    }
  ]
}